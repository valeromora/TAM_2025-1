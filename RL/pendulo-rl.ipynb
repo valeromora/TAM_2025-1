{
 "cells": [
  {
   "cell_type": "markdown",
   "id": "468d5b5b",
   "metadata": {
    "id": "lsaQlK8fFQqH",
    "papermill": {
     "duration": 0.007799,
     "end_time": "2025-06-28T05:56:54.840751",
     "exception": false,
     "start_time": "2025-06-28T05:56:54.832952",
     "status": "completed"
    },
    "tags": []
   },
   "source": [
    "## Introduction\n"
   ]
  },
  {
   "cell_type": "markdown",
   "id": "ced3f5f1",
   "metadata": {
    "id": "1u9QVVsShC9X",
    "papermill": {
     "duration": 0.006417,
     "end_time": "2025-06-28T05:56:54.853989",
     "exception": false,
     "start_time": "2025-06-28T05:56:54.847572",
     "status": "completed"
    },
    "tags": []
   },
   "source": [
    "## Setup"
   ]
  },
  {
   "cell_type": "code",
   "execution_count": 1,
   "id": "41fb2861",
   "metadata": {
    "execution": {
     "iopub.execute_input": "2025-06-28T05:56:54.867979Z",
     "iopub.status.busy": "2025-06-28T05:56:54.867769Z",
     "iopub.status.idle": "2025-06-28T05:59:28.854206Z",
     "shell.execute_reply": "2025-06-28T05:59:28.853171Z"
    },
    "id": "KEHR2Ui-lo8O",
    "papermill": {
     "duration": 153.995094,
     "end_time": "2025-06-28T05:59:28.855694",
     "exception": false,
     "start_time": "2025-06-28T05:56:54.860600",
     "status": "completed"
    },
    "tags": []
   },
   "outputs": [
    {
     "name": "stdout",
     "output_type": "stream",
     "text": [
      "Hit:1 http://archive.ubuntu.com/ubuntu jammy InRelease\r\n",
      "Get:2 http://archive.ubuntu.com/ubuntu jammy-updates InRelease [128 kB]\r\n",
      "Get:3 http://security.ubuntu.com/ubuntu jammy-security InRelease [129 kB]\r\n",
      "Get:4 https://cloud.r-project.org/bin/linux/ubuntu jammy-cran40/ InRelease [3,632 B]\r\n",
      "Get:5 https://developer.download.nvidia.com/compute/cuda/repos/ubuntu2204/x86_64  InRelease [1,581 B]\r\n",
      "Get:6 https://r2u.stat.illinois.edu/ubuntu jammy InRelease [6,555 B]\r\n",
      "Get:7 http://archive.ubuntu.com/ubuntu jammy-backports InRelease [127 kB]\r\n",
      "Get:8 https://cloud.r-project.org/bin/linux/ubuntu jammy-cran40/ Packages [79.8 kB]\r\n",
      "Get:9 https://developer.download.nvidia.com/compute/cuda/repos/ubuntu2204/x86_64  Packages [1,801 kB]\r\n",
      "Get:10 https://ppa.launchpadcontent.net/deadsnakes/ppa/ubuntu jammy InRelease [18.1 kB]\r\n",
      "Get:11 http://security.ubuntu.com/ubuntu jammy-security/main amd64 Packages [3,040 kB]\r\n",
      "Get:12 https://ppa.launchpadcontent.net/graphics-drivers/ppa/ubuntu jammy InRelease [24.3 kB]\r\n",
      "Get:13 https://r2u.stat.illinois.edu/ubuntu jammy/main amd64 Packages [2,750 kB]\r\n",
      "Get:14 http://security.ubuntu.com/ubuntu jammy-security/restricted amd64 Packages [4,587 kB]\r\n",
      "Get:15 http://archive.ubuntu.com/ubuntu jammy-updates/universe amd64 Packages [1,561 kB]\r\n",
      "Get:16 http://security.ubuntu.com/ubuntu jammy-security/universe amd64 Packages [1,254 kB]\r\n",
      "Get:17 https://ppa.launchpadcontent.net/ubuntugis/ppa/ubuntu jammy InRelease [24.6 kB]\r\n",
      "Get:18 https://r2u.stat.illinois.edu/ubuntu jammy/main all Packages [9,063 kB]\r\n",
      "Get:19 http://archive.ubuntu.com/ubuntu jammy-updates/restricted amd64 Packages [4,741 kB]\r\n",
      "Get:20 http://archive.ubuntu.com/ubuntu jammy-updates/main amd64 Packages [3,351 kB]\r\n",
      "Get:21 http://archive.ubuntu.com/ubuntu jammy-backports/main amd64 Packages [83.2 kB]\r\n",
      "Get:22 http://archive.ubuntu.com/ubuntu jammy-backports/universe amd64 Packages [35.2 kB]\r\n",
      "Get:23 https://ppa.launchpadcontent.net/deadsnakes/ppa/ubuntu jammy/main amd64 Packages [33.2 kB]\r\n",
      "Get:24 https://ppa.launchpadcontent.net/graphics-drivers/ppa/ubuntu jammy/main amd64 Packages [46.6 kB]\r\n",
      "Get:25 https://ppa.launchpadcontent.net/ubuntugis/ppa/ubuntu jammy/main amd64 Packages [75.1 kB]\r\n",
      "Fetched 33.0 MB in 2s (13.6 MB/s)\r\n",
      "\r\n",
      "W: Skipping acquire of configured file 'main/source/Sources' as repository 'https://r2u.stat.illinois.edu/ubuntu jammy InRelease' does not seem to provide it (sources.list entry misspelt?)\r\n",
      "\r\n",
      "\r\n",
      "\r\n",
      "ffmpeg is already the newest version (7:4.4.2-0ubuntu0.22.04.1).\r\n",
      "The following additional packages will be installed:\r\n",
      "  freeglut3 libegl-dev libgl-dev libgl1-mesa-dev libgles-dev libgles1\r\n",
      "  libglu1-mesa libglu1-mesa-dev libglvnd-core-dev libglvnd-dev libglx-dev\r\n",
      "  libopengl-dev xserver-common\r\n",
      "The following NEW packages will be installed:\r\n",
      "  freeglut3 freeglut3-dev libegl-dev libgl-dev libgl1-mesa-dev libgles-dev\r\n",
      "  libgles1 libglu1-mesa libglu1-mesa-dev libglvnd-core-dev libglvnd-dev\r\n",
      "  libglx-dev libopengl-dev\r\n",
      "The following packages will be upgraded:\r\n",
      "  xserver-common xvfb\r\n",
      "2 upgraded, 13 newly installed, 0 to remove and 196 not upgraded.\r\n",
      "Need to get 1,692 kB of archives.\r\n",
      "After this operation, 5,035 kB of additional disk space will be used.\r\n",
      "Get:1 http://archive.ubuntu.com/ubuntu jammy/universe amd64 freeglut3 amd64 2.8.1-6 [74.0 kB]\r\n",
      "Get:2 http://archive.ubuntu.com/ubuntu jammy/main amd64 libglx-dev amd64 1.4.0-1 [14.1 kB]\r\n",
      "Get:3 http://archive.ubuntu.com/ubuntu jammy/main amd64 libgl-dev amd64 1.4.0-1 [101 kB]\r\n",
      "Get:4 http://archive.ubuntu.com/ubuntu jammy/main amd64 libglvnd-core-dev amd64 1.4.0-1 [12.7 kB]\r\n",
      "Get:5 http://archive.ubuntu.com/ubuntu jammy/main amd64 libegl-dev amd64 1.4.0-1 [18.0 kB]\r\n",
      "Get:6 http://archive.ubuntu.com/ubuntu jammy/main amd64 libgles1 amd64 1.4.0-1 [11.5 kB]\r\n",
      "Get:7 http://archive.ubuntu.com/ubuntu jammy/main amd64 libgles-dev amd64 1.4.0-1 [49.4 kB]\r\n",
      "Get:8 http://archive.ubuntu.com/ubuntu jammy/main amd64 libopengl-dev amd64 1.4.0-1 [3,400 B]\r\n",
      "Get:9 http://archive.ubuntu.com/ubuntu jammy/main amd64 libglvnd-dev amd64 1.4.0-1 [3,162 B]\r\n",
      "Get:10 http://archive.ubuntu.com/ubuntu jammy-updates/main amd64 libgl1-mesa-dev amd64 23.2.1-1ubuntu3.1~22.04.3 [6,848 B]\r\n",
      "Get:11 http://archive.ubuntu.com/ubuntu jammy/main amd64 libglu1-mesa amd64 9.0.2-1 [145 kB]\r\n",
      "Get:12 http://archive.ubuntu.com/ubuntu jammy/main amd64 libglu1-mesa-dev amd64 9.0.2-1 [231 kB]\r\n",
      "Get:13 http://archive.ubuntu.com/ubuntu jammy/universe amd64 freeglut3-dev amd64 2.8.1-6 [126 kB]\r\n",
      "Get:14 http://archive.ubuntu.com/ubuntu jammy-updates/main amd64 xserver-common all 2:21.1.4-2ubuntu1.7~22.04.15 [29.5 kB]\r\n",
      "Get:15 http://archive.ubuntu.com/ubuntu jammy-updates/universe amd64 xvfb amd64 2:21.1.4-2ubuntu1.7~22.04.15 [866 kB]\r\n",
      "Fetched 1,692 kB in 1s (1,522 kB/s)\r\n",
      "debconf: unable to initialize frontend: Dialog\r\n",
      "debconf: (No usable dialog-like program is installed, so the dialog based frontend cannot be used. at /usr/share/perl5/Debconf/FrontEnd/Dialog.pm line 78, <> line 15.)\r\n",
      "debconf: falling back to frontend: Readline\r\n",
      "Selecting previously unselected package freeglut3:amd64.\r\n",
      "(Reading database ... 129184 files and directories currently installed.)\r\n",
      "Preparing to unpack .../00-freeglut3_2.8.1-6_amd64.deb ...\r\n",
      "Unpacking freeglut3:amd64 (2.8.1-6) ...\r\n",
      "Selecting previously unselected package libglx-dev:amd64.\r\n",
      "Preparing to unpack .../01-libglx-dev_1.4.0-1_amd64.deb ...\r\n",
      "Unpacking libglx-dev:amd64 (1.4.0-1) ...\r\n",
      "Selecting previously unselected package libgl-dev:amd64.\r\n",
      "Preparing to unpack .../02-libgl-dev_1.4.0-1_amd64.deb ...\r\n",
      "Unpacking libgl-dev:amd64 (1.4.0-1) ...\r\n",
      "Selecting previously unselected package libglvnd-core-dev:amd64.\r\n",
      "Preparing to unpack .../03-libglvnd-core-dev_1.4.0-1_amd64.deb ...\r\n",
      "Unpacking libglvnd-core-dev:amd64 (1.4.0-1) ...\r\n",
      "Selecting previously unselected package libegl-dev:amd64.\r\n",
      "Preparing to unpack .../04-libegl-dev_1.4.0-1_amd64.deb ...\r\n",
      "Unpacking libegl-dev:amd64 (1.4.0-1) ...\r\n",
      "Selecting previously unselected package libgles1:amd64.\r\n",
      "Preparing to unpack .../05-libgles1_1.4.0-1_amd64.deb ...\r\n",
      "Unpacking libgles1:amd64 (1.4.0-1) ...\r\n",
      "Selecting previously unselected package libgles-dev:amd64.\r\n",
      "Preparing to unpack .../06-libgles-dev_1.4.0-1_amd64.deb ...\r\n",
      "Unpacking libgles-dev:amd64 (1.4.0-1) ...\r\n",
      "Selecting previously unselected package libopengl-dev:amd64.\r\n",
      "Preparing to unpack .../07-libopengl-dev_1.4.0-1_amd64.deb ...\r\n",
      "Unpacking libopengl-dev:amd64 (1.4.0-1) ...\r\n",
      "Selecting previously unselected package libglvnd-dev:amd64.\r\n",
      "Preparing to unpack .../08-libglvnd-dev_1.4.0-1_amd64.deb ...\r\n",
      "Unpacking libglvnd-dev:amd64 (1.4.0-1) ...\r\n",
      "Selecting previously unselected package libgl1-mesa-dev:amd64.\r\n",
      "Preparing to unpack .../09-libgl1-mesa-dev_23.2.1-1ubuntu3.1~22.04.3_amd64.deb ...\r\n",
      "Unpacking libgl1-mesa-dev:amd64 (23.2.1-1ubuntu3.1~22.04.3) ...\r\n",
      "Selecting previously unselected package libglu1-mesa:amd64.\r\n",
      "Preparing to unpack .../10-libglu1-mesa_9.0.2-1_amd64.deb ...\r\n",
      "Unpacking libglu1-mesa:amd64 (9.0.2-1) ...\r\n",
      "Selecting previously unselected package libglu1-mesa-dev:amd64.\r\n",
      "Preparing to unpack .../11-libglu1-mesa-dev_9.0.2-1_amd64.deb ...\r\n",
      "Unpacking libglu1-mesa-dev:amd64 (9.0.2-1) ...\r\n",
      "Selecting previously unselected package freeglut3-dev:amd64.\r\n",
      "Preparing to unpack .../12-freeglut3-dev_2.8.1-6_amd64.deb ...\r\n",
      "Unpacking freeglut3-dev:amd64 (2.8.1-6) ...\r\n",
      "Preparing to unpack .../13-xserver-common_2%3a21.1.4-2ubuntu1.7~22.04.15_all.deb ...\r\n",
      "Unpacking xserver-common (2:21.1.4-2ubuntu1.7~22.04.15) over (2:21.1.4-2ubuntu1.7~22.04.14) ...\r\n",
      "Preparing to unpack .../14-xvfb_2%3a21.1.4-2ubuntu1.7~22.04.15_amd64.deb ...\r\n",
      "Unpacking xvfb (2:21.1.4-2ubuntu1.7~22.04.15) over (2:21.1.4-2ubuntu1.7~22.04.14) ...\r\n",
      "Setting up freeglut3:amd64 (2.8.1-6) ...\r\n",
      "Setting up libglvnd-core-dev:amd64 (1.4.0-1) ...\r\n",
      "Setting up libgles1:amd64 (1.4.0-1) ...\r\n",
      "Setting up libglx-dev:amd64 (1.4.0-1) ...\r\n",
      "Setting up libglu1-mesa:amd64 (9.0.2-1) ...\r\n",
      "Setting up xserver-common (2:21.1.4-2ubuntu1.7~22.04.15) ...\r\n",
      "Setting up libopengl-dev:amd64 (1.4.0-1) ...\r\n",
      "Setting up libgl-dev:amd64 (1.4.0-1) ...\r\n",
      "Setting up libegl-dev:amd64 (1.4.0-1) ...\r\n",
      "Setting up xvfb (2:21.1.4-2ubuntu1.7~22.04.15) ...\r\n",
      "Setting up libglu1-mesa-dev:amd64 (9.0.2-1) ...\r\n",
      "Setting up libgles-dev:amd64 (1.4.0-1) ...\r\n",
      "Setting up libglvnd-dev:amd64 (1.4.0-1) ...\r\n",
      "Setting up libgl1-mesa-dev:amd64 (23.2.1-1ubuntu3.1~22.04.3) ...\r\n",
      "Setting up freeglut3-dev:amd64 (2.8.1-6) ...\r\n",
      "Processing triggers for man-db (2.10.2-1) ...\r\n",
      "Processing triggers for libc-bin (2.35-0ubuntu3.8) ...\r\n",
      "/sbin/ldconfig.real: /usr/local/lib/libumf.so.0 is not a symbolic link\r\n",
      "\r\n",
      "/sbin/ldconfig.real: /usr/local/lib/libtcm.so.1 is not a symbolic link\r\n",
      "\r\n",
      "/sbin/ldconfig.real: /usr/local/lib/libtcm_debug.so.1 is not a symbolic link\r\n",
      "\r\n",
      "/sbin/ldconfig.real: /usr/local/lib/libhwloc.so.15 is not a symbolic link\r\n",
      "\r\n",
      "/sbin/ldconfig.real: /usr/local/lib/libur_loader.so.0 is not a symbolic link\r\n",
      "\r\n",
      "/sbin/ldconfig.real: /usr/local/lib/libur_adapter_level_zero.so.0 is not a symbolic link\r\n",
      "\r\n",
      "/sbin/ldconfig.real: /usr/local/lib/libur_adapter_opencl.so.0 is not a symbolic link\r\n",
      "\r\n",
      "/sbin/ldconfig.real: /usr/local/lib/libtbbbind_2_5.so.3 is not a symbolic link\r\n",
      "\r\n",
      "/sbin/ldconfig.real: /usr/local/lib/libtbbbind.so.3 is not a symbolic link\r\n",
      "\r\n",
      "/sbin/ldconfig.real: /usr/local/lib/libtbbbind_2_0.so.3 is not a symbolic link\r\n",
      "\r\n",
      "/sbin/ldconfig.real: /usr/local/lib/libtbb.so.12 is not a symbolic link\r\n",
      "\r\n",
      "/sbin/ldconfig.real: /usr/local/lib/libtbbmalloc_proxy.so.2 is not a symbolic link\r\n",
      "\r\n",
      "/sbin/ldconfig.real: /usr/local/lib/libtbbmalloc.so.2 is not a symbolic link\r\n",
      "\r\n",
      "Collecting imageio<2.35,>=2.33\r\n",
      "  Downloading imageio-2.34.2-py3-none-any.whl.metadata (4.9 kB)\r\n",
      "Requirement already satisfied: numpy in /usr/local/lib/python3.11/dist-packages (from imageio<2.35,>=2.33) (1.26.4)\r\n",
      "Requirement already satisfied: pillow>=8.3.2 in /usr/local/lib/python3.11/dist-packages (from imageio<2.35,>=2.33) (11.1.0)\r\n",
      "Requirement already satisfied: mkl_fft in /usr/local/lib/python3.11/dist-packages (from numpy->imageio<2.35,>=2.33) (1.3.8)\r\n",
      "Requirement already satisfied: mkl_random in /usr/local/lib/python3.11/dist-packages (from numpy->imageio<2.35,>=2.33) (1.2.4)\r\n",
      "Requirement already satisfied: mkl_umath in /usr/local/lib/python3.11/dist-packages (from numpy->imageio<2.35,>=2.33) (0.1.1)\r\n",
      "Requirement already satisfied: mkl in /usr/local/lib/python3.11/dist-packages (from numpy->imageio<2.35,>=2.33) (2025.1.0)\r\n",
      "Requirement already satisfied: tbb4py in /usr/local/lib/python3.11/dist-packages (from numpy->imageio<2.35,>=2.33) (2022.1.0)\r\n",
      "Requirement already satisfied: mkl-service in /usr/local/lib/python3.11/dist-packages (from numpy->imageio<2.35,>=2.33) (2.4.1)\r\n",
      "Requirement already satisfied: intel-openmp<2026,>=2024 in /usr/local/lib/python3.11/dist-packages (from mkl->numpy->imageio<2.35,>=2.33) (2024.2.0)\r\n",
      "Requirement already satisfied: tbb==2022.* in /usr/local/lib/python3.11/dist-packages (from mkl->numpy->imageio<2.35,>=2.33) (2022.1.0)\r\n",
      "Requirement already satisfied: tcmlib==1.* in /usr/local/lib/python3.11/dist-packages (from tbb==2022.*->mkl->numpy->imageio<2.35,>=2.33) (1.3.0)\r\n",
      "Requirement already satisfied: intel-cmplr-lib-rt in /usr/local/lib/python3.11/dist-packages (from mkl_umath->numpy->imageio<2.35,>=2.33) (2024.2.0)\r\n",
      "Requirement already satisfied: intel-cmplr-lib-ur==2024.2.0 in /usr/local/lib/python3.11/dist-packages (from intel-openmp<2026,>=2024->mkl->numpy->imageio<2.35,>=2.33) (2024.2.0)\r\n",
      "Downloading imageio-2.34.2-py3-none-any.whl (313 kB)\r\n",
      "\u001b[2K   \u001b[90m━━━━━━━━━━━━━━━━━━━━━━━━━━━━━━━━━━━━━━━━\u001b[0m \u001b[32m313.5/313.5 kB\u001b[0m \u001b[31m6.5 MB/s\u001b[0m eta \u001b[36m0:00:00\u001b[0m\r\n",
      "\u001b[?25hInstalling collected packages: imageio\r\n",
      "  Attempting uninstall: imageio\r\n",
      "    Found existing installation: imageio 2.37.0\r\n",
      "    Uninstalling imageio-2.37.0:\r\n",
      "      Successfully uninstalled imageio-2.37.0\r\n",
      "Successfully installed imageio-2.34.2\r\n",
      "Collecting pyvirtualdisplay\r\n",
      "  Downloading PyVirtualDisplay-3.0-py3-none-any.whl.metadata (943 bytes)\r\n",
      "Downloading PyVirtualDisplay-3.0-py3-none-any.whl (15 kB)\r\n",
      "Installing collected packages: pyvirtualdisplay\r\n",
      "Successfully installed pyvirtualdisplay-3.0\r\n",
      "Collecting pyglet\r\n",
      "  Downloading pyglet-2.1.6-py3-none-any.whl.metadata (7.7 kB)\r\n",
      "Downloading pyglet-2.1.6-py3-none-any.whl (983 kB)\r\n",
      "\u001b[2K   \u001b[90m━━━━━━━━━━━━━━━━━━━━━━━━━━━━━━━━━━━━━━━━\u001b[0m \u001b[32m984.0/984.0 kB\u001b[0m \u001b[31m15.6 MB/s\u001b[0m eta \u001b[36m0:00:00\u001b[0m\r\n",
      "\u001b[?25hInstalling collected packages: pyglet\r\n",
      "Successfully installed pyglet-2.1.6\r\n",
      "Collecting tf-agents[reverb]\r\n",
      "  Downloading tf_agents-0.19.0-py3-none-any.whl.metadata (12 kB)\r\n",
      "Requirement already satisfied: absl-py>=0.6.1 in /usr/local/lib/python3.11/dist-packages (from tf-agents[reverb]) (1.4.0)\r\n",
      "Requirement already satisfied: cloudpickle>=1.3 in /usr/local/lib/python3.11/dist-packages (from tf-agents[reverb]) (3.1.1)\r\n",
      "Requirement already satisfied: gin-config>=0.4.0 in /usr/local/lib/python3.11/dist-packages (from tf-agents[reverb]) (0.5.0)\r\n",
      "Collecting gym<=0.23.0,>=0.17.0 (from tf-agents[reverb])\r\n",
      "  Downloading gym-0.23.0.tar.gz (624 kB)\r\n",
      "\u001b[2K     \u001b[90m━━━━━━━━━━━━━━━━━━━━━━━━━━━━━━━━━━━━━━━━\u001b[0m \u001b[32m624.4/624.4 kB\u001b[0m \u001b[31m10.1 MB/s\u001b[0m eta \u001b[36m0:00:00\u001b[0m\r\n",
      "\u001b[?25h  Installing build dependencies ... \u001b[?25l\u001b[?25hdone\r\n",
      "  Getting requirements to build wheel ... \u001b[?25l\u001b[?25hdone\r\n",
      "  Preparing metadata (pyproject.toml) ... \u001b[?25l\u001b[?25hdone\r\n",
      "Requirement already satisfied: numpy>=1.19.0 in /usr/local/lib/python3.11/dist-packages (from tf-agents[reverb]) (1.26.4)\r\n",
      "Requirement already satisfied: pillow in /usr/local/lib/python3.11/dist-packages (from tf-agents[reverb]) (11.1.0)\r\n",
      "Requirement already satisfied: six>=1.10.0 in /usr/local/lib/python3.11/dist-packages (from tf-agents[reverb]) (1.17.0)\r\n",
      "Requirement already satisfied: protobuf>=3.11.3 in /usr/local/lib/python3.11/dist-packages (from tf-agents[reverb]) (3.20.3)\r\n",
      "Requirement already satisfied: wrapt>=1.11.1 in /usr/local/lib/python3.11/dist-packages (from tf-agents[reverb]) (1.17.2)\r\n",
      "Collecting typing-extensions==4.5.0 (from tf-agents[reverb])\r\n",
      "  Downloading typing_extensions-4.5.0-py3-none-any.whl.metadata (8.5 kB)\r\n",
      "Collecting pygame==2.1.3 (from tf-agents[reverb])\r\n",
      "  Downloading pygame-2.1.3-cp311-cp311-manylinux_2_17_x86_64.manylinux2014_x86_64.whl.metadata (9.3 kB)\r\n",
      "Collecting tensorflow-probability~=0.23.0 (from tf-agents[reverb])\r\n",
      "  Downloading tensorflow_probability-0.23.0-py2.py3-none-any.whl.metadata (13 kB)\r\n",
      "Collecting rlds (from tf-agents[reverb])\r\n",
      "  Downloading rlds-0.1.8-py3-none-manylinux2010_x86_64.whl.metadata (1.7 kB)\r\n",
      "Collecting dm-reverb~=0.14.0 (from tf-agents[reverb])\r\n",
      "  Downloading dm_reverb-0.14.0-cp311-cp311-manylinux2014_x86_64.whl.metadata (17 kB)\r\n",
      "Collecting tensorflow~=2.15.0 (from tf-agents[reverb])\r\n",
      "  Downloading tensorflow-2.15.1-cp311-cp311-manylinux_2_17_x86_64.manylinux2014_x86_64.whl.metadata (4.2 kB)\r\n",
      "Requirement already satisfied: dm-tree in /usr/local/lib/python3.11/dist-packages (from dm-reverb~=0.14.0->tf-agents[reverb]) (0.1.9)\r\n",
      "Requirement already satisfied: portpicker in /usr/local/lib/python3.11/dist-packages (from dm-reverb~=0.14.0->tf-agents[reverb]) (1.5.2)\r\n",
      "Requirement already satisfied: gym_notices>=0.0.4 in /usr/local/lib/python3.11/dist-packages (from gym<=0.23.0,>=0.17.0->tf-agents[reverb]) (0.0.8)\r\n",
      "Requirement already satisfied: mkl_fft in /usr/local/lib/python3.11/dist-packages (from numpy>=1.19.0->tf-agents[reverb]) (1.3.8)\r\n",
      "Requirement already satisfied: mkl_random in /usr/local/lib/python3.11/dist-packages (from numpy>=1.19.0->tf-agents[reverb]) (1.2.4)\r\n",
      "Requirement already satisfied: mkl_umath in /usr/local/lib/python3.11/dist-packages (from numpy>=1.19.0->tf-agents[reverb]) (0.1.1)\r\n",
      "Requirement already satisfied: mkl in /usr/local/lib/python3.11/dist-packages (from numpy>=1.19.0->tf-agents[reverb]) (2025.1.0)\r\n",
      "Requirement already satisfied: tbb4py in /usr/local/lib/python3.11/dist-packages (from numpy>=1.19.0->tf-agents[reverb]) (2022.1.0)\r\n",
      "Requirement already satisfied: mkl-service in /usr/local/lib/python3.11/dist-packages (from numpy>=1.19.0->tf-agents[reverb]) (2.4.1)\r\n",
      "Requirement already satisfied: astunparse>=1.6.0 in /usr/local/lib/python3.11/dist-packages (from tensorflow~=2.15.0->tf-agents[reverb]) (1.6.3)\r\n",
      "Requirement already satisfied: flatbuffers>=23.5.26 in /usr/local/lib/python3.11/dist-packages (from tensorflow~=2.15.0->tf-agents[reverb]) (25.2.10)\r\n",
      "Requirement already satisfied: gast!=0.5.0,!=0.5.1,!=0.5.2,>=0.2.1 in /usr/local/lib/python3.11/dist-packages (from tensorflow~=2.15.0->tf-agents[reverb]) (0.6.0)\r\n",
      "Requirement already satisfied: google-pasta>=0.1.1 in /usr/local/lib/python3.11/dist-packages (from tensorflow~=2.15.0->tf-agents[reverb]) (0.2.0)\r\n",
      "Requirement already satisfied: h5py>=2.9.0 in /usr/local/lib/python3.11/dist-packages (from tensorflow~=2.15.0->tf-agents[reverb]) (3.13.0)\r\n",
      "Requirement already satisfied: libclang>=13.0.0 in /usr/local/lib/python3.11/dist-packages (from tensorflow~=2.15.0->tf-agents[reverb]) (18.1.1)\r\n",
      "Collecting ml-dtypes~=0.3.1 (from tensorflow~=2.15.0->tf-agents[reverb])\r\n",
      "  Downloading ml_dtypes-0.3.2-cp311-cp311-manylinux_2_17_x86_64.manylinux2014_x86_64.whl.metadata (20 kB)\r\n",
      "Requirement already satisfied: opt-einsum>=2.3.2 in /usr/local/lib/python3.11/dist-packages (from tensorflow~=2.15.0->tf-agents[reverb]) (3.4.0)\r\n",
      "Requirement already satisfied: packaging in /usr/local/lib/python3.11/dist-packages (from tensorflow~=2.15.0->tf-agents[reverb]) (25.0)\r\n",
      "Requirement already satisfied: setuptools in /usr/local/lib/python3.11/dist-packages (from tensorflow~=2.15.0->tf-agents[reverb]) (75.2.0)\r\n",
      "Requirement already satisfied: termcolor>=1.1.0 in /usr/local/lib/python3.11/dist-packages (from tensorflow~=2.15.0->tf-agents[reverb]) (3.0.1)\r\n",
      "Collecting wrapt>=1.11.1 (from tf-agents[reverb])\r\n",
      "  Downloading wrapt-1.14.1-cp311-cp311-manylinux_2_5_x86_64.manylinux1_x86_64.manylinux_2_17_x86_64.manylinux2014_x86_64.whl.metadata (6.7 kB)\r\n",
      "Requirement already satisfied: tensorflow-io-gcs-filesystem>=0.23.1 in /usr/local/lib/python3.11/dist-packages (from tensorflow~=2.15.0->tf-agents[reverb]) (0.37.1)\r\n",
      "Requirement already satisfied: grpcio<2.0,>=1.24.3 in /usr/local/lib/python3.11/dist-packages (from tensorflow~=2.15.0->tf-agents[reverb]) (1.72.0rc1)\r\n",
      "Collecting tensorboard<2.16,>=2.15 (from tensorflow~=2.15.0->tf-agents[reverb])\r\n",
      "  Downloading tensorboard-2.15.2-py3-none-any.whl.metadata (1.7 kB)\r\n",
      "Collecting tensorflow-estimator<2.16,>=2.15.0 (from tensorflow~=2.15.0->tf-agents[reverb])\r\n",
      "  Downloading tensorflow_estimator-2.15.0-py2.py3-none-any.whl.metadata (1.3 kB)\r\n",
      "Collecting keras<2.16,>=2.15.0 (from tensorflow~=2.15.0->tf-agents[reverb])\r\n",
      "  Downloading keras-2.15.0-py3-none-any.whl.metadata (2.4 kB)\r\n",
      "Requirement already satisfied: decorator in /usr/local/lib/python3.11/dist-packages (from tensorflow-probability~=0.23.0->tf-agents[reverb]) (4.4.2)\r\n",
      "Requirement already satisfied: wheel<1.0,>=0.23.0 in /usr/local/lib/python3.11/dist-packages (from astunparse>=1.6.0->tensorflow~=2.15.0->tf-agents[reverb]) (0.45.1)\r\n",
      "Requirement already satisfied: google-auth<3,>=1.6.3 in /usr/local/lib/python3.11/dist-packages (from tensorboard<2.16,>=2.15->tensorflow~=2.15.0->tf-agents[reverb]) (2.40.1)\r\n",
      "Requirement already satisfied: google-auth-oauthlib<2,>=0.5 in /usr/local/lib/python3.11/dist-packages (from tensorboard<2.16,>=2.15->tensorflow~=2.15.0->tf-agents[reverb]) (1.2.1)\r\n",
      "Requirement already satisfied: markdown>=2.6.8 in /usr/local/lib/python3.11/dist-packages (from tensorboard<2.16,>=2.15->tensorflow~=2.15.0->tf-agents[reverb]) (3.7)\r\n",
      "Requirement already satisfied: requests<3,>=2.21.0 in /usr/local/lib/python3.11/dist-packages (from tensorboard<2.16,>=2.15->tensorflow~=2.15.0->tf-agents[reverb]) (2.32.3)\r\n",
      "Requirement already satisfied: tensorboard-data-server<0.8.0,>=0.7.0 in /usr/local/lib/python3.11/dist-packages (from tensorboard<2.16,>=2.15->tensorflow~=2.15.0->tf-agents[reverb]) (0.7.2)\r\n",
      "Requirement already satisfied: werkzeug>=1.0.1 in /usr/local/lib/python3.11/dist-packages (from tensorboard<2.16,>=2.15->tensorflow~=2.15.0->tf-agents[reverb]) (3.1.3)\r\n",
      "Requirement already satisfied: attrs>=18.2.0 in /usr/local/lib/python3.11/dist-packages (from dm-tree->dm-reverb~=0.14.0->tf-agents[reverb]) (25.3.0)\r\n",
      "Requirement already satisfied: intel-openmp<2026,>=2024 in /usr/local/lib/python3.11/dist-packages (from mkl->numpy>=1.19.0->tf-agents[reverb]) (2024.2.0)\r\n",
      "Requirement already satisfied: tbb==2022.* in /usr/local/lib/python3.11/dist-packages (from mkl->numpy>=1.19.0->tf-agents[reverb]) (2022.1.0)\r\n",
      "Requirement already satisfied: tcmlib==1.* in /usr/local/lib/python3.11/dist-packages (from tbb==2022.*->mkl->numpy>=1.19.0->tf-agents[reverb]) (1.3.0)\r\n",
      "Requirement already satisfied: intel-cmplr-lib-rt in /usr/local/lib/python3.11/dist-packages (from mkl_umath->numpy>=1.19.0->tf-agents[reverb]) (2024.2.0)\r\n",
      "Requirement already satisfied: psutil in /usr/local/lib/python3.11/dist-packages (from portpicker->dm-reverb~=0.14.0->tf-agents[reverb]) (7.0.0)\r\n",
      "Requirement already satisfied: cachetools<6.0,>=2.0.0 in /usr/local/lib/python3.11/dist-packages (from google-auth<3,>=1.6.3->tensorboard<2.16,>=2.15->tensorflow~=2.15.0->tf-agents[reverb]) (5.5.2)\r\n",
      "Requirement already satisfied: pyasn1-modules>=0.2.1 in /usr/local/lib/python3.11/dist-packages (from google-auth<3,>=1.6.3->tensorboard<2.16,>=2.15->tensorflow~=2.15.0->tf-agents[reverb]) (0.4.2)\r\n",
      "Requirement already satisfied: rsa<5,>=3.1.4 in /usr/local/lib/python3.11/dist-packages (from google-auth<3,>=1.6.3->tensorboard<2.16,>=2.15->tensorflow~=2.15.0->tf-agents[reverb]) (4.9.1)\r\n",
      "Requirement already satisfied: requests-oauthlib>=0.7.0 in /usr/local/lib/python3.11/dist-packages (from google-auth-oauthlib<2,>=0.5->tensorboard<2.16,>=2.15->tensorflow~=2.15.0->tf-agents[reverb]) (2.0.0)\r\n",
      "Requirement already satisfied: intel-cmplr-lib-ur==2024.2.0 in /usr/local/lib/python3.11/dist-packages (from intel-openmp<2026,>=2024->mkl->numpy>=1.19.0->tf-agents[reverb]) (2024.2.0)\r\n",
      "Requirement already satisfied: charset-normalizer<4,>=2 in /usr/local/lib/python3.11/dist-packages (from requests<3,>=2.21.0->tensorboard<2.16,>=2.15->tensorflow~=2.15.0->tf-agents[reverb]) (3.4.2)\r\n",
      "Requirement already satisfied: idna<4,>=2.5 in /usr/local/lib/python3.11/dist-packages (from requests<3,>=2.21.0->tensorboard<2.16,>=2.15->tensorflow~=2.15.0->tf-agents[reverb]) (3.10)\r\n",
      "Requirement already satisfied: urllib3<3,>=1.21.1 in /usr/local/lib/python3.11/dist-packages (from requests<3,>=2.21.0->tensorboard<2.16,>=2.15->tensorflow~=2.15.0->tf-agents[reverb]) (2.4.0)\r\n",
      "Requirement already satisfied: certifi>=2017.4.17 in /usr/local/lib/python3.11/dist-packages (from requests<3,>=2.21.0->tensorboard<2.16,>=2.15->tensorflow~=2.15.0->tf-agents[reverb]) (2025.4.26)\r\n",
      "Requirement already satisfied: MarkupSafe>=2.1.1 in /usr/local/lib/python3.11/dist-packages (from werkzeug>=1.0.1->tensorboard<2.16,>=2.15->tensorflow~=2.15.0->tf-agents[reverb]) (3.0.2)\r\n",
      "Requirement already satisfied: pyasn1<0.7.0,>=0.6.1 in /usr/local/lib/python3.11/dist-packages (from pyasn1-modules>=0.2.1->google-auth<3,>=1.6.3->tensorboard<2.16,>=2.15->tensorflow~=2.15.0->tf-agents[reverb]) (0.6.1)\r\n",
      "Requirement already satisfied: oauthlib>=3.0.0 in /usr/local/lib/python3.11/dist-packages (from requests-oauthlib>=0.7.0->google-auth-oauthlib<2,>=0.5->tensorboard<2.16,>=2.15->tensorflow~=2.15.0->tf-agents[reverb]) (3.2.2)\r\n",
      "Downloading pygame-2.1.3-cp311-cp311-manylinux_2_17_x86_64.manylinux2014_x86_64.whl (13.7 MB)\r\n",
      "\u001b[2K   \u001b[90m━━━━━━━━━━━━━━━━━━━━━━━━━━━━━━━━━━━━━━━━\u001b[0m \u001b[32m13.7/13.7 MB\u001b[0m \u001b[31m100.9 MB/s\u001b[0m eta \u001b[36m0:00:00\u001b[0m\r\n",
      "\u001b[?25hDownloading typing_extensions-4.5.0-py3-none-any.whl (27 kB)\r\n",
      "Downloading dm_reverb-0.14.0-cp311-cp311-manylinux2014_x86_64.whl (6.4 MB)\r\n",
      "\u001b[2K   \u001b[90m━━━━━━━━━━━━━━━━━━━━━━━━━━━━━━━━━━━━━━━━\u001b[0m \u001b[32m6.4/6.4 MB\u001b[0m \u001b[31m94.7 MB/s\u001b[0m eta \u001b[36m0:00:00\u001b[0m\r\n",
      "\u001b[?25hDownloading tensorflow-2.15.1-cp311-cp311-manylinux_2_17_x86_64.manylinux2014_x86_64.whl (475.3 MB)\r\n",
      "\u001b[2K   \u001b[90m━━━━━━━━━━━━━━━━━━━━━━━━━━━━━━━━━━━━━━━━\u001b[0m \u001b[32m475.3/475.3 MB\u001b[0m \u001b[31m3.6 MB/s\u001b[0m eta \u001b[36m0:00:00\u001b[0m\r\n",
      "\u001b[?25hDownloading tensorflow_probability-0.23.0-py2.py3-none-any.whl (6.9 MB)\r\n",
      "\u001b[2K   \u001b[90m━━━━━━━━━━━━━━━━━━━━━━━━━━━━━━━━━━━━━━━━\u001b[0m \u001b[32m6.9/6.9 MB\u001b[0m \u001b[31m100.2 MB/s\u001b[0m eta \u001b[36m0:00:00\u001b[0m\r\n",
      "\u001b[?25hDownloading wrapt-1.14.1-cp311-cp311-manylinux_2_5_x86_64.manylinux1_x86_64.manylinux_2_17_x86_64.manylinux2014_x86_64.whl (78 kB)\r\n",
      "\u001b[2K   \u001b[90m━━━━━━━━━━━━━━━━━━━━━━━━━━━━━━━━━━━━━━━━\u001b[0m \u001b[32m78.4/78.4 kB\u001b[0m \u001b[31m3.8 MB/s\u001b[0m eta \u001b[36m0:00:00\u001b[0m\r\n",
      "\u001b[?25hDownloading rlds-0.1.8-py3-none-manylinux2010_x86_64.whl (48 kB)\r\n",
      "\u001b[2K   \u001b[90m━━━━━━━━━━━━━━━━━━━━━━━━━━━━━━━━━━━━━━━━\u001b[0m \u001b[32m48.4/48.4 kB\u001b[0m \u001b[31m2.4 MB/s\u001b[0m eta \u001b[36m0:00:00\u001b[0m\r\n",
      "\u001b[?25hDownloading tf_agents-0.19.0-py3-none-any.whl (1.4 MB)\r\n",
      "\u001b[2K   \u001b[90m━━━━━━━━━━━━━━━━━━━━━━━━━━━━━━━━━━━━━━━━\u001b[0m \u001b[32m1.4/1.4 MB\u001b[0m \u001b[31m53.4 MB/s\u001b[0m eta \u001b[36m0:00:00\u001b[0m\r\n",
      "\u001b[?25hDownloading keras-2.15.0-py3-none-any.whl (1.7 MB)\r\n",
      "\u001b[2K   \u001b[90m━━━━━━━━━━━━━━━━━━━━━━━━━━━━━━━━━━━━━━━━\u001b[0m \u001b[32m1.7/1.7 MB\u001b[0m \u001b[31m58.1 MB/s\u001b[0m eta \u001b[36m0:00:00\u001b[0m\r\n",
      "\u001b[?25hDownloading ml_dtypes-0.3.2-cp311-cp311-manylinux_2_17_x86_64.manylinux2014_x86_64.whl (2.2 MB)\r\n",
      "\u001b[2K   \u001b[90m━━━━━━━━━━━━━━━━━━━━━━━━━━━━━━━━━━━━━━━━\u001b[0m \u001b[32m2.2/2.2 MB\u001b[0m \u001b[31m70.1 MB/s\u001b[0m eta \u001b[36m0:00:00\u001b[0m\r\n",
      "\u001b[?25hDownloading tensorboard-2.15.2-py3-none-any.whl (5.5 MB)\r\n",
      "\u001b[2K   \u001b[90m━━━━━━━━━━━━━━━━━━━━━━━━━━━━━━━━━━━━━━━━\u001b[0m \u001b[32m5.5/5.5 MB\u001b[0m \u001b[31m93.6 MB/s\u001b[0m eta \u001b[36m0:00:00\u001b[0m\r\n",
      "\u001b[?25hDownloading tensorflow_estimator-2.15.0-py2.py3-none-any.whl (441 kB)\r\n",
      "\u001b[2K   \u001b[90m━━━━━━━━━━━━━━━━━━━━━━━━━━━━━━━━━━━━━━━━\u001b[0m \u001b[32m442.0/442.0 kB\u001b[0m \u001b[31m23.7 MB/s\u001b[0m eta \u001b[36m0:00:00\u001b[0m\r\n",
      "\u001b[?25hBuilding wheels for collected packages: gym\r\n",
      "  Building wheel for gym (pyproject.toml) ... \u001b[?25l\u001b[?25hdone\r\n",
      "  Created wheel for gym: filename=gym-0.23.0-py3-none-any.whl size=697740 sha256=623a12047bf9a94af6de0dd92400684025bc3f43a64deed7343c91311cdc851c\r\n",
      "  Stored in directory: /root/.cache/pip/wheels/bf/19/ce/d2b762b6d61115bf0b4260ca59650ba2d55d49f34f61e095f6\r\n",
      "Successfully built gym\r\n",
      "Installing collected packages: wrapt, typing-extensions, tensorflow-estimator, pygame, keras, tensorflow-probability, tensorboard, ml-dtypes, gym, tf-agents, tensorflow, rlds, dm-reverb\r\n",
      "  Attempting uninstall: wrapt\r\n",
      "    Found existing installation: wrapt 1.17.2\r\n",
      "    Uninstalling wrapt-1.17.2:\r\n",
      "      Successfully uninstalled wrapt-1.17.2\r\n",
      "  Attempting uninstall: typing-extensions\r\n",
      "    Found existing installation: typing_extensions 4.13.2\r\n",
      "    Uninstalling typing_extensions-4.13.2:\r\n",
      "      Successfully uninstalled typing_extensions-4.13.2\r\n",
      "  Attempting uninstall: pygame\r\n",
      "    Found existing installation: pygame 2.6.1\r\n",
      "    Uninstalling pygame-2.6.1:\r\n",
      "      Successfully uninstalled pygame-2.6.1\r\n",
      "  Attempting uninstall: keras\r\n",
      "    Found existing installation: keras 3.8.0\r\n",
      "    Uninstalling keras-3.8.0:\r\n",
      "      Successfully uninstalled keras-3.8.0\r\n",
      "  Attempting uninstall: tensorflow-probability\r\n",
      "    Found existing installation: tensorflow-probability 0.25.0\r\n",
      "    Uninstalling tensorflow-probability-0.25.0:\r\n",
      "      Successfully uninstalled tensorflow-probability-0.25.0\r\n",
      "  Attempting uninstall: tensorboard\r\n",
      "    Found existing installation: tensorboard 2.18.0\r\n",
      "    Uninstalling tensorboard-2.18.0:\r\n",
      "      Successfully uninstalled tensorboard-2.18.0\r\n",
      "  Attempting uninstall: ml-dtypes\r\n",
      "    Found existing installation: ml-dtypes 0.4.1\r\n",
      "    Uninstalling ml-dtypes-0.4.1:\r\n",
      "      Successfully uninstalled ml-dtypes-0.4.1\r\n",
      "  Attempting uninstall: gym\r\n",
      "    Found existing installation: gym 0.25.2\r\n",
      "    Uninstalling gym-0.25.2:\r\n",
      "      Successfully uninstalled gym-0.25.2\r\n",
      "  Attempting uninstall: tensorflow\r\n",
      "    Found existing installation: tensorflow 2.18.0\r\n",
      "    Uninstalling tensorflow-2.18.0:\r\n",
      "      Successfully uninstalled tensorflow-2.18.0\r\n",
      "\u001b[31mERROR: pip's dependency resolver does not currently take into account all the packages that are installed. This behaviour is the source of the following dependency conflicts.\r\n",
      "typing-inspection 0.4.0 requires typing-extensions>=4.12.0, but you have typing-extensions 4.5.0 which is incompatible.\r\n",
      "pyopenssl 25.0.0 requires typing-extensions>=4.9; python_version < \"3.13\" and python_version >= \"3.8\", but you have typing-extensions 4.5.0 which is incompatible.\r\n",
      "pydantic-core 2.33.2 requires typing-extensions!=4.7.0,>=4.6.0, but you have typing-extensions 4.5.0 which is incompatible.\r\n",
      "pydantic 2.11.4 requires typing-extensions>=4.12.2, but you have typing-extensions 4.5.0 which is incompatible.\r\n",
      "datasets 3.6.0 requires fsspec[http]<=2025.3.0,>=2023.1.0, but you have fsspec 2025.3.2 which is incompatible.\r\n",
      "docstring-to-markdown 0.17 requires typing_extensions>=4.6, but you have typing-extensions 4.5.0 which is incompatible.\r\n",
      "tensorflow-decision-forests 1.11.0 requires tensorflow==2.18.0, but you have tensorflow 2.15.1 which is incompatible.\r\n",
      "alembic 1.15.2 requires typing-extensions>=4.12, but you have typing-extensions 4.5.0 which is incompatible.\r\n",
      "plum-dispatch 2.5.7 requires typing-extensions>=4.9.0, but you have typing-extensions 4.5.0 which is incompatible.\r\n",
      "jax 0.5.2 requires ml_dtypes>=0.4.0, but you have ml-dtypes 0.3.2 which is incompatible.\r\n",
      "dopamine-rl 4.1.2 requires gymnasium>=1.0.0, but you have gymnasium 0.29.0 which is incompatible.\r\n",
      "sqlalchemy 2.0.40 requires typing-extensions>=4.6.0, but you have typing-extensions 4.5.0 which is incompatible.\r\n",
      "ibis-framework 9.5.0 requires toolz<1,>=0.11, but you have toolz 1.0.0 which is incompatible.\r\n",
      "langchain-core 0.3.50 requires packaging<25,>=23.2, but you have packaging 25.0 which is incompatible.\r\n",
      "langchain-core 0.3.50 requires typing-extensions>=4.7, but you have typing-extensions 4.5.0 which is incompatible.\r\n",
      "openai 1.70.0 requires typing-extensions<5,>=4.11, but you have typing-extensions 4.5.0 which is incompatible.\r\n",
      "bigframes 1.42.0 requires rich<14,>=12.4.4, but you have rich 14.0.0 which is incompatible.\r\n",
      "torch 2.6.0+cu124 requires nvidia-cublas-cu12==12.4.5.8; platform_system == \"Linux\" and platform_machine == \"x86_64\", but you have nvidia-cublas-cu12 12.9.0.13 which is incompatible.\r\n",
      "torch 2.6.0+cu124 requires nvidia-cudnn-cu12==9.1.0.70; platform_system == \"Linux\" and platform_machine == \"x86_64\", but you have nvidia-cudnn-cu12 9.3.0.75 which is incompatible.\r\n",
      "torch 2.6.0+cu124 requires nvidia-cufft-cu12==11.2.1.3; platform_system == \"Linux\" and platform_machine == \"x86_64\", but you have nvidia-cufft-cu12 11.4.0.6 which is incompatible.\r\n",
      "torch 2.6.0+cu124 requires nvidia-curand-cu12==10.3.5.147; platform_system == \"Linux\" and platform_machine == \"x86_64\", but you have nvidia-curand-cu12 10.3.10.19 which is incompatible.\r\n",
      "torch 2.6.0+cu124 requires nvidia-cusolver-cu12==11.6.1.9; platform_system == \"Linux\" and platform_machine == \"x86_64\", but you have nvidia-cusolver-cu12 11.7.4.40 which is incompatible.\r\n",
      "torch 2.6.0+cu124 requires nvidia-cusparse-cu12==12.3.1.170; platform_system == \"Linux\" and platform_machine == \"x86_64\", but you have nvidia-cusparse-cu12 12.5.9.5 which is incompatible.\r\n",
      "torch 2.6.0+cu124 requires nvidia-nvjitlink-cu12==12.4.127; platform_system == \"Linux\" and platform_machine == \"x86_64\", but you have nvidia-nvjitlink-cu12 12.9.41 which is incompatible.\r\n",
      "torch 2.6.0+cu124 requires typing-extensions>=4.10.0, but you have typing-extensions 4.5.0 which is incompatible.\r\n",
      "pydrive2 1.21.3 requires cryptography<44, but you have cryptography 44.0.3 which is incompatible.\r\n",
      "pydrive2 1.21.3 requires pyOpenSSL<=24.2.1,>=19.1.0, but you have pyopenssl 25.0.0 which is incompatible.\r\n",
      "typeguard 4.4.2 requires typing_extensions>=4.10.0, but you have typing-extensions 4.5.0 which is incompatible.\r\n",
      "nibabel 5.3.2 requires typing-extensions>=4.6; python_version < \"3.13\", but you have typing-extensions 4.5.0 which is incompatible.\r\n",
      "tf-keras 2.18.0 requires tensorflow<2.19,>=2.18, but you have tensorflow 2.15.1 which is incompatible.\r\n",
      "tensorflow-text 2.18.1 requires tensorflow<2.19,>=2.18.0, but you have tensorflow 2.15.1 which is incompatible.\r\n",
      "altair 5.5.0 requires typing-extensions>=4.10.0; python_version < \"3.14\", but you have typing-extensions 4.5.0 which is incompatible.\r\n",
      "google-genai 1.9.0 requires typing-extensions<5.0.0,>=4.11.0, but you have typing-extensions 4.5.0 which is incompatible.\r\n",
      "opentelemetry-api 1.31.1 requires importlib-metadata<8.7.0,>=6.0, but you have importlib-metadata 8.7.0 which is incompatible.\u001b[0m\u001b[31m\r\n",
      "\u001b[0mSuccessfully installed dm-reverb-0.14.0 gym-0.23.0 keras-2.15.0 ml-dtypes-0.3.2 pygame-2.1.3 rlds-0.1.8 tensorboard-2.15.2 tensorflow-2.15.1 tensorflow-estimator-2.15.0 tensorflow-probability-0.23.0 tf-agents-0.19.0 typing-extensions-4.5.0 wrapt-1.14.1\r\n",
      "Requirement already satisfied: gymnasium in /usr/local/lib/python3.11/dist-packages (0.29.0)\r\n",
      "Requirement already satisfied: numpy>=1.21.0 in /usr/local/lib/python3.11/dist-packages (from gymnasium) (1.26.4)\r\n",
      "Requirement already satisfied: cloudpickle>=1.2.0 in /usr/local/lib/python3.11/dist-packages (from gymnasium) (3.1.1)\r\n",
      "Requirement already satisfied: typing-extensions>=4.3.0 in /usr/local/lib/python3.11/dist-packages (from gymnasium) (4.5.0)\r\n",
      "Requirement already satisfied: farama-notifications>=0.0.1 in /usr/local/lib/python3.11/dist-packages (from gymnasium) (0.0.4)\r\n",
      "Requirement already satisfied: mkl_fft in /usr/local/lib/python3.11/dist-packages (from numpy>=1.21.0->gymnasium) (1.3.8)\r\n",
      "Requirement already satisfied: mkl_random in /usr/local/lib/python3.11/dist-packages (from numpy>=1.21.0->gymnasium) (1.2.4)\r\n",
      "Requirement already satisfied: mkl_umath in /usr/local/lib/python3.11/dist-packages (from numpy>=1.21.0->gymnasium) (0.1.1)\r\n",
      "Requirement already satisfied: mkl in /usr/local/lib/python3.11/dist-packages (from numpy>=1.21.0->gymnasium) (2025.1.0)\r\n",
      "Requirement already satisfied: tbb4py in /usr/local/lib/python3.11/dist-packages (from numpy>=1.21.0->gymnasium) (2022.1.0)\r\n",
      "Requirement already satisfied: mkl-service in /usr/local/lib/python3.11/dist-packages (from numpy>=1.21.0->gymnasium) (2.4.1)\r\n",
      "Requirement already satisfied: intel-openmp<2026,>=2024 in /usr/local/lib/python3.11/dist-packages (from mkl->numpy>=1.21.0->gymnasium) (2024.2.0)\r\n",
      "Requirement already satisfied: tbb==2022.* in /usr/local/lib/python3.11/dist-packages (from mkl->numpy>=1.21.0->gymnasium) (2022.1.0)\r\n",
      "Requirement already satisfied: tcmlib==1.* in /usr/local/lib/python3.11/dist-packages (from tbb==2022.*->mkl->numpy>=1.21.0->gymnasium) (1.3.0)\r\n",
      "Requirement already satisfied: intel-cmplr-lib-rt in /usr/local/lib/python3.11/dist-packages (from mkl_umath->numpy>=1.21.0->gymnasium) (2024.2.0)\r\n",
      "Requirement already satisfied: intel-cmplr-lib-ur==2024.2.0 in /usr/local/lib/python3.11/dist-packages (from intel-openmp<2026,>=2024->mkl->numpy>=1.21.0->gymnasium) (2024.2.0)\r\n"
     ]
    }
   ],
   "source": [
    "!sudo apt-get update -y\n",
    "!sudo apt-get install -y xvfb ffmpeg freeglut3-dev\n",
    "#!pip install imageio\n",
    "!pip install \"imageio>=2.33,<2.35\"\n",
    "!pip install pyvirtualdisplay\n",
    "!pip install pyglet\n",
    "!pip install tf-agents[reverb]\n",
    "!pip install gymnasium"
   ]
  },
  {
   "cell_type": "code",
   "execution_count": 2,
   "id": "1dae8318",
   "metadata": {
    "execution": {
     "iopub.execute_input": "2025-06-28T05:59:28.896260Z",
     "iopub.status.busy": "2025-06-28T05:59:28.895770Z",
     "iopub.status.idle": "2025-06-28T05:59:39.296296Z",
     "shell.execute_reply": "2025-06-28T05:59:39.295631Z"
    },
    "id": "sMitx5qSgJk1",
    "papermill": {
     "duration": 10.422341,
     "end_time": "2025-06-28T05:59:39.297662",
     "exception": false,
     "start_time": "2025-06-28T05:59:28.875321",
     "status": "completed"
    },
    "tags": []
   },
   "outputs": [
    {
     "name": "stderr",
     "output_type": "stream",
     "text": [
      "2025-06-28 05:59:29.497040: E external/local_xla/xla/stream_executor/cuda/cuda_dnn.cc:9261] Unable to register cuDNN factory: Attempting to register factory for plugin cuDNN when one has already been registered\n",
      "2025-06-28 05:59:29.497092: E external/local_xla/xla/stream_executor/cuda/cuda_fft.cc:607] Unable to register cuFFT factory: Attempting to register factory for plugin cuFFT when one has already been registered\n",
      "2025-06-28 05:59:29.498716: E external/local_xla/xla/stream_executor/cuda/cuda_blas.cc:1515] Unable to register cuBLAS factory: Attempting to register factory for plugin cuBLAS when one has already been registered\n",
      "/usr/local/lib/python3.11/dist-packages/gymnasium/envs/registration.py:596: UserWarning: \u001b[33mWARN: plugin: shimmy.registration:register_gymnasium_envs raised Traceback (most recent call last):\n",
      "  File \"/usr/local/lib/python3.11/dist-packages/gymnasium/envs/registration.py\", line 594, in load_plugin_envs\n",
      "    fn()\n",
      "  File \"/usr/local/lib/python3.11/dist-packages/shimmy/registration.py\", line 304, in register_gymnasium_envs\n",
      "    _register_atari_envs()\n",
      "  File \"/usr/local/lib/python3.11/dist-packages/shimmy/registration.py\", line 244, in _register_atari_envs\n",
      "    _register_atari_configs(\n",
      "  File \"/usr/local/lib/python3.11/dist-packages/shimmy/registration.py\", line 168, in _register_atari_configs\n",
      "    from ale_py.roms import utils as rom_utils\n",
      "ImportError: cannot import name 'utils' from 'ale_py.roms' (/usr/local/lib/python3.11/dist-packages/ale_py/roms/__init__.py)\n",
      "\u001b[0m\n",
      "  logger.warn(f\"plugin: {plugin.value} raised {traceback.format_exc()}\")\n"
     ]
    }
   ],
   "source": [
    "from __future__ import absolute_import, division, print_function\n",
    "\n",
    "import base64\n",
    "import imageio\n",
    "import IPython\n",
    "import matplotlib\n",
    "import matplotlib.pyplot as plt\n",
    "import numpy as np\n",
    "import PIL.Image\n",
    "import pyvirtualdisplay\n",
    "import reverb\n",
    "import os\n",
    "\n",
    "import tensorflow as tf\n",
    "\n",
    "from tf_agents.agents.ddpg import ddpg_agent\n",
    "from tf_agents.drivers import py_driver\n",
    "from tf_agents.environments import suite_gym\n",
    "from tf_agents.environments import tf_py_environment\n",
    "from tf_agents.eval import metric_utils\n",
    "from tf_agents.metrics import tf_metrics\n",
    "#from tf_agents.networks import ActorNetwork, CriticNetwork\n",
    "from tf_agents.networks import network\n",
    "from tf_agents.networks.actor_distribution_network import ActorDistributionNetwork\n",
    "from tf_agents.policies import py_tf_eager_policy\n",
    "from tf_agents.policies import random_tf_policy\n",
    "from tf_agents.replay_buffers import reverb_replay_buffer\n",
    "from tf_agents.replay_buffers import reverb_utils\n",
    "from tf_agents.trajectories import trajectory\n",
    "from tf_agents.specs import tensor_spec\n",
    "from tf_agents.utils import common\n",
    "import gymnasium as gym \n",
    "from tf_agents.trajectories import time_step as ts"
   ]
  },
  {
   "cell_type": "code",
   "execution_count": 3,
   "id": "4ce47fa2",
   "metadata": {
    "execution": {
     "iopub.execute_input": "2025-06-28T05:59:39.343542Z",
     "iopub.status.busy": "2025-06-28T05:59:39.343038Z",
     "iopub.status.idle": "2025-06-28T05:59:40.290441Z",
     "shell.execute_reply": "2025-06-28T05:59:40.289858Z"
    },
    "id": "J6HsdS5GbSjd",
    "papermill": {
     "duration": 0.971534,
     "end_time": "2025-06-28T05:59:40.291921",
     "exception": false,
     "start_time": "2025-06-28T05:59:39.320387",
     "status": "completed"
    },
    "tags": []
   },
   "outputs": [],
   "source": [
    "# Set up a virtual display for rendering OpenAI gym environments.\n",
    "display = pyvirtualdisplay.Display(visible=0, size=(1400, 900)).start()"
   ]
  },
  {
   "cell_type": "code",
   "execution_count": 4,
   "id": "2bc807ff",
   "metadata": {
    "execution": {
     "iopub.execute_input": "2025-06-28T05:59:40.332884Z",
     "iopub.status.busy": "2025-06-28T05:59:40.332648Z",
     "iopub.status.idle": "2025-06-28T05:59:40.337790Z",
     "shell.execute_reply": "2025-06-28T05:59:40.337083Z"
    },
    "id": "NspmzG4nP3b9",
    "papermill": {
     "duration": 0.025964,
     "end_time": "2025-06-28T05:59:40.338885",
     "exception": false,
     "start_time": "2025-06-28T05:59:40.312921",
     "status": "completed"
    },
    "tags": []
   },
   "outputs": [
    {
     "data": {
      "text/plain": [
       "'2.15.1'"
      ]
     },
     "execution_count": 4,
     "metadata": {},
     "output_type": "execute_result"
    }
   ],
   "source": [
    "tf.version.VERSION"
   ]
  },
  {
   "cell_type": "markdown",
   "id": "81285fb2",
   "metadata": {
    "id": "LmC0NDhdLIKY",
    "papermill": {
     "duration": 0.018909,
     "end_time": "2025-06-28T05:59:40.376865",
     "exception": false,
     "start_time": "2025-06-28T05:59:40.357956",
     "status": "completed"
    },
    "tags": []
   },
   "source": [
    "## Hyperparameters\n",
    "| Parámetro                           | Comentario                                                                              |\n",
    "| ----------------------------------- | --------------------------------------------------------------------------------------- |\n",
    "| `num_iterations = 20000`            | 20k pasos es razonable para ver progreso. Se puede aumentar.\t\t\t        |\n",
    "| `initial_collect_steps = 1000`      | Está bien para llenar el buffer inicialmente.                                           |\n",
    "| `collect_steps_per_iteration = 1`   | Está bien para DDPG, que se entrena cada paso.                                          |\n",
    "| `replay_buffer_max_length = 100000` | Más que suficiente.\t\t\t\t                                        |\n",
    "| `batch_size = 64`                   | Estándar y funciona bien. Se puede probar 128.    \t                                |\n",
    "| `learning_rate = 1e-3`              | Común para DDPG. Si el entrenamiento es inestable, prueba 1e-4.                         |\n",
    "| `log_interval = 200`                | Bueno para monitorear progreso.                                                         |\n",
    "| `num_eval_episodes = 10`            | Correcto para promediar bien el desempeño.                                              |\n",
    "| `eval_interval = 500`               | Evaluar cada 500 pasos es razonable. Puedes hacerlo cada 1000 si quieres menos ruido.   |\n"
   ]
  },
  {
   "cell_type": "code",
   "execution_count": 5,
   "id": "4c7a0b96",
   "metadata": {
    "execution": {
     "iopub.execute_input": "2025-06-28T05:59:40.462695Z",
     "iopub.status.busy": "2025-06-28T05:59:40.462406Z",
     "iopub.status.idle": "2025-06-28T05:59:40.466156Z",
     "shell.execute_reply": "2025-06-28T05:59:40.465637Z"
    },
    "id": "HC1kNrOsLSIZ",
    "papermill": {
     "duration": 0.069402,
     "end_time": "2025-06-28T05:59:40.467182",
     "exception": false,
     "start_time": "2025-06-28T05:59:40.397780",
     "status": "completed"
    },
    "tags": []
   },
   "outputs": [],
   "source": [
    "num_iterations = 20000 # @param {type:\"integer\"}\n",
    "\n",
    "initial_collect_steps = 1000  # @param {type:\"integer\"}\n",
    "collect_steps_per_iteration =   1# @param {type:\"integer\"}\n",
    "replay_buffer_max_length = 100000  # @param {type:\"integer\"}\n",
    "\n",
    "batch_size = 64  # @param {type:\"integer\"}\n",
    "learning_rate = 1e-3  # @param {type:\"number\"}\n",
    "log_interval = 200  # @param {type:\"integer\"}\n",
    "\n",
    "num_eval_episodes = 10  # @param {type:\"integer\"}\n",
    "eval_interval = 500  # @param {type:\"integer\"}"
   ]
  },
  {
   "cell_type": "markdown",
   "id": "be4ec18f",
   "metadata": {
    "id": "VMsJC3DEgI0x",
    "papermill": {
     "duration": 0.019022,
     "end_time": "2025-06-28T05:59:40.505600",
     "exception": false,
     "start_time": "2025-06-28T05:59:40.486578",
     "status": "completed"
    },
    "tags": []
   },
   "source": [
    "## Environment\n",
    "\n",
    "In Reinforcement Learning (RL), an environment represents the task or problem to be solved. Standard environments can be created in TF-Agents using `tf_agents.environments` suites. TF-Agents has suites for loading environments from sources such as the OpenAI Gym, Atari, and DM Control.\n",
    "\n",
    "Load the Pendulum environment from the OpenAI Gym suite."
   ]
  },
  {
   "cell_type": "code",
   "execution_count": 6,
   "id": "1d89f731",
   "metadata": {
    "execution": {
     "iopub.execute_input": "2025-06-28T05:59:40.545189Z",
     "iopub.status.busy": "2025-06-28T05:59:40.544978Z",
     "iopub.status.idle": "2025-06-28T05:59:40.590944Z",
     "shell.execute_reply": "2025-06-28T05:59:40.590350Z"
    },
    "id": "pYEz-S9gEv2-",
    "papermill": {
     "duration": 0.067162,
     "end_time": "2025-06-28T05:59:40.592000",
     "exception": false,
     "start_time": "2025-06-28T05:59:40.524838",
     "status": "completed"
    },
    "tags": []
   },
   "outputs": [
    {
     "name": "stdout",
     "output_type": "stream",
     "text": [
      "Observación: BoundedTensorSpec(shape=(3,), dtype=tf.float32, name='observation', minimum=array([-1., -1., -8.], dtype=float32), maximum=array([1., 1., 8.], dtype=float32))\n",
      "Acción: BoundedTensorSpec(shape=(1,), dtype=tf.float32, name='action', minimum=array(-2., dtype=float32), maximum=array(2., dtype=float32))\n"
     ]
    }
   ],
   "source": [
    "# Nombre del entorno\n",
    "env_name = 'Pendulum-v1'\n",
    "\n",
    "# Cargar entorno de entrenamiento y evaluación\n",
    "train_py_env = suite_gym.load(env_name)\n",
    "eval_py_env = suite_gym.load(env_name)\n",
    "\n",
    "# Convertir a entornos de TensorFlow\n",
    "train_env = tf_py_environment.TFPyEnvironment(train_py_env)\n",
    "eval_env = tf_py_environment.TFPyEnvironment(eval_py_env)\n",
    "\n",
    "# Verificar especificaciones\n",
    "print(\"Observación:\", train_env.observation_spec())\n",
    "print(\"Acción:\", train_env.action_spec())"
   ]
  },
  {
   "cell_type": "code",
   "execution_count": 7,
   "id": "8356ca39",
   "metadata": {
    "execution": {
     "iopub.execute_input": "2025-06-28T05:59:40.631698Z",
     "iopub.status.busy": "2025-06-28T05:59:40.631226Z",
     "iopub.status.idle": "2025-06-28T05:59:40.813091Z",
     "shell.execute_reply": "2025-06-28T05:59:40.812333Z"
    },
    "id": "RlO7WIQHu_7D",
    "papermill": {
     "duration": 0.202872,
     "end_time": "2025-06-28T05:59:40.814264",
     "exception": false,
     "start_time": "2025-06-28T05:59:40.611392",
     "status": "completed"
    },
    "tags": []
   },
   "outputs": [
    {
     "data": {
      "image/jpeg": "[encoded data removed]",
      "image/png": "[encoded data removed]",
      "text/plain": [
       "<PIL.Image.Image image mode=RGB size=500x500>"
      ]
     },
     "execution_count": 7,
     "metadata": {},
     "output_type": "execute_result"
    }
   ],
   "source": [
    "# Cargar entorno Gymnasium con render_mode adecuado\n",
    "render_env = gym.make(\"Pendulum-v1\", render_mode=\"rgb_array\")\n",
    "\n",
    "# Reiniciar entorno\n",
    "render_env.reset()\n",
    "\n",
    "# Renderizar una imagen y mostrarla\n",
    "img = render_env.render()\n",
    "PIL.Image.fromarray(img)"
   ]
  },
  {
   "cell_type": "markdown",
   "id": "8bf66d9d",
   "metadata": {
    "id": "B9_lskPOey18",
    "papermill": {
     "duration": 0.019223,
     "end_time": "2025-06-28T05:59:40.853791",
     "exception": false,
     "start_time": "2025-06-28T05:59:40.834568",
     "status": "completed"
    },
    "tags": []
   },
   "source": [
    "The `environment.step` method takes an `action` in the environment and returns a `TimeStep` tuple containing the next observation of the environment and the reward for the action.\n",
    "\n",
    "The `time_step_spec()` method returns the specification for the `TimeStep` tuple. Its `observation` attribute shows the shape of observations, the data types, and the ranges of allowed values. The `reward` attribute shows the same details for the reward.\n"
   ]
  },
  {
   "cell_type": "code",
   "execution_count": 8,
   "id": "fceb4fa9",
   "metadata": {
    "execution": {
     "iopub.execute_input": "2025-06-28T05:59:40.893403Z",
     "iopub.status.busy": "2025-06-28T05:59:40.893152Z",
     "iopub.status.idle": "2025-06-28T05:59:40.897897Z",
     "shell.execute_reply": "2025-06-28T05:59:40.897178Z"
    },
    "id": "exDv57iHfwQV",
    "papermill": {
     "duration": 0.025965,
     "end_time": "2025-06-28T05:59:40.899017",
     "exception": false,
     "start_time": "2025-06-28T05:59:40.873052",
     "status": "completed"
    },
    "tags": []
   },
   "outputs": [
    {
     "name": "stdout",
     "output_type": "stream",
     "text": [
      "Observation Spec:\n",
      "BoundedTensorSpec(shape=(3,), dtype=tf.float32, name='observation', minimum=array([-1., -1., -8.], dtype=float32), maximum=array([1., 1., 8.], dtype=float32))\n"
     ]
    }
   ],
   "source": [
    "print('Observation Spec:')\n",
    "print(train_env.observation_spec())"
   ]
  },
  {
   "cell_type": "markdown",
   "id": "5e3fa737",
   "metadata": {
    "papermill": {
     "duration": 0.021373,
     "end_time": "2025-06-28T05:59:40.940013",
     "exception": false,
     "start_time": "2025-06-28T05:59:40.918640",
     "status": "completed"
    },
    "tags": []
   },
   "source": [
    "This describes the observation space — the input to your RL agent.\n",
    "\n",
    "* Shape: (3,) → the observation is a 3D vector.\n",
    "\n",
    "* Meaning of components:\n",
    "    1. cos(θ) → pendulum angle in cosine form.\n",
    "    2. sin(θ) → same angle in sine form.\n",
    "    3. θ_dot → angular velocity of the pendulum.\n",
    "\n",
    "* Values are bounded:\n",
    "    1. cos/sin are between -1 and 1\n",
    "    2. angular velocity is between -8 and 8"
   ]
  },
  {
   "cell_type": "code",
   "execution_count": 9,
   "id": "c8f56803",
   "metadata": {
    "execution": {
     "iopub.execute_input": "2025-06-28T05:59:41.005145Z",
     "iopub.status.busy": "2025-06-28T05:59:41.004894Z",
     "iopub.status.idle": "2025-06-28T05:59:41.010001Z",
     "shell.execute_reply": "2025-06-28T05:59:41.009213Z"
    },
    "id": "UxiSyCbBUQPi",
    "papermill": {
     "duration": 0.038755,
     "end_time": "2025-06-28T05:59:41.011447",
     "exception": false,
     "start_time": "2025-06-28T05:59:40.972692",
     "status": "completed"
    },
    "tags": []
   },
   "outputs": [
    {
     "name": "stdout",
     "output_type": "stream",
     "text": [
      "Reward Spec:\n",
      "TensorSpec(shape=(), dtype=tf.float32, name='reward')\n"
     ]
    }
   ],
   "source": [
    "print('Reward Spec:')\n",
    "print(train_env.reward_spec())"
   ]
  },
  {
   "cell_type": "markdown",
   "id": "b74aace8",
   "metadata": {
    "id": "b_lHcIcqUaqB",
    "papermill": {
     "duration": 0.020002,
     "end_time": "2025-06-28T05:59:41.054219",
     "exception": false,
     "start_time": "2025-06-28T05:59:41.034217",
     "status": "completed"
    },
    "tags": []
   },
   "source": [
    "This means each time step will return a scalar reward (float32). No bounds are specified, but you know from Pendulum-v1’s definition that:\n",
    "\n",
    "* Reward is typically negative.\n",
    "\n",
    "* Maximum reward (0) happens when the pendulum is upright and still.\n",
    "\n",
    "* Worst case is around -16."
   ]
  },
  {
   "cell_type": "code",
   "execution_count": 10,
   "id": "36084586",
   "metadata": {
    "execution": {
     "iopub.execute_input": "2025-06-28T05:59:41.107635Z",
     "iopub.status.busy": "2025-06-28T05:59:41.107250Z",
     "iopub.status.idle": "2025-06-28T05:59:41.112404Z",
     "shell.execute_reply": "2025-06-28T05:59:41.111909Z"
    },
    "id": "bttJ4uxZUQBr",
    "papermill": {
     "duration": 0.034965,
     "end_time": "2025-06-28T05:59:41.113817",
     "exception": false,
     "start_time": "2025-06-28T05:59:41.078852",
     "status": "completed"
    },
    "tags": []
   },
   "outputs": [
    {
     "name": "stdout",
     "output_type": "stream",
     "text": [
      "Action Spec:\n",
      "BoundedTensorSpec(shape=(1,), dtype=tf.float32, name='action', minimum=array(-2., dtype=float32), maximum=array(2., dtype=float32))\n"
     ]
    }
   ],
   "source": [
    "print('Action Spec:')\n",
    "print(train_env.action_spec())"
   ]
  },
  {
   "cell_type": "markdown",
   "id": "a7b26285",
   "metadata": {
    "id": "eJCgJnx3g0yY",
    "papermill": {
     "duration": 0.020011,
     "end_time": "2025-06-28T05:59:41.161263",
     "exception": false,
     "start_time": "2025-06-28T05:59:41.141252",
     "status": "completed"
    },
    "tags": []
   },
   "source": [
    "This is your action space — what the agent can do.\n",
    "\n",
    "* It's a single continuous action in [-2.0, 2.0].\n",
    "* This represents the torque applied to the pendulum motor."
   ]
  },
  {
   "cell_type": "code",
   "execution_count": 11,
   "id": "09ccf2a0",
   "metadata": {
    "execution": {
     "iopub.execute_input": "2025-06-28T05:59:41.201391Z",
     "iopub.status.busy": "2025-06-28T05:59:41.201183Z",
     "iopub.status.idle": "2025-06-28T05:59:41.206904Z",
     "shell.execute_reply": "2025-06-28T05:59:41.206106Z"
    },
    "id": "V2UGR5t_iZX-",
    "papermill": {
     "duration": 0.027252,
     "end_time": "2025-06-28T05:59:41.208017",
     "exception": false,
     "start_time": "2025-06-28T05:59:41.180765",
     "status": "completed"
    },
    "tags": []
   },
   "outputs": [
    {
     "name": "stdout",
     "output_type": "stream",
     "text": [
      "Time step:\n",
      "(array([-0.9399606 , -0.341283  ,  0.89122134], dtype=float32), {})\n",
      "Next time step:\n",
      "(array([-0.9272505, -0.3744416,  0.7102591], dtype=float32), -7.882264640204304, False, False, {})\n"
     ]
    }
   ],
   "source": [
    "# Reiniciar entorno\n",
    "time_step = render_env.reset()\n",
    "print('Time step:')\n",
    "print(time_step)\n",
    "\n",
    "# Tomar acción continua (en el rango permitido, e.g., [-2.0] a [2.0])\n",
    "action = np.array([0.5], dtype=np.float32)\n",
    "\n",
    "# Ejecutar un paso en el entorno\n",
    "next_time_step = render_env.step(action)\n",
    "print('Next time step:')\n",
    "print(next_time_step)\n"
   ]
  },
  {
   "cell_type": "markdown",
   "id": "e166d14f",
   "metadata": {
    "id": "4JSc9GviWUBK",
    "papermill": {
     "duration": 0.019585,
     "end_time": "2025-06-28T05:59:41.247060",
     "exception": false,
     "start_time": "2025-06-28T05:59:41.227475",
     "status": "completed"
    },
    "tags": []
   },
   "source": [
    "Time step:\n",
    "This is the observation returned when the environment is reset. It contains:\n",
    "\n",
    "* An initial observation: cos(θ), sin(θ), θ_dot\n",
    "* An empty dictionary {} — often used for metadata in newer Gymnasium versions.\n",
    "\n",
    "Next time step:\n",
    "This is what you get after taking one action (0.5 torque):\n",
    "\n",
    "* Observation → new state of the system.\n",
    "* Reward → -0.83 (negative: it’s not upright yet).\n",
    "* Terminated → False (no terminal condition was reached).\n",
    "* Truncated → False (the episode hasn’t hit max steps).\n",
    "* Info dict → {} — again, often unused unless specific settings require it."
   ]
  },
  {
   "cell_type": "code",
   "execution_count": 12,
   "id": "880958a4",
   "metadata": {
    "execution": {
     "iopub.execute_input": "2025-06-28T05:59:41.287169Z",
     "iopub.status.busy": "2025-06-28T05:59:41.286959Z",
     "iopub.status.idle": "2025-06-28T05:59:41.292351Z",
     "shell.execute_reply": "2025-06-28T05:59:41.291854Z"
    },
    "id": "N7brXNIGWXjC",
    "papermill": {
     "duration": 0.026662,
     "end_time": "2025-06-28T05:59:41.293425",
     "exception": false,
     "start_time": "2025-06-28T05:59:41.266763",
     "status": "completed"
    },
    "tags": []
   },
   "outputs": [],
   "source": [
    "train_py_env = suite_gym.load(env_name)\n",
    "eval_py_env = suite_gym.load(env_name)"
   ]
  },
  {
   "cell_type": "code",
   "execution_count": 13,
   "id": "a8d05806",
   "metadata": {
    "execution": {
     "iopub.execute_input": "2025-06-28T05:59:41.333864Z",
     "iopub.status.busy": "2025-06-28T05:59:41.333293Z",
     "iopub.status.idle": "2025-06-28T05:59:41.342679Z",
     "shell.execute_reply": "2025-06-28T05:59:41.342163Z"
    },
    "id": "Xp-Y4mD6eDhF",
    "papermill": {
     "duration": 0.030827,
     "end_time": "2025-06-28T05:59:41.343754",
     "exception": false,
     "start_time": "2025-06-28T05:59:41.312927",
     "status": "completed"
    },
    "tags": []
   },
   "outputs": [],
   "source": [
    "train_env = tf_py_environment.TFPyEnvironment(train_py_env)\n",
    "eval_env = tf_py_environment.TFPyEnvironment(eval_py_env)"
   ]
  },
  {
   "cell_type": "markdown",
   "id": "e2bc95f4",
   "metadata": {
    "papermill": {
     "duration": 0.020952,
     "end_time": "2025-06-28T05:59:41.385463",
     "exception": false,
     "start_time": "2025-06-28T05:59:41.364511",
     "status": "completed"
    },
    "tags": []
   },
   "source": [
    "**Summary**\n",
    "| What        | Meaning                                       |\n",
    "| ----------- | --------------------------------------------- |\n",
    "| Obs. Spec   | Your agent sees a 3D vector (cosθ, sinθ, θ̇)  |\n",
    "| Action Spec | Agent outputs a float torque ∈ \\[-2, 2]       |\n",
    "| Reward      | Negative unless pendulum is upright and still |\n",
    "| Step Output | Observation, reward, done flags, info dict    |\n"
   ]
  },
  {
   "cell_type": "markdown",
   "id": "be05453b",
   "metadata": {
    "id": "E9lW_OZYFR8A",
    "papermill": {
     "duration": 0.019304,
     "end_time": "2025-06-28T05:59:41.425446",
     "exception": false,
     "start_time": "2025-06-28T05:59:41.406142",
     "status": "completed"
    },
    "tags": []
   },
   "source": [
    "## Agent\n",
    "\n",
    "The algorithm used to solve an RL problem is represented by an `Agent`. TF-Agents provides standard implementations of a variety of `Agents`, including:\n",
    "\n",
    "-   [DQN](https://storage.googleapis.com/deepmind-media/dqn/DQNNaturePaper.pdf)\n",
    "-   [REINFORCE](https://www-anw.cs.umass.edu/~barto/courses/cs687/williams92simple.pdf)\n",
    "-   [DDPG](https://arxiv.org/pdf/1509.02971.pdf)\n",
    "-   [TD3](https://arxiv.org/pdf/1802.09477.pdf)\n",
    "-   [PPO](https://arxiv.org/abs/1707.06347)\n",
    "-   [SAC](https://arxiv.org/abs/1801.01290)\n",
    "\n",
    "`Pendulum-v1` has a continuous action space:\n",
    "`BoundedTensorSpec(shape=(1,), dtype=tf.float32, minimum=-2.0, maximum=2.0)`\n",
    "This rules out standard DQN (Deep Q-Network), which is only suitable for discrete action spaces. DQN outputs one Q-value per possible action, which doesn't work when the action is a float like 0.35 or -1.2.\n",
    "\n",
    "**What is DDPG?**\n",
    "\n",
    "Deep Deterministic Policy Gradient (DDPG) is an actor-critic algorithm designed for continuous control tasks. It combines:\n",
    "\n",
    "* A deterministic actor that outputs a specific continuous action.\n",
    "* A critic that estimates the Q-value of (state, action) pairs.\n",
    "\n",
    "DDPG is a model-free, off-policy RL algorithm based on:\n",
    "* Deep Q-Learning ideas\n",
    "* Deterministic Policy Gradient (DPG) theorem\n"
   ]
  },
  {
   "cell_type": "code",
   "execution_count": 14,
   "id": "c359ef78",
   "metadata": {
    "execution": {
     "iopub.execute_input": "2025-06-28T05:59:41.466939Z",
     "iopub.status.busy": "2025-06-28T05:59:41.466325Z",
     "iopub.status.idle": "2025-06-28T05:59:41.470159Z",
     "shell.execute_reply": "2025-06-28T05:59:41.469432Z"
    },
    "id": "TgkdEPg_muzV",
    "papermill": {
     "duration": 0.025222,
     "end_time": "2025-06-28T05:59:41.471262",
     "exception": false,
     "start_time": "2025-06-28T05:59:41.446040",
     "status": "completed"
    },
    "tags": []
   },
   "outputs": [],
   "source": [
    "#hiperparametros de la red\n",
    "actor_fc_layers = (400, 300)\n",
    "critic_fc_layers = (400, 300) \n",
    "critic_obs_fc_layers = (400,)\n",
    "critic_action_fc_layers = (300,)\n",
    "critic_joint_fc_layers = (300,)"
   ]
  },
  {
   "cell_type": "code",
   "execution_count": 15,
   "id": "1ac8f163",
   "metadata": {
    "execution": {
     "iopub.execute_input": "2025-06-28T05:59:41.512072Z",
     "iopub.status.busy": "2025-06-28T05:59:41.511874Z",
     "iopub.status.idle": "2025-06-28T05:59:41.515241Z",
     "shell.execute_reply": "2025-06-28T05:59:41.514506Z"
    },
    "papermill": {
     "duration": 0.024941,
     "end_time": "2025-06-28T05:59:41.516379",
     "exception": false,
     "start_time": "2025-06-28T05:59:41.491438",
     "status": "completed"
    },
    "tags": []
   },
   "outputs": [],
   "source": [
    "#obtener las especificaciones\n",
    "observation_spec = train_env.observation_spec()\n",
    "action_spec = train_env.action_spec()\n",
    "time_step_spec = train_env.time_step_spec()"
   ]
  },
  {
   "cell_type": "code",
   "execution_count": 16,
   "id": "f1cc7d61",
   "metadata": {
    "execution": {
     "iopub.execute_input": "2025-06-28T05:59:41.556444Z",
     "iopub.status.busy": "2025-06-28T05:59:41.556019Z",
     "iopub.status.idle": "2025-06-28T05:59:41.564668Z",
     "shell.execute_reply": "2025-06-28T05:59:41.564139Z"
    },
    "papermill": {
     "duration": 0.029787,
     "end_time": "2025-06-28T05:59:41.565693",
     "exception": false,
     "start_time": "2025-06-28T05:59:41.535906",
     "status": "completed"
    },
    "tags": []
   },
   "outputs": [],
   "source": [
    "class CriticWrapper(network.Network):\n",
    "    def __init__(self, observation_spec, action_spec, model, name='CriticWrapper'):\n",
    "        input_tensor_spec = (observation_spec, action_spec)\n",
    "        super().__init__(input_tensor_spec=input_tensor_spec, state_spec=(), name=name)\n",
    "        self._model = model\n",
    "\n",
    "    def call(self, inputs, step_type=None, network_state=(), training=False):\n",
    "        observations, actions = inputs\n",
    "        obs_shape = tf.shape(observations)\n",
    "        obs_rank = tf.rank(observations)\n",
    "\n",
    "        def with_time_dim():\n",
    "            batch_size = obs_shape[0]\n",
    "            seq_len = obs_shape[1]\n",
    "            obs_flat = tf.reshape(observations, (batch_size * seq_len, -1))\n",
    "            act_flat = tf.reshape(actions, (batch_size * seq_len, -1))\n",
    "            q_flat = self._model([obs_flat, act_flat], training=training)\n",
    "            return tf.reshape(q_flat, (batch_size, seq_len, 1)), network_state\n",
    "\n",
    "        def no_time_dim():\n",
    "            batch_size = tf.shape(observations)[0]\n",
    "            q = self._model([observations, actions], training=training)\n",
    "            return tf.reshape(q, (batch_size, 1)), network_state\n",
    "\n",
    "        return tf.cond(\n",
    "            tf.equal(obs_rank, 3),\n",
    "            true_fn=with_time_dim,\n",
    "            false_fn=no_time_dim\n",
    "        )\n",
    "\n",
    "\n",
    "\n",
    "class ActorWrapper(network.Network):\n",
    "    def __init__(self, observation_spec, action_spec, model, name='ActorWrapper'):\n",
    "        super().__init__(input_tensor_spec=observation_spec, state_spec=(), name=name)\n",
    "        self._model = model\n",
    "\n",
    "    def call(self, observation, step_type=None, network_state=(), training=False):\n",
    "        obs_shape = tf.shape(observation)\n",
    "        obs_rank = tf.rank(observation)\n",
    "\n",
    "        def apply_time_dist():\n",
    "            batch_size = obs_shape[0]\n",
    "            seq_len = obs_shape[1]\n",
    "            obs_dim = obs_shape[-1]\n",
    "            obs_flat = tf.reshape(observation, (batch_size * seq_len, obs_dim))\n",
    "            actions_flat = self._model(obs_flat, training=training)\n",
    "            return tf.reshape(actions_flat, (batch_size, seq_len, -1))\n",
    "\n",
    "        def apply_no_time_dist():\n",
    "            return self._model(observation, training=training)\n",
    "\n",
    "        actions = tf.cond(\n",
    "            tf.equal(obs_rank, 3),\n",
    "            true_fn=apply_time_dist,\n",
    "            false_fn=apply_no_time_dist\n",
    "        )\n",
    "\n",
    "        return actions, network_state\n",
    "\n"
   ]
  },
  {
   "cell_type": "code",
   "execution_count": 17,
   "id": "159acbf3",
   "metadata": {
    "execution": {
     "iopub.execute_input": "2025-06-28T05:59:41.606387Z",
     "iopub.status.busy": "2025-06-28T05:59:41.605828Z",
     "iopub.status.idle": "2025-06-28T05:59:41.610123Z",
     "shell.execute_reply": "2025-06-28T05:59:41.609447Z"
    },
    "papermill": {
     "duration": 0.02569,
     "end_time": "2025-06-28T05:59:41.611201",
     "exception": false,
     "start_time": "2025-06-28T05:59:41.585511",
     "status": "completed"
    },
    "tags": []
   },
   "outputs": [],
   "source": [
    "def create_actor_model(observation_spec, action_spec, fc_layer_params=(400, 300)):\n",
    "    inputs = tf.keras.Input(shape=observation_spec.shape)\n",
    "    x = inputs\n",
    "    for units in fc_layer_params:\n",
    "        x = tf.keras.layers.Dense(units, activation='relu')(x)\n",
    "    outputs = tf.keras.layers.Dense(action_spec.shape[0], activation='tanh')(x)  # asumir rango [-1,1]\n",
    "    return tf.keras.Model(inputs=inputs, outputs=outputs)"
   ]
  },
  {
   "cell_type": "code",
   "execution_count": 18,
   "id": "d4730bd1",
   "metadata": {
    "execution": {
     "iopub.execute_input": "2025-06-28T05:59:41.651001Z",
     "iopub.status.busy": "2025-06-28T05:59:41.650803Z",
     "iopub.status.idle": "2025-06-28T05:59:43.822451Z",
     "shell.execute_reply": "2025-06-28T05:59:43.821699Z"
    },
    "papermill": {
     "duration": 2.193089,
     "end_time": "2025-06-28T05:59:43.823880",
     "exception": false,
     "start_time": "2025-06-28T05:59:41.630791",
     "status": "completed"
    },
    "tags": []
   },
   "outputs": [],
   "source": [
    "def create_critic_network(observation_spec, action_spec, fc_layer_params=(400, 300)):\n",
    "    obs_input = tf.keras.Input(shape=observation_spec.shape)\n",
    "    action_input = tf.keras.Input(shape=action_spec.shape)\n",
    "    concat = tf.keras.layers.Concatenate()([obs_input, action_input])\n",
    "    x = concat\n",
    "    for units in fc_layer_params:\n",
    "        x = tf.keras.layers.Dense(units, activation='relu')(x)\n",
    "    q_value = tf.keras.layers.Dense(1)(x)\n",
    "    return tf.keras.Model(inputs=[obs_input, action_input], outputs=q_value)\n",
    "\n",
    "\n",
    "# --- Construcción del agente ---\n",
    "actor_model = create_actor_model(observation_spec, action_spec, actor_fc_layers)\n",
    "target_actor_model = create_actor_model(observation_spec, action_spec, actor_fc_layers)\n",
    "critic_model = create_critic_network(observation_spec, action_spec, critic_fc_layers)\n",
    "target_critic_model = create_critic_network(observation_spec, action_spec, critic_fc_layers)\n",
    "\n",
    "actor_net = ActorWrapper(observation_spec, action_spec, actor_model)\n",
    "target_actor_net = ActorWrapper(observation_spec, action_spec, target_actor_model)\n",
    "critic_net = CriticWrapper(observation_spec, action_spec, critic_model)\n",
    "target_critic_net = CriticWrapper(observation_spec, action_spec, target_critic_model)"
   ]
  },
  {
   "cell_type": "code",
   "execution_count": 19,
   "id": "522d5af3",
   "metadata": {
    "execution": {
     "iopub.execute_input": "2025-06-28T05:59:43.865320Z",
     "iopub.status.busy": "2025-06-28T05:59:43.864734Z",
     "iopub.status.idle": "2025-06-28T05:59:43.931546Z",
     "shell.execute_reply": "2025-06-28T05:59:43.930856Z"
    },
    "papermill": {
     "duration": 0.08831,
     "end_time": "2025-06-28T05:59:43.932692",
     "exception": false,
     "start_time": "2025-06-28T05:59:43.844382",
     "status": "completed"
    },
    "tags": []
   },
   "outputs": [],
   "source": [
    "actor_optimizer = tf.keras.optimizers.Adam(learning_rate=1e-4)\n",
    "critic_optimizer = tf.keras.optimizers.Adam(learning_rate=1e-3)\n",
    "\n",
    "train_step_counter = tf.Variable(0)\n",
    "\n",
    "agent = ddpg_agent.DdpgAgent(\n",
    "    time_step_spec,\n",
    "    action_spec,\n",
    "    actor_network=actor_net,\n",
    "    critic_network=critic_net,\n",
    "    actor_optimizer=actor_optimizer,\n",
    "    critic_optimizer=critic_optimizer,\n",
    "    ou_stddev=0.2,\n",
    "    ou_damping=0.15,\n",
    "    target_actor_network=target_actor_net,\n",
    "    target_critic_network=target_critic_net,\n",
    "    target_update_tau=0.005,\n",
    "    target_update_period=1,\n",
    "    gamma=0.99,\n",
    "    train_step_counter=train_step_counter\n",
    ")\n",
    "\n",
    "agent.initialize()"
   ]
  },
  {
   "cell_type": "markdown",
   "id": "726b1d4d",
   "metadata": {
    "papermill": {
     "duration": 0.019376,
     "end_time": "2025-06-28T05:59:43.971883",
     "exception": false,
     "start_time": "2025-06-28T05:59:43.952507",
     "status": "completed"
    },
    "tags": []
   },
   "source": [
    "El agente DDPG crea internamente redes objetivo (target networks) como copias de las redes principales (actor y crítico).\n",
    "\n",
    "Cuando usas modelos funcionales de Keras dentro de wrappers personalizados (ActorWrapper, CriticWrapper), es posible que el agente intente copiar el wrapper pero termine compartiendo variables con el modelo original, lo cual no está permitido.\n",
    "\n",
    "Para evitar esto:\n",
    "\n",
    "1. Se crean funciones constructoras (build_actor_model, build_critic_model) que generan nuevas instancias del modelo Keras.\n",
    "\n",
    "2. Se generan dos modelos independientes para cada red (actor y crítico): uno para la red principal y otro para la red objetivo.\n",
    "\n",
    "3. Cada modelo se envuelve en su propio wrapper (ActorWrapper o CriticWrapper).\n",
    "\n",
    "4. Se pasa explícitamente la red objetivo al agente DDPG usando los parámetros:\n",
    "\n",
    "target_actor_network\n",
    "\n",
    "target_critic_network\n",
    "\n",
    "Así, el agente trabaja con redes independientes que no comparten pesos entre sí, evitando el error y permitiendo entrenar correctamente."
   ]
  },
  {
   "cell_type": "markdown",
   "id": "feb2ce89",
   "metadata": {
    "id": "I0KLrEPwkn5x",
    "papermill": {
     "duration": 0.019441,
     "end_time": "2025-06-28T05:59:44.011061",
     "exception": false,
     "start_time": "2025-06-28T05:59:43.991620",
     "status": "completed"
    },
    "tags": []
   },
   "source": [
    "## Policies\n",
    "\n",
    "A policy defines the way an agent acts in an environment. Typically, the goal of reinforcement learning is to train the underlying model until the policy produces the desired outcome.\n",
    "\n",
    "\n",
    "Agents contain two policies: \n",
    "\n",
    "-   `agent.policy` — The main policy that is used for evaluation and deployment.\n",
    "-   `agent.collect_policy` — A second policy that is used for data collection.\n"
   ]
  },
  {
   "cell_type": "code",
   "execution_count": 20,
   "id": "12972bf2",
   "metadata": {
    "execution": {
     "iopub.execute_input": "2025-06-28T05:59:44.051270Z",
     "iopub.status.busy": "2025-06-28T05:59:44.050857Z",
     "iopub.status.idle": "2025-06-28T05:59:44.054253Z",
     "shell.execute_reply": "2025-06-28T05:59:44.053566Z"
    },
    "id": "BwY7StuMkuV4",
    "papermill": {
     "duration": 0.024689,
     "end_time": "2025-06-28T05:59:44.055360",
     "exception": false,
     "start_time": "2025-06-28T05:59:44.030671",
     "status": "completed"
    },
    "tags": []
   },
   "outputs": [],
   "source": [
    "# Política entrenada (DDPG)\n",
    "eval_policy = agent.policy\n",
    "\n",
    "# Política usada para recolectar experiencias\n",
    "collect_policy = agent.collect_policy"
   ]
  },
  {
   "cell_type": "code",
   "execution_count": 21,
   "id": "7e4fcb92",
   "metadata": {
    "execution": {
     "iopub.execute_input": "2025-06-28T05:59:44.096208Z",
     "iopub.status.busy": "2025-06-28T05:59:44.095513Z",
     "iopub.status.idle": "2025-06-28T05:59:44.099120Z",
     "shell.execute_reply": "2025-06-28T05:59:44.098631Z"
    },
    "id": "HE37-UCIrE69",
    "papermill": {
     "duration": 0.025081,
     "end_time": "2025-06-28T05:59:44.100097",
     "exception": false,
     "start_time": "2025-06-28T05:59:44.075016",
     "status": "completed"
    },
    "tags": []
   },
   "outputs": [],
   "source": [
    "# Política aleatoria para comparar desempeño\n",
    "random_policy = random_tf_policy.RandomTFPolicy(\n",
    "    time_step_spec=train_env.time_step_spec(),\n",
    "    action_spec=train_env.action_spec()\n",
    ")"
   ]
  },
  {
   "cell_type": "code",
   "execution_count": 22,
   "id": "d55f28f7",
   "metadata": {
    "execution": {
     "iopub.execute_input": "2025-06-28T05:59:44.140333Z",
     "iopub.status.busy": "2025-06-28T05:59:44.139907Z",
     "iopub.status.idle": "2025-06-28T05:59:44.146099Z",
     "shell.execute_reply": "2025-06-28T05:59:44.145505Z"
    },
    "id": "D4DHZtq3Ndis",
    "papermill": {
     "duration": 0.027523,
     "end_time": "2025-06-28T05:59:44.147121",
     "exception": false,
     "start_time": "2025-06-28T05:59:44.119598",
     "status": "completed"
    },
    "tags": []
   },
   "outputs": [],
   "source": [
    "time_step = train_env.reset()"
   ]
  },
  {
   "cell_type": "code",
   "execution_count": 23,
   "id": "2f2e80f1",
   "metadata": {
    "execution": {
     "iopub.execute_input": "2025-06-28T05:59:44.187461Z",
     "iopub.status.busy": "2025-06-28T05:59:44.187111Z",
     "iopub.status.idle": "2025-06-28T05:59:44.194409Z",
     "shell.execute_reply": "2025-06-28T05:59:44.193937Z"
    },
    "id": "PRFqAUzpNaAW",
    "papermill": {
     "duration": 0.028467,
     "end_time": "2025-06-28T05:59:44.195370",
     "exception": false,
     "start_time": "2025-06-28T05:59:44.166903",
     "status": "completed"
    },
    "tags": []
   },
   "outputs": [],
   "source": [
    "random_action = random_policy.action(time_step)"
   ]
  },
  {
   "cell_type": "markdown",
   "id": "3ef61697",
   "metadata": {
    "id": "94rCXQtbUbXv",
    "papermill": {
     "duration": 0.019552,
     "end_time": "2025-06-28T05:59:44.234863",
     "exception": false,
     "start_time": "2025-06-28T05:59:44.215311",
     "status": "completed"
    },
    "tags": []
   },
   "source": [
    "## Metrics and Evaluation\n",
    "\n",
    "The most common metric used to evaluate a policy is the average return. The return is the sum of rewards obtained while running a policy in an environment for an episode. Several episodes are run, creating an average return.\n",
    "\n",
    "The following function computes the average return of a policy, given the policy, environment, and a number of episodes.\n"
   ]
  },
  {
   "cell_type": "code",
   "execution_count": 24,
   "id": "9bc77dc3",
   "metadata": {
    "execution": {
     "iopub.execute_input": "2025-06-28T05:59:44.275954Z",
     "iopub.status.busy": "2025-06-28T05:59:44.275418Z",
     "iopub.status.idle": "2025-06-28T05:59:44.279456Z",
     "shell.execute_reply": "2025-06-28T05:59:44.278934Z"
    },
    "id": "bitzHo5_UbXy",
    "papermill": {
     "duration": 0.026067,
     "end_time": "2025-06-28T05:59:44.280371",
     "exception": false,
     "start_time": "2025-06-28T05:59:44.254304",
     "status": "completed"
    },
    "tags": []
   },
   "outputs": [],
   "source": [
    "#@test {\"skip\": true}\n",
    "def compute_avg_return(environment, policy, num_episodes=10):\n",
    "\n",
    "  total_return = 0.0\n",
    "  for _ in range(num_episodes):\n",
    "\n",
    "    time_step = environment.reset()\n",
    "    episode_return = 0.0\n",
    "\n",
    "    while not time_step.is_last():\n",
    "      action_step = policy.action(time_step)\n",
    "      time_step = environment.step(action_step.action)\n",
    "      episode_return += time_step.reward\n",
    "    total_return += episode_return\n",
    "\n",
    "  avg_return = total_return / num_episodes\n",
    "  return avg_return.numpy()\n",
    "\n",
    "\n",
    "# See also the metrics module for standard implementations of different metrics.\n",
    "# https://github.com/tensorflow/agents/tree/master/tf_agents/metrics"
   ]
  },
  {
   "cell_type": "markdown",
   "id": "30b03038",
   "metadata": {
    "id": "_snCVvq5Z8lJ",
    "papermill": {
     "duration": 0.019536,
     "end_time": "2025-06-28T05:59:44.319445",
     "exception": false,
     "start_time": "2025-06-28T05:59:44.299909",
     "status": "completed"
    },
    "tags": []
   },
   "source": [
    "Running this computation on the `random_policy` shows a baseline performance in the environment."
   ]
  },
  {
   "cell_type": "code",
   "execution_count": 25,
   "id": "dbbdf5ea",
   "metadata": {
    "execution": {
     "iopub.execute_input": "2025-06-28T05:59:44.361084Z",
     "iopub.status.busy": "2025-06-28T05:59:44.360674Z",
     "iopub.status.idle": "2025-06-28T05:59:49.670913Z",
     "shell.execute_reply": "2025-06-28T05:59:49.670251Z"
    },
    "id": "9bgU6Q6BZ8Bp",
    "papermill": {
     "duration": 5.332926,
     "end_time": "2025-06-28T05:59:49.672055",
     "exception": false,
     "start_time": "2025-06-28T05:59:44.339129",
     "status": "completed"
    },
    "tags": []
   },
   "outputs": [
    {
     "data": {
      "text/plain": [
       "array([-1210.0913], dtype=float32)"
      ]
     },
     "execution_count": 25,
     "metadata": {},
     "output_type": "execute_result"
    }
   ],
   "source": [
    "compute_avg_return(eval_env, random_policy, num_eval_episodes)"
   ]
  },
  {
   "cell_type": "markdown",
   "id": "12322790",
   "metadata": {
    "papermill": {
     "duration": 0.020301,
     "end_time": "2025-06-28T05:59:49.713285",
     "exception": false,
     "start_time": "2025-06-28T05:59:49.692984",
     "status": "completed"
    },
    "tags": []
   },
   "source": [
    "Means that your policy (in this case, the random policy) obtained an average return of -1124.45 in a single episode"
   ]
  },
  {
   "cell_type": "markdown",
   "id": "e7814e8e",
   "metadata": {
    "id": "NLva6g2jdWgr",
    "papermill": {
     "duration": 0.019658,
     "end_time": "2025-06-28T05:59:49.752924",
     "exception": false,
     "start_time": "2025-06-28T05:59:49.733266",
     "status": "completed"
    },
    "tags": []
   },
   "source": [
    "## Replay Buffer\n",
    "\n",
    "In order to keep track of the data collected from the environment, we will use [Reverb](https://deepmind.com/research/open-source/Reverb), an efficient, extensible, and easy-to-use replay system by Deepmind. It stores experience data when we collect trajectories and is consumed during training.\n",
    "\n",
    "This replay buffer is constructed using specs describing the tensors that are to be stored, which can be obtained from the agent using agent.collect_data_spec.\n"
   ]
  },
  {
   "cell_type": "code",
   "execution_count": 26,
   "id": "d4dd607c",
   "metadata": {
    "execution": {
     "iopub.execute_input": "2025-06-28T05:59:49.793230Z",
     "iopub.status.busy": "2025-06-28T05:59:49.793007Z",
     "iopub.status.idle": "2025-06-28T05:59:49.812052Z",
     "shell.execute_reply": "2025-06-28T05:59:49.811319Z"
    },
    "id": "vX2zGUWJGWAl",
    "papermill": {
     "duration": 0.040381,
     "end_time": "2025-06-28T05:59:49.813103",
     "exception": false,
     "start_time": "2025-06-28T05:59:49.772722",
     "status": "completed"
    },
    "tags": []
   },
   "outputs": [
    {
     "name": "stderr",
     "output_type": "stream",
     "text": [
      "[reverb/cc/platform/tfrecord_checkpointer.cc:162]  Initializing TFRecordCheckpointer in /tmp/tmphrvo8oom.\n",
      "[reverb/cc/platform/tfrecord_checkpointer.cc:565] Loading latest checkpoint from /tmp/tmphrvo8oom\n",
      "[reverb/cc/platform/default/server.cc:71] Started replay server on port 43313\n"
     ]
    }
   ],
   "source": [
    "table_name = 'uniform_table'\n",
    "\n",
    "# Obtiene la firma para las muestras que guardará el replay buffer\n",
    "replay_buffer_signature = tensor_spec.from_spec(agent.collect_data_spec)\n",
    "replay_buffer_signature = tensor_spec.add_outer_dim(replay_buffer_signature)\n",
    "\n",
    "# Crea la tabla en Reverb para almacenar las muestras\n",
    "table = reverb.Table(\n",
    "    table_name,\n",
    "    max_size=replay_buffer_max_length,\n",
    "    sampler=reverb.selectors.Uniform(),\n",
    "    remover=reverb.selectors.Fifo(),\n",
    "    rate_limiter=reverb.rate_limiters.MinSize(1),\n",
    "    signature=replay_buffer_signature)\n",
    "\n",
    "# Inicia el servidor Reverb\n",
    "reverb_server = reverb.Server([table])\n",
    "\n",
    "# Crea el replay buffer\n",
    "replay_buffer = reverb_replay_buffer.ReverbReplayBuffer(\n",
    "    agent.collect_data_spec,\n",
    "    table_name=table_name,\n",
    "    sequence_length=2,\n",
    "    local_server=reverb_server)\n",
    "\n",
    "# Observador que agrega datos al replay buffer\n",
    "rb_observer = reverb_utils.ReverbAddTrajectoryObserver(\n",
    "    replay_buffer.py_client,\n",
    "    table_name,\n",
    "    sequence_length=2)"
   ]
  },
  {
   "cell_type": "markdown",
   "id": "16842d29",
   "metadata": {
    "id": "ZGNTDJpZs4NN",
    "papermill": {
     "duration": 0.019486,
     "end_time": "2025-06-28T05:59:49.852409",
     "exception": false,
     "start_time": "2025-06-28T05:59:49.832923",
     "status": "completed"
    },
    "tags": []
   },
   "source": [
    "For most agents, `collect_data_spec` is a named tuple called `Trajectory`, containing the specs for observations, actions, rewards, and other items."
   ]
  },
  {
   "cell_type": "code",
   "execution_count": 27,
   "id": "66a9d080",
   "metadata": {
    "execution": {
     "iopub.execute_input": "2025-06-28T05:59:49.894407Z",
     "iopub.status.busy": "2025-06-28T05:59:49.893841Z",
     "iopub.status.idle": "2025-06-28T05:59:49.900913Z",
     "shell.execute_reply": "2025-06-28T05:59:49.900245Z"
    },
    "id": "_IZ-3HcqgE1z",
    "papermill": {
     "duration": 0.03013,
     "end_time": "2025-06-28T05:59:49.902425",
     "exception": false,
     "start_time": "2025-06-28T05:59:49.872295",
     "status": "completed"
    },
    "tags": []
   },
   "outputs": [
    {
     "data": {
      "text/plain": [
       "Trajectory(\n",
       "{'step_type': TensorSpec(shape=(), dtype=tf.int32, name='step_type'),\n",
       " 'observation': BoundedTensorSpec(shape=(3,), dtype=tf.float32, name='observation', minimum=array([-1., -1., -8.], dtype=float32), maximum=array([1., 1., 8.], dtype=float32)),\n",
       " 'action': BoundedTensorSpec(shape=(1,), dtype=tf.float32, name='action', minimum=array(-2., dtype=float32), maximum=array(2., dtype=float32)),\n",
       " 'policy_info': (),\n",
       " 'next_step_type': TensorSpec(shape=(), dtype=tf.int32, name='step_type'),\n",
       " 'reward': TensorSpec(shape=(), dtype=tf.float32, name='reward'),\n",
       " 'discount': BoundedTensorSpec(shape=(), dtype=tf.float32, name='discount', minimum=array(0., dtype=float32), maximum=array(1., dtype=float32))})"
      ]
     },
     "execution_count": 27,
     "metadata": {},
     "output_type": "execute_result"
    }
   ],
   "source": [
    "agent.collect_data_spec"
   ]
  },
  {
   "cell_type": "code",
   "execution_count": 28,
   "id": "b410eff2",
   "metadata": {
    "execution": {
     "iopub.execute_input": "2025-06-28T05:59:49.962005Z",
     "iopub.status.busy": "2025-06-28T05:59:49.961730Z",
     "iopub.status.idle": "2025-06-28T05:59:49.966843Z",
     "shell.execute_reply": "2025-06-28T05:59:49.966019Z"
    },
    "id": "sy6g1tGcfRlw",
    "papermill": {
     "duration": 0.040277,
     "end_time": "2025-06-28T05:59:49.968005",
     "exception": false,
     "start_time": "2025-06-28T05:59:49.927728",
     "status": "completed"
    },
    "tags": []
   },
   "outputs": [
    {
     "data": {
      "text/plain": [
       "('step_type',\n",
       " 'observation',\n",
       " 'action',\n",
       " 'policy_info',\n",
       " 'next_step_type',\n",
       " 'reward',\n",
       " 'discount')"
      ]
     },
     "execution_count": 28,
     "metadata": {},
     "output_type": "execute_result"
    }
   ],
   "source": [
    "agent.collect_data_spec._fields"
   ]
  },
  {
   "cell_type": "markdown",
   "id": "a596fc7a",
   "metadata": {
    "papermill": {
     "duration": 0.019759,
     "end_time": "2025-06-28T05:59:50.008142",
     "exception": false,
     "start_time": "2025-06-28T05:59:49.988383",
     "status": "completed"
    },
    "tags": []
   },
   "source": [
    "| Field                | Meaning                                                                                                   |\n",
    "| -------------------- | --------------------------------------------------------------------------------------------------------- |\n",
    "| **`step_type`**      | An integer enum (`0`, `1`, `2`) indicating whether the step is: <br> `0 = FIRST`, `1 = MID`, `2 = LAST`   |\n",
    "| **`observation`**    | The current observation (state) from the environment — for Pendulum: a vector of 3 floats                 |\n",
    "| **`action`**         | The action taken by the agent — for Pendulum: a float in `[-2, 2]`                                        |\n",
    "| **`policy_info`**    | Additional info the policy may output (like log-probs). Empty `()` in your case, which is normal for DDPG |\n",
    "| **`next_step_type`** | The `step_type` of the *next* step (used to track episode progress)                                       |\n",
    "| **`reward`**         | The scalar reward received after taking the action                                                        |\n",
    "| **`discount`**       | The discount factor (usually `1.0` except at terminal states where it's `0.0`)                            |\n"
   ]
  },
  {
   "cell_type": "markdown",
   "id": "d7b6babb",
   "metadata": {
    "id": "rVD5nQ9ZGo8_",
    "papermill": {
     "duration": 0.021508,
     "end_time": "2025-06-28T05:59:50.049572",
     "exception": false,
     "start_time": "2025-06-28T05:59:50.028064",
     "status": "completed"
    },
    "tags": []
   },
   "source": [
    "## Data Collection\n",
    "\n",
    "This part of the code is responsible for collecting initial experiences from the environment using a random policy, which are then stored in the replay buffer. These experiences are necessary to pre-fill the replay buffer before the agent starts learning."
   ]
  },
  {
   "cell_type": "code",
   "execution_count": 29,
   "id": "a9383353",
   "metadata": {
    "execution": {
     "iopub.execute_input": "2025-06-28T05:59:50.094799Z",
     "iopub.status.busy": "2025-06-28T05:59:50.094521Z",
     "iopub.status.idle": "2025-06-28T05:59:51.762468Z",
     "shell.execute_reply": "2025-06-28T05:59:51.761645Z"
    },
    "id": "wr1KSAEGG4h9",
    "papermill": {
     "duration": 1.690042,
     "end_time": "2025-06-28T05:59:51.763716",
     "exception": false,
     "start_time": "2025-06-28T05:59:50.073674",
     "status": "completed"
    },
    "tags": []
   },
   "outputs": [
    {
     "data": {
      "text/plain": [
       "(TimeStep(\n",
       " {'step_type': array(2, dtype=int32),\n",
       "  'reward': array(-9.723207, dtype=float32),\n",
       "  'discount': array(0., dtype=float32),\n",
       "  'observation': array([-0.44387323, -0.8960896 ,  5.962043  ], dtype=float32)}),\n",
       " ())"
      ]
     },
     "execution_count": 29,
     "metadata": {},
     "output_type": "execute_result"
    }
   ],
   "source": [
    "# Usar la política aleatoria para coleccionar pasos iniciales\n",
    "initial_driver = py_driver.PyDriver(\n",
    "    train_py_env,  # entorno python (sin wrapper TF)\n",
    "    py_tf_eager_policy.PyTFEagerPolicy(\n",
    "        random_policy, use_tf_function=True),\n",
    "    observers=[rb_observer],  # datos al replay buffer\n",
    "    max_steps=initial_collect_steps)\n",
    "\n",
    "# Ejecutar la colección inicial\n",
    "initial_driver.run(train_py_env.reset())"
   ]
  },
  {
   "cell_type": "code",
   "execution_count": 30,
   "id": "306f5e35",
   "metadata": {
    "execution": {
     "iopub.execute_input": "2025-06-28T05:59:51.811010Z",
     "iopub.status.busy": "2025-06-28T05:59:51.810515Z",
     "iopub.status.idle": "2025-06-28T05:59:52.566777Z",
     "shell.execute_reply": "2025-06-28T05:59:52.566220Z"
    },
    "id": "ba7bilizt_qW",
    "papermill": {
     "duration": 0.778224,
     "end_time": "2025-06-28T05:59:52.568083",
     "exception": false,
     "start_time": "2025-06-28T05:59:51.789859",
     "status": "completed"
    },
    "tags": []
   },
   "outputs": [],
   "source": [
    "# Dataset generates trajectories with shape [Bx2x...]\n",
    "dataset = replay_buffer.as_dataset(\n",
    "    sample_batch_size=batch_size,\n",
    "    num_steps=2,\n",
    "    num_parallel_calls=3).prefetch(3)"
   ]
  },
  {
   "cell_type": "code",
   "execution_count": 31,
   "id": "937200c2",
   "metadata": {
    "execution": {
     "iopub.execute_input": "2025-06-28T05:59:52.610497Z",
     "iopub.status.busy": "2025-06-28T05:59:52.610092Z",
     "iopub.status.idle": "2025-06-28T05:59:52.697942Z",
     "shell.execute_reply": "2025-06-28T05:59:52.697223Z"
    },
    "id": "K13AST-2ppOq",
    "papermill": {
     "duration": 0.11007,
     "end_time": "2025-06-28T05:59:52.699075",
     "exception": false,
     "start_time": "2025-06-28T05:59:52.589005",
     "status": "completed"
    },
    "tags": []
   },
   "outputs": [
    {
     "name": "stdout",
     "output_type": "stream",
     "text": [
      "<tensorflow.python.data.ops.iterator_ops.OwnedIterator object at 0x783a4f718b90>\n"
     ]
    }
   ],
   "source": [
    "iterator = iter(dataset)\n",
    "print(iterator)"
   ]
  },
  {
   "cell_type": "markdown",
   "id": "41feebc5",
   "metadata": {
    "id": "hBc9lj9VWWtZ",
    "papermill": {
     "duration": 0.020699,
     "end_time": "2025-06-28T05:59:52.739922",
     "exception": false,
     "start_time": "2025-06-28T05:59:52.719223",
     "status": "completed"
    },
    "tags": []
   },
   "source": [
    "## Training the agent\n",
    "\n",
    "Two things must happen during the training loop:\n",
    "\n",
    "-   collect data from the environment\n",
    "-   use that data to train the agent's neural network(s)"
   ]
  },
  {
   "cell_type": "code",
   "execution_count": 32,
   "id": "160f1d76",
   "metadata": {
    "execution": {
     "iopub.execute_input": "2025-06-28T05:59:52.780931Z",
     "iopub.status.busy": "2025-06-28T05:59:52.780744Z",
     "iopub.status.idle": "2025-06-28T06:11:39.449903Z",
     "shell.execute_reply": "2025-06-28T06:11:39.449068Z"
    },
    "id": "0pTbJ3PeyF-u",
    "papermill": {
     "duration": 706.691062,
     "end_time": "2025-06-28T06:11:39.451122",
     "exception": false,
     "start_time": "2025-06-28T05:59:52.760060",
     "status": "completed"
    },
    "tags": []
   },
   "outputs": [
    {
     "name": "stderr",
     "output_type": "stream",
     "text": [
      "[reverb/cc/client.cc:165] Sampler and server are owned by the same process (19) so Table uniform_table is accessed directly without gRPC.\n",
      "[reverb/cc/client.cc:165] Sampler and server are owned by the same process (19) so Table uniform_table is accessed directly without gRPC.\n",
      "[reverb/cc/client.cc:165] Sampler and server are owned by the same process (19) so Table uniform_table is accessed directly without gRPC.\n",
      "[reverb/cc/client.cc:165] Sampler and server are owned by the same process (19) so Table uniform_table is accessed directly without gRPC.\n",
      "[reverb/cc/client.cc:165] Sampler and server are owned by the same process (19) so Table uniform_table is accessed directly without gRPC.\n",
      "[reverb/cc/client.cc:165] Sampler and server are owned by the same process (19) so Table uniform_table is accessed directly without gRPC.\n"
     ]
    },
    {
     "name": "stdout",
     "output_type": "stream",
     "text": [
      "step = 200: loss = 2.980077028274536\n",
      "step = 400: loss = 2.851484537124634\n",
      "step = 500: Average Return = [-1491.0029]\n",
      "step = 600: loss = 3.0128939151763916\n",
      "step = 800: loss = 2.968050956726074\n",
      "step = 1000: loss = 3.532146692276001\n",
      "step = 1000: Average Return = [-1760.5847]\n",
      "step = 1200: loss = 3.6819820404052734\n",
      "step = 1400: loss = 2.6840124130249023\n",
      "step = 1500: Average Return = [-1625.3196]\n",
      "step = 1600: loss = 2.3874998092651367\n",
      "step = 1800: loss = 2.7015068531036377\n",
      "step = 2000: loss = 2.320016384124756\n",
      "step = 2000: Average Return = [-1601.4943]\n",
      "step = 2200: loss = 1.9745813608169556\n",
      "step = 2400: loss = 1.7159597873687744\n",
      "step = 2500: Average Return = [-1205.0598]\n",
      "step = 2600: loss = 2.387436628341675\n",
      "step = 2800: loss = 3.331050157546997\n",
      "step = 3000: loss = 1.9319206476211548\n",
      "step = 3000: Average Return = [-1265.7849]\n",
      "step = 3200: loss = 2.0834884643554688\n",
      "step = 3400: loss = 2.38110089302063\n",
      "step = 3500: Average Return = [-1272.6179]\n",
      "step = 3600: loss = 2.397597551345825\n",
      "step = 3800: loss = 2.2048745155334473\n",
      "step = 4000: loss = 2.5468289852142334\n",
      "step = 4000: Average Return = [-1316.5922]\n",
      "step = 4200: loss = 2.747051239013672\n",
      "step = 4400: loss = 2.7812130451202393\n",
      "step = 4500: Average Return = [-1334.8574]\n",
      "step = 4600: loss = 2.228438377380371\n",
      "step = 4800: loss = 5.037166595458984\n",
      "step = 5000: loss = 2.5043904781341553\n",
      "step = 5000: Average Return = [-1302.5388]\n",
      "step = 5200: loss = 5.028857707977295\n",
      "step = 5400: loss = 2.7136454582214355\n",
      "step = 5500: Average Return = [-1147.0408]\n",
      "step = 5600: loss = 2.7141988277435303\n",
      "step = 5800: loss = 2.1960134506225586\n",
      "step = 6000: loss = 5.346160888671875\n",
      "step = 6000: Average Return = [-1297.0173]\n",
      "step = 6200: loss = 2.8103973865509033\n",
      "step = 6400: loss = 2.099121332168579\n",
      "step = 6500: Average Return = [-1293.0946]\n",
      "step = 6600: loss = 2.6920740604400635\n",
      "step = 6800: loss = 8.284558296203613\n",
      "step = 7000: loss = 2.1579532623291016\n",
      "step = 7000: Average Return = [-1170.741]\n",
      "step = 7200: loss = 2.574246406555176\n",
      "step = 7400: loss = 2.8811349868774414\n",
      "step = 7500: Average Return = [-1146.4287]\n",
      "step = 7600: loss = 2.40946626663208\n",
      "step = 7800: loss = 2.3786983489990234\n",
      "step = 8000: loss = 6.241732597351074\n",
      "step = 8000: Average Return = [-1175.376]\n",
      "step = 8200: loss = 2.7118160724639893\n",
      "step = 8400: loss = 2.7802510261535645\n",
      "step = 8500: Average Return = [-1342.3401]\n",
      "step = 8600: loss = 2.3402397632598877\n",
      "step = 8800: loss = 2.466872215270996\n",
      "step = 9000: loss = 2.423933982849121\n",
      "step = 9000: Average Return = [-1058.9303]\n",
      "step = 9200: loss = 2.6198720932006836\n",
      "step = 9400: loss = 2.967973470687866\n",
      "step = 9500: Average Return = [-890.70966]\n",
      "step = 9600: loss = 10.387001991271973\n",
      "step = 9800: loss = 2.6008684635162354\n",
      "step = 10000: loss = 2.7297239303588867\n",
      "step = 10000: Average Return = [-1273.5055]\n",
      "step = 10200: loss = 6.5646138191223145\n",
      "step = 10400: loss = 2.8703560829162598\n",
      "step = 10500: Average Return = [-1049.7472]\n",
      "step = 10600: loss = 3.0180232524871826\n",
      "step = 10800: loss = 6.653291702270508\n",
      "step = 11000: loss = 2.9009008407592773\n",
      "step = 11000: Average Return = [-1063.1718]\n",
      "step = 11200: loss = 2.3804430961608887\n",
      "step = 11400: loss = 7.630080223083496\n",
      "step = 11500: Average Return = [-1024.0428]\n",
      "step = 11600: loss = 7.474839687347412\n",
      "step = 11800: loss = 3.2181003093719482\n",
      "step = 12000: loss = 2.681614875793457\n",
      "step = 12000: Average Return = [-1147.6204]\n",
      "step = 12200: loss = 2.8840277194976807\n",
      "step = 12400: loss = 7.022900104522705\n",
      "step = 12500: Average Return = [-1029.6523]\n",
      "step = 12600: loss = 2.6042449474334717\n",
      "step = 12800: loss = 7.018653869628906\n",
      "step = 13000: loss = 7.352014541625977\n",
      "step = 13000: Average Return = [-1022.3918]\n",
      "step = 13200: loss = 3.2585904598236084\n",
      "step = 13400: loss = 3.1681454181671143\n",
      "step = 13500: Average Return = [-1097.8191]\n",
      "step = 13600: loss = 8.156238555908203\n",
      "step = 13800: loss = 2.7844367027282715\n",
      "step = 14000: loss = 3.071707248687744\n",
      "step = 14000: Average Return = [-1197.9294]\n",
      "step = 14200: loss = 2.9851887226104736\n",
      "step = 14400: loss = 3.134019136428833\n",
      "step = 14500: Average Return = [-1034.4031]\n",
      "step = 14600: loss = 2.9954326152801514\n",
      "step = 14800: loss = 8.61172866821289\n",
      "step = 15000: loss = 3.9288418292999268\n",
      "step = 15000: Average Return = [-1120.7078]\n",
      "step = 15200: loss = 2.747174024581909\n",
      "step = 15400: loss = 2.759378671646118\n",
      "step = 15500: Average Return = [-1204.1831]\n",
      "step = 15600: loss = 8.318604469299316\n",
      "step = 15800: loss = 2.8482959270477295\n",
      "step = 16000: loss = 3.0813751220703125\n",
      "step = 16000: Average Return = [-1087.1232]\n",
      "step = 16200: loss = 8.200067520141602\n",
      "step = 16400: loss = 8.509101867675781\n",
      "step = 16500: Average Return = [-1184.0775]\n",
      "step = 16600: loss = 3.5671021938323975\n",
      "step = 16800: loss = 3.2692666053771973\n",
      "step = 17000: loss = 3.437422752380371\n",
      "step = 17000: Average Return = [-1276.7488]\n",
      "step = 17200: loss = 2.9326529502868652\n",
      "step = 17400: loss = 2.8912570476531982\n",
      "step = 17500: Average Return = [-1180.8918]\n",
      "step = 17600: loss = 8.839948654174805\n",
      "step = 17800: loss = 3.3061234951019287\n",
      "step = 18000: loss = 8.54255485534668\n",
      "step = 18000: Average Return = [-1180.2096]\n",
      "step = 18200: loss = 3.1044552326202393\n",
      "step = 18400: loss = 8.345860481262207\n",
      "step = 18500: Average Return = [-1163.0283]\n",
      "step = 18600: loss = 4.650091648101807\n",
      "step = 18800: loss = 2.6780567169189453\n",
      "step = 19000: loss = 2.9655346870422363\n",
      "step = 19000: Average Return = [-1140.8832]\n",
      "step = 19200: loss = 2.862065553665161\n",
      "step = 19400: loss = 3.0288844108581543\n",
      "step = 19500: Average Return = [-1046.3528]\n",
      "step = 19600: loss = 3.2569198608398438\n",
      "step = 19800: loss = 9.209834098815918\n",
      "step = 20000: loss = 3.749656915664673\n",
      "step = 20000: Average Return = [-1213.179]\n"
     ]
    }
   ],
   "source": [
    "# Optimizar la función de entrenamiento con tf.function\n",
    "agent.train = common.function(agent.train)\n",
    "\n",
    "# Reset contador de pasos\n",
    "agent.train_step_counter.assign(0)\n",
    "\n",
    "# Evaluar política antes de entrenar\n",
    "avg_return = compute_avg_return(eval_env, agent.policy, num_eval_episodes)\n",
    "returns = [avg_return]\n",
    "\n",
    "# Resetear entorno python para colección\n",
    "time_step = train_py_env.reset()\n",
    "\n",
    "# Crear driver para colección de experiencias con política del agente\n",
    "collect_driver = py_driver.PyDriver(\n",
    "    train_py_env,  # entorno python puro\n",
    "    py_tf_eager_policy.PyTFEagerPolicy(agent.collect_policy, use_tf_function=True),\n",
    "    observers=[rb_observer],\n",
    "    max_steps=collect_steps_per_iteration)\n",
    "\n",
    "for _ in range(num_iterations):\n",
    "    # Recolectar experiencias\n",
    "    time_step, _ = collect_driver.run(time_step)\n",
    "\n",
    "    # Obtener un batch de datos del replay buffer\n",
    "    experience, unused_info = next(iterator)\n",
    "\n",
    "    # Entrenar agente con ese batch\n",
    "    train_loss = agent.train(experience).loss\n",
    "\n",
    "    step = agent.train_step_counter.numpy()\n",
    "\n",
    "    if step % log_interval == 0:\n",
    "        print(f'step = {step}: loss = {train_loss}')\n",
    "\n",
    "    if step % eval_interval == 0:\n",
    "        avg_return = compute_avg_return(eval_env, agent.policy, num_eval_episodes)\n",
    "        print(f'step = {step}: Average Return = {avg_return}')\n",
    "        returns.append(avg_return)"
   ]
  },
  {
   "cell_type": "markdown",
   "id": "a086ccee",
   "metadata": {
    "id": "68jNcA_TiJDq",
    "papermill": {
     "duration": 0.024962,
     "end_time": "2025-06-28T06:11:39.502929",
     "exception": false,
     "start_time": "2025-06-28T06:11:39.477967",
     "status": "completed"
    },
    "tags": []
   },
   "source": [
    "## Visualization\n"
   ]
  },
  {
   "cell_type": "markdown",
   "id": "f6431363",
   "metadata": {
    "id": "aO-LWCdbbOIC",
    "papermill": {
     "duration": 0.025056,
     "end_time": "2025-06-28T06:11:39.553347",
     "exception": false,
     "start_time": "2025-06-28T06:11:39.528291",
     "status": "completed"
    },
    "tags": []
   },
   "source": [
    "### Plots\n",
    "\n",
    "Use `matplotlib.pyplot` to chart how the policy improved during training.\n",
    "\n",
    "One iteration of `Cartpole-v0` consists of 200 time steps. The environment gives a reward of `+1` for each step the pole stays up, so the maximum return for one episode is 200. The charts shows the return increasing towards that maximum each time it is evaluated during training. (It may be a little unstable and not increase monotonically each time.)"
   ]
  },
  {
   "cell_type": "code",
   "execution_count": 33,
   "id": "406b0dc3",
   "metadata": {
    "execution": {
     "iopub.execute_input": "2025-06-28T06:11:39.604892Z",
     "iopub.status.busy": "2025-06-28T06:11:39.604560Z",
     "iopub.status.idle": "2025-06-28T06:11:40.278688Z",
     "shell.execute_reply": "2025-06-28T06:11:40.277908Z"
    },
    "id": "NxtL1mbOYCVO",
    "papermill": {
     "duration": 0.70119,
     "end_time": "2025-06-28T06:11:40.279871",
     "exception": false,
     "start_time": "2025-06-28T06:11:39.578681",
     "status": "completed"
    },
    "tags": []
   },
   "outputs": [
    {
     "data": {
      "text/plain": [
       "Text(0.5, 1.0, 'Training Performance')"
      ]
     },
     "execution_count": 33,
     "metadata": {},
     "output_type": "execute_result"
    },
    {
     "data": {
      "image/png": "[encoded data removed]",
      "text/plain": [
       "<Figure size 640x480 with 1 Axes>"
      ]
     },
     "metadata": {},
     "output_type": "display_data"
    }
   ],
   "source": [
    "#@test {\"skip\": true}\n",
    "\n",
    "iterations = range(0, num_iterations + 1, eval_interval)\n",
    "plt.plot(iterations, returns)\n",
    "plt.ylabel('Average Return')\n",
    "plt.xlabel('Iterations')\n",
    "plt.title('Training Performance')\n",
    "#plt.ylim(top=250)"
   ]
  },
  {
   "cell_type": "markdown",
   "id": "b1fcf937",
   "metadata": {
    "id": "M7-XpPP99Cy7",
    "papermill": {
     "duration": 0.025971,
     "end_time": "2025-06-28T06:11:40.332932",
     "exception": false,
     "start_time": "2025-06-28T06:11:40.306961",
     "status": "completed"
    },
    "tags": []
   },
   "source": [
    "### Videos"
   ]
  },
  {
   "cell_type": "code",
   "execution_count": 34,
   "id": "60e763f2",
   "metadata": {
    "execution": {
     "iopub.execute_input": "2025-06-28T06:11:40.388372Z",
     "iopub.status.busy": "2025-06-28T06:11:40.387641Z",
     "iopub.status.idle": "2025-06-28T06:12:05.428843Z",
     "shell.execute_reply": "2025-06-28T06:12:05.427662Z"
    },
    "papermill": {
     "duration": 25.07165,
     "end_time": "2025-06-28T06:12:05.430547",
     "exception": false,
     "start_time": "2025-06-28T06:11:40.358897",
     "status": "completed"
    },
    "tags": []
   },
   "outputs": [
    {
     "name": "stdout",
     "output_type": "stream",
     "text": [
      "Video saved to trained_policy.mp4\n",
      "Video saved to random_policy.mp4\n"
     ]
    }
   ],
   "source": [
    "def record_policy_video(env, policy, filename, num_episodes=5, fps=30):\n",
    "    filename = filename if filename.endswith('.mp4') else filename + '.mp4'\n",
    "    with imageio.get_writer(filename, fps=fps) as video:\n",
    "        for episode in range(num_episodes):\n",
    "            obs, _ = env.reset()\n",
    "            done = False\n",
    "            \n",
    "            # Primer frame\n",
    "            frame = env.render()\n",
    "            video.append_data(frame)\n",
    "            \n",
    "            while not done:\n",
    "                obs_tensor = tf.convert_to_tensor([obs], dtype=tf.float32)\n",
    "                policy_time_step = ts.restart(obs_tensor)\n",
    "                \n",
    "                action_step = policy.action(policy_time_step)\n",
    "                action = action_step.action.numpy()[0]\n",
    "                \n",
    "                obs, reward, terminated, truncated, info = env.step(action)\n",
    "                done = terminated or truncated\n",
    "                \n",
    "                frame = env.render()\n",
    "                video.append_data(frame)\n",
    "    print(f\"Video saved to {filename}\")\n",
    "\n",
    "record_policy_video(render_env, agent.policy, \"trained_policy.mp4\")\n",
    "record_policy_video(render_env, agent.collect_policy, \"random_policy.mp4\")\n"
   ]
  },
  {
   "cell_type": "code",
   "execution_count": 35,
   "id": "5d1f2ef0",
   "metadata": {
    "execution": {
     "iopub.execute_input": "2025-06-28T06:12:05.487217Z",
     "iopub.status.busy": "2025-06-28T06:12:05.486787Z",
     "iopub.status.idle": "2025-06-28T06:12:05.491223Z",
     "shell.execute_reply": "2025-06-28T06:12:05.490421Z"
    },
    "papermill": {
     "duration": 0.033989,
     "end_time": "2025-06-28T06:12:05.492351",
     "exception": false,
     "start_time": "2025-06-28T06:12:05.458362",
     "status": "completed"
    },
    "tags": []
   },
   "outputs": [
    {
     "name": "stdout",
     "output_type": "stream",
     "text": [
      "/kaggle/working/trained_policy.mp4\n"
     ]
    }
   ],
   "source": [
    "print(os.path.abspath(\"trained_policy.mp4\"))"
   ]
  },
  {
   "cell_type": "code",
   "execution_count": 36,
   "id": "cf856a48",
   "metadata": {
    "execution": {
     "iopub.execute_input": "2025-06-28T06:12:05.546536Z",
     "iopub.status.busy": "2025-06-28T06:12:05.545931Z",
     "iopub.status.idle": "2025-06-28T06:12:05.549980Z",
     "shell.execute_reply": "2025-06-28T06:12:05.549263Z"
    },
    "papermill": {
     "duration": 0.032442,
     "end_time": "2025-06-28T06:12:05.551140",
     "exception": false,
     "start_time": "2025-06-28T06:12:05.518698",
     "status": "completed"
    },
    "tags": []
   },
   "outputs": [
    {
     "name": "stdout",
     "output_type": "stream",
     "text": [
      "/kaggle/working/random_policy.mp4\n"
     ]
    }
   ],
   "source": [
    "print(os.path.abspath(\"random_policy.mp4\"))"
   ]
  }
 ],
 "metadata": {
  "kaggle": {
   "accelerator": "nvidiaTeslaT4",
   "dataSources": [],
   "dockerImageVersionId": 31040,
   "isGpuEnabled": true,
   "isInternetEnabled": true,
   "language": "python",
   "sourceType": "notebook"
  },
  "kernelspec": {
   "display_name": "Python 3",
   "language": "python",
   "name": "python3"
  },
  "language_info": {
   "codemirror_mode": {
    "name": "ipython",
    "version": 3
   },
   "file_extension": ".py",
   "mimetype": "text/x-python",
   "name": "python",
   "nbconvert_exporter": "python",
   "pygments_lexer": "ipython3",
   "version": "3.11.11"
  },
  "papermill": {
   "default_parameters": {},
   "duration": 921.741539,
   "end_time": "2025-06-28T06:12:10.797346",
   "environment_variables": {},
   "exception": null,
   "input_path": "__notebook__.ipynb",
   "output_path": "__notebook__.ipynb",
   "parameters": {},
   "start_time": "2025-06-28T05:56:49.055807",
   "version": "2.4.0"
  }
 },
 "nbformat": 4,
 "nbformat_minor": 5
}
