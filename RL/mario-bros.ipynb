{
 "cells": [
  {
   "cell_type": "markdown",
   "id": "ffa87683",
   "metadata": {
    "papermill": {
     "duration": 0.005769,
     "end_time": "2025-06-30T03:22:50.666530",
     "exception": false,
     "start_time": "2025-06-30T03:22:50.660761",
     "status": "completed"
    },
    "tags": []
   },
   "source": [
    "# Super Mario Bros \n",
    "Es un entorno visual, la entrada es una imagen de múltiples frames por segundo, lo que se puede usar:\n",
    "\n",
    "* CNN (Convolutional Neural Networks): Para extraer características espaciales de las imágenes.\n",
    "\n",
    "* CNN + RNN (LSTM): Si quieres considerar la secuencia temporal (ej. para decisiones dependientes del pasado).\n",
    "\n",
    "* DQN (Deep Q-Network): Para entornos con acción discreta como Mario.\n",
    "\n",
    "* Double DQN o Dueling DQN: Para mejorar la estabilidad del entrenamiento.\n",
    "\n",
    "* Rainbow DQN: Una combinación mejorada de múltiples técnicas DQN.\n",
    "\n",
    "Para simplificar en TF-Agents, se probara usar DQN + CNN."
   ]
  },
  {
   "cell_type": "markdown",
   "id": "308f4d11",
   "metadata": {
    "papermill": {
     "duration": 0.004411,
     "end_time": "2025-06-30T03:22:50.675862",
     "exception": false,
     "start_time": "2025-06-30T03:22:50.671451",
     "status": "completed"
    },
    "tags": []
   },
   "source": [
    "# Set up"
   ]
  },
  {
   "cell_type": "code",
   "execution_count": 1,
   "id": "7bf3b99b",
   "metadata": {
    "execution": {
     "iopub.execute_input": "2025-06-30T03:22:50.686057Z",
     "iopub.status.busy": "2025-06-30T03:22:50.685799Z",
     "iopub.status.idle": "2025-06-30T03:24:22.613298Z",
     "shell.execute_reply": "2025-06-30T03:24:22.612510Z"
    },
    "papermill": {
     "duration": 91.942307,
     "end_time": "2025-06-30T03:24:22.622754",
     "exception": false,
     "start_time": "2025-06-30T03:22:50.680447",
     "status": "completed"
    },
    "tags": []
   },
   "outputs": [
    {
     "name": "stdout",
     "output_type": "stream",
     "text": [
      "Collecting gym-super-mario-bros==7.4.0\n",
      "  Downloading gym_super_mario_bros-7.4.0-py3-none-any.whl.metadata (10 kB)\n",
      "Collecting nes-py>=8.1.4 (from gym-super-mario-bros==7.4.0)\n",
      "  Downloading nes_py-8.2.1.tar.gz (77 kB)\n",
      "     ━━━━━━━━━━━━━━━━━━━━━━━━━━━━━━━━━━━━━━━━ 77.7/77.7 kB 2.9 MB/s eta 0:00:00\n",
      "  Preparing metadata (setup.py): started\n",
      "  Preparing metadata (setup.py): finished with status 'done'\n",
      "Requirement already satisfied: gym>=0.17.2 in /usr/local/lib/python3.11/dist-packages (from nes-py>=8.1.4->gym-super-mario-bros==7.4.0) (0.25.2)\n",
      "Requirement already satisfied: numpy>=1.18.5 in /usr/local/lib/python3.11/dist-packages (from nes-py>=8.1.4->gym-super-mario-bros==7.4.0) (1.26.4)\n",
      "Collecting pyglet<=1.5.21,>=1.4.0 (from nes-py>=8.1.4->gym-super-mario-bros==7.4.0)\n",
      "  Downloading pyglet-1.5.21-py3-none-any.whl.metadata (7.6 kB)\n",
      "Requirement already satisfied: tqdm>=4.48.2 in /usr/local/lib/python3.11/dist-packages (from nes-py>=8.1.4->gym-super-mario-bros==7.4.0) (4.67.1)\n",
      "Requirement already satisfied: cloudpickle>=1.2.0 in /usr/local/lib/python3.11/dist-packages (from gym>=0.17.2->nes-py>=8.1.4->gym-super-mario-bros==7.4.0) (3.1.1)\n",
      "Requirement already satisfied: gym-notices>=0.0.4 in /usr/local/lib/python3.11/dist-packages (from gym>=0.17.2->nes-py>=8.1.4->gym-super-mario-bros==7.4.0) (0.0.8)\n",
      "Requirement already satisfied: mkl_fft in /usr/local/lib/python3.11/dist-packages (from numpy>=1.18.5->nes-py>=8.1.4->gym-super-mario-bros==7.4.0) (1.3.8)\n",
      "Requirement already satisfied: mkl_random in /usr/local/lib/python3.11/dist-packages (from numpy>=1.18.5->nes-py>=8.1.4->gym-super-mario-bros==7.4.0) (1.2.4)\n",
      "Requirement already satisfied: mkl_umath in /usr/local/lib/python3.11/dist-packages (from numpy>=1.18.5->nes-py>=8.1.4->gym-super-mario-bros==7.4.0) (0.1.1)\n",
      "Requirement already satisfied: mkl in /usr/local/lib/python3.11/dist-packages (from numpy>=1.18.5->nes-py>=8.1.4->gym-super-mario-bros==7.4.0) (2025.1.0)\n",
      "Requirement already satisfied: tbb4py in /usr/local/lib/python3.11/dist-packages (from numpy>=1.18.5->nes-py>=8.1.4->gym-super-mario-bros==7.4.0) (2022.1.0)\n",
      "Requirement already satisfied: mkl-service in /usr/local/lib/python3.11/dist-packages (from numpy>=1.18.5->nes-py>=8.1.4->gym-super-mario-bros==7.4.0) (2.4.1)\n",
      "Requirement already satisfied: intel-openmp<2026,>=2024 in /usr/local/lib/python3.11/dist-packages (from mkl->numpy>=1.18.5->nes-py>=8.1.4->gym-super-mario-bros==7.4.0) (2024.2.0)\n",
      "Requirement already satisfied: tbb==2022.* in /usr/local/lib/python3.11/dist-packages (from mkl->numpy>=1.18.5->nes-py>=8.1.4->gym-super-mario-bros==7.4.0) (2022.1.0)\n",
      "Requirement already satisfied: tcmlib==1.* in /usr/local/lib/python3.11/dist-packages (from tbb==2022.*->mkl->numpy>=1.18.5->nes-py>=8.1.4->gym-super-mario-bros==7.4.0) (1.3.0)\n",
      "Requirement already satisfied: intel-cmplr-lib-rt in /usr/local/lib/python3.11/dist-packages (from mkl_umath->numpy>=1.18.5->nes-py>=8.1.4->gym-super-mario-bros==7.4.0) (2024.2.0)\n",
      "Requirement already satisfied: intel-cmplr-lib-ur==2024.2.0 in /usr/local/lib/python3.11/dist-packages (from intel-openmp<2026,>=2024->mkl->numpy>=1.18.5->nes-py>=8.1.4->gym-super-mario-bros==7.4.0) (2024.2.0)\n",
      "Downloading gym_super_mario_bros-7.4.0-py3-none-any.whl (199 kB)\n",
      "   ━━━━━━━━━━━━━━━━━━━━━━━━━━━━━━━━━━━━━━━━ 199.1/199.1 kB 8.6 MB/s eta 0:00:00\n",
      "Downloading pyglet-1.5.21-py3-none-any.whl (1.1 MB)\n",
      "   ━━━━━━━━━━━━━━━━━━━━━━━━━━━━━━━━━━━━━━━━ 1.1/1.1 MB 32.2 MB/s eta 0:00:00\n",
      "Building wheels for collected packages: nes-py\n",
      "  Building wheel for nes-py (setup.py): started\n",
      "  Building wheel for nes-py (setup.py): finished with status 'done'\n",
      "  Created wheel for nes-py: filename=nes_py-8.2.1-cp311-cp311-linux_x86_64.whl size=535719 sha256=cf95645d9e7e1e17a2b8c09560affd3ef9470383bf96ec6a7a275f7ad298c5e5\n",
      "  Stored in directory: /root/.cache/pip/wheels/be/b4/5a/68b9155f1d2380af0e359c71efd4c70518555be4c2f577f1d3\n",
      "Successfully built nes-py\n",
      "Installing collected packages: pyglet, nes-py, gym-super-mario-bros\n",
      "Successfully installed gym-super-mario-bros-7.4.0 nes-py-8.2.1 pyglet-1.5.21\n",
      "Collecting tensordict==0.3.0\n",
      "  Downloading tensordict-0.3.0-cp311-cp311-manylinux1_x86_64.whl.metadata (18 kB)\n",
      "Requirement already satisfied: torch>=2.1.0 in /usr/local/lib/python3.11/dist-packages (from tensordict==0.3.0) (2.6.0+cu124)\n",
      "Requirement already satisfied: numpy in /usr/local/lib/python3.11/dist-packages (from tensordict==0.3.0) (1.26.4)\n",
      "Requirement already satisfied: cloudpickle in /usr/local/lib/python3.11/dist-packages (from tensordict==0.3.0) (3.1.1)\n",
      "Requirement already satisfied: filelock in /usr/local/lib/python3.11/dist-packages (from torch>=2.1.0->tensordict==0.3.0) (3.18.0)\n",
      "Requirement already satisfied: typing-extensions>=4.10.0 in /usr/local/lib/python3.11/dist-packages (from torch>=2.1.0->tensordict==0.3.0) (4.13.2)\n",
      "Requirement already satisfied: networkx in /usr/local/lib/python3.11/dist-packages (from torch>=2.1.0->tensordict==0.3.0) (3.4.2)\n",
      "Requirement already satisfied: jinja2 in /usr/local/lib/python3.11/dist-packages (from torch>=2.1.0->tensordict==0.3.0) (3.1.6)\n",
      "Requirement already satisfied: fsspec in /usr/local/lib/python3.11/dist-packages (from torch>=2.1.0->tensordict==0.3.0) (2025.3.2)\n",
      "Requirement already satisfied: nvidia-cuda-nvrtc-cu12==12.4.127 in /usr/local/lib/python3.11/dist-packages (from torch>=2.1.0->tensordict==0.3.0) (12.4.127)\n",
      "Requirement already satisfied: nvidia-cuda-runtime-cu12==12.4.127 in /usr/local/lib/python3.11/dist-packages (from torch>=2.1.0->tensordict==0.3.0) (12.4.127)\n",
      "Requirement already satisfied: nvidia-cuda-cupti-cu12==12.4.127 in /usr/local/lib/python3.11/dist-packages (from torch>=2.1.0->tensordict==0.3.0) (12.4.127)\n",
      "Collecting nvidia-cudnn-cu12==9.1.0.70 (from torch>=2.1.0->tensordict==0.3.0)\n",
      "  Downloading nvidia_cudnn_cu12-9.1.0.70-py3-none-manylinux2014_x86_64.whl.metadata (1.6 kB)\n",
      "Collecting nvidia-cublas-cu12==12.4.5.8 (from torch>=2.1.0->tensordict==0.3.0)\n",
      "  Downloading nvidia_cublas_cu12-12.4.5.8-py3-none-manylinux2014_x86_64.whl.metadata (1.5 kB)\n",
      "Collecting nvidia-cufft-cu12==11.2.1.3 (from torch>=2.1.0->tensordict==0.3.0)\n",
      "  Downloading nvidia_cufft_cu12-11.2.1.3-py3-none-manylinux2014_x86_64.whl.metadata (1.5 kB)\n",
      "Collecting nvidia-curand-cu12==10.3.5.147 (from torch>=2.1.0->tensordict==0.3.0)\n",
      "  Downloading nvidia_curand_cu12-10.3.5.147-py3-none-manylinux2014_x86_64.whl.metadata (1.5 kB)\n",
      "Collecting nvidia-cusolver-cu12==11.6.1.9 (from torch>=2.1.0->tensordict==0.3.0)\n",
      "  Downloading nvidia_cusolver_cu12-11.6.1.9-py3-none-manylinux2014_x86_64.whl.metadata (1.6 kB)\n",
      "Collecting nvidia-cusparse-cu12==12.3.1.170 (from torch>=2.1.0->tensordict==0.3.0)\n",
      "  Downloading nvidia_cusparse_cu12-12.3.1.170-py3-none-manylinux2014_x86_64.whl.metadata (1.6 kB)\n",
      "Requirement already satisfied: nvidia-cusparselt-cu12==0.6.2 in /usr/local/lib/python3.11/dist-packages (from torch>=2.1.0->tensordict==0.3.0) (0.6.2)\n",
      "Requirement already satisfied: nvidia-nccl-cu12==2.21.5 in /usr/local/lib/python3.11/dist-packages (from torch>=2.1.0->tensordict==0.3.0) (2.21.5)\n",
      "Requirement already satisfied: nvidia-nvtx-cu12==12.4.127 in /usr/local/lib/python3.11/dist-packages (from torch>=2.1.0->tensordict==0.3.0) (12.4.127)\n",
      "Collecting nvidia-nvjitlink-cu12==12.4.127 (from torch>=2.1.0->tensordict==0.3.0)\n",
      "  Downloading nvidia_nvjitlink_cu12-12.4.127-py3-none-manylinux2014_x86_64.whl.metadata (1.5 kB)\n",
      "Requirement already satisfied: triton==3.2.0 in /usr/local/lib/python3.11/dist-packages (from torch>=2.1.0->tensordict==0.3.0) (3.2.0)\n",
      "Requirement already satisfied: sympy==1.13.1 in /usr/local/lib/python3.11/dist-packages (from torch>=2.1.0->tensordict==0.3.0) (1.13.1)\n",
      "Requirement already satisfied: mpmath<1.4,>=1.1.0 in /usr/local/lib/python3.11/dist-packages (from sympy==1.13.1->torch>=2.1.0->tensordict==0.3.0) (1.3.0)\n",
      "Requirement already satisfied: mkl_fft in /usr/local/lib/python3.11/dist-packages (from numpy->tensordict==0.3.0) (1.3.8)\n",
      "Requirement already satisfied: mkl_random in /usr/local/lib/python3.11/dist-packages (from numpy->tensordict==0.3.0) (1.2.4)\n",
      "Requirement already satisfied: mkl_umath in /usr/local/lib/python3.11/dist-packages (from numpy->tensordict==0.3.0) (0.1.1)\n",
      "Requirement already satisfied: mkl in /usr/local/lib/python3.11/dist-packages (from numpy->tensordict==0.3.0) (2025.1.0)\n",
      "Requirement already satisfied: tbb4py in /usr/local/lib/python3.11/dist-packages (from numpy->tensordict==0.3.0) (2022.1.0)\n",
      "Requirement already satisfied: mkl-service in /usr/local/lib/python3.11/dist-packages (from numpy->tensordict==0.3.0) (2.4.1)\n",
      "Requirement already satisfied: MarkupSafe>=2.0 in /usr/local/lib/python3.11/dist-packages (from jinja2->torch>=2.1.0->tensordict==0.3.0) (3.0.2)\n",
      "Requirement already satisfied: intel-openmp<2026,>=2024 in /usr/local/lib/python3.11/dist-packages (from mkl->numpy->tensordict==0.3.0) (2024.2.0)\n",
      "Requirement already satisfied: tbb==2022.* in /usr/local/lib/python3.11/dist-packages (from mkl->numpy->tensordict==0.3.0) (2022.1.0)\n",
      "Requirement already satisfied: tcmlib==1.* in /usr/local/lib/python3.11/dist-packages (from tbb==2022.*->mkl->numpy->tensordict==0.3.0) (1.3.0)\n",
      "Requirement already satisfied: intel-cmplr-lib-rt in /usr/local/lib/python3.11/dist-packages (from mkl_umath->numpy->tensordict==0.3.0) (2024.2.0)\n",
      "Requirement already satisfied: intel-cmplr-lib-ur==2024.2.0 in /usr/local/lib/python3.11/dist-packages (from intel-openmp<2026,>=2024->mkl->numpy->tensordict==0.3.0) (2024.2.0)\n",
      "Downloading tensordict-0.3.0-cp311-cp311-manylinux1_x86_64.whl (1.0 MB)\n",
      "   ━━━━━━━━━━━━━━━━━━━━━━━━━━━━━━━━━━━━━━━━ 1.0/1.0 MB 16.9 MB/s eta 0:00:00\n",
      "Downloading nvidia_cublas_cu12-12.4.5.8-py3-none-manylinux2014_x86_64.whl (363.4 MB)\n",
      "   ━━━━━━━━━━━━━━━━━━━━━━━━━━━━━━━━━━━━━━━━ 363.4/363.4 MB 4.2 MB/s eta 0:00:00\n",
      "Downloading nvidia_cudnn_cu12-9.1.0.70-py3-none-manylinux2014_x86_64.whl (664.8 MB)\n",
      "   ━━━━━━━━━━━━━━━━━━━━━━━━━━━━━━━━━━━━━━━━ 664.8/664.8 MB 1.9 MB/s eta 0:00:00\n",
      "Downloading nvidia_cufft_cu12-11.2.1.3-py3-none-manylinux2014_x86_64.whl (211.5 MB)\n",
      "   ━━━━━━━━━━━━━━━━━━━━━━━━━━━━━━━━━━━━━━━━ 211.5/211.5 MB 6.6 MB/s eta 0:00:00\n",
      "Downloading nvidia_curand_cu12-10.3.5.147-py3-none-manylinux2014_x86_64.whl (56.3 MB)\n",
      "   ━━━━━━━━━━━━━━━━━━━━━━━━━━━━━━━━━━━━━━━━ 56.3/56.3 MB 31.5 MB/s eta 0:00:00\n",
      "Downloading nvidia_cusolver_cu12-11.6.1.9-py3-none-manylinux2014_x86_64.whl (127.9 MB)\n",
      "   ━━━━━━━━━━━━━━━━━━━━━━━━━━━━━━━━━━━━━━━━ 127.9/127.9 MB 13.5 MB/s eta 0:00:00\n",
      "Downloading nvidia_cusparse_cu12-12.3.1.170-py3-none-manylinux2014_x86_64.whl (207.5 MB)\n",
      "   ━━━━━━━━━━━━━━━━━━━━━━━━━━━━━━━━━━━━━━━━ 207.5/207.5 MB 3.0 MB/s eta 0:00:00\n",
      "Downloading nvidia_nvjitlink_cu12-12.4.127-py3-none-manylinux2014_x86_64.whl (21.1 MB)\n",
      "   ━━━━━━━━━━━━━━━━━━━━━━━━━━━━━━━━━━━━━━━━ 21.1/21.1 MB 70.9 MB/s eta 0:00:00\n",
      "Installing collected packages: nvidia-nvjitlink-cu12, nvidia-curand-cu12, nvidia-cufft-cu12, nvidia-cublas-cu12, nvidia-cusparse-cu12, nvidia-cudnn-cu12, nvidia-cusolver-cu12, tensordict\n",
      "  Attempting uninstall: nvidia-nvjitlink-cu12\n",
      "    Found existing installation: nvidia-nvjitlink-cu12 12.9.41\n",
      "    Uninstalling nvidia-nvjitlink-cu12-12.9.41:\n",
      "      Successfully uninstalled nvidia-nvjitlink-cu12-12.9.41\n",
      "  Attempting uninstall: nvidia-curand-cu12\n",
      "    Found existing installation: nvidia-curand-cu12 10.3.10.19\n",
      "    Uninstalling nvidia-curand-cu12-10.3.10.19:\n",
      "      Successfully uninstalled nvidia-curand-cu12-10.3.10.19\n",
      "  Attempting uninstall: nvidia-cufft-cu12\n",
      "    Found existing installation: nvidia-cufft-cu12 11.4.0.6\n",
      "    Uninstalling nvidia-cufft-cu12-11.4.0.6:\n",
      "      Successfully uninstalled nvidia-cufft-cu12-11.4.0.6\n",
      "  Attempting uninstall: nvidia-cublas-cu12\n",
      "    Found existing installation: nvidia-cublas-cu12 12.9.0.13\n",
      "    Uninstalling nvidia-cublas-cu12-12.9.0.13:\n",
      "      Successfully uninstalled nvidia-cublas-cu12-12.9.0.13\n",
      "  Attempting uninstall: nvidia-cusparse-cu12\n",
      "    Found existing installation: nvidia-cusparse-cu12 12.5.9.5\n",
      "    Uninstalling nvidia-cusparse-cu12-12.5.9.5:\n",
      "      Successfully uninstalled nvidia-cusparse-cu12-12.5.9.5\n",
      "  Attempting uninstall: nvidia-cudnn-cu12\n",
      "    Found existing installation: nvidia-cudnn-cu12 9.3.0.75\n",
      "    Uninstalling nvidia-cudnn-cu12-9.3.0.75:\n",
      "      Successfully uninstalled nvidia-cudnn-cu12-9.3.0.75\n",
      "  Attempting uninstall: nvidia-cusolver-cu12\n",
      "    Found existing installation: nvidia-cusolver-cu12 11.7.4.40\n",
      "    Uninstalling nvidia-cusolver-cu12-11.7.4.40:\n",
      "      Successfully uninstalled nvidia-cusolver-cu12-11.7.4.40\n",
      "Successfully installed nvidia-cublas-cu12-12.4.5.8 nvidia-cudnn-cu12-9.1.0.70 nvidia-cufft-cu12-11.2.1.3 nvidia-curand-cu12-10.3.5.147 nvidia-cusolver-cu12-11.6.1.9 nvidia-cusparse-cu12-12.3.1.170 nvidia-nvjitlink-cu12-12.4.127 tensordict-0.3.0\n",
      "Collecting torchrl==0.3.0\n",
      "  Downloading torchrl-0.3.0-cp311-cp311-manylinux1_x86_64.whl.metadata (31 kB)\n",
      "Requirement already satisfied: torch>=2.1.0 in /usr/local/lib/python3.11/dist-packages (from torchrl==0.3.0) (2.6.0+cu124)\n",
      "Requirement already satisfied: numpy in /usr/local/lib/python3.11/dist-packages (from torchrl==0.3.0) (1.26.4)\n",
      "Requirement already satisfied: packaging in /usr/local/lib/python3.11/dist-packages (from torchrl==0.3.0) (25.0)\n",
      "Requirement already satisfied: cloudpickle in /usr/local/lib/python3.11/dist-packages (from torchrl==0.3.0) (3.1.1)\n",
      "Requirement already satisfied: tensordict>=0.3.0 in /usr/local/lib/python3.11/dist-packages (from torchrl==0.3.0) (0.3.0)\n",
      "Requirement already satisfied: filelock in /usr/local/lib/python3.11/dist-packages (from torch>=2.1.0->torchrl==0.3.0) (3.18.0)\n",
      "Requirement already satisfied: typing-extensions>=4.10.0 in /usr/local/lib/python3.11/dist-packages (from torch>=2.1.0->torchrl==0.3.0) (4.13.2)\n",
      "Requirement already satisfied: networkx in /usr/local/lib/python3.11/dist-packages (from torch>=2.1.0->torchrl==0.3.0) (3.4.2)\n",
      "Requirement already satisfied: jinja2 in /usr/local/lib/python3.11/dist-packages (from torch>=2.1.0->torchrl==0.3.0) (3.1.6)\n",
      "Requirement already satisfied: fsspec in /usr/local/lib/python3.11/dist-packages (from torch>=2.1.0->torchrl==0.3.0) (2025.3.2)\n",
      "Requirement already satisfied: nvidia-cuda-nvrtc-cu12==12.4.127 in /usr/local/lib/python3.11/dist-packages (from torch>=2.1.0->torchrl==0.3.0) (12.4.127)\n",
      "Requirement already satisfied: nvidia-cuda-runtime-cu12==12.4.127 in /usr/local/lib/python3.11/dist-packages (from torch>=2.1.0->torchrl==0.3.0) (12.4.127)\n",
      "Requirement already satisfied: nvidia-cuda-cupti-cu12==12.4.127 in /usr/local/lib/python3.11/dist-packages (from torch>=2.1.0->torchrl==0.3.0) (12.4.127)\n",
      "Requirement already satisfied: nvidia-cudnn-cu12==9.1.0.70 in /usr/local/lib/python3.11/dist-packages (from torch>=2.1.0->torchrl==0.3.0) (9.1.0.70)\n",
      "Requirement already satisfied: nvidia-cublas-cu12==12.4.5.8 in /usr/local/lib/python3.11/dist-packages (from torch>=2.1.0->torchrl==0.3.0) (12.4.5.8)\n",
      "Requirement already satisfied: nvidia-cufft-cu12==11.2.1.3 in /usr/local/lib/python3.11/dist-packages (from torch>=2.1.0->torchrl==0.3.0) (11.2.1.3)\n",
      "Requirement already satisfied: nvidia-curand-cu12==10.3.5.147 in /usr/local/lib/python3.11/dist-packages (from torch>=2.1.0->torchrl==0.3.0) (10.3.5.147)\n",
      "Requirement already satisfied: nvidia-cusolver-cu12==11.6.1.9 in /usr/local/lib/python3.11/dist-packages (from torch>=2.1.0->torchrl==0.3.0) (11.6.1.9)\n",
      "Requirement already satisfied: nvidia-cusparse-cu12==12.3.1.170 in /usr/local/lib/python3.11/dist-packages (from torch>=2.1.0->torchrl==0.3.0) (12.3.1.170)\n",
      "Requirement already satisfied: nvidia-cusparselt-cu12==0.6.2 in /usr/local/lib/python3.11/dist-packages (from torch>=2.1.0->torchrl==0.3.0) (0.6.2)\n",
      "Requirement already satisfied: nvidia-nccl-cu12==2.21.5 in /usr/local/lib/python3.11/dist-packages (from torch>=2.1.0->torchrl==0.3.0) (2.21.5)\n",
      "Requirement already satisfied: nvidia-nvtx-cu12==12.4.127 in /usr/local/lib/python3.11/dist-packages (from torch>=2.1.0->torchrl==0.3.0) (12.4.127)\n",
      "Requirement already satisfied: nvidia-nvjitlink-cu12==12.4.127 in /usr/local/lib/python3.11/dist-packages (from torch>=2.1.0->torchrl==0.3.0) (12.4.127)\n",
      "Requirement already satisfied: triton==3.2.0 in /usr/local/lib/python3.11/dist-packages (from torch>=2.1.0->torchrl==0.3.0) (3.2.0)\n",
      "Requirement already satisfied: sympy==1.13.1 in /usr/local/lib/python3.11/dist-packages (from torch>=2.1.0->torchrl==0.3.0) (1.13.1)\n",
      "Requirement already satisfied: mpmath<1.4,>=1.1.0 in /usr/local/lib/python3.11/dist-packages (from sympy==1.13.1->torch>=2.1.0->torchrl==0.3.0) (1.3.0)\n",
      "Requirement already satisfied: mkl_fft in /usr/local/lib/python3.11/dist-packages (from numpy->torchrl==0.3.0) (1.3.8)\n",
      "Requirement already satisfied: mkl_random in /usr/local/lib/python3.11/dist-packages (from numpy->torchrl==0.3.0) (1.2.4)\n",
      "Requirement already satisfied: mkl_umath in /usr/local/lib/python3.11/dist-packages (from numpy->torchrl==0.3.0) (0.1.1)\n",
      "Requirement already satisfied: mkl in /usr/local/lib/python3.11/dist-packages (from numpy->torchrl==0.3.0) (2025.1.0)\n",
      "Requirement already satisfied: tbb4py in /usr/local/lib/python3.11/dist-packages (from numpy->torchrl==0.3.0) (2022.1.0)\n",
      "Requirement already satisfied: mkl-service in /usr/local/lib/python3.11/dist-packages (from numpy->torchrl==0.3.0) (2.4.1)\n",
      "Requirement already satisfied: MarkupSafe>=2.0 in /usr/local/lib/python3.11/dist-packages (from jinja2->torch>=2.1.0->torchrl==0.3.0) (3.0.2)\n",
      "Requirement already satisfied: intel-openmp<2026,>=2024 in /usr/local/lib/python3.11/dist-packages (from mkl->numpy->torchrl==0.3.0) (2024.2.0)\n",
      "Requirement already satisfied: tbb==2022.* in /usr/local/lib/python3.11/dist-packages (from mkl->numpy->torchrl==0.3.0) (2022.1.0)\n",
      "Requirement already satisfied: tcmlib==1.* in /usr/local/lib/python3.11/dist-packages (from tbb==2022.*->mkl->numpy->torchrl==0.3.0) (1.3.0)\n",
      "Requirement already satisfied: intel-cmplr-lib-rt in /usr/local/lib/python3.11/dist-packages (from mkl_umath->numpy->torchrl==0.3.0) (2024.2.0)\n",
      "Requirement already satisfied: intel-cmplr-lib-ur==2024.2.0 in /usr/local/lib/python3.11/dist-packages (from intel-openmp<2026,>=2024->mkl->numpy->torchrl==0.3.0) (2024.2.0)\n",
      "Downloading torchrl-0.3.0-cp311-cp311-manylinux1_x86_64.whl (5.8 MB)\n",
      "   ━━━━━━━━━━━━━━━━━━━━━━━━━━━━━━━━━━━━━━━━ 5.8/5.8 MB 62.1 MB/s eta 0:00:00\n",
      "Installing collected packages: torchrl\n",
      "Successfully installed torchrl-0.3.0\n"
     ]
    }
   ],
   "source": [
    "%%bash\n",
    "pip install gym-super-mario-bros==7.4.0\n",
    "pip install tensordict==0.3.0\n",
    "pip install torchrl==0.3.0"
   ]
  },
  {
   "cell_type": "code",
   "execution_count": 2,
   "id": "f3ff96a7",
   "metadata": {
    "execution": {
     "iopub.execute_input": "2025-06-30T03:24:22.638745Z",
     "iopub.status.busy": "2025-06-30T03:24:22.638079Z",
     "iopub.status.idle": "2025-06-30T03:24:44.166716Z",
     "shell.execute_reply": "2025-06-30T03:24:44.165730Z"
    },
    "papermill": {
     "duration": 21.538333,
     "end_time": "2025-06-30T03:24:44.168351",
     "exception": false,
     "start_time": "2025-06-30T03:24:22.630018",
     "status": "completed"
    },
    "tags": []
   },
   "outputs": [
    {
     "name": "stdout",
     "output_type": "stream",
     "text": [
      "W: Skipping acquire of configured file 'main/source/Sources' as repository 'https://r2u.stat.illinois.edu/ubuntu jammy InRelease' does not seem to provide it (sources.list entry misspelt?)\r\n"
     ]
    }
   ],
   "source": [
    "!pip install gym-super-mario-bros==7.4.0 > /dev/null\n",
    "!apt-get update > /dev/null\n",
    "!apt-get install -y xvfb ffmpeg > /dev/null\n",
    "\n",
    "import os\n",
    "import random\n",
    "import datetime\n",
    "from collections import deque\n",
    "from pathlib import Path\n",
    "\n",
    "import numpy as np\n",
    "import torch\n",
    "from torch import nn\n",
    "from torchvision import transforms as T\n",
    "from PIL import Image\n",
    "import imageio\n",
    "\n",
    "import gym\n",
    "from gym.spaces import Box\n",
    "from gym.wrappers import FrameStack\n",
    "from nes_py.wrappers import JoypadSpace\n",
    "import gym_super_mario_bros"
   ]
  },
  {
   "cell_type": "markdown",
   "id": "626ada99",
   "metadata": {
    "papermill": {
     "duration": 0.004976,
     "end_time": "2025-06-30T03:24:44.178715",
     "exception": false,
     "start_time": "2025-06-30T03:24:44.173739",
     "status": "completed"
    },
    "tags": []
   },
   "source": [
    "RL Definitions\n",
    "==============\n",
    "\n",
    "**Environment** The world that an agent interacts with and learns from.\n",
    "\n",
    "**Action** $a$ : How the Agent responds to the Environment. The set of\n",
    "all possible Actions is called *action-space*.\n",
    "\n",
    "**State** $s$ : The current characteristic of the Environment. The set\n",
    "of all possible States the Environment can be in is called\n",
    "*state-space*.\n",
    "\n",
    "**Reward** $r$ : Reward is the key feedback from Environment to Agent.\n",
    "It is what drives the Agent to learn and to change its future action. An\n",
    "aggregation of rewards over multiple time steps is called **Return**.\n",
    "\n",
    "**Optimal Action-Value function** $Q^*(s,a)$ : Gives the expected return\n",
    "if you start in state $s$, take an arbitrary action $a$, and then for\n",
    "each future time step take the action that maximizes returns. $Q$ can be\n",
    "said to stand for the \"quality\" of the action in a state. We try to\n",
    "approximate this function.\n"
   ]
  },
  {
   "cell_type": "markdown",
   "id": "1164e09f",
   "metadata": {
    "papermill": {
     "duration": 0.00484,
     "end_time": "2025-06-30T03:24:44.188528",
     "exception": false,
     "start_time": "2025-06-30T03:24:44.183688",
     "status": "completed"
    },
    "tags": []
   },
   "source": [
    "Environment\n",
    "===========\n",
    "\n",
    "Initialize Environment\n",
    "----------------------\n",
    "\n",
    "In Mario, the environment consists of tubes, mushrooms and other\n",
    "components.\n",
    "\n",
    "When Mario makes an action, the environment responds with the changed\n",
    "(next) state, reward and other info.\n"
   ]
  },
  {
   "cell_type": "code",
   "execution_count": 3,
   "id": "26488a37",
   "metadata": {
    "execution": {
     "iopub.execute_input": "2025-06-30T03:24:44.199852Z",
     "iopub.status.busy": "2025-06-30T03:24:44.199192Z",
     "iopub.status.idle": "2025-06-30T03:24:44.596130Z",
     "shell.execute_reply": "2025-06-30T03:24:44.595193Z"
    },
    "papermill": {
     "duration": 0.404246,
     "end_time": "2025-06-30T03:24:44.597669",
     "exception": false,
     "start_time": "2025-06-30T03:24:44.193423",
     "status": "completed"
    },
    "tags": []
   },
   "outputs": [
    {
     "name": "stderr",
     "output_type": "stream",
     "text": [
      "/usr/local/lib/python3.11/dist-packages/gym/envs/registration.py:593: UserWarning: \u001b[33mWARN: The environment SuperMarioBros-1-1-v0 is out of date. You should consider upgrading to version `v3`.\u001b[0m\n",
      "  logger.warn(\n"
     ]
    },
    {
     "name": "stdout",
     "output_type": "stream",
     "text": [
      "(240, 256, 3),\n",
      " 0.0,\n",
      " False,\n",
      " {'coins': 0, 'flag_get': False, 'life': 2, 'score': 0, 'stage': 1, 'status': 'small', 'time': 400, 'world': 1, 'x_pos': 40, 'y_pos': 79}\n"
     ]
    },
    {
     "name": "stderr",
     "output_type": "stream",
     "text": [
      "/usr/local/lib/python3.11/dist-packages/gym/core.py:317: DeprecationWarning: \u001b[33mWARN: Initializing wrapper in old step API which returns one bool instead of two. It is recommended to set `new_step_api=True` to use new step API. This will be the default behaviour in future.\u001b[0m\n",
      "  deprecation(\n",
      "/usr/local/lib/python3.11/dist-packages/gym/utils/passive_env_checker.py:227: DeprecationWarning: \u001b[33mWARN: Core environment is written in old step API which returns one bool instead of two. It is recommended to rewrite the environment with new step API. \u001b[0m\n",
      "  logger.deprecation(\n",
      "/usr/local/lib/python3.11/dist-packages/gym/utils/passive_env_checker.py:233: DeprecationWarning: `np.bool8` is a deprecated alias for `np.bool_`.  (Deprecated NumPy 1.24)\n",
      "  if not isinstance(done, (bool, np.bool8)):\n"
     ]
    }
   ],
   "source": [
    "# Initialize Super Mario environment (in v0.26 change render mode to 'human' to see results on the screen)\n",
    "if gym.__version__ < '0.26':\n",
    "    env = gym_super_mario_bros.make(\"SuperMarioBros-1-1-v0\", new_step_api=True)\n",
    "else:\n",
    "    env = gym_super_mario_bros.make(\"SuperMarioBros-1-1-v0\", render_mode='rgb', apply_api_compatibility=True)\n",
    "\n",
    "# Limit the action-space to\n",
    "#   0. walk right\n",
    "#   1. jump right\n",
    "env = JoypadSpace(env, [[\"right\"], [\"right\", \"A\"]])\n",
    "\n",
    "env.reset()\n",
    "next_state, reward, done, trunc, info = env.step(action=0)\n",
    "print(f\"{next_state.shape},\\n {reward},\\n {done},\\n {info}\")"
   ]
  },
  {
   "cell_type": "markdown",
   "id": "66f4812e",
   "metadata": {
    "papermill": {
     "duration": 0.005499,
     "end_time": "2025-06-30T03:24:44.608924",
     "exception": false,
     "start_time": "2025-06-30T03:24:44.603425",
     "status": "completed"
    },
    "tags": []
   },
   "source": [
    "Preprocess Environment\n",
    "======================\n",
    "\n",
    "Environment data is returned to the agent in `next_state`. As you saw\n",
    "above, each state is represented by a `[3, 240, 256]` size array. Often\n",
    "that is more information than our agent needs; for instance, Mario's\n",
    "actions do not depend on the color of the pipes or the sky!\n",
    "\n",
    "We use **Wrappers** to preprocess environment data before sending it to\n",
    "the agent.\n",
    "\n",
    "`GrayScaleObservation` is a common wrapper to transform an RGB image to\n",
    "grayscale; doing so reduces the size of the state representation without\n",
    "losing useful information. Now the size of each state: `[1, 240, 256]`\n",
    "\n",
    "`ResizeObservation` downsamples each observation into a square image.\n",
    "New size: `[1, 84, 84]`\n",
    "\n",
    "`SkipFrame` is a custom wrapper that inherits from `gym.Wrapper` and\n",
    "implements the `step()` function. Because consecutive frames don't vary\n",
    "much, we can skip n-intermediate frames without losing much information.\n",
    "The n-th frame aggregates rewards accumulated over each skipped frame.\n",
    "\n",
    "`FrameStack` is a wrapper that allows us to squash consecutive frames of\n",
    "the environment into a single observation point to feed to our learning\n",
    "model. This way, we can identify if Mario was landing or jumping based\n",
    "on the direction of his movement in the previous several frames.\n"
   ]
  },
  {
   "cell_type": "code",
   "execution_count": 4,
   "id": "039c73d7",
   "metadata": {
    "execution": {
     "iopub.execute_input": "2025-06-30T03:24:44.621312Z",
     "iopub.status.busy": "2025-06-30T03:24:44.620663Z",
     "iopub.status.idle": "2025-06-30T03:24:44.632524Z",
     "shell.execute_reply": "2025-06-30T03:24:44.631758Z"
    },
    "papermill": {
     "duration": 0.019563,
     "end_time": "2025-06-30T03:24:44.633773",
     "exception": false,
     "start_time": "2025-06-30T03:24:44.614210",
     "status": "completed"
    },
    "tags": []
   },
   "outputs": [],
   "source": [
    "class SkipFrame(gym.Wrapper):\n",
    "    def __init__(self, env, skip):\n",
    "        \"\"\"Return only every `skip`-th frame\"\"\"\n",
    "        super().__init__(env)\n",
    "        self._skip = skip\n",
    "\n",
    "    def step(self, action):\n",
    "        \"\"\"Repeat action, and sum reward\"\"\"\n",
    "        total_reward = 0.0\n",
    "        for i in range(self._skip):\n",
    "            # Accumulate reward and repeat the same action\n",
    "            obs, reward, done, trunk, info = self.env.step(action)\n",
    "            total_reward += reward\n",
    "            if done:\n",
    "                break\n",
    "        return obs, total_reward, done, trunk, info\n",
    "\n",
    "\n",
    "class GrayScaleObservation(gym.ObservationWrapper):\n",
    "    def __init__(self, env):\n",
    "        super().__init__(env)\n",
    "        obs_shape = self.observation_space.shape[:2]\n",
    "        self.observation_space = Box(low=0, high=255, shape=obs_shape, dtype=np.uint8)\n",
    "\n",
    "    def permute_orientation(self, observation):\n",
    "        # permute [H, W, C] array to [C, H, W] tensor\n",
    "        observation = np.transpose(observation, (2, 0, 1))\n",
    "        observation = torch.tensor(observation.copy(), dtype=torch.float) /255.0\n",
    "        return observation\n",
    "\n",
    "    def observation(self, observation):\n",
    "        observation = self.permute_orientation(observation)\n",
    "        if observation.shape[0] == 3:\n",
    "            transform = T.Grayscale()\n",
    "            observation = transform(observation)\n",
    "        return observation\n",
    "\n",
    "class ResizeObservation(gym.ObservationWrapper):\n",
    "    def __init__(self, env, shape):\n",
    "        super().__init__(env)\n",
    "        if isinstance(shape, int):\n",
    "            self.shape = (shape, shape)\n",
    "        else:\n",
    "            self.shape = tuple(shape)\n",
    "\n",
    "        obs_shape = self.shape + self.observation_space.shape[2:]\n",
    "        self.observation_space = Box(low=0, high=255, shape=obs_shape, dtype=np.uint8)\n",
    "\n",
    "    def observation(self, observation):\n",
    "        transforms = T.Compose(\n",
    "            [T.Resize(self.shape, antialias=True)]#, T.Normalize(0, 255)]\n",
    "        )\n",
    "        observation = transforms(observation).squeeze(0)\n",
    "        return observation\n",
    "\n",
    "\n",
    "# Apply Wrappers to environment\n",
    "env = SkipFrame(env, skip=4)\n",
    "env = GrayScaleObservation(env)\n",
    "env = ResizeObservation(env, shape=84)\n",
    "if gym.__version__ < '0.26':\n",
    "    env = FrameStack(env, num_stack=4, new_step_api=True)\n",
    "else:\n",
    "    env = FrameStack(env, num_stack=4)"
   ]
  },
  {
   "cell_type": "markdown",
   "id": "4bde27b5",
   "metadata": {
    "papermill": {
     "duration": 0.004743,
     "end_time": "2025-06-30T03:24:44.643639",
     "exception": false,
     "start_time": "2025-06-30T03:24:44.638896",
     "status": "completed"
    },
    "tags": []
   },
   "source": [
    "Agent\n",
    "=====\n",
    "\n",
    "We create a class `Mario` to represent our agent in the game. Mario\n",
    "should be able to:\n",
    "\n",
    "-   **Act** according to the optimal action policy based on the current\n",
    "    state (of the environment).\n",
    "-   **Remember** experiences. Experience = (current state, current\n",
    "    action, reward, next state). Mario *caches* and later *recalls* his\n",
    "    experiences to update his action policy.\n",
    "-   **Learn** a better action policy over time\n"
   ]
  },
  {
   "cell_type": "code",
   "execution_count": 5,
   "id": "1c4c5834",
   "metadata": {
    "execution": {
     "iopub.execute_input": "2025-06-30T03:24:44.654991Z",
     "iopub.status.busy": "2025-06-30T03:24:44.654445Z",
     "iopub.status.idle": "2025-06-30T03:24:44.658339Z",
     "shell.execute_reply": "2025-06-30T03:24:44.657821Z"
    },
    "papermill": {
     "duration": 0.01044,
     "end_time": "2025-06-30T03:24:44.659389",
     "exception": false,
     "start_time": "2025-06-30T03:24:44.648949",
     "status": "completed"
    },
    "tags": []
   },
   "outputs": [],
   "source": [
    "class Mario:\n",
    "    def __init__():\n",
    "        pass\n",
    "\n",
    "    def act(self, state):\n",
    "        \"\"\"Given a state, choose an epsilon-greedy action\"\"\"\n",
    "        pass\n",
    "\n",
    "    def cache(self, experience):\n",
    "        \"\"\"Add the experience to memory\"\"\"\n",
    "        pass\n",
    "\n",
    "    def recall(self):\n",
    "        \"\"\"Sample experiences from memory\"\"\"\n",
    "        pass\n",
    "\n",
    "    def learn(self):\n",
    "        \"\"\"Update online action value (Q) function with a batch of experiences\"\"\"\n",
    "        pass"
   ]
  },
  {
   "cell_type": "markdown",
   "id": "67267624",
   "metadata": {
    "papermill": {
     "duration": 0.004951,
     "end_time": "2025-06-30T03:24:44.669316",
     "exception": false,
     "start_time": "2025-06-30T03:24:44.664365",
     "status": "completed"
    },
    "tags": []
   },
   "source": [
    "Neural Network\n",
    "--------------"
   ]
  },
  {
   "cell_type": "code",
   "execution_count": 6,
   "id": "a713ddb7",
   "metadata": {
    "execution": {
     "iopub.execute_input": "2025-06-30T03:24:44.680421Z",
     "iopub.status.busy": "2025-06-30T03:24:44.679914Z",
     "iopub.status.idle": "2025-06-30T03:24:44.686458Z",
     "shell.execute_reply": "2025-06-30T03:24:44.685777Z"
    },
    "papermill": {
     "duration": 0.013297,
     "end_time": "2025-06-30T03:24:44.687543",
     "exception": false,
     "start_time": "2025-06-30T03:24:44.674246",
     "status": "completed"
    },
    "tags": []
   },
   "outputs": [],
   "source": [
    "class Mario(Mario):  # subclassing for continuity\n",
    "    def __init__(self, state_dim, action_dim, save_dir):\n",
    "        super().__init__(state_dim, action_dim, save_dir)\n",
    "        self.memory = deque(maxlen=100000)\n",
    "        self.batch_size = 32\n",
    "\n",
    "    def cache(self, state, next_state, action, reward, done):\n",
    "        \"\"\"\n",
    "        Store the experience to self.memory (replay buffer)\n",
    "\n",
    "        Inputs:\n",
    "        state (``LazyFrame``),\n",
    "        next_state (``LazyFrame``),\n",
    "        action (``int``),\n",
    "        reward (``float``),\n",
    "        done(``bool``))\n",
    "        \"\"\"\n",
    "        def first_if_tuple(x):\n",
    "            return x[0] if isinstance(x, tuple) else x\n",
    "        state = first_if_tuple(state).__array__()\n",
    "        next_state = first_if_tuple(next_state).__array__()\n",
    "        state = first_if_tuple(state).__array__()\n",
    "        next_state = first_if_tuple(next_state).__array__()\n",
    "\n",
    "        self.memory.append((state, next_state, action, reward, done))\n",
    "\n",
    "    \n",
    "    def recall(self):\n",
    "        \"\"\"\n",
    "        Retrieve a batch of experiences from memory\n",
    "        \"\"\"\n",
    "        batch = random.sample(self.memory, self.batch_size)\n",
    "        state, next_state, action, reward, done = map(np.array, zip(*batch))\n",
    "\n",
    "        state = torch.tensor(state).to(self.device)\n",
    "        next_state = torch.tensor(next_state).to(self.device)\n",
    "        action = torch.tensor(action).to(self.device)\n",
    "        reward = torch.tensor(reward).to(self.device)\n",
    "        done = torch.tensor(done).to(self.device)\n",
    "        return state, next_state, action, reward, done"
   ]
  },
  {
   "cell_type": "markdown",
   "id": "47921a38",
   "metadata": {
    "papermill": {
     "duration": 0.004803,
     "end_time": "2025-06-30T03:24:44.697274",
     "exception": false,
     "start_time": "2025-06-30T03:24:44.692471",
     "status": "completed"
    },
    "tags": []
   },
   "source": [
    "Act\n",
    "===\n",
    "\n",
    "For any given state, an agent can choose to do the most optimal action\n",
    "(**exploit**) or a random action (**explore**).\n",
    "\n",
    "Mario randomly explores with a chance of `self.exploration_rate`; when\n",
    "he chooses to exploit, he relies on `MarioNet` (implemented in `Learn`\n",
    "section) to provide the most optimal action.\n"
   ]
  },
  {
   "cell_type": "code",
   "execution_count": 7,
   "id": "b1f4edff",
   "metadata": {
    "execution": {
     "iopub.execute_input": "2025-06-30T03:24:44.708067Z",
     "iopub.status.busy": "2025-06-30T03:24:44.707863Z",
     "iopub.status.idle": "2025-06-30T03:24:44.713608Z",
     "shell.execute_reply": "2025-06-30T03:24:44.713088Z"
    },
    "papermill": {
     "duration": 0.01232,
     "end_time": "2025-06-30T03:24:44.714591",
     "exception": false,
     "start_time": "2025-06-30T03:24:44.702271",
     "status": "completed"
    },
    "tags": []
   },
   "outputs": [],
   "source": [
    "class Mario:\n",
    "    def __init__(self, state_dim, action_dim, save_dir):\n",
    "        self.state_dim = state_dim\n",
    "        self.action_dim = action_dim\n",
    "        self.save_dir = save_dir\n",
    "\n",
    "        self.device = \"cuda\" if torch.cuda.is_available() else \"cpu\"\n",
    "\n",
    "        # Mario's DNN to predict the most optimal action - we implement this in the Learn section\n",
    "        self.net = MarioNet(self.state_dim, self.action_dim).float()\n",
    "        self.net = self.net.to(device=self.device)\n",
    "\n",
    "        self.exploration_rate = 1\n",
    "        self.exploration_rate_decay = 0.99999975\n",
    "        self.exploration_rate_min = 0.1\n",
    "        self.curr_step = 0\n",
    "\n",
    "        self.save_every = 5e5  # no. of experiences between saving Mario Net\n",
    "\n",
    "    def act(self, state):\n",
    "        \"\"\"\n",
    "    Given a state, choose an epsilon-greedy action and update value of step.\n",
    "\n",
    "    Inputs:\n",
    "    state(``LazyFrame``): A single observation of the current state, dimension is (state_dim)\n",
    "    Outputs:\n",
    "    ``action_idx`` (``int``): An integer representing which action Mario will perform\n",
    "    \"\"\"\n",
    "        # EXPLORE\n",
    "        if np.random.rand() < self.exploration_rate:\n",
    "            action_idx = np.random.randint(self.action_dim)\n",
    "\n",
    "        # EXPLOIT\n",
    "        else:\n",
    "            state = state[0].__array__() if isinstance(state, tuple) else state.__array__()\n",
    "            state = torch.tensor(state, device=self.device).unsqueeze(0)\n",
    "            action_values = self.net(state, model=\"online\")\n",
    "            action_idx = torch.argmax(action_values, axis=1).item()\n",
    "\n",
    "        # decrease exploration_rate\n",
    "        self.exploration_rate *= self.exploration_rate_decay\n",
    "        self.exploration_rate = max(self.exploration_rate_min, self.exploration_rate)\n",
    "\n",
    "        # increment step\n",
    "        self.curr_step += 1\n",
    "        return action_idx"
   ]
  },
  {
   "cell_type": "markdown",
   "id": "f982f571",
   "metadata": {
    "papermill": {
     "duration": 0.004857,
     "end_time": "2025-06-30T03:24:44.724435",
     "exception": false,
     "start_time": "2025-06-30T03:24:44.719578",
     "status": "completed"
    },
    "tags": []
   },
   "source": [
    "Cache and Recall\n",
    "================\n",
    "\n",
    "These two functions serve as Mario's \"memory\" process.\n",
    "\n",
    "`cache()`: Each time Mario performs an action, he stores the\n",
    "`experience` to his memory. His experience includes the current *state*,\n",
    "*action* performed, *reward* from the action, the *next state*, and\n",
    "whether the game is *done*.\n",
    "\n",
    "`recall()`: Mario randomly samples a batch of experiences from his\n",
    "memory, and uses that to learn the game.\n"
   ]
  },
  {
   "cell_type": "code",
   "execution_count": 8,
   "id": "aba6b186",
   "metadata": {
    "execution": {
     "iopub.execute_input": "2025-06-30T03:24:44.735546Z",
     "iopub.status.busy": "2025-06-30T03:24:44.735322Z",
     "iopub.status.idle": "2025-06-30T03:24:44.742058Z",
     "shell.execute_reply": "2025-06-30T03:24:44.741363Z"
    },
    "papermill": {
     "duration": 0.013514,
     "end_time": "2025-06-30T03:24:44.743197",
     "exception": false,
     "start_time": "2025-06-30T03:24:44.729683",
     "status": "completed"
    },
    "tags": []
   },
   "outputs": [],
   "source": [
    "class MarioNet(nn.Module):\n",
    "    \"\"\"mini CNN structure\n",
    "  input -> (conv2d + relu) x 3 -> flatten -> (dense + relu) x 2 -> output\n",
    "  \"\"\"\n",
    "\n",
    "    def __init__(self, input_dim, output_dim):\n",
    "        super().__init__()\n",
    "        c, h, w = input_dim\n",
    "\n",
    "        if h != 84:\n",
    "            raise ValueError(f\"Expecting input height: 84, got: {h}\")\n",
    "        if w != 84:\n",
    "            raise ValueError(f\"Expecting input width: 84, got: {w}\")\n",
    "\n",
    "        self.online = self.__build_cnn(c, output_dim)\n",
    "\n",
    "        self.target = self.__build_cnn(c, output_dim)\n",
    "        self.target.load_state_dict(self.online.state_dict())\n",
    "\n",
    "        # Q_target parameters are frozen.\n",
    "        for p in self.target.parameters():\n",
    "            p.requires_grad = False\n",
    "\n",
    "    def forward(self, input, model):\n",
    "        if model == \"online\":\n",
    "            return self.online(input)\n",
    "        elif model == \"target\":\n",
    "            return self.target(input)\n",
    "\n",
    "    def __build_cnn(self, c, output_dim):\n",
    "        return nn.Sequential(\n",
    "            nn.Conv2d(in_channels=c, out_channels=32, kernel_size=8, stride=4),\n",
    "            nn.ReLU(),\n",
    "            nn.Conv2d(in_channels=32, out_channels=64, kernel_size=4, stride=2),\n",
    "            nn.ReLU(),\n",
    "            nn.Conv2d(in_channels=64, out_channels=64, kernel_size=3, stride=1),\n",
    "            nn.ReLU(),\n",
    "            nn.Flatten(),\n",
    "            nn.Linear(3136, 512),\n",
    "            nn.ReLU(),\n",
    "            nn.Linear(512, output_dim),\n",
    "        )"
   ]
  },
  {
   "cell_type": "code",
   "execution_count": 9,
   "id": "2ea6da6d",
   "metadata": {
    "execution": {
     "iopub.execute_input": "2025-06-30T03:24:44.754173Z",
     "iopub.status.busy": "2025-06-30T03:24:44.753953Z",
     "iopub.status.idle": "2025-06-30T03:24:44.765998Z",
     "shell.execute_reply": "2025-06-30T03:24:44.765453Z"
    },
    "papermill": {
     "duration": 0.018936,
     "end_time": "2025-06-30T03:24:44.767146",
     "exception": false,
     "start_time": "2025-06-30T03:24:44.748210",
     "status": "completed"
    },
    "tags": []
   },
   "outputs": [],
   "source": [
    "class Mario:\n",
    "    def __init__(self, state_dim, action_dim, save_dir):\n",
    "        self.state_dim = state_dim\n",
    "        self.action_dim = action_dim\n",
    "        self.save_dir = save_dir\n",
    "        self.device = \"cuda\" if torch.cuda.is_available() else \"cpu\"\n",
    "\n",
    "        self.net = MarioNet(self.state_dim, self.action_dim).float().to(self.device)\n",
    "        self.optimizer = torch.optim.Adam(self.net.parameters(), lr=0.00025)\n",
    "        self.loss_fn = torch.nn.SmoothL1Loss()\n",
    "\n",
    "        self.exploration_rate = 1.0\n",
    "        self.exploration_rate_decay = 0.99999975\n",
    "        self.exploration_rate_min = 0.1\n",
    "        self.curr_step = 0\n",
    "        self.save_every = 5e5\n",
    "\n",
    "        self.memory = deque(maxlen=100000)\n",
    "        self.batch_size = 32\n",
    "        self.gamma = 0.9\n",
    "\n",
    "    def act(self, state):\n",
    "        if np.random.rand() < self.exploration_rate:\n",
    "            action = np.random.randint(self.action_dim)\n",
    "        else:\n",
    "            state = state[0].__array__() if isinstance(state, tuple) else state.__array__()\n",
    "            state = torch.tensor(state, device=self.device).unsqueeze(0)\n",
    "            action_values = self.net(state, model=\"online\")\n",
    "            action = torch.argmax(action_values, axis=1).item()\n",
    "\n",
    "        self.exploration_rate *= self.exploration_rate_decay\n",
    "        self.exploration_rate = max(self.exploration_rate_min, self.exploration_rate)\n",
    "        self.curr_step += 1\n",
    "        return action\n",
    "\n",
    "    def cache(self, state, next_state, action, reward, done):\n",
    "        def extract(x):\n",
    "            return x[0] if isinstance(x, tuple) else x\n",
    "\n",
    "        state = torch.tensor(extract(state).__array__())\n",
    "        next_state = torch.tensor(extract(next_state).__array__())\n",
    "        action = torch.tensor([action])\n",
    "        reward = torch.tensor([reward])\n",
    "        done = torch.tensor([done])\n",
    "        self.memory.append((state, next_state, action, reward, done))\n",
    "\n",
    "    def recall(self):\n",
    "        batch = random.sample(self.memory, self.batch_size)\n",
    "        state, next_state, action, reward, done = map(torch.stack, zip(*batch))\n",
    "        return state.to(self.device), next_state.to(self.device), action.squeeze().to(self.device), reward.squeeze().to(self.device), done.squeeze().to(self.device)\n",
    "\n",
    "    def td_estimate(self, state, action):\n",
    "        return self.net(state, model=\"online\")[np.arange(0, self.batch_size), action]\n",
    "\n",
    "    @torch.no_grad()\n",
    "    def td_target(self, reward, next_state, done):\n",
    "        next_Q = self.net(next_state, model=\"target\")\n",
    "        best_action = torch.argmax(next_Q, axis=1)\n",
    "        target_Q = self.net(next_state, model=\"target\")[np.arange(0, self.batch_size), best_action]\n",
    "        return reward + (1 - done.float()) * self.gamma * target_Q\n",
    "\n",
    "    def update_Q_online(self, td_estimate, td_target):\n",
    "        loss = self.loss_fn(td_estimate, td_target)\n",
    "        self.optimizer.zero_grad()\n",
    "        loss.backward()\n",
    "        self.optimizer.step()\n",
    "        return loss.item()\n",
    "\n",
    "    def sync_Q_target(self):\n",
    "        self.net.target.load_state_dict(self.net.online.state_dict())\n",
    "\n",
    "    def learn(self):\n",
    "        if len(self.memory) < self.batch_size:\n",
    "            return None\n",
    "        state, next_state, action, reward, done = self.recall()\n",
    "        td_est = self.td_estimate(state, action)\n",
    "        td_tgt = self.td_target(reward, next_state, done)\n",
    "        loss = self.update_Q_online(td_est, td_tgt)\n",
    "        return loss\n",
    "\n",
    "    def save(self):\n",
    "        save_path = self.save_dir / f\"mario_net_{int(self.curr_step // self.save_every)}.chkpt\"\n",
    "        torch.save(dict(model=self.net.state_dict(), exploration_rate=self.exploration_rate), save_path)\n",
    "        print(f\"MarioNet saved to {save_path} at step {self.curr_step}\")"
   ]
  },
  {
   "cell_type": "markdown",
   "id": "26579e81",
   "metadata": {
    "papermill": {
     "duration": 0.005083,
     "end_time": "2025-06-30T03:24:44.777390",
     "exception": false,
     "start_time": "2025-06-30T03:24:44.772307",
     "status": "completed"
    },
    "tags": []
   },
   "source": [
    "Learn\n",
    "=====\n",
    "\n",
    "Mario uses the [DDQN algorithm](https://arxiv.org/pdf/1509.06461) under\n",
    "the hood. DDQN uses two ConvNets - $Q_{online}$ and $Q_{target}$ - that\n",
    "independently approximate the optimal action-value function.\n",
    "\n",
    "In our implementation, we share feature generator `features` across\n",
    "$Q_{online}$ and $Q_{target}$, but maintain separate FC classifiers for\n",
    "each. $\\theta_{target}$ (the parameters of $Q_{target}$) is frozen to\n",
    "prevent updating by backprop. Instead, it is periodically synced with\n",
    "$\\theta_{online}$ (more on this later).\n"
   ]
  },
  {
   "cell_type": "markdown",
   "id": "0bc3c1e8",
   "metadata": {
    "papermill": {
     "duration": 0.004869,
     "end_time": "2025-06-30T03:24:44.787267",
     "exception": false,
     "start_time": "2025-06-30T03:24:44.782398",
     "status": "completed"
    },
    "tags": []
   },
   "source": [
    "TD Estimate & TD Target\n",
    "=======================\n",
    "\n",
    "Two values are involved in learning:\n",
    "\n",
    "**TD Estimate** - the predicted optimal $Q^*$ for a given state $s$\n",
    "\n",
    "$${TD}_e = Q_{online}^*(s,a)$$\n",
    "\n",
    "**TD Target** - aggregation of current reward and the estimated $Q^*$ in\n",
    "the next state $s'$\n",
    "\n",
    "$$a' = argmax_{a} Q_{online}(s', a)$$\n",
    "\n",
    "$${TD}_t = r + \\gamma Q_{target}^*(s',a')$$\n",
    "\n",
    "Because we don't know what next action $a'$ will be, we use the action\n",
    "$a'$ maximizes $Q_{online}$ in the next state $s'$.\n",
    "\n",
    "Notice we use the\n",
    "[\\@torch.no\\_grad()](https://pytorch.org/docs/stable/generated/torch.no_grad.html#no-grad)\n",
    "decorator on `td_target()` to disable gradient calculations here\n",
    "(because we don't need to backpropagate on $\\theta_{target}$).\n"
   ]
  },
  {
   "cell_type": "code",
   "execution_count": 10,
   "id": "7673c983",
   "metadata": {
    "execution": {
     "iopub.execute_input": "2025-06-30T03:24:44.801232Z",
     "iopub.status.busy": "2025-06-30T03:24:44.800579Z",
     "iopub.status.idle": "2025-06-30T03:24:44.805971Z",
     "shell.execute_reply": "2025-06-30T03:24:44.805279Z"
    },
    "papermill": {
     "duration": 0.012958,
     "end_time": "2025-06-30T03:24:44.807050",
     "exception": false,
     "start_time": "2025-06-30T03:24:44.794092",
     "status": "completed"
    },
    "tags": []
   },
   "outputs": [],
   "source": [
    "class Mario(Mario):\n",
    "    def __init__(self, state_dim, action_dim, save_dir):\n",
    "        super().__init__(state_dim, action_dim, save_dir)\n",
    "        self.gamma = 0.9\n",
    "\n",
    "    def td_estimate(self, state, action):\n",
    "        current_Q = self.net(state, model=\"online\")[\n",
    "            np.arange(0, self.batch_size), action\n",
    "        ]  # Q_online(s,a)\n",
    "        return current_Q\n",
    "\n",
    "    @torch.no_grad()\n",
    "    def td_target(self, reward, next_state, done):\n",
    "        next_state_Q = self.net(next_state, model=\"online\")\n",
    "        best_action = torch.argmax(next_state_Q, axis=1)\n",
    "        next_Q = self.net(next_state, model=\"target\")[\n",
    "            np.arange(0, self.batch_size), best_action\n",
    "        ]\n",
    "        return (reward + (1 - done.float()) * self.gamma * next_Q).float()"
   ]
  },
  {
   "cell_type": "markdown",
   "id": "65cf8e27",
   "metadata": {
    "papermill": {
     "duration": 0.004809,
     "end_time": "2025-06-30T03:24:44.817014",
     "exception": false,
     "start_time": "2025-06-30T03:24:44.812205",
     "status": "completed"
    },
    "tags": []
   },
   "source": [
    "Updating the model\n",
    "==================\n",
    "\n",
    "As Mario samples inputs from his replay buffer, we compute $TD_t$ and\n",
    "$TD_e$ and backpropagate this loss down $Q_{online}$ to update its\n",
    "parameters $\\theta_{online}$ ($\\alpha$ is the learning rate `lr` passed\n",
    "to the `optimizer`)\n",
    "\n",
    "$$\\theta_{online} \\leftarrow \\theta_{online} + \\alpha \\nabla(TD_e - TD_t)$$\n",
    "\n",
    "$\\theta_{target}$ does not update through backpropagation. Instead, we\n",
    "periodically copy $\\theta_{online}$ to $\\theta_{target}$\n",
    "\n",
    "$$\\theta_{target} \\leftarrow \\theta_{online}$$\n"
   ]
  },
  {
   "cell_type": "code",
   "execution_count": 11,
   "id": "0aa7ce34",
   "metadata": {
    "execution": {
     "iopub.execute_input": "2025-06-30T03:24:44.828091Z",
     "iopub.status.busy": "2025-06-30T03:24:44.827823Z",
     "iopub.status.idle": "2025-06-30T03:24:44.832361Z",
     "shell.execute_reply": "2025-06-30T03:24:44.831833Z"
    },
    "papermill": {
     "duration": 0.011271,
     "end_time": "2025-06-30T03:24:44.833502",
     "exception": false,
     "start_time": "2025-06-30T03:24:44.822231",
     "status": "completed"
    },
    "tags": []
   },
   "outputs": [],
   "source": [
    "class Mario(Mario):\n",
    "    def __init__(self, state_dim, action_dim, save_dir):\n",
    "        super().__init__(state_dim, action_dim, save_dir)\n",
    "        self.optimizer = torch.optim.Adam(self.net.parameters(), lr=0.00025)\n",
    "        self.loss_fn = torch.nn.SmoothL1Loss()\n",
    "\n",
    "    def update_Q_online(self, td_estimate, td_target):\n",
    "        loss = self.loss_fn(td_estimate, td_target)\n",
    "        self.optimizer.zero_grad()\n",
    "        loss.backward()\n",
    "        self.optimizer.step()\n",
    "        return loss.item()\n",
    "\n",
    "    def sync_Q_target(self):\n",
    "        self.net.target.load_state_dict(self.net.online.state_dict())"
   ]
  },
  {
   "cell_type": "markdown",
   "id": "76a80c83",
   "metadata": {
    "papermill": {
     "duration": 0.005045,
     "end_time": "2025-06-30T03:24:44.843834",
     "exception": false,
     "start_time": "2025-06-30T03:24:44.838789",
     "status": "completed"
    },
    "tags": []
   },
   "source": [
    "Save checkpoint\n",
    "===============\n"
   ]
  },
  {
   "cell_type": "code",
   "execution_count": 12,
   "id": "7dcb2f90",
   "metadata": {
    "execution": {
     "iopub.execute_input": "2025-06-30T03:24:44.854773Z",
     "iopub.status.busy": "2025-06-30T03:24:44.854548Z",
     "iopub.status.idle": "2025-06-30T03:24:44.858361Z",
     "shell.execute_reply": "2025-06-30T03:24:44.857846Z"
    },
    "papermill": {
     "duration": 0.010332,
     "end_time": "2025-06-30T03:24:44.859366",
     "exception": false,
     "start_time": "2025-06-30T03:24:44.849034",
     "status": "completed"
    },
    "tags": []
   },
   "outputs": [],
   "source": [
    "class Mario(Mario):\n",
    "    def save(self):\n",
    "        save_path = (\n",
    "            self.save_dir / f\"mario_net_{int(self.curr_step // self.save_every)}.chkpt\"\n",
    "        )\n",
    "        torch.save(\n",
    "            dict(model=self.net.state_dict(), exploration_rate=self.exploration_rate),\n",
    "            save_path,\n",
    "        )\n",
    "        print(f\"MarioNet saved to {save_path} at step {self.curr_step}\")"
   ]
  },
  {
   "cell_type": "markdown",
   "id": "4961764b",
   "metadata": {
    "papermill": {
     "duration": 0.00554,
     "end_time": "2025-06-30T03:24:44.870224",
     "exception": false,
     "start_time": "2025-06-30T03:24:44.864684",
     "status": "completed"
    },
    "tags": []
   },
   "source": [
    "Putting it all together\n",
    "=======================\n"
   ]
  },
  {
   "cell_type": "code",
   "execution_count": 13,
   "id": "68359b14",
   "metadata": {
    "execution": {
     "iopub.execute_input": "2025-06-30T03:24:44.881206Z",
     "iopub.status.busy": "2025-06-30T03:24:44.880980Z",
     "iopub.status.idle": "2025-06-30T03:24:44.886069Z",
     "shell.execute_reply": "2025-06-30T03:24:44.885564Z"
    },
    "papermill": {
     "duration": 0.011943,
     "end_time": "2025-06-30T03:24:44.887182",
     "exception": false,
     "start_time": "2025-06-30T03:24:44.875239",
     "status": "completed"
    },
    "tags": []
   },
   "outputs": [],
   "source": [
    "class Mario(Mario):\n",
    "    def __init__(self, state_dim, action_dim, save_dir):\n",
    "        super().__init__(state_dim, action_dim, save_dir)\n",
    "        self.burnin = 1e4  # min. experiences before training\n",
    "        self.learn_every = 3  # no. of experiences between updates to Q_online\n",
    "        self.sync_every = 1e4  # no. of experiences between Q_target & Q_online sync\n",
    "\n",
    "    def learn(self):\n",
    "        if self.curr_step % self.sync_every == 0:\n",
    "            self.sync_Q_target()\n",
    "\n",
    "        if self.curr_step % self.save_every == 0:\n",
    "            self.save()\n",
    "\n",
    "        if self.curr_step < self.burnin:\n",
    "            return None, None\n",
    "\n",
    "        if self.curr_step % self.learn_every != 0:\n",
    "            return None, None\n",
    "\n",
    "        # Sample from memory\n",
    "        state, next_state, action, reward, done = self.recall()\n",
    "\n",
    "        # Get TD Estimate\n",
    "        td_est = self.td_estimate(state, action)\n",
    "\n",
    "        # Get TD Target\n",
    "        td_tgt = self.td_target(reward, next_state, done)\n",
    "\n",
    "        # Backpropagate loss through Q_online\n",
    "        loss = self.update_Q_online(td_est, td_tgt)\n",
    "\n",
    "        return (td_est.mean().item(), loss)"
   ]
  },
  {
   "cell_type": "markdown",
   "id": "0702c91f",
   "metadata": {
    "papermill": {
     "duration": 0.004959,
     "end_time": "2025-06-30T03:24:44.897322",
     "exception": false,
     "start_time": "2025-06-30T03:24:44.892363",
     "status": "completed"
    },
    "tags": []
   },
   "source": [
    "# Trained Loop"
   ]
  },
  {
   "cell_type": "code",
   "execution_count": 14,
   "id": "1bf754ec",
   "metadata": {
    "execution": {
     "iopub.execute_input": "2025-06-30T03:24:44.908534Z",
     "iopub.status.busy": "2025-06-30T03:24:44.907989Z",
     "iopub.status.idle": "2025-06-30T03:24:44.912584Z",
     "shell.execute_reply": "2025-06-30T03:24:44.912037Z"
    },
    "papermill": {
     "duration": 0.011177,
     "end_time": "2025-06-30T03:24:44.913595",
     "exception": false,
     "start_time": "2025-06-30T03:24:44.902418",
     "status": "completed"
    },
    "tags": []
   },
   "outputs": [],
   "source": [
    "def train(env, agent, num_episodes):\n",
    "    ep_rewards = []\n",
    "    for episode in range(num_episodes):\n",
    "        state = env.reset()\n",
    "        done = False\n",
    "        total_reward = 0\n",
    "\n",
    "        while not done:\n",
    "            action = agent.act(state)\n",
    "            next_state, reward, done, truncated, info = env.step(action)\n",
    "            agent.cache(state, next_state, action, reward, done)\n",
    "            agent.learn()\n",
    "            state = next_state\n",
    "            total_reward += reward\n",
    "\n",
    "            if done or truncated:\n",
    "                break\n",
    "        \n",
    "        ep_rewards.append(total_reward)\n",
    "        if episode % 10 == 0:\n",
    "            print(f\"Episode {episode}, reward: {total_reward}\")\n",
    "            agent.save()\n",
    "    \n",
    "    return ep_rewards"
   ]
  },
  {
   "cell_type": "code",
   "execution_count": 15,
   "id": "bef888ce",
   "metadata": {
    "execution": {
     "iopub.execute_input": "2025-06-30T03:24:44.924625Z",
     "iopub.status.busy": "2025-06-30T03:24:44.924442Z",
     "iopub.status.idle": "2025-06-30T03:24:45.228461Z",
     "shell.execute_reply": "2025-06-30T03:24:45.227775Z"
    },
    "papermill": {
     "duration": 0.311157,
     "end_time": "2025-06-30T03:24:45.229985",
     "exception": false,
     "start_time": "2025-06-30T03:24:44.918828",
     "status": "completed"
    },
    "tags": []
   },
   "outputs": [],
   "source": [
    "from pathlib import Path\n",
    "\n",
    "save_dir = Path(\"checkpoints\")\n",
    "save_dir.mkdir(exist_ok=True)\n",
    "\n",
    "mario = Mario(\n",
    "    state_dim=env.observation_space.shape,\n",
    "    action_dim=env.action_space.n,\n",
    "    save_dir=save_dir\n",
    ")"
   ]
  },
  {
   "cell_type": "code",
   "execution_count": 16,
   "id": "e32e199d",
   "metadata": {
    "execution": {
     "iopub.execute_input": "2025-06-30T03:24:45.243174Z",
     "iopub.status.busy": "2025-06-30T03:24:45.242948Z",
     "iopub.status.idle": "2025-06-30T03:48:01.809728Z",
     "shell.execute_reply": "2025-06-30T03:48:01.808668Z"
    },
    "papermill": {
     "duration": 1396.574722,
     "end_time": "2025-06-30T03:48:01.811302",
     "exception": false,
     "start_time": "2025-06-30T03:24:45.236580",
     "status": "completed"
    },
    "tags": []
   },
   "outputs": [
    {
     "name": "stdout",
     "output_type": "stream",
     "text": [
      "Episode 0, reward: 918.0\n",
      "MarioNet saved to checkpoints/mario_net_0.chkpt at step 769\n",
      "Episode 10, reward: 226.0\n",
      "MarioNet saved to checkpoints/mario_net_0.chkpt at step 2564\n",
      "Episode 20, reward: 970.0\n",
      "MarioNet saved to checkpoints/mario_net_0.chkpt at step 4576\n",
      "Episode 30, reward: 739.0\n",
      "MarioNet saved to checkpoints/mario_net_0.chkpt at step 7411\n",
      "Episode 40, reward: 635.0\n",
      "MarioNet saved to checkpoints/mario_net_0.chkpt at step 8806\n",
      "Episode 50, reward: 635.0\n",
      "MarioNet saved to checkpoints/mario_net_0.chkpt at step 10441\n",
      "Episode 60, reward: 766.0\n",
      "MarioNet saved to checkpoints/mario_net_0.chkpt at step 12343\n",
      "Episode 70, reward: 1661.0\n",
      "MarioNet saved to checkpoints/mario_net_0.chkpt at step 15752\n",
      "Episode 80, reward: 762.0\n",
      "MarioNet saved to checkpoints/mario_net_0.chkpt at step 17886\n",
      "Episode 90, reward: 615.0\n",
      "MarioNet saved to checkpoints/mario_net_0.chkpt at step 20573\n",
      "Episode 100, reward: 626.0\n",
      "MarioNet saved to checkpoints/mario_net_0.chkpt at step 23415\n",
      "Episode 110, reward: 620.0\n",
      "MarioNet saved to checkpoints/mario_net_0.chkpt at step 25692\n",
      "Episode 120, reward: 231.0\n",
      "MarioNet saved to checkpoints/mario_net_0.chkpt at step 27179\n",
      "Episode 130, reward: 786.0\n",
      "MarioNet saved to checkpoints/mario_net_0.chkpt at step 29429\n",
      "Episode 140, reward: 636.0\n",
      "MarioNet saved to checkpoints/mario_net_0.chkpt at step 31670\n",
      "Episode 150, reward: 796.0\n",
      "MarioNet saved to checkpoints/mario_net_0.chkpt at step 33247\n",
      "Episode 160, reward: 950.0\n",
      "MarioNet saved to checkpoints/mario_net_0.chkpt at step 34758\n",
      "Episode 170, reward: 231.0\n",
      "MarioNet saved to checkpoints/mario_net_0.chkpt at step 36629\n",
      "Episode 180, reward: 231.0\n",
      "MarioNet saved to checkpoints/mario_net_0.chkpt at step 38940\n",
      "Episode 190, reward: 600.0\n",
      "MarioNet saved to checkpoints/mario_net_0.chkpt at step 40257\n",
      "Episode 200, reward: 635.0\n",
      "MarioNet saved to checkpoints/mario_net_0.chkpt at step 42156\n",
      "Episode 210, reward: 588.0\n",
      "MarioNet saved to checkpoints/mario_net_0.chkpt at step 44349\n",
      "Episode 220, reward: 731.0\n",
      "MarioNet saved to checkpoints/mario_net_0.chkpt at step 46282\n",
      "Episode 230, reward: 1018.0\n",
      "MarioNet saved to checkpoints/mario_net_0.chkpt at step 48626\n",
      "Episode 240, reward: 634.0\n",
      "MarioNet saved to checkpoints/mario_net_0.chkpt at step 50185\n",
      "Episode 250, reward: 1024.0\n",
      "MarioNet saved to checkpoints/mario_net_0.chkpt at step 52408\n",
      "Episode 260, reward: 231.0\n",
      "MarioNet saved to checkpoints/mario_net_0.chkpt at step 53918\n",
      "Episode 270, reward: 231.0\n",
      "MarioNet saved to checkpoints/mario_net_0.chkpt at step 55337\n",
      "Episode 280, reward: 231.0\n",
      "MarioNet saved to checkpoints/mario_net_0.chkpt at step 57081\n",
      "Episode 290, reward: 635.0\n",
      "MarioNet saved to checkpoints/mario_net_0.chkpt at step 59195\n",
      "Episode 300, reward: 594.0\n",
      "MarioNet saved to checkpoints/mario_net_0.chkpt at step 61138\n",
      "Episode 310, reward: 1226.0\n",
      "MarioNet saved to checkpoints/mario_net_0.chkpt at step 63948\n",
      "Episode 320, reward: 1027.0\n",
      "MarioNet saved to checkpoints/mario_net_0.chkpt at step 66181\n",
      "Episode 330, reward: 743.0\n",
      "MarioNet saved to checkpoints/mario_net_0.chkpt at step 68736\n",
      "Episode 340, reward: 231.0\n",
      "MarioNet saved to checkpoints/mario_net_0.chkpt at step 70316\n",
      "Episode 350, reward: 231.0\n",
      "MarioNet saved to checkpoints/mario_net_0.chkpt at step 71561\n",
      "Episode 360, reward: 1006.0\n",
      "MarioNet saved to checkpoints/mario_net_0.chkpt at step 73096\n",
      "Episode 370, reward: 692.0\n",
      "MarioNet saved to checkpoints/mario_net_0.chkpt at step 76241\n",
      "Episode 380, reward: 1279.0\n",
      "MarioNet saved to checkpoints/mario_net_0.chkpt at step 80297\n",
      "Episode 390, reward: 991.0\n",
      "MarioNet saved to checkpoints/mario_net_0.chkpt at step 83070\n",
      "Episode 400, reward: 980.0\n",
      "MarioNet saved to checkpoints/mario_net_0.chkpt at step 84490\n",
      "Episode 410, reward: 602.0\n",
      "MarioNet saved to checkpoints/mario_net_0.chkpt at step 86006\n",
      "Episode 420, reward: 627.0\n",
      "MarioNet saved to checkpoints/mario_net_0.chkpt at step 87485\n",
      "Episode 430, reward: 968.0\n",
      "MarioNet saved to checkpoints/mario_net_0.chkpt at step 89821\n",
      "Episode 440, reward: 635.0\n",
      "MarioNet saved to checkpoints/mario_net_0.chkpt at step 92254\n",
      "Episode 450, reward: 618.0\n",
      "MarioNet saved to checkpoints/mario_net_0.chkpt at step 95328\n",
      "Episode 460, reward: 745.0\n",
      "MarioNet saved to checkpoints/mario_net_0.chkpt at step 98056\n",
      "Episode 470, reward: 786.0\n",
      "MarioNet saved to checkpoints/mario_net_0.chkpt at step 99561\n",
      "Episode 480, reward: 1290.0\n",
      "MarioNet saved to checkpoints/mario_net_0.chkpt at step 100922\n",
      "Episode 490, reward: 750.0\n",
      "MarioNet saved to checkpoints/mario_net_0.chkpt at step 102852\n"
     ]
    }
   ],
   "source": [
    "ep_rewards = train(env, mario, num_episodes=500)"
   ]
  },
  {
   "cell_type": "markdown",
   "id": "65cd8ec5",
   "metadata": {
    "papermill": {
     "duration": 0.007357,
     "end_time": "2025-06-30T03:48:01.827006",
     "exception": false,
     "start_time": "2025-06-30T03:48:01.819649",
     "status": "completed"
    },
    "tags": []
   },
   "source": [
    "Logging\n",
    "======="
   ]
  },
  {
   "cell_type": "code",
   "execution_count": 17,
   "id": "3a1ab009",
   "metadata": {
    "execution": {
     "iopub.execute_input": "2025-06-30T03:48:01.842878Z",
     "iopub.status.busy": "2025-06-30T03:48:01.842645Z",
     "iopub.status.idle": "2025-06-30T03:48:01.868241Z",
     "shell.execute_reply": "2025-06-30T03:48:01.867538Z"
    },
    "papermill": {
     "duration": 0.035443,
     "end_time": "2025-06-30T03:48:01.869423",
     "exception": false,
     "start_time": "2025-06-30T03:48:01.833980",
     "status": "completed"
    },
    "tags": []
   },
   "outputs": [],
   "source": [
    "import numpy as np\n",
    "import time, datetime\n",
    "import matplotlib.pyplot as plt\n",
    "\n",
    "\n",
    "class MetricLogger:\n",
    "    def __init__(self, save_dir):\n",
    "        self.save_log = save_dir / \"log\"\n",
    "        with open(self.save_log, \"w\") as f:\n",
    "            f.write(\n",
    "                f\"{'Episode':>8}{'Step':>8}{'Epsilon':>10}{'MeanReward':>15}\"\n",
    "                f\"{'MeanLength':>15}{'MeanLoss':>15}{'MeanQValue':>15}\"\n",
    "                f\"{'TimeDelta':>15}{'Time':>20}\\n\"\n",
    "            )\n",
    "        self.ep_rewards_plot = save_dir / \"reward_plot.jpg\"\n",
    "        self.ep_lengths_plot = save_dir / \"length_plot.jpg\"\n",
    "        self.ep_avg_losses_plot = save_dir / \"loss_plot.jpg\"\n",
    "        self.ep_avg_qs_plot = save_dir / \"q_plot.jpg\"\n",
    "\n",
    "        # History metrics\n",
    "        self.ep_rewards = []\n",
    "        self.ep_lengths = []\n",
    "        self.ep_avg_losses = []\n",
    "        self.ep_avg_qs = []\n",
    "\n",
    "        # Moving averages, added for every call to record()\n",
    "        self.moving_avg_ep_rewards = []\n",
    "        self.moving_avg_ep_lengths = []\n",
    "        self.moving_avg_ep_avg_losses = []\n",
    "        self.moving_avg_ep_avg_qs = []\n",
    "\n",
    "        # Current episode metric\n",
    "        self.init_episode()\n",
    "\n",
    "        # Timing\n",
    "        self.record_time = time.time()\n",
    "\n",
    "    def log_step(self, reward, loss, q):\n",
    "        self.curr_ep_reward += reward\n",
    "        self.curr_ep_length += 1\n",
    "        if loss:\n",
    "            self.curr_ep_loss += loss\n",
    "            self.curr_ep_q += q\n",
    "            self.curr_ep_loss_length += 1\n",
    "\n",
    "    def log_episode(self):\n",
    "        \"Mark end of episode\"\n",
    "        self.ep_rewards.append(self.curr_ep_reward)\n",
    "        self.ep_lengths.append(self.curr_ep_length)\n",
    "        if self.curr_ep_loss_length == 0:\n",
    "            ep_avg_loss = 0\n",
    "            ep_avg_q = 0\n",
    "        else:\n",
    "            ep_avg_loss = np.round(self.curr_ep_loss / self.curr_ep_loss_length, 5)\n",
    "            ep_avg_q = np.round(self.curr_ep_q / self.curr_ep_loss_length, 5)\n",
    "        self.ep_avg_losses.append(ep_avg_loss)\n",
    "        self.ep_avg_qs.append(ep_avg_q)\n",
    "\n",
    "        self.init_episode()\n",
    "\n",
    "    def init_episode(self):\n",
    "        self.curr_ep_reward = 0.0\n",
    "        self.curr_ep_length = 0\n",
    "        self.curr_ep_loss = 0.0\n",
    "        self.curr_ep_q = 0.0\n",
    "        self.curr_ep_loss_length = 0\n",
    "\n",
    "    def record(self, episode, epsilon, step):\n",
    "        mean_ep_reward = np.round(np.mean(self.ep_rewards[-100:]), 3)\n",
    "        mean_ep_length = np.round(np.mean(self.ep_lengths[-100:]), 3)\n",
    "        mean_ep_loss = np.round(np.mean(self.ep_avg_losses[-100:]), 3)\n",
    "        mean_ep_q = np.round(np.mean(self.ep_avg_qs[-100:]), 3)\n",
    "        self.moving_avg_ep_rewards.append(mean_ep_reward)\n",
    "        self.moving_avg_ep_lengths.append(mean_ep_length)\n",
    "        self.moving_avg_ep_avg_losses.append(mean_ep_loss)\n",
    "        self.moving_avg_ep_avg_qs.append(mean_ep_q)\n",
    "\n",
    "        last_record_time = self.record_time\n",
    "        self.record_time = time.time()\n",
    "        time_since_last_record = np.round(self.record_time - last_record_time, 3)\n",
    "\n",
    "        print(\n",
    "            f\"Episode {episode} - \"\n",
    "            f\"Step {step} - \"\n",
    "            f\"Epsilon {epsilon} - \"\n",
    "            f\"Mean Reward {mean_ep_reward} - \"\n",
    "            f\"Mean Length {mean_ep_length} - \"\n",
    "            f\"Mean Loss {mean_ep_loss} - \"\n",
    "            f\"Mean Q Value {mean_ep_q} - \"\n",
    "            f\"Time Delta {time_since_last_record} - \"\n",
    "            f\"Time {datetime.datetime.now().strftime('%Y-%m-%dT%H:%M:%S')}\"\n",
    "        )\n",
    "\n",
    "        with open(self.save_log, \"a\") as f:\n",
    "            f.write(\n",
    "                f\"{episode:8d}{step:8d}{epsilon:10.3f}\"\n",
    "                f\"{mean_ep_reward:15.3f}{mean_ep_length:15.3f}{mean_ep_loss:15.3f}{mean_ep_q:15.3f}\"\n",
    "                f\"{time_since_last_record:15.3f}\"\n",
    "                f\"{datetime.datetime.now().strftime('%Y-%m-%dT%H:%M:%S'):>20}\\n\"\n",
    "            )\n",
    "\n",
    "        for metric in [\"ep_lengths\", \"ep_avg_losses\", \"ep_avg_qs\", \"ep_rewards\"]:\n",
    "            plt.clf()\n",
    "            plt.plot(getattr(self, f\"moving_avg_{metric}\"), label=f\"moving_avg_{metric}\")\n",
    "            plt.legend()\n",
    "            plt.savefig(getattr(self, f\"{metric}_plot\"))"
   ]
  },
  {
   "cell_type": "code",
   "execution_count": 18,
   "id": "dc37bf4f",
   "metadata": {
    "execution": {
     "iopub.execute_input": "2025-06-30T03:48:01.886008Z",
     "iopub.status.busy": "2025-06-30T03:48:01.885720Z",
     "iopub.status.idle": "2025-06-30T03:48:02.133078Z",
     "shell.execute_reply": "2025-06-30T03:48:02.132216Z"
    },
    "papermill": {
     "duration": 0.257337,
     "end_time": "2025-06-30T03:48:02.134570",
     "exception": false,
     "start_time": "2025-06-30T03:48:01.877233",
     "status": "completed"
    },
    "tags": []
   },
   "outputs": [
    {
     "data": {
      "image/png": "[encoded data removed]",
      "text/plain": [
       "<Figure size 640x480 with 1 Axes>"
      ]
     },
     "metadata": {},
     "output_type": "display_data"
    }
   ],
   "source": [
    "import matplotlib.pyplot as plt\n",
    "\n",
    "plt.plot(ep_rewards)\n",
    "plt.title(\"Recompensa total por episodio\")\n",
    "plt.xlabel(\"Episodio\")\n",
    "plt.ylabel(\"Recompensa\")\n",
    "plt.grid(True)\n",
    "plt.show()"
   ]
  },
  {
   "cell_type": "markdown",
   "id": "8ea416d2",
   "metadata": {
    "papermill": {
     "duration": 0.009027,
     "end_time": "2025-06-30T03:48:02.153820",
     "exception": false,
     "start_time": "2025-06-30T03:48:02.144793",
     "status": "completed"
    },
    "tags": []
   },
   "source": [
    "# Record episode"
   ]
  },
  {
   "cell_type": "code",
   "execution_count": 19,
   "id": "4ad0184e",
   "metadata": {
    "execution": {
     "iopub.execute_input": "2025-06-30T03:48:02.173743Z",
     "iopub.status.busy": "2025-06-30T03:48:02.173432Z",
     "iopub.status.idle": "2025-06-30T03:48:02.178891Z",
     "shell.execute_reply": "2025-06-30T03:48:02.178316Z"
    },
    "papermill": {
     "duration": 0.016728,
     "end_time": "2025-06-30T03:48:02.179990",
     "exception": false,
     "start_time": "2025-06-30T03:48:02.163262",
     "status": "completed"
    },
    "tags": []
   },
   "outputs": [],
   "source": [
    "def record_episode(env, policy_fn, filename, max_steps=10000):\n",
    "    import imageio\n",
    "    frames = []\n",
    "    state = env.reset()\n",
    "    for _ in range(max_steps):\n",
    "        action = policy_fn(state)\n",
    "        state, reward, done, truncated, info = env.step(action)\n",
    "        frame = env.render(mode='rgb_array')  # for headless envs\n",
    "        frames.append(frame)\n",
    "        if done or truncated:\n",
    "            break\n",
    "    imageio.mimsave(filename, frames, fps=30)\n",
    "    print(f\"Video saved: {filename}\")"
   ]
  },
  {
   "cell_type": "code",
   "execution_count": 20,
   "id": "bdecd7d8",
   "metadata": {
    "execution": {
     "iopub.execute_input": "2025-06-30T03:48:02.199653Z",
     "iopub.status.busy": "2025-06-30T03:48:02.199399Z",
     "iopub.status.idle": "2025-06-30T03:48:08.962400Z",
     "shell.execute_reply": "2025-06-30T03:48:08.961322Z"
    },
    "papermill": {
     "duration": 6.774226,
     "end_time": "2025-06-30T03:48:08.963680",
     "exception": false,
     "start_time": "2025-06-30T03:48:02.189454",
     "status": "completed"
    },
    "tags": []
   },
   "outputs": [
    {
     "name": "stderr",
     "output_type": "stream",
     "text": [
      "/usr/local/lib/python3.11/dist-packages/gym/core.py:43: DeprecationWarning: \u001b[33mWARN: The argument mode in render method is deprecated; use render_mode during environment initialization instead.\n",
      "See here for more information: https://www.gymlibrary.ml/content/api/\u001b[0m\n",
      "  deprecation(\n",
      "/usr/local/lib/python3.11/dist-packages/gym/utils/passive_env_checker.py:280: UserWarning: \u001b[33mWARN: No render modes was declared in the environment (env.metadata['render_modes'] is None or not defined), you may have trouble when calling `.render()`.\u001b[0m\n",
      "  logger.warn(\n"
     ]
    },
    {
     "name": "stdout",
     "output_type": "stream",
     "text": [
      "Video saved: random_policy.mp4\n"
     ]
    }
   ],
   "source": [
    "# Antes del entrenamiento\n",
    "record_episode(env, lambda s: env.action_space.sample(), \"random_policy.mp4\")"
   ]
  },
  {
   "cell_type": "code",
   "execution_count": 21,
   "id": "b712286e",
   "metadata": {
    "execution": {
     "iopub.execute_input": "2025-06-30T03:48:08.983063Z",
     "iopub.status.busy": "2025-06-30T03:48:08.982800Z",
     "iopub.status.idle": "2025-06-30T03:48:11.290295Z",
     "shell.execute_reply": "2025-06-30T03:48:11.289168Z"
    },
    "papermill": {
     "duration": 2.318628,
     "end_time": "2025-06-30T03:48:11.291664",
     "exception": false,
     "start_time": "2025-06-30T03:48:08.973036",
     "status": "completed"
    },
    "tags": []
   },
   "outputs": [
    {
     "name": "stdout",
     "output_type": "stream",
     "text": [
      "Video saved: trained_policy.mp4\n"
     ]
    }
   ],
   "source": [
    "# Después del entrenamiento\n",
    "mario.exploration_rate = 0.0\n",
    "record_episode(env, lambda s: mario.act(s), \"trained_policy.mp4\")"
   ]
  }
 ],
 "metadata": {
  "kaggle": {
   "accelerator": "nvidiaTeslaT4",
   "dataSources": [],
   "dockerImageVersionId": 31040,
   "isGpuEnabled": true,
   "isInternetEnabled": true,
   "language": "python",
   "sourceType": "notebook"
  },
  "kernelspec": {
   "display_name": "Python 3",
   "language": "python",
   "name": "python3"
  },
  "language_info": {
   "codemirror_mode": {
    "name": "ipython",
    "version": 3
   },
   "file_extension": ".py",
   "mimetype": "text/x-python",
   "name": "python",
   "nbconvert_exporter": "python",
   "pygments_lexer": "ipython3",
   "version": "3.11.11"
  },
  "papermill": {
   "default_parameters": {},
   "duration": 1530.768533,
   "end_time": "2025-06-30T03:48:17.361264",
   "environment_variables": {},
   "exception": null,
   "input_path": "__notebook__.ipynb",
   "output_path": "__notebook__.ipynb",
   "parameters": {},
   "start_time": "2025-06-30T03:22:46.592731",
   "version": "2.6.0"
  }
 },
 "nbformat": 4,
 "nbformat_minor": 5
}
