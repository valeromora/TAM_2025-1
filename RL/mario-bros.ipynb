{
 "cells": [
  {
   "cell_type": "markdown",
   "id": "fb40542a",
   "metadata": {
    "papermill": {
     "duration": 0.005906,
     "end_time": "2025-06-29T22:23:23.057866",
     "exception": false,
     "start_time": "2025-06-29T22:23:23.051960",
     "status": "completed"
    },
    "tags": []
   },
   "source": [
    "# Super Mario Bros \n",
    "Es un entorno visual, la entrada es una imagen de múltiples frames por segundo, lo que se puede usar:\n",
    "\n",
    "* CNN (Convolutional Neural Networks): Para extraer características espaciales de las imágenes.\n",
    "\n",
    "* CNN + RNN (LSTM): Si quieres considerar la secuencia temporal (ej. para decisiones dependientes del pasado).\n",
    "\n",
    "* DQN (Deep Q-Network): Para entornos con acción discreta como Mario.\n",
    "\n",
    "* Double DQN o Dueling DQN: Para mejorar la estabilidad del entrenamiento.\n",
    "\n",
    "* Rainbow DQN: Una combinación mejorada de múltiples técnicas DQN.\n",
    "\n",
    "Para simplificar en TF-Agents, se probara usar DQN + CNN."
   ]
  },
  {
   "cell_type": "markdown",
   "id": "f0e3ac1b",
   "metadata": {
    "papermill": {
     "duration": 0.004635,
     "end_time": "2025-06-29T22:23:23.067322",
     "exception": false,
     "start_time": "2025-06-29T22:23:23.062687",
     "status": "completed"
    },
    "tags": []
   },
   "source": [
    "# Set up"
   ]
  },
  {
   "cell_type": "code",
   "execution_count": 1,
   "id": "402ae321",
   "metadata": {
    "execution": {
     "iopub.execute_input": "2025-06-29T22:23:23.077828Z",
     "iopub.status.busy": "2025-06-29T22:23:23.077312Z",
     "iopub.status.idle": "2025-06-29T22:24:55.546406Z",
     "shell.execute_reply": "2025-06-29T22:24:55.545652Z"
    },
    "papermill": {
     "duration": 92.480689,
     "end_time": "2025-06-29T22:24:55.552559",
     "exception": false,
     "start_time": "2025-06-29T22:23:23.071870",
     "status": "completed"
    },
    "tags": []
   },
   "outputs": [
    {
     "name": "stdout",
     "output_type": "stream",
     "text": [
      "Collecting gym-super-mario-bros==7.4.0\n",
      "  Downloading gym_super_mario_bros-7.4.0-py3-none-any.whl.metadata (10 kB)\n",
      "Collecting nes-py>=8.1.4 (from gym-super-mario-bros==7.4.0)\n",
      "  Downloading nes_py-8.2.1.tar.gz (77 kB)\n",
      "     ━━━━━━━━━━━━━━━━━━━━━━━━━━━━━━━━━━━━━━━━ 77.7/77.7 kB 3.2 MB/s eta 0:00:00\n",
      "  Preparing metadata (setup.py): started\n",
      "  Preparing metadata (setup.py): finished with status 'done'\n",
      "Requirement already satisfied: gym>=0.17.2 in /usr/local/lib/python3.11/dist-packages (from nes-py>=8.1.4->gym-super-mario-bros==7.4.0) (0.25.2)\n",
      "Requirement already satisfied: numpy>=1.18.5 in /usr/local/lib/python3.11/dist-packages (from nes-py>=8.1.4->gym-super-mario-bros==7.4.0) (1.26.4)\n",
      "Collecting pyglet<=1.5.21,>=1.4.0 (from nes-py>=8.1.4->gym-super-mario-bros==7.4.0)\n",
      "  Downloading pyglet-1.5.21-py3-none-any.whl.metadata (7.6 kB)\n",
      "Requirement already satisfied: tqdm>=4.48.2 in /usr/local/lib/python3.11/dist-packages (from nes-py>=8.1.4->gym-super-mario-bros==7.4.0) (4.67.1)\n",
      "Requirement already satisfied: cloudpickle>=1.2.0 in /usr/local/lib/python3.11/dist-packages (from gym>=0.17.2->nes-py>=8.1.4->gym-super-mario-bros==7.4.0) (3.1.1)\n",
      "Requirement already satisfied: gym-notices>=0.0.4 in /usr/local/lib/python3.11/dist-packages (from gym>=0.17.2->nes-py>=8.1.4->gym-super-mario-bros==7.4.0) (0.0.8)\n",
      "Requirement already satisfied: mkl_fft in /usr/local/lib/python3.11/dist-packages (from numpy>=1.18.5->nes-py>=8.1.4->gym-super-mario-bros==7.4.0) (1.3.8)\n",
      "Requirement already satisfied: mkl_random in /usr/local/lib/python3.11/dist-packages (from numpy>=1.18.5->nes-py>=8.1.4->gym-super-mario-bros==7.4.0) (1.2.4)\n",
      "Requirement already satisfied: mkl_umath in /usr/local/lib/python3.11/dist-packages (from numpy>=1.18.5->nes-py>=8.1.4->gym-super-mario-bros==7.4.0) (0.1.1)\n",
      "Requirement already satisfied: mkl in /usr/local/lib/python3.11/dist-packages (from numpy>=1.18.5->nes-py>=8.1.4->gym-super-mario-bros==7.4.0) (2025.1.0)\n",
      "Requirement already satisfied: tbb4py in /usr/local/lib/python3.11/dist-packages (from numpy>=1.18.5->nes-py>=8.1.4->gym-super-mario-bros==7.4.0) (2022.1.0)\n",
      "Requirement already satisfied: mkl-service in /usr/local/lib/python3.11/dist-packages (from numpy>=1.18.5->nes-py>=8.1.4->gym-super-mario-bros==7.4.0) (2.4.1)\n",
      "Requirement already satisfied: intel-openmp<2026,>=2024 in /usr/local/lib/python3.11/dist-packages (from mkl->numpy>=1.18.5->nes-py>=8.1.4->gym-super-mario-bros==7.4.0) (2024.2.0)\n",
      "Requirement already satisfied: tbb==2022.* in /usr/local/lib/python3.11/dist-packages (from mkl->numpy>=1.18.5->nes-py>=8.1.4->gym-super-mario-bros==7.4.0) (2022.1.0)\n",
      "Requirement already satisfied: tcmlib==1.* in /usr/local/lib/python3.11/dist-packages (from tbb==2022.*->mkl->numpy>=1.18.5->nes-py>=8.1.4->gym-super-mario-bros==7.4.0) (1.3.0)\n",
      "Requirement already satisfied: intel-cmplr-lib-rt in /usr/local/lib/python3.11/dist-packages (from mkl_umath->numpy>=1.18.5->nes-py>=8.1.4->gym-super-mario-bros==7.4.0) (2024.2.0)\n",
      "Requirement already satisfied: intel-cmplr-lib-ur==2024.2.0 in /usr/local/lib/python3.11/dist-packages (from intel-openmp<2026,>=2024->mkl->numpy>=1.18.5->nes-py>=8.1.4->gym-super-mario-bros==7.4.0) (2024.2.0)\n",
      "Downloading gym_super_mario_bros-7.4.0-py3-none-any.whl (199 kB)\n",
      "   ━━━━━━━━━━━━━━━━━━━━━━━━━━━━━━━━━━━━━━━━ 199.1/199.1 kB 8.0 MB/s eta 0:00:00\n",
      "Downloading pyglet-1.5.21-py3-none-any.whl (1.1 MB)\n",
      "   ━━━━━━━━━━━━━━━━━━━━━━━━━━━━━━━━━━━━━━━━ 1.1/1.1 MB 31.9 MB/s eta 0:00:00\n",
      "Building wheels for collected packages: nes-py\n",
      "  Building wheel for nes-py (setup.py): started\n",
      "  Building wheel for nes-py (setup.py): finished with status 'done'\n",
      "  Created wheel for nes-py: filename=nes_py-8.2.1-cp311-cp311-linux_x86_64.whl size=535719 sha256=5601ddb564d2de60af91f00d57ea66fe2d6ac6e0d9f8579fc45e5daa99eae685\n",
      "  Stored in directory: /root/.cache/pip/wheels/be/b4/5a/68b9155f1d2380af0e359c71efd4c70518555be4c2f577f1d3\n",
      "Successfully built nes-py\n",
      "Installing collected packages: pyglet, nes-py, gym-super-mario-bros\n",
      "Successfully installed gym-super-mario-bros-7.4.0 nes-py-8.2.1 pyglet-1.5.21\n",
      "Collecting tensordict==0.3.0\n",
      "  Downloading tensordict-0.3.0-cp311-cp311-manylinux1_x86_64.whl.metadata (18 kB)\n",
      "Requirement already satisfied: torch>=2.1.0 in /usr/local/lib/python3.11/dist-packages (from tensordict==0.3.0) (2.6.0+cu124)\n",
      "Requirement already satisfied: numpy in /usr/local/lib/python3.11/dist-packages (from tensordict==0.3.0) (1.26.4)\n",
      "Requirement already satisfied: cloudpickle in /usr/local/lib/python3.11/dist-packages (from tensordict==0.3.0) (3.1.1)\n",
      "Requirement already satisfied: filelock in /usr/local/lib/python3.11/dist-packages (from torch>=2.1.0->tensordict==0.3.0) (3.18.0)\n",
      "Requirement already satisfied: typing-extensions>=4.10.0 in /usr/local/lib/python3.11/dist-packages (from torch>=2.1.0->tensordict==0.3.0) (4.13.2)\n",
      "Requirement already satisfied: networkx in /usr/local/lib/python3.11/dist-packages (from torch>=2.1.0->tensordict==0.3.0) (3.4.2)\n",
      "Requirement already satisfied: jinja2 in /usr/local/lib/python3.11/dist-packages (from torch>=2.1.0->tensordict==0.3.0) (3.1.6)\n",
      "Requirement already satisfied: fsspec in /usr/local/lib/python3.11/dist-packages (from torch>=2.1.0->tensordict==0.3.0) (2025.3.2)\n",
      "Requirement already satisfied: nvidia-cuda-nvrtc-cu12==12.4.127 in /usr/local/lib/python3.11/dist-packages (from torch>=2.1.0->tensordict==0.3.0) (12.4.127)\n",
      "Requirement already satisfied: nvidia-cuda-runtime-cu12==12.4.127 in /usr/local/lib/python3.11/dist-packages (from torch>=2.1.0->tensordict==0.3.0) (12.4.127)\n",
      "Requirement already satisfied: nvidia-cuda-cupti-cu12==12.4.127 in /usr/local/lib/python3.11/dist-packages (from torch>=2.1.0->tensordict==0.3.0) (12.4.127)\n",
      "Collecting nvidia-cudnn-cu12==9.1.0.70 (from torch>=2.1.0->tensordict==0.3.0)\n",
      "  Downloading nvidia_cudnn_cu12-9.1.0.70-py3-none-manylinux2014_x86_64.whl.metadata (1.6 kB)\n",
      "Collecting nvidia-cublas-cu12==12.4.5.8 (from torch>=2.1.0->tensordict==0.3.0)\n",
      "  Downloading nvidia_cublas_cu12-12.4.5.8-py3-none-manylinux2014_x86_64.whl.metadata (1.5 kB)\n",
      "Collecting nvidia-cufft-cu12==11.2.1.3 (from torch>=2.1.0->tensordict==0.3.0)\n",
      "  Downloading nvidia_cufft_cu12-11.2.1.3-py3-none-manylinux2014_x86_64.whl.metadata (1.5 kB)\n",
      "Collecting nvidia-curand-cu12==10.3.5.147 (from torch>=2.1.0->tensordict==0.3.0)\n",
      "  Downloading nvidia_curand_cu12-10.3.5.147-py3-none-manylinux2014_x86_64.whl.metadata (1.5 kB)\n",
      "Collecting nvidia-cusolver-cu12==11.6.1.9 (from torch>=2.1.0->tensordict==0.3.0)\n",
      "  Downloading nvidia_cusolver_cu12-11.6.1.9-py3-none-manylinux2014_x86_64.whl.metadata (1.6 kB)\n",
      "Collecting nvidia-cusparse-cu12==12.3.1.170 (from torch>=2.1.0->tensordict==0.3.0)\n",
      "  Downloading nvidia_cusparse_cu12-12.3.1.170-py3-none-manylinux2014_x86_64.whl.metadata (1.6 kB)\n",
      "Requirement already satisfied: nvidia-cusparselt-cu12==0.6.2 in /usr/local/lib/python3.11/dist-packages (from torch>=2.1.0->tensordict==0.3.0) (0.6.2)\n",
      "Requirement already satisfied: nvidia-nccl-cu12==2.21.5 in /usr/local/lib/python3.11/dist-packages (from torch>=2.1.0->tensordict==0.3.0) (2.21.5)\n",
      "Requirement already satisfied: nvidia-nvtx-cu12==12.4.127 in /usr/local/lib/python3.11/dist-packages (from torch>=2.1.0->tensordict==0.3.0) (12.4.127)\n",
      "Collecting nvidia-nvjitlink-cu12==12.4.127 (from torch>=2.1.0->tensordict==0.3.0)\n",
      "  Downloading nvidia_nvjitlink_cu12-12.4.127-py3-none-manylinux2014_x86_64.whl.metadata (1.5 kB)\n",
      "Requirement already satisfied: triton==3.2.0 in /usr/local/lib/python3.11/dist-packages (from torch>=2.1.0->tensordict==0.3.0) (3.2.0)\n",
      "Requirement already satisfied: sympy==1.13.1 in /usr/local/lib/python3.11/dist-packages (from torch>=2.1.0->tensordict==0.3.0) (1.13.1)\n",
      "Requirement already satisfied: mpmath<1.4,>=1.1.0 in /usr/local/lib/python3.11/dist-packages (from sympy==1.13.1->torch>=2.1.0->tensordict==0.3.0) (1.3.0)\n",
      "Requirement already satisfied: mkl_fft in /usr/local/lib/python3.11/dist-packages (from numpy->tensordict==0.3.0) (1.3.8)\n",
      "Requirement already satisfied: mkl_random in /usr/local/lib/python3.11/dist-packages (from numpy->tensordict==0.3.0) (1.2.4)\n",
      "Requirement already satisfied: mkl_umath in /usr/local/lib/python3.11/dist-packages (from numpy->tensordict==0.3.0) (0.1.1)\n",
      "Requirement already satisfied: mkl in /usr/local/lib/python3.11/dist-packages (from numpy->tensordict==0.3.0) (2025.1.0)\n",
      "Requirement already satisfied: tbb4py in /usr/local/lib/python3.11/dist-packages (from numpy->tensordict==0.3.0) (2022.1.0)\n",
      "Requirement already satisfied: mkl-service in /usr/local/lib/python3.11/dist-packages (from numpy->tensordict==0.3.0) (2.4.1)\n",
      "Requirement already satisfied: MarkupSafe>=2.0 in /usr/local/lib/python3.11/dist-packages (from jinja2->torch>=2.1.0->tensordict==0.3.0) (3.0.2)\n",
      "Requirement already satisfied: intel-openmp<2026,>=2024 in /usr/local/lib/python3.11/dist-packages (from mkl->numpy->tensordict==0.3.0) (2024.2.0)\n",
      "Requirement already satisfied: tbb==2022.* in /usr/local/lib/python3.11/dist-packages (from mkl->numpy->tensordict==0.3.0) (2022.1.0)\n",
      "Requirement already satisfied: tcmlib==1.* in /usr/local/lib/python3.11/dist-packages (from tbb==2022.*->mkl->numpy->tensordict==0.3.0) (1.3.0)\n",
      "Requirement already satisfied: intel-cmplr-lib-rt in /usr/local/lib/python3.11/dist-packages (from mkl_umath->numpy->tensordict==0.3.0) (2024.2.0)\n",
      "Requirement already satisfied: intel-cmplr-lib-ur==2024.2.0 in /usr/local/lib/python3.11/dist-packages (from intel-openmp<2026,>=2024->mkl->numpy->tensordict==0.3.0) (2024.2.0)\n",
      "Downloading tensordict-0.3.0-cp311-cp311-manylinux1_x86_64.whl (1.0 MB)\n",
      "   ━━━━━━━━━━━━━━━━━━━━━━━━━━━━━━━━━━━━━━━━ 1.0/1.0 MB 21.4 MB/s eta 0:00:00\n",
      "Downloading nvidia_cublas_cu12-12.4.5.8-py3-none-manylinux2014_x86_64.whl (363.4 MB)\n",
      "   ━━━━━━━━━━━━━━━━━━━━━━━━━━━━━━━━━━━━━━━━ 363.4/363.4 MB 4.7 MB/s eta 0:00:00\n",
      "Downloading nvidia_cudnn_cu12-9.1.0.70-py3-none-manylinux2014_x86_64.whl (664.8 MB)\n",
      "   ━━━━━━━━━━━━━━━━━━━━━━━━━━━━━━━━━━━━━━━━ 664.8/664.8 MB 2.6 MB/s eta 0:00:00\n",
      "Downloading nvidia_cufft_cu12-11.2.1.3-py3-none-manylinux2014_x86_64.whl (211.5 MB)\n",
      "   ━━━━━━━━━━━━━━━━━━━━━━━━━━━━━━━━━━━━━━━━ 211.5/211.5 MB 8.2 MB/s eta 0:00:00\n",
      "Downloading nvidia_curand_cu12-10.3.5.147-py3-none-manylinux2014_x86_64.whl (56.3 MB)\n",
      "   ━━━━━━━━━━━━━━━━━━━━━━━━━━━━━━━━━━━━━━━━ 56.3/56.3 MB 33.6 MB/s eta 0:00:00\n",
      "Downloading nvidia_cusolver_cu12-11.6.1.9-py3-none-manylinux2014_x86_64.whl (127.9 MB)\n",
      "   ━━━━━━━━━━━━━━━━━━━━━━━━━━━━━━━━━━━━━━━━ 127.9/127.9 MB 13.6 MB/s eta 0:00:00\n",
      "Downloading nvidia_cusparse_cu12-12.3.1.170-py3-none-manylinux2014_x86_64.whl (207.5 MB)\n",
      "   ━━━━━━━━━━━━━━━━━━━━━━━━━━━━━━━━━━━━━━━━ 207.5/207.5 MB 6.1 MB/s eta 0:00:00\n",
      "Downloading nvidia_nvjitlink_cu12-12.4.127-py3-none-manylinux2014_x86_64.whl (21.1 MB)\n",
      "   ━━━━━━━━━━━━━━━━━━━━━━━━━━━━━━━━━━━━━━━━ 21.1/21.1 MB 67.2 MB/s eta 0:00:00\n",
      "Installing collected packages: nvidia-nvjitlink-cu12, nvidia-curand-cu12, nvidia-cufft-cu12, nvidia-cublas-cu12, nvidia-cusparse-cu12, nvidia-cudnn-cu12, nvidia-cusolver-cu12, tensordict\n",
      "  Attempting uninstall: nvidia-nvjitlink-cu12\n",
      "    Found existing installation: nvidia-nvjitlink-cu12 12.9.41\n",
      "    Uninstalling nvidia-nvjitlink-cu12-12.9.41:\n",
      "      Successfully uninstalled nvidia-nvjitlink-cu12-12.9.41\n",
      "  Attempting uninstall: nvidia-curand-cu12\n",
      "    Found existing installation: nvidia-curand-cu12 10.3.10.19\n",
      "    Uninstalling nvidia-curand-cu12-10.3.10.19:\n",
      "      Successfully uninstalled nvidia-curand-cu12-10.3.10.19\n",
      "  Attempting uninstall: nvidia-cufft-cu12\n",
      "    Found existing installation: nvidia-cufft-cu12 11.4.0.6\n",
      "    Uninstalling nvidia-cufft-cu12-11.4.0.6:\n",
      "      Successfully uninstalled nvidia-cufft-cu12-11.4.0.6\n",
      "  Attempting uninstall: nvidia-cublas-cu12\n",
      "    Found existing installation: nvidia-cublas-cu12 12.9.0.13\n",
      "    Uninstalling nvidia-cublas-cu12-12.9.0.13:\n",
      "      Successfully uninstalled nvidia-cublas-cu12-12.9.0.13\n",
      "  Attempting uninstall: nvidia-cusparse-cu12\n",
      "    Found existing installation: nvidia-cusparse-cu12 12.5.9.5\n",
      "    Uninstalling nvidia-cusparse-cu12-12.5.9.5:\n",
      "      Successfully uninstalled nvidia-cusparse-cu12-12.5.9.5\n",
      "  Attempting uninstall: nvidia-cudnn-cu12\n",
      "    Found existing installation: nvidia-cudnn-cu12 9.3.0.75\n",
      "    Uninstalling nvidia-cudnn-cu12-9.3.0.75:\n",
      "      Successfully uninstalled nvidia-cudnn-cu12-9.3.0.75\n",
      "  Attempting uninstall: nvidia-cusolver-cu12\n",
      "    Found existing installation: nvidia-cusolver-cu12 11.7.4.40\n",
      "    Uninstalling nvidia-cusolver-cu12-11.7.4.40:\n",
      "      Successfully uninstalled nvidia-cusolver-cu12-11.7.4.40\n",
      "Successfully installed nvidia-cublas-cu12-12.4.5.8 nvidia-cudnn-cu12-9.1.0.70 nvidia-cufft-cu12-11.2.1.3 nvidia-curand-cu12-10.3.5.147 nvidia-cusolver-cu12-11.6.1.9 nvidia-cusparse-cu12-12.3.1.170 nvidia-nvjitlink-cu12-12.4.127 tensordict-0.3.0\n",
      "Collecting torchrl==0.3.0\n",
      "  Downloading torchrl-0.3.0-cp311-cp311-manylinux1_x86_64.whl.metadata (31 kB)\n",
      "Requirement already satisfied: torch>=2.1.0 in /usr/local/lib/python3.11/dist-packages (from torchrl==0.3.0) (2.6.0+cu124)\n",
      "Requirement already satisfied: numpy in /usr/local/lib/python3.11/dist-packages (from torchrl==0.3.0) (1.26.4)\n",
      "Requirement already satisfied: packaging in /usr/local/lib/python3.11/dist-packages (from torchrl==0.3.0) (25.0)\n",
      "Requirement already satisfied: cloudpickle in /usr/local/lib/python3.11/dist-packages (from torchrl==0.3.0) (3.1.1)\n",
      "Requirement already satisfied: tensordict>=0.3.0 in /usr/local/lib/python3.11/dist-packages (from torchrl==0.3.0) (0.3.0)\n",
      "Requirement already satisfied: filelock in /usr/local/lib/python3.11/dist-packages (from torch>=2.1.0->torchrl==0.3.0) (3.18.0)\n",
      "Requirement already satisfied: typing-extensions>=4.10.0 in /usr/local/lib/python3.11/dist-packages (from torch>=2.1.0->torchrl==0.3.0) (4.13.2)\n",
      "Requirement already satisfied: networkx in /usr/local/lib/python3.11/dist-packages (from torch>=2.1.0->torchrl==0.3.0) (3.4.2)\n",
      "Requirement already satisfied: jinja2 in /usr/local/lib/python3.11/dist-packages (from torch>=2.1.0->torchrl==0.3.0) (3.1.6)\n",
      "Requirement already satisfied: fsspec in /usr/local/lib/python3.11/dist-packages (from torch>=2.1.0->torchrl==0.3.0) (2025.3.2)\n",
      "Requirement already satisfied: nvidia-cuda-nvrtc-cu12==12.4.127 in /usr/local/lib/python3.11/dist-packages (from torch>=2.1.0->torchrl==0.3.0) (12.4.127)\n",
      "Requirement already satisfied: nvidia-cuda-runtime-cu12==12.4.127 in /usr/local/lib/python3.11/dist-packages (from torch>=2.1.0->torchrl==0.3.0) (12.4.127)\n",
      "Requirement already satisfied: nvidia-cuda-cupti-cu12==12.4.127 in /usr/local/lib/python3.11/dist-packages (from torch>=2.1.0->torchrl==0.3.0) (12.4.127)\n",
      "Requirement already satisfied: nvidia-cudnn-cu12==9.1.0.70 in /usr/local/lib/python3.11/dist-packages (from torch>=2.1.0->torchrl==0.3.0) (9.1.0.70)\n",
      "Requirement already satisfied: nvidia-cublas-cu12==12.4.5.8 in /usr/local/lib/python3.11/dist-packages (from torch>=2.1.0->torchrl==0.3.0) (12.4.5.8)\n",
      "Requirement already satisfied: nvidia-cufft-cu12==11.2.1.3 in /usr/local/lib/python3.11/dist-packages (from torch>=2.1.0->torchrl==0.3.0) (11.2.1.3)\n",
      "Requirement already satisfied: nvidia-curand-cu12==10.3.5.147 in /usr/local/lib/python3.11/dist-packages (from torch>=2.1.0->torchrl==0.3.0) (10.3.5.147)\n",
      "Requirement already satisfied: nvidia-cusolver-cu12==11.6.1.9 in /usr/local/lib/python3.11/dist-packages (from torch>=2.1.0->torchrl==0.3.0) (11.6.1.9)\n",
      "Requirement already satisfied: nvidia-cusparse-cu12==12.3.1.170 in /usr/local/lib/python3.11/dist-packages (from torch>=2.1.0->torchrl==0.3.0) (12.3.1.170)\n",
      "Requirement already satisfied: nvidia-cusparselt-cu12==0.6.2 in /usr/local/lib/python3.11/dist-packages (from torch>=2.1.0->torchrl==0.3.0) (0.6.2)\n",
      "Requirement already satisfied: nvidia-nccl-cu12==2.21.5 in /usr/local/lib/python3.11/dist-packages (from torch>=2.1.0->torchrl==0.3.0) (2.21.5)\n",
      "Requirement already satisfied: nvidia-nvtx-cu12==12.4.127 in /usr/local/lib/python3.11/dist-packages (from torch>=2.1.0->torchrl==0.3.0) (12.4.127)\n",
      "Requirement already satisfied: nvidia-nvjitlink-cu12==12.4.127 in /usr/local/lib/python3.11/dist-packages (from torch>=2.1.0->torchrl==0.3.0) (12.4.127)\n",
      "Requirement already satisfied: triton==3.2.0 in /usr/local/lib/python3.11/dist-packages (from torch>=2.1.0->torchrl==0.3.0) (3.2.0)\n",
      "Requirement already satisfied: sympy==1.13.1 in /usr/local/lib/python3.11/dist-packages (from torch>=2.1.0->torchrl==0.3.0) (1.13.1)\n",
      "Requirement already satisfied: mpmath<1.4,>=1.1.0 in /usr/local/lib/python3.11/dist-packages (from sympy==1.13.1->torch>=2.1.0->torchrl==0.3.0) (1.3.0)\n",
      "Requirement already satisfied: mkl_fft in /usr/local/lib/python3.11/dist-packages (from numpy->torchrl==0.3.0) (1.3.8)\n",
      "Requirement already satisfied: mkl_random in /usr/local/lib/python3.11/dist-packages (from numpy->torchrl==0.3.0) (1.2.4)\n",
      "Requirement already satisfied: mkl_umath in /usr/local/lib/python3.11/dist-packages (from numpy->torchrl==0.3.0) (0.1.1)\n",
      "Requirement already satisfied: mkl in /usr/local/lib/python3.11/dist-packages (from numpy->torchrl==0.3.0) (2025.1.0)\n",
      "Requirement already satisfied: tbb4py in /usr/local/lib/python3.11/dist-packages (from numpy->torchrl==0.3.0) (2022.1.0)\n",
      "Requirement already satisfied: mkl-service in /usr/local/lib/python3.11/dist-packages (from numpy->torchrl==0.3.0) (2.4.1)\n",
      "Requirement already satisfied: MarkupSafe>=2.0 in /usr/local/lib/python3.11/dist-packages (from jinja2->torch>=2.1.0->torchrl==0.3.0) (3.0.2)\n",
      "Requirement already satisfied: intel-openmp<2026,>=2024 in /usr/local/lib/python3.11/dist-packages (from mkl->numpy->torchrl==0.3.0) (2024.2.0)\n",
      "Requirement already satisfied: tbb==2022.* in /usr/local/lib/python3.11/dist-packages (from mkl->numpy->torchrl==0.3.0) (2022.1.0)\n",
      "Requirement already satisfied: tcmlib==1.* in /usr/local/lib/python3.11/dist-packages (from tbb==2022.*->mkl->numpy->torchrl==0.3.0) (1.3.0)\n",
      "Requirement already satisfied: intel-cmplr-lib-rt in /usr/local/lib/python3.11/dist-packages (from mkl_umath->numpy->torchrl==0.3.0) (2024.2.0)\n",
      "Requirement already satisfied: intel-cmplr-lib-ur==2024.2.0 in /usr/local/lib/python3.11/dist-packages (from intel-openmp<2026,>=2024->mkl->numpy->torchrl==0.3.0) (2024.2.0)\n",
      "Downloading torchrl-0.3.0-cp311-cp311-manylinux1_x86_64.whl (5.8 MB)\n",
      "   ━━━━━━━━━━━━━━━━━━━━━━━━━━━━━━━━━━━━━━━━ 5.8/5.8 MB 14.2 MB/s eta 0:00:00\n",
      "Installing collected packages: torchrl\n",
      "Successfully installed torchrl-0.3.0\n"
     ]
    }
   ],
   "source": [
    "%%bash\n",
    "pip install gym-super-mario-bros==7.4.0\n",
    "pip install tensordict==0.3.0\n",
    "pip install torchrl==0.3.0"
   ]
  },
  {
   "cell_type": "code",
   "execution_count": 2,
   "id": "339f734c",
   "metadata": {
    "execution": {
     "iopub.execute_input": "2025-06-29T22:24:55.565585Z",
     "iopub.status.busy": "2025-06-29T22:24:55.565364Z",
     "iopub.status.idle": "2025-06-29T22:25:18.807747Z",
     "shell.execute_reply": "2025-06-29T22:25:18.807055Z"
    },
    "papermill": {
     "duration": 23.249511,
     "end_time": "2025-06-29T22:25:18.809320",
     "exception": false,
     "start_time": "2025-06-29T22:24:55.559809",
     "status": "completed"
    },
    "tags": []
   },
   "outputs": [
    {
     "name": "stdout",
     "output_type": "stream",
     "text": [
      "W: Skipping acquire of configured file 'main/source/Sources' as repository 'https://r2u.stat.illinois.edu/ubuntu jammy InRelease' does not seem to provide it (sources.list entry misspelt?)\r\n"
     ]
    }
   ],
   "source": [
    "!pip install gym-super-mario-bros==7.4.0 > /dev/null\n",
    "!apt-get update > /dev/null\n",
    "!apt-get install -y xvfb ffmpeg > /dev/null\n",
    "\n",
    "import os\n",
    "import random\n",
    "import datetime\n",
    "from collections import deque\n",
    "from pathlib import Path\n",
    "\n",
    "import numpy as np\n",
    "import torch\n",
    "from torch import nn\n",
    "from torchvision import transforms as T\n",
    "from PIL import Image\n",
    "import imageio\n",
    "\n",
    "import gym\n",
    "from gym.spaces import Box\n",
    "from gym.wrappers import FrameStack\n",
    "from nes_py.wrappers import JoypadSpace\n",
    "import gym_super_mario_bros"
   ]
  },
  {
   "cell_type": "markdown",
   "id": "5daa77fb",
   "metadata": {
    "papermill": {
     "duration": 0.00615,
     "end_time": "2025-06-29T22:25:18.821921",
     "exception": false,
     "start_time": "2025-06-29T22:25:18.815771",
     "status": "completed"
    },
    "tags": []
   },
   "source": [
    "RL Definitions\n",
    "==============\n",
    "\n",
    "**Environment** The world that an agent interacts with and learns from.\n",
    "\n",
    "**Action** $a$ : How the Agent responds to the Environment. The set of\n",
    "all possible Actions is called *action-space*.\n",
    "\n",
    "**State** $s$ : The current characteristic of the Environment. The set\n",
    "of all possible States the Environment can be in is called\n",
    "*state-space*.\n",
    "\n",
    "**Reward** $r$ : Reward is the key feedback from Environment to Agent.\n",
    "It is what drives the Agent to learn and to change its future action. An\n",
    "aggregation of rewards over multiple time steps is called **Return**.\n",
    "\n",
    "**Optimal Action-Value function** $Q^*(s,a)$ : Gives the expected return\n",
    "if you start in state $s$, take an arbitrary action $a$, and then for\n",
    "each future time step take the action that maximizes returns. $Q$ can be\n",
    "said to stand for the \"quality\" of the action in a state. We try to\n",
    "approximate this function.\n"
   ]
  },
  {
   "cell_type": "markdown",
   "id": "536d9268",
   "metadata": {
    "papermill": {
     "duration": 0.005416,
     "end_time": "2025-06-29T22:25:18.833092",
     "exception": false,
     "start_time": "2025-06-29T22:25:18.827676",
     "status": "completed"
    },
    "tags": []
   },
   "source": [
    "Environment\n",
    "===========\n",
    "\n",
    "Initialize Environment\n",
    "----------------------\n",
    "\n",
    "In Mario, the environment consists of tubes, mushrooms and other\n",
    "components.\n",
    "\n",
    "When Mario makes an action, the environment responds with the changed\n",
    "(next) state, reward and other info.\n"
   ]
  },
  {
   "cell_type": "code",
   "execution_count": 3,
   "id": "dc2c9e18",
   "metadata": {
    "execution": {
     "iopub.execute_input": "2025-06-29T22:25:18.846175Z",
     "iopub.status.busy": "2025-06-29T22:25:18.845250Z",
     "iopub.status.idle": "2025-06-29T22:25:19.239654Z",
     "shell.execute_reply": "2025-06-29T22:25:19.238831Z"
    },
    "papermill": {
     "duration": 0.402223,
     "end_time": "2025-06-29T22:25:19.240999",
     "exception": false,
     "start_time": "2025-06-29T22:25:18.838776",
     "status": "completed"
    },
    "tags": []
   },
   "outputs": [
    {
     "name": "stderr",
     "output_type": "stream",
     "text": [
      "/usr/local/lib/python3.11/dist-packages/gym/envs/registration.py:593: UserWarning: \u001b[33mWARN: The environment SuperMarioBros-1-1-v0 is out of date. You should consider upgrading to version `v3`.\u001b[0m\n",
      "  logger.warn(\n"
     ]
    },
    {
     "name": "stdout",
     "output_type": "stream",
     "text": [
      "(240, 256, 3),\n",
      " 0.0,\n",
      " False,\n",
      " {'coins': 0, 'flag_get': False, 'life': 2, 'score': 0, 'stage': 1, 'status': 'small', 'time': 400, 'world': 1, 'x_pos': 40, 'y_pos': 79}\n"
     ]
    },
    {
     "name": "stderr",
     "output_type": "stream",
     "text": [
      "/usr/local/lib/python3.11/dist-packages/gym/core.py:317: DeprecationWarning: \u001b[33mWARN: Initializing wrapper in old step API which returns one bool instead of two. It is recommended to set `new_step_api=True` to use new step API. This will be the default behaviour in future.\u001b[0m\n",
      "  deprecation(\n",
      "/usr/local/lib/python3.11/dist-packages/gym/utils/passive_env_checker.py:227: DeprecationWarning: \u001b[33mWARN: Core environment is written in old step API which returns one bool instead of two. It is recommended to rewrite the environment with new step API. \u001b[0m\n",
      "  logger.deprecation(\n",
      "/usr/local/lib/python3.11/dist-packages/gym/utils/passive_env_checker.py:233: DeprecationWarning: `np.bool8` is a deprecated alias for `np.bool_`.  (Deprecated NumPy 1.24)\n",
      "  if not isinstance(done, (bool, np.bool8)):\n"
     ]
    }
   ],
   "source": [
    "# Initialize Super Mario environment (in v0.26 change render mode to 'human' to see results on the screen)\n",
    "if gym.__version__ < '0.26':\n",
    "    env = gym_super_mario_bros.make(\"SuperMarioBros-1-1-v0\", new_step_api=True)\n",
    "else:\n",
    "    env = gym_super_mario_bros.make(\"SuperMarioBros-1-1-v0\", render_mode='rgb', apply_api_compatibility=True)\n",
    "\n",
    "# Limit the action-space to\n",
    "#   0. walk right\n",
    "#   1. jump right\n",
    "env = JoypadSpace(env, [[\"right\"], [\"right\", \"A\"]])\n",
    "\n",
    "env.reset()\n",
    "next_state, reward, done, trunc, info = env.step(action=0)\n",
    "print(f\"{next_state.shape},\\n {reward},\\n {done},\\n {info}\")"
   ]
  },
  {
   "cell_type": "markdown",
   "id": "ad2dbf56",
   "metadata": {
    "papermill": {
     "duration": 0.005075,
     "end_time": "2025-06-29T22:25:19.251918",
     "exception": false,
     "start_time": "2025-06-29T22:25:19.246843",
     "status": "completed"
    },
    "tags": []
   },
   "source": [
    "Preprocess Environment\n",
    "======================\n",
    "\n",
    "Environment data is returned to the agent in `next_state`. As you saw\n",
    "above, each state is represented by a `[3, 240, 256]` size array. Often\n",
    "that is more information than our agent needs; for instance, Mario's\n",
    "actions do not depend on the color of the pipes or the sky!\n",
    "\n",
    "We use **Wrappers** to preprocess environment data before sending it to\n",
    "the agent.\n",
    "\n",
    "`GrayScaleObservation` is a common wrapper to transform an RGB image to\n",
    "grayscale; doing so reduces the size of the state representation without\n",
    "losing useful information. Now the size of each state: `[1, 240, 256]`\n",
    "\n",
    "`ResizeObservation` downsamples each observation into a square image.\n",
    "New size: `[1, 84, 84]`\n",
    "\n",
    "`SkipFrame` is a custom wrapper that inherits from `gym.Wrapper` and\n",
    "implements the `step()` function. Because consecutive frames don't vary\n",
    "much, we can skip n-intermediate frames without losing much information.\n",
    "The n-th frame aggregates rewards accumulated over each skipped frame.\n",
    "\n",
    "`FrameStack` is a wrapper that allows us to squash consecutive frames of\n",
    "the environment into a single observation point to feed to our learning\n",
    "model. This way, we can identify if Mario was landing or jumping based\n",
    "on the direction of his movement in the previous several frames.\n"
   ]
  },
  {
   "cell_type": "code",
   "execution_count": 4,
   "id": "f60bad6e",
   "metadata": {
    "execution": {
     "iopub.execute_input": "2025-06-29T22:25:19.263785Z",
     "iopub.status.busy": "2025-06-29T22:25:19.263489Z",
     "iopub.status.idle": "2025-06-29T22:25:19.275036Z",
     "shell.execute_reply": "2025-06-29T22:25:19.274287Z"
    },
    "papermill": {
     "duration": 0.018863,
     "end_time": "2025-06-29T22:25:19.276136",
     "exception": false,
     "start_time": "2025-06-29T22:25:19.257273",
     "status": "completed"
    },
    "tags": []
   },
   "outputs": [],
   "source": [
    "class SkipFrame(gym.Wrapper):\n",
    "    def __init__(self, env, skip):\n",
    "        \"\"\"Return only every `skip`-th frame\"\"\"\n",
    "        super().__init__(env)\n",
    "        self._skip = skip\n",
    "\n",
    "    def step(self, action):\n",
    "        \"\"\"Repeat action, and sum reward\"\"\"\n",
    "        total_reward = 0.0\n",
    "        for i in range(self._skip):\n",
    "            # Accumulate reward and repeat the same action\n",
    "            obs, reward, done, trunk, info = self.env.step(action)\n",
    "            total_reward += reward\n",
    "            if done:\n",
    "                break\n",
    "        return obs, total_reward, done, trunk, info\n",
    "\n",
    "\n",
    "class GrayScaleObservation(gym.ObservationWrapper):\n",
    "    def __init__(self, env):\n",
    "        super().__init__(env)\n",
    "        obs_shape = self.observation_space.shape[:2]\n",
    "        self.observation_space = Box(low=0, high=255, shape=obs_shape, dtype=np.uint8)\n",
    "\n",
    "    def permute_orientation(self, observation):\n",
    "        # permute [H, W, C] array to [C, H, W] tensor\n",
    "        observation = np.transpose(observation, (2, 0, 1))\n",
    "        observation = torch.tensor(observation.copy(), dtype=torch.float) /255.0\n",
    "        return observation\n",
    "\n",
    "    def observation(self, observation):\n",
    "        observation = self.permute_orientation(observation)\n",
    "        if observation.shape[0] == 3:\n",
    "            transform = T.Grayscale()\n",
    "            observation = transform(observation)\n",
    "        return observation\n",
    "\n",
    "class ResizeObservation(gym.ObservationWrapper):\n",
    "    def __init__(self, env, shape):\n",
    "        super().__init__(env)\n",
    "        if isinstance(shape, int):\n",
    "            self.shape = (shape, shape)\n",
    "        else:\n",
    "            self.shape = tuple(shape)\n",
    "\n",
    "        obs_shape = self.shape + self.observation_space.shape[2:]\n",
    "        self.observation_space = Box(low=0, high=255, shape=obs_shape, dtype=np.uint8)\n",
    "\n",
    "    def observation(self, observation):\n",
    "        transforms = T.Compose(\n",
    "            [T.Resize(self.shape, antialias=True)]#, T.Normalize(0, 255)]\n",
    "        )\n",
    "        observation = transforms(observation).squeeze(0)\n",
    "        return observation\n",
    "\n",
    "\n",
    "# Apply Wrappers to environment\n",
    "env = SkipFrame(env, skip=4)\n",
    "env = GrayScaleObservation(env)\n",
    "env = ResizeObservation(env, shape=84)\n",
    "if gym.__version__ < '0.26':\n",
    "    env = FrameStack(env, num_stack=4, new_step_api=True)\n",
    "else:\n",
    "    env = FrameStack(env, num_stack=4)"
   ]
  },
  {
   "cell_type": "markdown",
   "id": "631697b2",
   "metadata": {
    "papermill": {
     "duration": 0.004747,
     "end_time": "2025-06-29T22:25:19.285847",
     "exception": false,
     "start_time": "2025-06-29T22:25:19.281100",
     "status": "completed"
    },
    "tags": []
   },
   "source": [
    "Agent\n",
    "=====\n",
    "\n",
    "We create a class `Mario` to represent our agent in the game. Mario\n",
    "should be able to:\n",
    "\n",
    "-   **Act** according to the optimal action policy based on the current\n",
    "    state (of the environment).\n",
    "-   **Remember** experiences. Experience = (current state, current\n",
    "    action, reward, next state). Mario *caches* and later *recalls* his\n",
    "    experiences to update his action policy.\n",
    "-   **Learn** a better action policy over time\n"
   ]
  },
  {
   "cell_type": "code",
   "execution_count": 5,
   "id": "a5c3ae68",
   "metadata": {
    "execution": {
     "iopub.execute_input": "2025-06-29T22:25:19.296369Z",
     "iopub.status.busy": "2025-06-29T22:25:19.296152Z",
     "iopub.status.idle": "2025-06-29T22:25:19.299963Z",
     "shell.execute_reply": "2025-06-29T22:25:19.299468Z"
    },
    "papermill": {
     "duration": 0.010222,
     "end_time": "2025-06-29T22:25:19.300977",
     "exception": false,
     "start_time": "2025-06-29T22:25:19.290755",
     "status": "completed"
    },
    "tags": []
   },
   "outputs": [],
   "source": [
    "class Mario:\n",
    "    def __init__():\n",
    "        pass\n",
    "\n",
    "    def act(self, state):\n",
    "        \"\"\"Given a state, choose an epsilon-greedy action\"\"\"\n",
    "        pass\n",
    "\n",
    "    def cache(self, experience):\n",
    "        \"\"\"Add the experience to memory\"\"\"\n",
    "        pass\n",
    "\n",
    "    def recall(self):\n",
    "        \"\"\"Sample experiences from memory\"\"\"\n",
    "        pass\n",
    "\n",
    "    def learn(self):\n",
    "        \"\"\"Update online action value (Q) function with a batch of experiences\"\"\"\n",
    "        pass"
   ]
  },
  {
   "cell_type": "markdown",
   "id": "7b3a4181",
   "metadata": {
    "papermill": {
     "duration": 0.004865,
     "end_time": "2025-06-29T22:25:19.310819",
     "exception": false,
     "start_time": "2025-06-29T22:25:19.305954",
     "status": "completed"
    },
    "tags": []
   },
   "source": [
    "Neural Network\n",
    "--------------"
   ]
  },
  {
   "cell_type": "code",
   "execution_count": 6,
   "id": "872b7500",
   "metadata": {
    "execution": {
     "iopub.execute_input": "2025-06-29T22:25:19.321681Z",
     "iopub.status.busy": "2025-06-29T22:25:19.321217Z",
     "iopub.status.idle": "2025-06-29T22:25:19.327013Z",
     "shell.execute_reply": "2025-06-29T22:25:19.326529Z"
    },
    "papermill": {
     "duration": 0.012265,
     "end_time": "2025-06-29T22:25:19.327986",
     "exception": false,
     "start_time": "2025-06-29T22:25:19.315721",
     "status": "completed"
    },
    "tags": []
   },
   "outputs": [],
   "source": [
    "class Mario(Mario):  # subclassing for continuity\n",
    "    def __init__(self, state_dim, action_dim, save_dir):\n",
    "        super().__init__(state_dim, action_dim, save_dir)\n",
    "        self.memory = deque(maxlen=100000)\n",
    "        self.batch_size = 32\n",
    "\n",
    "    def cache(self, state, next_state, action, reward, done):\n",
    "        \"\"\"\n",
    "        Store the experience to self.memory (replay buffer)\n",
    "\n",
    "        Inputs:\n",
    "        state (``LazyFrame``),\n",
    "        next_state (``LazyFrame``),\n",
    "        action (``int``),\n",
    "        reward (``float``),\n",
    "        done(``bool``))\n",
    "        \"\"\"\n",
    "        def first_if_tuple(x):\n",
    "            return x[0] if isinstance(x, tuple) else x\n",
    "        state = first_if_tuple(state).__array__()\n",
    "        next_state = first_if_tuple(next_state).__array__()\n",
    "        state = first_if_tuple(state).__array__()\n",
    "        next_state = first_if_tuple(next_state).__array__()\n",
    "\n",
    "        self.memory.append((state, next_state, action, reward, done))\n",
    "\n",
    "    \n",
    "    def recall(self):\n",
    "        \"\"\"\n",
    "        Retrieve a batch of experiences from memory\n",
    "        \"\"\"\n",
    "        batch = random.sample(self.memory, self.batch_size)\n",
    "        state, next_state, action, reward, done = map(np.array, zip(*batch))\n",
    "\n",
    "        state = torch.tensor(state).to(self.device)\n",
    "        next_state = torch.tensor(next_state).to(self.device)\n",
    "        action = torch.tensor(action).to(self.device)\n",
    "        reward = torch.tensor(reward).to(self.device)\n",
    "        done = torch.tensor(done).to(self.device)\n",
    "        return state, next_state, action, reward, done"
   ]
  },
  {
   "cell_type": "markdown",
   "id": "312ca80d",
   "metadata": {
    "papermill": {
     "duration": 0.004857,
     "end_time": "2025-06-29T22:25:19.337966",
     "exception": false,
     "start_time": "2025-06-29T22:25:19.333109",
     "status": "completed"
    },
    "tags": []
   },
   "source": [
    "Act\n",
    "===\n",
    "\n",
    "For any given state, an agent can choose to do the most optimal action\n",
    "(**exploit**) or a random action (**explore**).\n",
    "\n",
    "Mario randomly explores with a chance of `self.exploration_rate`; when\n",
    "he chooses to exploit, he relies on `MarioNet` (implemented in `Learn`\n",
    "section) to provide the most optimal action.\n"
   ]
  },
  {
   "cell_type": "code",
   "execution_count": 7,
   "id": "bf0b2d53",
   "metadata": {
    "execution": {
     "iopub.execute_input": "2025-06-29T22:25:19.348578Z",
     "iopub.status.busy": "2025-06-29T22:25:19.348392Z",
     "iopub.status.idle": "2025-06-29T22:25:19.354238Z",
     "shell.execute_reply": "2025-06-29T22:25:19.353740Z"
    },
    "papermill": {
     "duration": 0.012546,
     "end_time": "2025-06-29T22:25:19.355352",
     "exception": false,
     "start_time": "2025-06-29T22:25:19.342806",
     "status": "completed"
    },
    "tags": []
   },
   "outputs": [],
   "source": [
    "class Mario:\n",
    "    def __init__(self, state_dim, action_dim, save_dir):\n",
    "        self.state_dim = state_dim\n",
    "        self.action_dim = action_dim\n",
    "        self.save_dir = save_dir\n",
    "\n",
    "        self.device = \"cuda\" if torch.cuda.is_available() else \"cpu\"\n",
    "\n",
    "        # Mario's DNN to predict the most optimal action - we implement this in the Learn section\n",
    "        self.net = MarioNet(self.state_dim, self.action_dim).float()\n",
    "        self.net = self.net.to(device=self.device)\n",
    "\n",
    "        self.exploration_rate = 1\n",
    "        self.exploration_rate_decay = 0.99999975\n",
    "        self.exploration_rate_min = 0.1\n",
    "        self.curr_step = 0\n",
    "\n",
    "        self.save_every = 5e5  # no. of experiences between saving Mario Net\n",
    "\n",
    "    def act(self, state):\n",
    "        \"\"\"\n",
    "    Given a state, choose an epsilon-greedy action and update value of step.\n",
    "\n",
    "    Inputs:\n",
    "    state(``LazyFrame``): A single observation of the current state, dimension is (state_dim)\n",
    "    Outputs:\n",
    "    ``action_idx`` (``int``): An integer representing which action Mario will perform\n",
    "    \"\"\"\n",
    "        # EXPLORE\n",
    "        if np.random.rand() < self.exploration_rate:\n",
    "            action_idx = np.random.randint(self.action_dim)\n",
    "\n",
    "        # EXPLOIT\n",
    "        else:\n",
    "            state = state[0].__array__() if isinstance(state, tuple) else state.__array__()\n",
    "            state = torch.tensor(state, device=self.device).unsqueeze(0)\n",
    "            action_values = self.net(state, model=\"online\")\n",
    "            action_idx = torch.argmax(action_values, axis=1).item()\n",
    "\n",
    "        # decrease exploration_rate\n",
    "        self.exploration_rate *= self.exploration_rate_decay\n",
    "        self.exploration_rate = max(self.exploration_rate_min, self.exploration_rate)\n",
    "\n",
    "        # increment step\n",
    "        self.curr_step += 1\n",
    "        return action_idx"
   ]
  },
  {
   "cell_type": "markdown",
   "id": "3c8c3345",
   "metadata": {
    "papermill": {
     "duration": 0.005037,
     "end_time": "2025-06-29T22:25:19.365367",
     "exception": false,
     "start_time": "2025-06-29T22:25:19.360330",
     "status": "completed"
    },
    "tags": []
   },
   "source": [
    "Cache and Recall\n",
    "================\n",
    "\n",
    "These two functions serve as Mario's \"memory\" process.\n",
    "\n",
    "`cache()`: Each time Mario performs an action, he stores the\n",
    "`experience` to his memory. His experience includes the current *state*,\n",
    "*action* performed, *reward* from the action, the *next state*, and\n",
    "whether the game is *done*.\n",
    "\n",
    "`recall()`: Mario randomly samples a batch of experiences from his\n",
    "memory, and uses that to learn the game.\n"
   ]
  },
  {
   "cell_type": "code",
   "execution_count": 8,
   "id": "39100ffd",
   "metadata": {
    "execution": {
     "iopub.execute_input": "2025-06-29T22:25:19.376209Z",
     "iopub.status.busy": "2025-06-29T22:25:19.376031Z",
     "iopub.status.idle": "2025-06-29T22:25:19.382287Z",
     "shell.execute_reply": "2025-06-29T22:25:19.381738Z"
    },
    "papermill": {
     "duration": 0.012864,
     "end_time": "2025-06-29T22:25:19.383347",
     "exception": false,
     "start_time": "2025-06-29T22:25:19.370483",
     "status": "completed"
    },
    "tags": []
   },
   "outputs": [],
   "source": [
    "class MarioNet(nn.Module):\n",
    "    \"\"\"mini CNN structure\n",
    "  input -> (conv2d + relu) x 3 -> flatten -> (dense + relu) x 2 -> output\n",
    "  \"\"\"\n",
    "\n",
    "    def __init__(self, input_dim, output_dim):\n",
    "        super().__init__()\n",
    "        c, h, w = input_dim\n",
    "\n",
    "        if h != 84:\n",
    "            raise ValueError(f\"Expecting input height: 84, got: {h}\")\n",
    "        if w != 84:\n",
    "            raise ValueError(f\"Expecting input width: 84, got: {w}\")\n",
    "\n",
    "        self.online = self.__build_cnn(c, output_dim)\n",
    "\n",
    "        self.target = self.__build_cnn(c, output_dim)\n",
    "        self.target.load_state_dict(self.online.state_dict())\n",
    "\n",
    "        # Q_target parameters are frozen.\n",
    "        for p in self.target.parameters():\n",
    "            p.requires_grad = False\n",
    "\n",
    "    def forward(self, input, model):\n",
    "        if model == \"online\":\n",
    "            return self.online(input)\n",
    "        elif model == \"target\":\n",
    "            return self.target(input)\n",
    "\n",
    "    def __build_cnn(self, c, output_dim):\n",
    "        return nn.Sequential(\n",
    "            nn.Conv2d(in_channels=c, out_channels=32, kernel_size=8, stride=4),\n",
    "            nn.ReLU(),\n",
    "            nn.Conv2d(in_channels=32, out_channels=64, kernel_size=4, stride=2),\n",
    "            nn.ReLU(),\n",
    "            nn.Conv2d(in_channels=64, out_channels=64, kernel_size=3, stride=1),\n",
    "            nn.ReLU(),\n",
    "            nn.Flatten(),\n",
    "            nn.Linear(3136, 512),\n",
    "            nn.ReLU(),\n",
    "            nn.Linear(512, output_dim),\n",
    "        )"
   ]
  },
  {
   "cell_type": "code",
   "execution_count": 9,
   "id": "bb2c8014",
   "metadata": {
    "execution": {
     "iopub.execute_input": "2025-06-29T22:25:19.394870Z",
     "iopub.status.busy": "2025-06-29T22:25:19.394561Z",
     "iopub.status.idle": "2025-06-29T22:25:19.406750Z",
     "shell.execute_reply": "2025-06-29T22:25:19.406036Z"
    },
    "papermill": {
     "duration": 0.019265,
     "end_time": "2025-06-29T22:25:19.407933",
     "exception": false,
     "start_time": "2025-06-29T22:25:19.388668",
     "status": "completed"
    },
    "tags": []
   },
   "outputs": [],
   "source": [
    "class Mario:\n",
    "    def __init__(self, state_dim, action_dim, save_dir):\n",
    "        self.state_dim = state_dim\n",
    "        self.action_dim = action_dim\n",
    "        self.save_dir = save_dir\n",
    "        self.device = \"cuda\" if torch.cuda.is_available() else \"cpu\"\n",
    "\n",
    "        self.net = MarioNet(self.state_dim, self.action_dim).float().to(self.device)\n",
    "        self.optimizer = torch.optim.Adam(self.net.parameters(), lr=0.00025)\n",
    "        self.loss_fn = torch.nn.SmoothL1Loss()\n",
    "\n",
    "        self.exploration_rate = 1.0\n",
    "        self.exploration_rate_decay = 0.99999975\n",
    "        self.exploration_rate_min = 0.1\n",
    "        self.curr_step = 0\n",
    "        self.save_every = 5e5\n",
    "\n",
    "        self.memory = deque(maxlen=100000)\n",
    "        self.batch_size = 32\n",
    "        self.gamma = 0.9\n",
    "\n",
    "    def act(self, state):\n",
    "        if np.random.rand() < self.exploration_rate:\n",
    "            action = np.random.randint(self.action_dim)\n",
    "        else:\n",
    "            state = state[0].__array__() if isinstance(state, tuple) else state.__array__()\n",
    "            state = torch.tensor(state, device=self.device).unsqueeze(0)\n",
    "            action_values = self.net(state, model=\"online\")\n",
    "            action = torch.argmax(action_values, axis=1).item()\n",
    "\n",
    "        self.exploration_rate *= self.exploration_rate_decay\n",
    "        self.exploration_rate = max(self.exploration_rate_min, self.exploration_rate)\n",
    "        self.curr_step += 1\n",
    "        return action\n",
    "\n",
    "    def cache(self, state, next_state, action, reward, done):\n",
    "        def extract(x):\n",
    "            return x[0] if isinstance(x, tuple) else x\n",
    "\n",
    "        state = torch.tensor(extract(state).__array__())\n",
    "        next_state = torch.tensor(extract(next_state).__array__())\n",
    "        action = torch.tensor([action])\n",
    "        reward = torch.tensor([reward])\n",
    "        done = torch.tensor([done])\n",
    "        self.memory.append((state, next_state, action, reward, done))\n",
    "\n",
    "    def recall(self):\n",
    "        batch = random.sample(self.memory, self.batch_size)\n",
    "        state, next_state, action, reward, done = map(torch.stack, zip(*batch))\n",
    "        return state.to(self.device), next_state.to(self.device), action.squeeze().to(self.device), reward.squeeze().to(self.device), done.squeeze().to(self.device)\n",
    "\n",
    "    def td_estimate(self, state, action):\n",
    "        return self.net(state, model=\"online\")[np.arange(0, self.batch_size), action]\n",
    "\n",
    "    @torch.no_grad()\n",
    "    def td_target(self, reward, next_state, done):\n",
    "        next_Q = self.net(next_state, model=\"target\")\n",
    "        best_action = torch.argmax(next_Q, axis=1)\n",
    "        target_Q = self.net(next_state, model=\"target\")[np.arange(0, self.batch_size), best_action]\n",
    "        return reward + (1 - done.float()) * self.gamma * target_Q\n",
    "\n",
    "    def update_Q_online(self, td_estimate, td_target):\n",
    "        loss = self.loss_fn(td_estimate, td_target)\n",
    "        self.optimizer.zero_grad()\n",
    "        loss.backward()\n",
    "        self.optimizer.step()\n",
    "        return loss.item()\n",
    "\n",
    "    def sync_Q_target(self):\n",
    "        self.net.target.load_state_dict(self.net.online.state_dict())\n",
    "\n",
    "    def learn(self):\n",
    "        if len(self.memory) < self.batch_size:\n",
    "            return None\n",
    "        state, next_state, action, reward, done = self.recall()\n",
    "        td_est = self.td_estimate(state, action)\n",
    "        td_tgt = self.td_target(reward, next_state, done)\n",
    "        loss = self.update_Q_online(td_est, td_tgt)\n",
    "        return loss\n",
    "\n",
    "    def save(self):\n",
    "        save_path = self.save_dir / f\"mario_net_{int(self.curr_step // self.save_every)}.chkpt\"\n",
    "        torch.save(dict(model=self.net.state_dict(), exploration_rate=self.exploration_rate), save_path)\n",
    "        print(f\"MarioNet saved to {save_path} at step {self.curr_step}\")"
   ]
  },
  {
   "cell_type": "markdown",
   "id": "695afe43",
   "metadata": {
    "papermill": {
     "duration": 0.004886,
     "end_time": "2025-06-29T22:25:19.417732",
     "exception": false,
     "start_time": "2025-06-29T22:25:19.412846",
     "status": "completed"
    },
    "tags": []
   },
   "source": [
    "Learn\n",
    "=====\n",
    "\n",
    "Mario uses the [DDQN algorithm](https://arxiv.org/pdf/1509.06461) under\n",
    "the hood. DDQN uses two ConvNets - $Q_{online}$ and $Q_{target}$ - that\n",
    "independently approximate the optimal action-value function.\n",
    "\n",
    "In our implementation, we share feature generator `features` across\n",
    "$Q_{online}$ and $Q_{target}$, but maintain separate FC classifiers for\n",
    "each. $\\theta_{target}$ (the parameters of $Q_{target}$) is frozen to\n",
    "prevent updating by backprop. Instead, it is periodically synced with\n",
    "$\\theta_{online}$ (more on this later).\n"
   ]
  },
  {
   "cell_type": "markdown",
   "id": "0060ae71",
   "metadata": {
    "papermill": {
     "duration": 0.00486,
     "end_time": "2025-06-29T22:25:19.427650",
     "exception": false,
     "start_time": "2025-06-29T22:25:19.422790",
     "status": "completed"
    },
    "tags": []
   },
   "source": [
    "TD Estimate & TD Target\n",
    "=======================\n",
    "\n",
    "Two values are involved in learning:\n",
    "\n",
    "**TD Estimate** - the predicted optimal $Q^*$ for a given state $s$\n",
    "\n",
    "$${TD}_e = Q_{online}^*(s,a)$$\n",
    "\n",
    "**TD Target** - aggregation of current reward and the estimated $Q^*$ in\n",
    "the next state $s'$\n",
    "\n",
    "$$a' = argmax_{a} Q_{online}(s', a)$$\n",
    "\n",
    "$${TD}_t = r + \\gamma Q_{target}^*(s',a')$$\n",
    "\n",
    "Because we don't know what next action $a'$ will be, we use the action\n",
    "$a'$ maximizes $Q_{online}$ in the next state $s'$.\n",
    "\n",
    "Notice we use the\n",
    "[\\@torch.no\\_grad()](https://pytorch.org/docs/stable/generated/torch.no_grad.html#no-grad)\n",
    "decorator on `td_target()` to disable gradient calculations here\n",
    "(because we don't need to backpropagate on $\\theta_{target}$).\n"
   ]
  },
  {
   "cell_type": "code",
   "execution_count": 10,
   "id": "1fc0e975",
   "metadata": {
    "execution": {
     "iopub.execute_input": "2025-06-29T22:25:19.438556Z",
     "iopub.status.busy": "2025-06-29T22:25:19.438350Z",
     "iopub.status.idle": "2025-06-29T22:25:19.443458Z",
     "shell.execute_reply": "2025-06-29T22:25:19.442799Z"
    },
    "papermill": {
     "duration": 0.012045,
     "end_time": "2025-06-29T22:25:19.444660",
     "exception": false,
     "start_time": "2025-06-29T22:25:19.432615",
     "status": "completed"
    },
    "tags": []
   },
   "outputs": [],
   "source": [
    "class Mario(Mario):\n",
    "    def __init__(self, state_dim, action_dim, save_dir):\n",
    "        super().__init__(state_dim, action_dim, save_dir)\n",
    "        self.gamma = 0.9\n",
    "\n",
    "    def td_estimate(self, state, action):\n",
    "        current_Q = self.net(state, model=\"online\")[\n",
    "            np.arange(0, self.batch_size), action\n",
    "        ]  # Q_online(s,a)\n",
    "        return current_Q\n",
    "\n",
    "    @torch.no_grad()\n",
    "    def td_target(self, reward, next_state, done):\n",
    "        next_state_Q = self.net(next_state, model=\"online\")\n",
    "        best_action = torch.argmax(next_state_Q, axis=1)\n",
    "        next_Q = self.net(next_state, model=\"target\")[\n",
    "            np.arange(0, self.batch_size), best_action\n",
    "        ]\n",
    "        return (reward + (1 - done.float()) * self.gamma * next_Q).float()"
   ]
  },
  {
   "cell_type": "markdown",
   "id": "fc0148f8",
   "metadata": {
    "papermill": {
     "duration": 0.004731,
     "end_time": "2025-06-29T22:25:19.454342",
     "exception": false,
     "start_time": "2025-06-29T22:25:19.449611",
     "status": "completed"
    },
    "tags": []
   },
   "source": [
    "Updating the model\n",
    "==================\n",
    "\n",
    "As Mario samples inputs from his replay buffer, we compute $TD_t$ and\n",
    "$TD_e$ and backpropagate this loss down $Q_{online}$ to update its\n",
    "parameters $\\theta_{online}$ ($\\alpha$ is the learning rate `lr` passed\n",
    "to the `optimizer`)\n",
    "\n",
    "$$\\theta_{online} \\leftarrow \\theta_{online} + \\alpha \\nabla(TD_e - TD_t)$$\n",
    "\n",
    "$\\theta_{target}$ does not update through backpropagation. Instead, we\n",
    "periodically copy $\\theta_{online}$ to $\\theta_{target}$\n",
    "\n",
    "$$\\theta_{target} \\leftarrow \\theta_{online}$$\n"
   ]
  },
  {
   "cell_type": "code",
   "execution_count": 11,
   "id": "42dd1ff9",
   "metadata": {
    "execution": {
     "iopub.execute_input": "2025-06-29T22:25:19.465039Z",
     "iopub.status.busy": "2025-06-29T22:25:19.464847Z",
     "iopub.status.idle": "2025-06-29T22:25:19.469243Z",
     "shell.execute_reply": "2025-06-29T22:25:19.468595Z"
    },
    "papermill": {
     "duration": 0.011148,
     "end_time": "2025-06-29T22:25:19.470373",
     "exception": false,
     "start_time": "2025-06-29T22:25:19.459225",
     "status": "completed"
    },
    "tags": []
   },
   "outputs": [],
   "source": [
    "class Mario(Mario):\n",
    "    def __init__(self, state_dim, action_dim, save_dir):\n",
    "        super().__init__(state_dim, action_dim, save_dir)\n",
    "        self.optimizer = torch.optim.Adam(self.net.parameters(), lr=0.00025)\n",
    "        self.loss_fn = torch.nn.SmoothL1Loss()\n",
    "\n",
    "    def update_Q_online(self, td_estimate, td_target):\n",
    "        loss = self.loss_fn(td_estimate, td_target)\n",
    "        self.optimizer.zero_grad()\n",
    "        loss.backward()\n",
    "        self.optimizer.step()\n",
    "        return loss.item()\n",
    "\n",
    "    def sync_Q_target(self):\n",
    "        self.net.target.load_state_dict(self.net.online.state_dict())"
   ]
  },
  {
   "cell_type": "markdown",
   "id": "02421f55",
   "metadata": {
    "papermill": {
     "duration": 0.005023,
     "end_time": "2025-06-29T22:25:19.480425",
     "exception": false,
     "start_time": "2025-06-29T22:25:19.475402",
     "status": "completed"
    },
    "tags": []
   },
   "source": [
    "Save checkpoint\n",
    "===============\n"
   ]
  },
  {
   "cell_type": "code",
   "execution_count": 12,
   "id": "f37b5961",
   "metadata": {
    "execution": {
     "iopub.execute_input": "2025-06-29T22:25:19.491136Z",
     "iopub.status.busy": "2025-06-29T22:25:19.490942Z",
     "iopub.status.idle": "2025-06-29T22:25:19.494685Z",
     "shell.execute_reply": "2025-06-29T22:25:19.494071Z"
    },
    "papermill": {
     "duration": 0.01023,
     "end_time": "2025-06-29T22:25:19.495698",
     "exception": false,
     "start_time": "2025-06-29T22:25:19.485468",
     "status": "completed"
    },
    "tags": []
   },
   "outputs": [],
   "source": [
    "class Mario(Mario):\n",
    "    def save(self):\n",
    "        save_path = (\n",
    "            self.save_dir / f\"mario_net_{int(self.curr_step // self.save_every)}.chkpt\"\n",
    "        )\n",
    "        torch.save(\n",
    "            dict(model=self.net.state_dict(), exploration_rate=self.exploration_rate),\n",
    "            save_path,\n",
    "        )\n",
    "        print(f\"MarioNet saved to {save_path} at step {self.curr_step}\")"
   ]
  },
  {
   "cell_type": "markdown",
   "id": "48776920",
   "metadata": {
    "papermill": {
     "duration": 0.005127,
     "end_time": "2025-06-29T22:25:19.506125",
     "exception": false,
     "start_time": "2025-06-29T22:25:19.500998",
     "status": "completed"
    },
    "tags": []
   },
   "source": [
    "Putting it all together\n",
    "=======================\n"
   ]
  },
  {
   "cell_type": "code",
   "execution_count": 13,
   "id": "9be70207",
   "metadata": {
    "execution": {
     "iopub.execute_input": "2025-06-29T22:25:19.517135Z",
     "iopub.status.busy": "2025-06-29T22:25:19.516939Z",
     "iopub.status.idle": "2025-06-29T22:25:19.522115Z",
     "shell.execute_reply": "2025-06-29T22:25:19.521451Z"
    },
    "papermill": {
     "duration": 0.012017,
     "end_time": "2025-06-29T22:25:19.523301",
     "exception": false,
     "start_time": "2025-06-29T22:25:19.511284",
     "status": "completed"
    },
    "tags": []
   },
   "outputs": [],
   "source": [
    "class Mario(Mario):\n",
    "    def __init__(self, state_dim, action_dim, save_dir):\n",
    "        super().__init__(state_dim, action_dim, save_dir)\n",
    "        self.burnin = 1e4  # min. experiences before training\n",
    "        self.learn_every = 3  # no. of experiences between updates to Q_online\n",
    "        self.sync_every = 1e4  # no. of experiences between Q_target & Q_online sync\n",
    "\n",
    "    def learn(self):\n",
    "        if self.curr_step % self.sync_every == 0:\n",
    "            self.sync_Q_target()\n",
    "\n",
    "        if self.curr_step % self.save_every == 0:\n",
    "            self.save()\n",
    "\n",
    "        if self.curr_step < self.burnin:\n",
    "            return None, None\n",
    "\n",
    "        if self.curr_step % self.learn_every != 0:\n",
    "            return None, None\n",
    "\n",
    "        # Sample from memory\n",
    "        state, next_state, action, reward, done = self.recall()\n",
    "\n",
    "        # Get TD Estimate\n",
    "        td_est = self.td_estimate(state, action)\n",
    "\n",
    "        # Get TD Target\n",
    "        td_tgt = self.td_target(reward, next_state, done)\n",
    "\n",
    "        # Backpropagate loss through Q_online\n",
    "        loss = self.update_Q_online(td_est, td_tgt)\n",
    "\n",
    "        return (td_est.mean().item(), loss)"
   ]
  },
  {
   "cell_type": "markdown",
   "id": "62a0fc1d",
   "metadata": {
    "papermill": {
     "duration": 0.00485,
     "end_time": "2025-06-29T22:25:19.533122",
     "exception": false,
     "start_time": "2025-06-29T22:25:19.528272",
     "status": "completed"
    },
    "tags": []
   },
   "source": [
    "# Trained Loop"
   ]
  },
  {
   "cell_type": "code",
   "execution_count": 14,
   "id": "4f1ada99",
   "metadata": {
    "execution": {
     "iopub.execute_input": "2025-06-29T22:25:19.543928Z",
     "iopub.status.busy": "2025-06-29T22:25:19.543738Z",
     "iopub.status.idle": "2025-06-29T22:25:19.548345Z",
     "shell.execute_reply": "2025-06-29T22:25:19.547687Z"
    },
    "papermill": {
     "duration": 0.011212,
     "end_time": "2025-06-29T22:25:19.549447",
     "exception": false,
     "start_time": "2025-06-29T22:25:19.538235",
     "status": "completed"
    },
    "tags": []
   },
   "outputs": [],
   "source": [
    "def train(env, agent, num_episodes):\n",
    "    ep_rewards = []\n",
    "    for episode in range(num_episodes):\n",
    "        state = env.reset()\n",
    "        done = False\n",
    "        total_reward = 0\n",
    "\n",
    "        while not done:\n",
    "            action = agent.act(state)\n",
    "            next_state, reward, done, truncated, info = env.step(action)\n",
    "            agent.cache(state, next_state, action, reward, done)\n",
    "            agent.learn()\n",
    "            state = next_state\n",
    "            total_reward += reward\n",
    "\n",
    "            if done or truncated:\n",
    "                break\n",
    "        \n",
    "        ep_rewards.append(total_reward)\n",
    "        if episode % 10 == 0:\n",
    "            print(f\"Episode {episode}, reward: {total_reward}\")\n",
    "            agent.save()\n",
    "    \n",
    "    return ep_rewards"
   ]
  },
  {
   "cell_type": "code",
   "execution_count": 15,
   "id": "b6df8859",
   "metadata": {
    "execution": {
     "iopub.execute_input": "2025-06-29T22:25:19.560225Z",
     "iopub.status.busy": "2025-06-29T22:25:19.560037Z",
     "iopub.status.idle": "2025-06-29T22:25:19.893850Z",
     "shell.execute_reply": "2025-06-29T22:25:19.893029Z"
    },
    "papermill": {
     "duration": 0.341584,
     "end_time": "2025-06-29T22:25:19.895995",
     "exception": false,
     "start_time": "2025-06-29T22:25:19.554411",
     "status": "completed"
    },
    "tags": []
   },
   "outputs": [],
   "source": [
    "from pathlib import Path\n",
    "\n",
    "save_dir = Path(\"checkpoints\")\n",
    "save_dir.mkdir(exist_ok=True)\n",
    "\n",
    "mario = Mario(\n",
    "    state_dim=env.observation_space.shape,\n",
    "    action_dim=env.action_space.n,\n",
    "    save_dir=save_dir\n",
    ")"
   ]
  },
  {
   "cell_type": "code",
   "execution_count": 16,
   "id": "c396b76f",
   "metadata": {
    "execution": {
     "iopub.execute_input": "2025-06-29T22:25:19.911909Z",
     "iopub.status.busy": "2025-06-29T22:25:19.911674Z",
     "iopub.status.idle": "2025-06-29T22:48:51.360294Z",
     "shell.execute_reply": "2025-06-29T22:48:51.359449Z"
    },
    "papermill": {
     "duration": 1411.456197,
     "end_time": "2025-06-29T22:48:51.361976",
     "exception": false,
     "start_time": "2025-06-29T22:25:19.905779",
     "status": "completed"
    },
    "tags": []
   },
   "outputs": [
    {
     "name": "stdout",
     "output_type": "stream",
     "text": [
      "Episode 0, reward: 888.0\n",
      "MarioNet saved to checkpoints/mario_net_0.chkpt at step 950\n",
      "Episode 10, reward: 626.0\n",
      "MarioNet saved to checkpoints/mario_net_0.chkpt at step 2402\n",
      "Episode 20, reward: 987.0\n",
      "MarioNet saved to checkpoints/mario_net_0.chkpt at step 4883\n",
      "Episode 30, reward: 217.0\n",
      "MarioNet saved to checkpoints/mario_net_0.chkpt at step 7214\n",
      "Episode 40, reward: 1005.0\n",
      "MarioNet saved to checkpoints/mario_net_0.chkpt at step 9456\n",
      "Episode 50, reward: 683.0\n",
      "MarioNet saved to checkpoints/mario_net_0.chkpt at step 11764\n",
      "Episode 60, reward: 807.0\n",
      "MarioNet saved to checkpoints/mario_net_0.chkpt at step 14465\n",
      "Episode 70, reward: 986.0\n",
      "MarioNet saved to checkpoints/mario_net_0.chkpt at step 16275\n",
      "Episode 80, reward: 626.0\n",
      "MarioNet saved to checkpoints/mario_net_0.chkpt at step 18788\n",
      "Episode 90, reward: 1029.0\n",
      "MarioNet saved to checkpoints/mario_net_0.chkpt at step 22283\n",
      "Episode 100, reward: 627.0\n",
      "MarioNet saved to checkpoints/mario_net_0.chkpt at step 24324\n",
      "Episode 110, reward: 606.0\n",
      "MarioNet saved to checkpoints/mario_net_0.chkpt at step 26247\n",
      "Episode 120, reward: 615.0\n",
      "MarioNet saved to checkpoints/mario_net_0.chkpt at step 29011\n",
      "Episode 130, reward: 226.0\n",
      "MarioNet saved to checkpoints/mario_net_0.chkpt at step 30777\n",
      "Episode 140, reward: 231.0\n",
      "MarioNet saved to checkpoints/mario_net_0.chkpt at step 32938\n",
      "Episode 150, reward: 598.0\n",
      "MarioNet saved to checkpoints/mario_net_0.chkpt at step 34284\n",
      "Episode 160, reward: 1019.0\n",
      "MarioNet saved to checkpoints/mario_net_0.chkpt at step 36146\n",
      "Episode 170, reward: 1299.0\n",
      "MarioNet saved to checkpoints/mario_net_0.chkpt at step 39417\n",
      "Episode 180, reward: 682.0\n",
      "MarioNet saved to checkpoints/mario_net_0.chkpt at step 41638\n",
      "Episode 190, reward: 636.0\n",
      "MarioNet saved to checkpoints/mario_net_0.chkpt at step 44015\n",
      "Episode 200, reward: 1009.0\n",
      "MarioNet saved to checkpoints/mario_net_0.chkpt at step 45513\n",
      "Episode 210, reward: 979.0\n",
      "MarioNet saved to checkpoints/mario_net_0.chkpt at step 47348\n",
      "Episode 220, reward: 783.0\n",
      "MarioNet saved to checkpoints/mario_net_0.chkpt at step 49806\n",
      "Episode 230, reward: 635.0\n",
      "MarioNet saved to checkpoints/mario_net_0.chkpt at step 51095\n",
      "Episode 240, reward: 1627.0\n",
      "MarioNet saved to checkpoints/mario_net_0.chkpt at step 53370\n",
      "Episode 250, reward: 605.0\n",
      "MarioNet saved to checkpoints/mario_net_0.chkpt at step 56030\n",
      "Episode 260, reward: 231.0\n",
      "MarioNet saved to checkpoints/mario_net_0.chkpt at step 58304\n",
      "Episode 270, reward: 1273.0\n",
      "MarioNet saved to checkpoints/mario_net_0.chkpt at step 61108\n",
      "Episode 280, reward: 598.0\n",
      "MarioNet saved to checkpoints/mario_net_0.chkpt at step 63997\n",
      "Episode 290, reward: 231.0\n",
      "MarioNet saved to checkpoints/mario_net_0.chkpt at step 65176\n",
      "Episode 300, reward: 1027.0\n",
      "MarioNet saved to checkpoints/mario_net_0.chkpt at step 67433\n",
      "Episode 310, reward: 231.0\n",
      "MarioNet saved to checkpoints/mario_net_0.chkpt at step 68978\n",
      "Episode 320, reward: 231.0\n",
      "MarioNet saved to checkpoints/mario_net_0.chkpt at step 71992\n",
      "Episode 330, reward: 1024.0\n",
      "MarioNet saved to checkpoints/mario_net_0.chkpt at step 74498\n",
      "Episode 340, reward: 226.0\n",
      "MarioNet saved to checkpoints/mario_net_0.chkpt at step 76073\n",
      "Episode 350, reward: 971.0\n",
      "MarioNet saved to checkpoints/mario_net_0.chkpt at step 79086\n",
      "Episode 360, reward: 223.0\n",
      "MarioNet saved to checkpoints/mario_net_0.chkpt at step 81652\n",
      "Episode 370, reward: 1295.0\n",
      "MarioNet saved to checkpoints/mario_net_0.chkpt at step 84171\n",
      "Episode 380, reward: 914.0\n",
      "MarioNet saved to checkpoints/mario_net_0.chkpt at step 86340\n",
      "Episode 390, reward: 616.0\n",
      "MarioNet saved to checkpoints/mario_net_0.chkpt at step 88307\n",
      "Episode 400, reward: 596.0\n",
      "MarioNet saved to checkpoints/mario_net_0.chkpt at step 90073\n",
      "Episode 410, reward: 231.0\n",
      "MarioNet saved to checkpoints/mario_net_0.chkpt at step 91215\n",
      "Episode 420, reward: 598.0\n",
      "MarioNet saved to checkpoints/mario_net_0.chkpt at step 92481\n",
      "Episode 430, reward: 747.0\n",
      "MarioNet saved to checkpoints/mario_net_0.chkpt at step 95248\n",
      "Episode 440, reward: 803.0\n",
      "MarioNet saved to checkpoints/mario_net_0.chkpt at step 96811\n",
      "Episode 450, reward: 226.0\n",
      "MarioNet saved to checkpoints/mario_net_0.chkpt at step 97864\n",
      "Episode 460, reward: 783.0\n",
      "MarioNet saved to checkpoints/mario_net_0.chkpt at step 99293\n",
      "Episode 470, reward: 605.0\n",
      "MarioNet saved to checkpoints/mario_net_0.chkpt at step 101176\n",
      "Episode 480, reward: 231.0\n",
      "MarioNet saved to checkpoints/mario_net_0.chkpt at step 103338\n",
      "Episode 490, reward: 222.0\n",
      "MarioNet saved to checkpoints/mario_net_0.chkpt at step 105035\n"
     ]
    }
   ],
   "source": [
    "ep_rewards = train(env, mario, num_episodes=500)"
   ]
  },
  {
   "cell_type": "markdown",
   "id": "4218d52f",
   "metadata": {
    "papermill": {
     "duration": 0.007348,
     "end_time": "2025-06-29T22:48:51.377371",
     "exception": false,
     "start_time": "2025-06-29T22:48:51.370023",
     "status": "completed"
    },
    "tags": []
   },
   "source": [
    "Logging\n",
    "======="
   ]
  },
  {
   "cell_type": "code",
   "execution_count": 17,
   "id": "b1f3101f",
   "metadata": {
    "execution": {
     "iopub.execute_input": "2025-06-29T22:48:51.393051Z",
     "iopub.status.busy": "2025-06-29T22:48:51.392783Z",
     "iopub.status.idle": "2025-06-29T22:48:51.413574Z",
     "shell.execute_reply": "2025-06-29T22:48:51.413039Z"
    },
    "papermill": {
     "duration": 0.030141,
     "end_time": "2025-06-29T22:48:51.414658",
     "exception": false,
     "start_time": "2025-06-29T22:48:51.384517",
     "status": "completed"
    },
    "tags": []
   },
   "outputs": [],
   "source": [
    "import numpy as np\n",
    "import time, datetime\n",
    "import matplotlib.pyplot as plt\n",
    "\n",
    "\n",
    "class MetricLogger:\n",
    "    def __init__(self, save_dir):\n",
    "        self.save_log = save_dir / \"log\"\n",
    "        with open(self.save_log, \"w\") as f:\n",
    "            f.write(\n",
    "                f\"{'Episode':>8}{'Step':>8}{'Epsilon':>10}{'MeanReward':>15}\"\n",
    "                f\"{'MeanLength':>15}{'MeanLoss':>15}{'MeanQValue':>15}\"\n",
    "                f\"{'TimeDelta':>15}{'Time':>20}\\n\"\n",
    "            )\n",
    "        self.ep_rewards_plot = save_dir / \"reward_plot.jpg\"\n",
    "        self.ep_lengths_plot = save_dir / \"length_plot.jpg\"\n",
    "        self.ep_avg_losses_plot = save_dir / \"loss_plot.jpg\"\n",
    "        self.ep_avg_qs_plot = save_dir / \"q_plot.jpg\"\n",
    "\n",
    "        # History metrics\n",
    "        self.ep_rewards = []\n",
    "        self.ep_lengths = []\n",
    "        self.ep_avg_losses = []\n",
    "        self.ep_avg_qs = []\n",
    "\n",
    "        # Moving averages, added for every call to record()\n",
    "        self.moving_avg_ep_rewards = []\n",
    "        self.moving_avg_ep_lengths = []\n",
    "        self.moving_avg_ep_avg_losses = []\n",
    "        self.moving_avg_ep_avg_qs = []\n",
    "\n",
    "        # Current episode metric\n",
    "        self.init_episode()\n",
    "\n",
    "        # Timing\n",
    "        self.record_time = time.time()\n",
    "\n",
    "    def log_step(self, reward, loss, q):\n",
    "        self.curr_ep_reward += reward\n",
    "        self.curr_ep_length += 1\n",
    "        if loss:\n",
    "            self.curr_ep_loss += loss\n",
    "            self.curr_ep_q += q\n",
    "            self.curr_ep_loss_length += 1\n",
    "\n",
    "    def log_episode(self):\n",
    "        \"Mark end of episode\"\n",
    "        self.ep_rewards.append(self.curr_ep_reward)\n",
    "        self.ep_lengths.append(self.curr_ep_length)\n",
    "        if self.curr_ep_loss_length == 0:\n",
    "            ep_avg_loss = 0\n",
    "            ep_avg_q = 0\n",
    "        else:\n",
    "            ep_avg_loss = np.round(self.curr_ep_loss / self.curr_ep_loss_length, 5)\n",
    "            ep_avg_q = np.round(self.curr_ep_q / self.curr_ep_loss_length, 5)\n",
    "        self.ep_avg_losses.append(ep_avg_loss)\n",
    "        self.ep_avg_qs.append(ep_avg_q)\n",
    "\n",
    "        self.init_episode()\n",
    "\n",
    "    def init_episode(self):\n",
    "        self.curr_ep_reward = 0.0\n",
    "        self.curr_ep_length = 0\n",
    "        self.curr_ep_loss = 0.0\n",
    "        self.curr_ep_q = 0.0\n",
    "        self.curr_ep_loss_length = 0\n",
    "\n",
    "    def record(self, episode, epsilon, step):\n",
    "        mean_ep_reward = np.round(np.mean(self.ep_rewards[-100:]), 3)\n",
    "        mean_ep_length = np.round(np.mean(self.ep_lengths[-100:]), 3)\n",
    "        mean_ep_loss = np.round(np.mean(self.ep_avg_losses[-100:]), 3)\n",
    "        mean_ep_q = np.round(np.mean(self.ep_avg_qs[-100:]), 3)\n",
    "        self.moving_avg_ep_rewards.append(mean_ep_reward)\n",
    "        self.moving_avg_ep_lengths.append(mean_ep_length)\n",
    "        self.moving_avg_ep_avg_losses.append(mean_ep_loss)\n",
    "        self.moving_avg_ep_avg_qs.append(mean_ep_q)\n",
    "\n",
    "        last_record_time = self.record_time\n",
    "        self.record_time = time.time()\n",
    "        time_since_last_record = np.round(self.record_time - last_record_time, 3)\n",
    "\n",
    "        print(\n",
    "            f\"Episode {episode} - \"\n",
    "            f\"Step {step} - \"\n",
    "            f\"Epsilon {epsilon} - \"\n",
    "            f\"Mean Reward {mean_ep_reward} - \"\n",
    "            f\"Mean Length {mean_ep_length} - \"\n",
    "            f\"Mean Loss {mean_ep_loss} - \"\n",
    "            f\"Mean Q Value {mean_ep_q} - \"\n",
    "            f\"Time Delta {time_since_last_record} - \"\n",
    "            f\"Time {datetime.datetime.now().strftime('%Y-%m-%dT%H:%M:%S')}\"\n",
    "        )\n",
    "\n",
    "        with open(self.save_log, \"a\") as f:\n",
    "            f.write(\n",
    "                f\"{episode:8d}{step:8d}{epsilon:10.3f}\"\n",
    "                f\"{mean_ep_reward:15.3f}{mean_ep_length:15.3f}{mean_ep_loss:15.3f}{mean_ep_q:15.3f}\"\n",
    "                f\"{time_since_last_record:15.3f}\"\n",
    "                f\"{datetime.datetime.now().strftime('%Y-%m-%dT%H:%M:%S'):>20}\\n\"\n",
    "            )\n",
    "\n",
    "        for metric in [\"ep_lengths\", \"ep_avg_losses\", \"ep_avg_qs\", \"ep_rewards\"]:\n",
    "            plt.clf()\n",
    "            plt.plot(getattr(self, f\"moving_avg_{metric}\"), label=f\"moving_avg_{metric}\")\n",
    "            plt.legend()\n",
    "            plt.savefig(getattr(self, f\"{metric}_plot\"))"
   ]
  },
  {
   "cell_type": "code",
   "execution_count": 18,
   "id": "fdcf6cb0",
   "metadata": {
    "execution": {
     "iopub.execute_input": "2025-06-29T22:48:51.429863Z",
     "iopub.status.busy": "2025-06-29T22:48:51.429644Z",
     "iopub.status.idle": "2025-06-29T22:48:51.686933Z",
     "shell.execute_reply": "2025-06-29T22:48:51.686192Z"
    },
    "papermill": {
     "duration": 0.266476,
     "end_time": "2025-06-29T22:48:51.688228",
     "exception": false,
     "start_time": "2025-06-29T22:48:51.421752",
     "status": "completed"
    },
    "tags": []
   },
   "outputs": [
    {
     "data": {
      "image/png": "[encoded data removed]",
      "text/plain": [
       "<Figure size 640x480 with 1 Axes>"
      ]
     },
     "metadata": {},
     "output_type": "display_data"
    }
   ],
   "source": [
    "import matplotlib.pyplot as plt\n",
    "\n",
    "plt.plot(ep_rewards)\n",
    "plt.title(\"Recompensa total por episodio\")\n",
    "plt.xlabel(\"Episodio\")\n",
    "plt.ylabel(\"Recompensa\")\n",
    "plt.grid(True)\n",
    "plt.show()"
   ]
  },
  {
   "cell_type": "markdown",
   "id": "665967b3",
   "metadata": {
    "papermill": {
     "duration": 0.008058,
     "end_time": "2025-06-29T22:48:51.705546",
     "exception": false,
     "start_time": "2025-06-29T22:48:51.697488",
     "status": "completed"
    },
    "tags": []
   },
   "source": [
    "# Record episode"
   ]
  },
  {
   "cell_type": "code",
   "execution_count": 19,
   "id": "8698064a",
   "metadata": {
    "execution": {
     "iopub.execute_input": "2025-06-29T22:48:51.722864Z",
     "iopub.status.busy": "2025-06-29T22:48:51.722555Z",
     "iopub.status.idle": "2025-06-29T22:48:51.727111Z",
     "shell.execute_reply": "2025-06-29T22:48:51.726593Z"
    },
    "papermill": {
     "duration": 0.01439,
     "end_time": "2025-06-29T22:48:51.728024",
     "exception": false,
     "start_time": "2025-06-29T22:48:51.713634",
     "status": "completed"
    },
    "tags": []
   },
   "outputs": [],
   "source": [
    "def record_episode(env, policy_fn, filename, max_steps=5000):\n",
    "    import imageio\n",
    "    frames = []\n",
    "    state = env.reset()\n",
    "    for _ in range(max_steps):\n",
    "        action = policy_fn(state)\n",
    "        state, reward, done, truncated, info = env.step(action)\n",
    "        frame = env.render(mode='rgb_array')  # for headless envs\n",
    "        frames.append(frame)\n",
    "        if done or truncated:\n",
    "            break\n",
    "    imageio.mimsave(filename, frames, fps=30)\n",
    "    print(f\"Video saved: {filename}\")"
   ]
  },
  {
   "cell_type": "code",
   "execution_count": 20,
   "id": "447da624",
   "metadata": {
    "execution": {
     "iopub.execute_input": "2025-06-29T22:48:51.745237Z",
     "iopub.status.busy": "2025-06-29T22:48:51.745039Z",
     "iopub.status.idle": "2025-06-29T22:48:54.079409Z",
     "shell.execute_reply": "2025-06-29T22:48:54.078283Z"
    },
    "papermill": {
     "duration": 2.344445,
     "end_time": "2025-06-29T22:48:54.080782",
     "exception": false,
     "start_time": "2025-06-29T22:48:51.736337",
     "status": "completed"
    },
    "tags": []
   },
   "outputs": [
    {
     "name": "stderr",
     "output_type": "stream",
     "text": [
      "/usr/local/lib/python3.11/dist-packages/gym/core.py:43: DeprecationWarning: \u001b[33mWARN: The argument mode in render method is deprecated; use render_mode during environment initialization instead.\n",
      "See here for more information: https://www.gymlibrary.ml/content/api/\u001b[0m\n",
      "  deprecation(\n",
      "/usr/local/lib/python3.11/dist-packages/gym/utils/passive_env_checker.py:280: UserWarning: \u001b[33mWARN: No render modes was declared in the environment (env.metadata['render_modes'] is None or not defined), you may have trouble when calling `.render()`.\u001b[0m\n",
      "  logger.warn(\n"
     ]
    },
    {
     "name": "stdout",
     "output_type": "stream",
     "text": [
      "Video saved: random_policy.mp4\n"
     ]
    }
   ],
   "source": [
    "# Antes del entrenamiento\n",
    "record_episode(env, lambda s: env.action_space.sample(), \"random_policy.mp4\")"
   ]
  },
  {
   "cell_type": "code",
   "execution_count": 21,
   "id": "f6c17a6c",
   "metadata": {
    "execution": {
     "iopub.execute_input": "2025-06-29T22:48:54.099714Z",
     "iopub.status.busy": "2025-06-29T22:48:54.099442Z",
     "iopub.status.idle": "2025-06-29T22:48:55.257223Z",
     "shell.execute_reply": "2025-06-29T22:48:55.256288Z"
    },
    "papermill": {
     "duration": 1.168768,
     "end_time": "2025-06-29T22:48:55.258645",
     "exception": false,
     "start_time": "2025-06-29T22:48:54.089877",
     "status": "completed"
    },
    "tags": []
   },
   "outputs": [
    {
     "name": "stdout",
     "output_type": "stream",
     "text": [
      "Video saved: trained_policy.mp4\n"
     ]
    }
   ],
   "source": [
    "# Después del entrenamiento\n",
    "mario.exploration_rate = 0.0\n",
    "record_episode(env, lambda s: mario.act(s), \"trained_policy.mp4\")"
   ]
  }
 ],
 "metadata": {
  "kaggle": {
   "accelerator": "nvidiaTeslaT4",
   "dataSources": [],
   "dockerImageVersionId": 31040,
   "isGpuEnabled": true,
   "isInternetEnabled": true,
   "language": "python",
   "sourceType": "notebook"
  },
  "kernelspec": {
   "display_name": "Python 3",
   "language": "python",
   "name": "python3"
  },
  "language_info": {
   "codemirror_mode": {
    "name": "ipython",
    "version": 3
   },
   "file_extension": ".py",
   "mimetype": "text/x-python",
   "name": "python",
   "nbconvert_exporter": "python",
   "pygments_lexer": "ipython3",
   "version": "3.11.11"
  },
  "papermill": {
   "default_parameters": {},
   "duration": 1541.871967,
   "end_time": "2025-06-29T22:49:00.682369",
   "environment_variables": {},
   "exception": null,
   "input_path": "__notebook__.ipynb",
   "output_path": "__notebook__.ipynb",
   "parameters": {},
   "start_time": "2025-06-29T22:23:18.810402",
   "version": "2.6.0"
  }
 },
 "nbformat": 4,
 "nbformat_minor": 5
}
