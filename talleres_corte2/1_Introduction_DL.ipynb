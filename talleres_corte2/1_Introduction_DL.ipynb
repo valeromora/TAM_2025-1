{
  "nbformat": 4,
  "nbformat_minor": 0,
  "metadata": {
    "kernelspec": {
      "display_name": "Python 3",
      "name": "python3"
    },
    "language_info": {
      "codemirror_mode": {
        "name": "ipython",
        "version": 3
      },
      "file_extension": ".py",
      "mimetype": "text/x-python",
      "name": "python",
      "nbconvert_exporter": "python",
      "pygments_lexer": "ipython3",
      "version": "3.7.6"
    },
    "colab": {
      "provenance": [],
      "gpuType": "V28",
      "include_colab_link": true
    },
    "accelerator": "TPU"
  },
  "cells": [
    {
      "cell_type": "markdown",
      "metadata": {
        "id": "view-in-github",
        "colab_type": "text"
      },
      "source": [
        "<a href=\"https://colab.research.google.com/github/valeromora/TAM_2025-1/blob/main/talleres_corte2/1_Introduction_DL.ipynb\" target=\"_parent\"><img src=\"https://colab.research.google.com/assets/colab-badge.svg\" alt=\"Open In Colab\"/></a>"
      ]
    },
    {
      "cell_type": "markdown",
      "metadata": {
        "id": "8SaSInnK0Z-5"
      },
      "source": [
        "# Introducción a las redes neuronales profundas\n",
        "\n",
        "- Se presentan los principios básicos de funcionamiento de las redes neuronales a partir del perceptrón simple hasta perceptrones multicapa.\n",
        "\n",
        "- Se implementan arquitecturas secuenciales utilizando la librería [TensorFlow](https://www.tensorflow.org/overview?hl=es-419) y la [API Keras](https://keras.io/)."
      ]
    },
    {
      "cell_type": "markdown",
      "metadata": {
        "id": "hNX1RPc_1B0s"
      },
      "source": [
        "## Perceptrón\n",
        "\n",
        "- El perceptrón presenta un modelo lineal de la forma:\n",
        "\n",
        "$$\\hat{y} = {\\rm{sign}}(\\mathbf{w}^\\top \\mathbf{x}) $$\n",
        "\n",
        "- Para optimizarlo, se plantea un algoritmo de gradiente descendiente estocástico:\n",
        "\n",
        "$$\\mathbf{w}^* = \\arg\\max_{\\mathbf{w}} - \\sum_{\\mathbf{x}_n\\in \\mathbf{X}}\\langle \\mathbf{w}^\\top \\mathbf{x}_n ,y_n\\rangle$$\n",
        "\n",
        "$$\\mathbf{w}_i =\\mathbf{w}_{i-1}-\\eta_i \\mathbf{x}_ny_n$$\n",
        "\n",
        "donde $\\mathbf{x}_n,\\mathbf{w}\\in\\mathbb{R}^P$ corresponde a la $n$-ésima muestra y al vector de pesos; $y_n\\in\\{-1,+1\\}$ son las etiquetas objetivo, y $\\eta_i\\in \\mathbb{R}^+$ es el hiperparámetro tasa de aprendizaje (learning rate)."
      ]
    },
    {
      "cell_type": "markdown",
      "metadata": {
        "id": "XByP4Wyx1B0s"
      },
      "source": [
        "**Scikit-Learn** proporciona una clase *Perceptron* que implementa una única red."
      ]
    },
    {
      "cell_type": "code",
      "metadata": {
        "id": "6SySVUDl1B0s",
        "colab": {
          "base_uri": "https://localhost:8080/"
        },
        "outputId": "552df5f9-c656-4f30-ff81-02428f6d52a7"
      },
      "source": [
        "import numpy as np\n",
        "from sklearn.datasets import load_iris\n",
        "from sklearn.linear_model import Perceptron\n",
        "\n",
        "iris = load_iris()\n",
        "X    = iris.data[:, (2, 3)]  # petal length, petal width\n",
        "y    = (iris.target == 0)/1.0\n",
        "\n",
        "per_clf = Perceptron(max_iter=1000, tol=1e-3, random_state=42)\n",
        "per_clf.fit(X, y)\n",
        "\n",
        "y_pred = per_clf.predict([[2, 0.5]])\n",
        "print(X.shape)\n",
        "print(y.shape)"
      ],
      "execution_count": null,
      "outputs": [
        {
          "output_type": "stream",
          "name": "stdout",
          "text": [
            "(150, 2)\n",
            "(150,)\n"
          ]
        }
      ]
    },
    {
      "cell_type": "code",
      "metadata": {
        "id": "rbzY3xip1B0s",
        "colab": {
          "base_uri": "https://localhost:8080/"
        },
        "outputId": "1ab81459-19f2-46d8-e3b7-3484ddad56b7"
      },
      "source": [
        "y_pred"
      ],
      "execution_count": null,
      "outputs": [
        {
          "output_type": "execute_result",
          "data": {
            "text/plain": [
              "array([1.])"
            ]
          },
          "metadata": {},
          "execution_count": 2
        }
      ]
    },
    {
      "cell_type": "markdown",
      "metadata": {
        "id": "yR8hVhE29G85"
      },
      "source": [
        "- Se presenta la frontera de decisión mediante la curva $f(\\mathbf{x})=0$."
      ]
    },
    {
      "cell_type": "code",
      "metadata": {
        "id": "PXlu1cTt1B0s",
        "colab": {
          "base_uri": "https://localhost:8080/",
          "height": 398
        },
        "outputId": "a115a5ee-44d3-4c7f-cd74-f2d821bbb89e"
      },
      "source": [
        "# Graficar fronteras de decisión\n",
        "#---------------------------\n",
        "import matplotlib.pyplot as plt\n",
        "\n",
        "a      = -per_clf.coef_[0][0] / per_clf.coef_[0][1]\n",
        "b      = -per_clf.intercept_ / per_clf.coef_[0][1]\n",
        "axes   = [0, 5, 0, 2]\n",
        "x0, x1 = np.meshgrid(\n",
        "        np.linspace(axes[0], axes[1], 500).reshape(-1, 1),\n",
        "        np.linspace(axes[2], axes[3], 200).reshape(-1, 1),\n",
        "    )\n",
        "X_new     = np.c_[x0.ravel(), x1.ravel()]\n",
        "y_predict = per_clf.predict(X_new)\n",
        "zz        = y_predict.reshape(x0.shape)\n",
        "\n",
        "plt.figure(figsize=(10, 4))\n",
        "plt.plot(X[y==0, 0], X[y==0, 1], \"bs\", label=\"Not Iris-Setosa\")\n",
        "plt.plot(X[y==1, 0], X[y==1, 1], \"yo\", label=\"Iris-Setosa\")\n",
        "\n",
        "plt.plot([axes[0], axes[1]], [a * axes[0] + b, a * axes[1] + b], \"k-\", linewidth=3)\n",
        "\n",
        "from matplotlib.colors import ListedColormap\n",
        "custom_cmap = ListedColormap(['#9898ff', '#fafab0'])\n",
        "\n",
        "plt.contourf(x0, x1, zz, cmap=custom_cmap)\n",
        "plt.xlabel(\"Petal length\", fontsize=14)\n",
        "plt.ylabel(\"Petal width\", fontsize=14)\n",
        "plt.legend(loc=\"lower right\", fontsize=14)\n",
        "plt.axis(axes)\n",
        "\n",
        "#save_fig(\"perceptron_iris_plot\")\n",
        "plt.show()"
      ],
      "execution_count": null,
      "outputs": [
        {
          "output_type": "display_data",
          "data": {
            "text/plain": [
              "<Figure size 1000x400 with 1 Axes>"
            ],
            "image/png": "[encoded data removed]"
          },
          "metadata": {}
        }
      ]
    },
    {
      "cell_type": "markdown",
      "metadata": {
        "id": "HlRoX5i21B0s"
      },
      "source": [
        "El **algoritmo de aprendizaje** de Perceptron se parece mucho al **SGD**. De hecho, la clase de *Perceptron* de Scikit-Learn es equivalente a usar *SGDClassifier* con los siguientes hiperparámetros:\n",
        "- *loss*          = \"perceptron\",\n",
        "- *learning_rate* = \"constant\",\n",
        "- *eta0*          = 1 (la tasa de aprendizaje) y\n",
        "- *penalty*       = \"None\" (sin regularización)."
      ]
    },
    {
      "cell_type": "markdown",
      "metadata": {
        "id": "NaDKRRFj1B0t"
      },
      "source": [
        "- Tengamos en cuenta que, al **contrario de los clasificadores de regresión logística**, los perceptrones **no generan una probabilidad de clase; más bien, solo hacen predicciones basadas en un umbral de decisión - distancia a la frontera**.\n",
        "\n",
        "- Esta es una de las buenas razones para preferir la Regresión logística sobre los Perceptrones."
      ]
    },
    {
      "cell_type": "markdown",
      "metadata": {
        "id": "mIvP8USV1B0t"
      },
      "source": [
        "## Funciones de activación\n",
        "\n",
        "- En general, un modelo de redes neuronales profundas, se pueden ver como una función compuesta, mediante productos lineales en cascada con funciones de activación no lineal.\n",
        "\n",
        "- La función signo y la función escalón, presentan discontinuidades de primer orden, lo que inestabiliza sus gradientes.\n",
        "\n",
        "- Por ende, se prefiere trabajar con funciones sigmoide, relu, y tanh:\n",
        "\n",
        "  $${\\rm{sigmoid}}(x)=\\frac{1}{1+e^{-x}}$$\n",
        "\n",
        "  $${\\rm{relu}}(x)=\\max(0,x)$$\n",
        "\n",
        "  $${\\rm{tanh}}(x)=\\frac{e^x-e^{-x}}{e^x+e^{-x}}$$\n"
      ]
    },
    {
      "cell_type": "code",
      "metadata": {
        "id": "r_5NTAfO1B0t"
      },
      "source": [
        "def sigmoid(z):\n",
        "    return 1 / (1 + np.exp(-z))\n",
        "\n",
        "def relu(z):\n",
        "    return np.maximum(0, z)\n",
        "\n",
        "def derivative(f, z, eps=0.000001):#se presentan las derivadas numéricas\n",
        "    return (f(z + eps) - f(z - eps))/(2 * eps)"
      ],
      "execution_count": null,
      "outputs": []
    },
    {
      "cell_type": "code",
      "metadata": {
        "id": "p1cb1VqR1B0t",
        "colab": {
          "base_uri": "https://localhost:8080/",
          "height": 392
        },
        "outputId": "5acb22bd-f699-40a0-b320-46516680a50e"
      },
      "source": [
        "z = np.linspace(-5, 5, 200)\n",
        "\n",
        "plt.figure(figsize=(11,4))\n",
        "\n",
        "plt.subplot(121)\n",
        "plt.plot(z, np.sign(z), \"r-\", linewidth=1, label=\"Step\")\n",
        "plt.plot(z, sigmoid(z), \"g--\", linewidth=2, label=\"Sigmoid\")\n",
        "plt.plot(z, np.tanh(z), \"b-\", linewidth=2, label=\"Tanh\")\n",
        "plt.plot(z, relu(z), \"m-.\", linewidth=2, label=\"ReLU\")\n",
        "plt.grid(True)\n",
        "plt.legend(loc=\"center right\", fontsize=14)\n",
        "plt.title(\"Activation functions\", fontsize=14)\n",
        "plt.axis([-5, 5, -1.2, 1.2])\n",
        "\n",
        "plt.subplot(122)\n",
        "plt.plot(z, derivative(np.sign, z), \"r-\", linewidth=1, label=\"Step\")\n",
        "plt.plot(0, 0, \"ro\", markersize=5)\n",
        "plt.plot(0, 0, \"rx\", markersize=10)\n",
        "plt.plot(z, derivative(sigmoid, z), \"g--\", linewidth=2, label=\"Sigmoid\")\n",
        "plt.plot(z, derivative(np.tanh, z), \"b-\", linewidth=2, label=\"Tanh\")\n",
        "plt.plot(z, derivative(relu, z), \"m-.\", linewidth=2, label=\"ReLU\")\n",
        "plt.grid(True)\n",
        "#plt.legend(loc=\"center right\", fontsize=14)\n",
        "plt.title(\"Derivatives\", fontsize=14)\n",
        "plt.axis([-5, 5, -0.2, 1.2])\n",
        "\n",
        "#save_fig(\"activation_functions_plot\")\n",
        "plt.show()"
      ],
      "execution_count": null,
      "outputs": [
        {
          "output_type": "display_data",
          "data": {
            "text/plain": [
              "<Figure size 1100x400 with 2 Axes>"
            ],
            "image/png": "[encoded data removed]"
          },
          "metadata": {}
        }
      ]
    },
    {
      "cell_type": "markdown",
      "source": [
        "# Del perceptrón simple al perceptrón multicapa y las redes profundas.\n",
        "\n",
        "- Utilizando el mismo  principio del perceptrón, se pueden apilar varias capas (perceptrón multicapa) para mejorar la representación de los datos:\n",
        "\n",
        "![mlp](https://github.com/amalvarezme/AnaliticaDatos/blob/master/5_Aprendizaje_Profundo/mlp.png?raw=1)\n",
        "\n",
        "- En este sentido, una buena combianción de capas y neuronas (depurar el espacio de representación) junto con activación apropiadas (codificar patrones no lineales), permite encontrar estructuras relevantes de datos bajo un esquema de optimización por gradiente descendiente (escalable y paralelizable).\n",
        "\n",
        "- Ver [plataforma playground TensorFlow](https://playground.tensorflow.org/) para manipular distintas configuración del perceptrón multicapa.\n",
        "\n",
        "- En general, la capacidad de representación de los modelos profundos (deep learning por sus siglas en inglés), al apilar distintas capas, neuronas, y activación, se soporta bajo cuatro aspectos principales:\n",
        "\n",
        "  -- Buena disponibilidad de datos de proceso.\n",
        "\n",
        "  -- Optimización mediante gradiente descendiente y el algoritmo backpropagation.\n",
        "\n",
        "  -- Paralelización de los procesos de optimización mediante, [CPU](https://en.wikipedia.org/wiki/Central_processing_unit), [GPU](https://en.wikipedia.org/wiki/Graphics_processing_unit) y [TPU](https://en.wikipedia.org/wiki/Tensor_Processing_Unit).\n",
        "\n",
        "  -- **NO** se requiere calcular derivadas simbólicas, en cambio, se estiman mediante [derivación automática](https://github.com/amalvarezme/AprendizajeMaquina/blob/main/5_DeepLearning/2_Autodiff.pdf)"
      ],
      "metadata": {
        "id": "srveVnS4PaBV"
      }
    },
    {
      "cell_type": "markdown",
      "metadata": {
        "id": "THy4H-Bp1B0t"
      },
      "source": [
        "## Construyendo un clasificador de imágenes"
      ]
    },
    {
      "cell_type": "markdown",
      "metadata": {
        "id": "ZHUWUpMF1B0t"
      },
      "source": [
        "- Ahora extenderemos el perceptrón simple, a arquitecturas más complejas que puedan ser paralelizadas mediante GPU utilizando TensorFlow y Keras, y que además permitan el cálculo automático de las derivadas."
      ]
    },
    {
      "cell_type": "code",
      "metadata": {
        "id": "1445ec77",
        "outputId": "cf07f34b-bb22-4789-ca87-533f3a978e61",
        "colab": {
          "base_uri": "https://localhost:8080/"
        }
      },
      "source": [
        "!pip install tensorflow"
      ],
      "execution_count": null,
      "outputs": [
        {
          "output_type": "stream",
          "name": "stdout",
          "text": [
            "Requirement already satisfied: tensorflow in /usr/local/lib/python3.11/dist-packages (2.19.0)\n",
            "Requirement already satisfied: absl-py>=1.0.0 in /usr/local/lib/python3.11/dist-packages (from tensorflow) (1.4.0)\n",
            "Requirement already satisfied: astunparse>=1.6.0 in /usr/local/lib/python3.11/dist-packages (from tensorflow) (1.6.3)\n",
            "Requirement already satisfied: flatbuffers>=24.3.25 in /usr/local/lib/python3.11/dist-packages (from tensorflow) (25.2.10)\n",
            "Requirement already satisfied: gast!=0.5.0,!=0.5.1,!=0.5.2,>=0.2.1 in /usr/local/lib/python3.11/dist-packages (from tensorflow) (0.6.0)\n",
            "Requirement already satisfied: google-pasta>=0.1.1 in /usr/local/lib/python3.11/dist-packages (from tensorflow) (0.2.0)\n",
            "Requirement already satisfied: libclang>=13.0.0 in /usr/local/lib/python3.11/dist-packages (from tensorflow) (18.1.1)\n",
            "Requirement already satisfied: opt-einsum>=2.3.2 in /usr/local/lib/python3.11/dist-packages (from tensorflow) (3.4.0)\n",
            "Requirement already satisfied: packaging in /usr/local/lib/python3.11/dist-packages (from tensorflow) (25.0)\n",
            "Requirement already satisfied: protobuf!=4.21.0,!=4.21.1,!=4.21.2,!=4.21.3,!=4.21.4,!=4.21.5,<6.0.0dev,>=3.20.3 in /usr/local/lib/python3.11/dist-packages (from tensorflow) (5.29.5)\n",
            "Requirement already satisfied: requests<3,>=2.21.0 in /usr/local/lib/python3.11/dist-packages (from tensorflow) (2.32.3)\n",
            "Requirement already satisfied: setuptools in /usr/local/lib/python3.11/dist-packages (from tensorflow) (75.2.0)\n",
            "Requirement already satisfied: six>=1.12.0 in /usr/local/lib/python3.11/dist-packages (from tensorflow) (1.17.0)\n",
            "Requirement already satisfied: termcolor>=1.1.0 in /usr/local/lib/python3.11/dist-packages (from tensorflow) (3.1.0)\n",
            "Requirement already satisfied: typing-extensions>=3.6.6 in /usr/local/lib/python3.11/dist-packages (from tensorflow) (4.14.0)\n",
            "Requirement already satisfied: wrapt>=1.11.0 in /usr/local/lib/python3.11/dist-packages (from tensorflow) (1.17.2)\n",
            "Requirement already satisfied: grpcio<2.0,>=1.24.3 in /usr/local/lib/python3.11/dist-packages (from tensorflow) (1.73.0)\n",
            "Requirement already satisfied: tensorboard~=2.19.0 in /usr/local/lib/python3.11/dist-packages (from tensorflow) (2.19.0)\n",
            "Requirement already satisfied: keras>=3.5.0 in /usr/local/lib/python3.11/dist-packages (from tensorflow) (3.8.0)\n",
            "Requirement already satisfied: numpy<2.2.0,>=1.26.0 in /usr/local/lib/python3.11/dist-packages (from tensorflow) (2.0.2)\n",
            "Requirement already satisfied: h5py>=3.11.0 in /usr/local/lib/python3.11/dist-packages (from tensorflow) (3.14.0)\n",
            "Requirement already satisfied: ml-dtypes<1.0.0,>=0.5.1 in /usr/local/lib/python3.11/dist-packages (from tensorflow) (0.5.1)\n",
            "Requirement already satisfied: tensorflow-io-gcs-filesystem>=0.23.1 in /usr/local/lib/python3.11/dist-packages (from tensorflow) (0.37.1)\n",
            "Requirement already satisfied: wheel<1.0,>=0.23.0 in /usr/local/lib/python3.11/dist-packages (from astunparse>=1.6.0->tensorflow) (0.45.1)\n",
            "Requirement already satisfied: rich in /usr/local/lib/python3.11/dist-packages (from keras>=3.5.0->tensorflow) (14.0.0)\n",
            "Requirement already satisfied: namex in /usr/local/lib/python3.11/dist-packages (from keras>=3.5.0->tensorflow) (0.1.0)\n",
            "Requirement already satisfied: optree in /usr/local/lib/python3.11/dist-packages (from keras>=3.5.0->tensorflow) (0.16.0)\n",
            "Requirement already satisfied: charset-normalizer<4,>=2 in /usr/local/lib/python3.11/dist-packages (from requests<3,>=2.21.0->tensorflow) (3.4.2)\n",
            "Requirement already satisfied: idna<4,>=2.5 in /usr/local/lib/python3.11/dist-packages (from requests<3,>=2.21.0->tensorflow) (3.10)\n",
            "Requirement already satisfied: urllib3<3,>=1.21.1 in /usr/local/lib/python3.11/dist-packages (from requests<3,>=2.21.0->tensorflow) (2.4.0)\n",
            "Requirement already satisfied: certifi>=2017.4.17 in /usr/local/lib/python3.11/dist-packages (from requests<3,>=2.21.0->tensorflow) (2025.6.15)\n",
            "Requirement already satisfied: markdown>=2.6.8 in /usr/lib/python3/dist-packages (from tensorboard~=2.19.0->tensorflow) (3.3.6)\n",
            "Requirement already satisfied: tensorboard-data-server<0.8.0,>=0.7.0 in /usr/local/lib/python3.11/dist-packages (from tensorboard~=2.19.0->tensorflow) (0.7.2)\n",
            "Requirement already satisfied: werkzeug>=1.0.1 in /usr/local/lib/python3.11/dist-packages (from tensorboard~=2.19.0->tensorflow) (3.1.3)\n",
            "Requirement already satisfied: MarkupSafe>=2.1.1 in /usr/local/lib/python3.11/dist-packages (from werkzeug>=1.0.1->tensorboard~=2.19.0->tensorflow) (3.0.2)\n",
            "Requirement already satisfied: markdown-it-py>=2.2.0 in /usr/local/lib/python3.11/dist-packages (from rich->keras>=3.5.0->tensorflow) (3.0.0)\n",
            "Requirement already satisfied: pygments<3.0.0,>=2.13.0 in /usr/local/lib/python3.11/dist-packages (from rich->keras>=3.5.0->tensorflow) (2.19.2)\n",
            "Requirement already satisfied: mdurl~=0.1 in /usr/local/lib/python3.11/dist-packages (from markdown-it-py>=2.2.0->rich->keras>=3.5.0->tensorflow) (0.1.2)\n"
          ]
        }
      ]
    },
    {
      "cell_type": "code",
      "metadata": {
        "id": "qixVppb61B0t"
      },
      "source": [
        "import tensorflow as tf\n",
        "from tensorflow import keras"
      ],
      "execution_count": null,
      "outputs": []
    },
    {
      "cell_type": "code",
      "metadata": {
        "id": "9-y1bR8v1B0t",
        "colab": {
          "base_uri": "https://localhost:8080/",
          "height": 36
        },
        "outputId": "238ddc63-2306-46a0-d221-3942c049599a"
      },
      "source": [
        "tf.__version__"
      ],
      "execution_count": null,
      "outputs": [
        {
          "output_type": "execute_result",
          "data": {
            "text/plain": [
              "'2.19.0'"
            ],
            "application/vnd.google.colaboratory.intrinsic+json": {
              "type": "string"
            }
          },
          "metadata": {},
          "execution_count": 8
        }
      ]
    },
    {
      "cell_type": "markdown",
      "metadata": {
        "id": "bgOl7yi91B0t"
      },
      "source": [
        "- Comencemos cargando el conjunto de datos **Fashion MNIST**.\n",
        "\n",
        "- Keras tiene una serie de funciones para cargar conjuntos de datos populares en *keras.datasets*.\n",
        "\n",
        "- El conjunto de datos ya está dividido entre un **conjunto de entrenamiento** y un **conjunto de prueba**, pero puede ser útil dividir aún más el conjunto de entrenamiento para tener un **conjunto de validación**:"
      ]
    },
    {
      "cell_type": "code",
      "metadata": {
        "id": "UKNCE16r1B0u",
        "colab": {
          "base_uri": "https://localhost:8080/"
        },
        "outputId": "b5fca4ee-5ca0-4d03-bce8-1ef8aea301de"
      },
      "source": [
        "fashion_mnist = keras.datasets.fashion_mnist #cargar fashion mnist\n",
        "(X_train_full, y_train_full), (X_test, y_test) = fashion_mnist.load_data()"
      ],
      "execution_count": null,
      "outputs": [
        {
          "output_type": "stream",
          "name": "stdout",
          "text": [
            "Downloading data from https://storage.googleapis.com/tensorflow/tf-keras-datasets/train-labels-idx1-ubyte.gz\n",
            "\u001b[1m29515/29515\u001b[0m \u001b[32m━━━━━━━━━━━━━━━━━━━━\u001b[0m\u001b[37m\u001b[0m \u001b[1m0s\u001b[0m 0us/step\n",
            "Downloading data from https://storage.googleapis.com/tensorflow/tf-keras-datasets/train-images-idx3-ubyte.gz\n",
            "\u001b[1m26421880/26421880\u001b[0m \u001b[32m━━━━━━━━━━━━━━━━━━━━\u001b[0m\u001b[37m\u001b[0m \u001b[1m0s\u001b[0m 0us/step\n",
            "Downloading data from https://storage.googleapis.com/tensorflow/tf-keras-datasets/t10k-labels-idx1-ubyte.gz\n",
            "\u001b[1m5148/5148\u001b[0m \u001b[32m━━━━━━━━━━━━━━━━━━━━\u001b[0m\u001b[37m\u001b[0m \u001b[1m0s\u001b[0m 0us/step\n",
            "Downloading data from https://storage.googleapis.com/tensorflow/tf-keras-datasets/t10k-images-idx3-ubyte.gz\n",
            "\u001b[1m4422102/4422102\u001b[0m \u001b[32m━━━━━━━━━━━━━━━━━━━━\u001b[0m\u001b[37m\u001b[0m \u001b[1m0s\u001b[0m 0us/step\n"
          ]
        }
      ]
    },
    {
      "cell_type": "markdown",
      "metadata": {
        "id": "8qDmXolS1B0u"
      },
      "source": [
        "El **conjunto de entrenamiento** contiene 60,000 imágenes en escala de grises, cada una de $28\\times 28$ píxeles:"
      ]
    },
    {
      "cell_type": "code",
      "metadata": {
        "id": "6YvrfWyu1B0u",
        "colab": {
          "base_uri": "https://localhost:8080/"
        },
        "outputId": "fcf2783f-114e-4e62-f572-d0fabad6a3af"
      },
      "source": [
        "X_train_full.shape"
      ],
      "execution_count": null,
      "outputs": [
        {
          "output_type": "execute_result",
          "data": {
            "text/plain": [
              "(60000, 28, 28)"
            ]
          },
          "metadata": {},
          "execution_count": 10
        }
      ]
    },
    {
      "cell_type": "markdown",
      "metadata": {
        "id": "w18nX6bs1B0u"
      },
      "source": [
        "Cada intensidad de píxel se representa como un byte (0 a 255):"
      ]
    },
    {
      "cell_type": "code",
      "metadata": {
        "id": "E19KJL7R1B0u",
        "colab": {
          "base_uri": "https://localhost:8080/"
        },
        "outputId": "55eea76d-9b2f-4682-e0b1-829d0a386408"
      },
      "source": [
        "X_train_full.dtype"
      ],
      "execution_count": null,
      "outputs": [
        {
          "output_type": "execute_result",
          "data": {
            "text/plain": [
              "dtype('uint8')"
            ]
          },
          "metadata": {},
          "execution_count": 11
        }
      ]
    },
    {
      "cell_type": "markdown",
      "metadata": {
        "id": "S4CTSIJG1B0u"
      },
      "source": [
        "- Dividamos el **conjunto de entrenamiento** completo en un **conjunto de validación** y un conjunto de entrenamiento (*más pequeño*) mediante la estrategia de validación HoldOut.\n",
        "\n",
        "- También **escalamos las intensidades de píxeles hasta el rango 0-1** y las convertimos en flotantes, dividiéndolas por 255."
      ]
    },
    {
      "cell_type": "code",
      "metadata": {
        "id": "XC5i4UUm1B0u"
      },
      "source": [
        "X_valid, X_train = X_train_full[:5000] / 255., X_train_full[5000:] / 255.\n",
        "y_valid, y_train = y_train_full[:5000], y_train_full[5000:]\n",
        "X_test = X_test / 255."
      ],
      "execution_count": null,
      "outputs": []
    },
    {
      "cell_type": "markdown",
      "metadata": {
        "id": "Uyh8aycM1B0u"
      },
      "source": [
        "Se puede graficar una imagen usando la función *imshow()* de Matplotlib, con un mapa de color 'binario':"
      ]
    },
    {
      "cell_type": "code",
      "metadata": {
        "id": "TzA3vc261B0u",
        "colab": {
          "base_uri": "https://localhost:8080/",
          "height": 406
        },
        "outputId": "b4c3d1fa-b370-4240-a150-98e57170cace"
      },
      "source": [
        "plt.imshow(X_train[0], cmap=\"binary\")\n",
        "plt.axis('off')\n",
        "plt.show()"
      ],
      "execution_count": null,
      "outputs": [
        {
          "output_type": "display_data",
          "data": {
            "text/plain": [
              "<Figure size 640x480 with 1 Axes>"
            ],
            "image/png": "[encoded data removed]"
          },
          "metadata": {}
        }
      ]
    },
    {
      "cell_type": "markdown",
      "metadata": {
        "id": "w5TRUkA91B0u"
      },
      "source": [
        "Las etiquetas son los ID de clase (representados como *uint8*), de 0 a 9:"
      ]
    },
    {
      "cell_type": "code",
      "metadata": {
        "id": "cqzew4nY1B0u",
        "colab": {
          "base_uri": "https://localhost:8080/"
        },
        "outputId": "00a50163-9b64-4f61-df6a-537de31d2558"
      },
      "source": [
        "y_train"
      ],
      "execution_count": null,
      "outputs": [
        {
          "output_type": "execute_result",
          "data": {
            "text/plain": [
              "array([4, 0, 7, ..., 3, 0, 5], dtype=uint8)"
            ]
          },
          "metadata": {},
          "execution_count": 14
        }
      ]
    },
    {
      "cell_type": "markdown",
      "metadata": {
        "id": "ysOXLzwS1B0u"
      },
      "source": [
        "Aquí están los nombres de clase correspondientes:"
      ]
    },
    {
      "cell_type": "code",
      "metadata": {
        "id": "hMdv-pGd1B0u"
      },
      "source": [
        "class_names = [\"T-shirt/top\", \"Trouser\", \"Pullover\", \"Dress\", \"Coat\",\n",
        "               \"Sandal\", \"Shirt\", \"Sneaker\", \"Bag\", \"Ankle boot\"]"
      ],
      "execution_count": null,
      "outputs": []
    },
    {
      "cell_type": "markdown",
      "metadata": {
        "id": "3H350kEh1B0u"
      },
      "source": [
        "Entonces, la primera imagen en el conjunto de entrenamiento es un abrigo:"
      ]
    },
    {
      "cell_type": "code",
      "metadata": {
        "id": "v-mFz1Hz1B0u",
        "colab": {
          "base_uri": "https://localhost:8080/",
          "height": 36
        },
        "outputId": "f50742ed-d2ad-41ad-8aa2-ff992cc88653"
      },
      "source": [
        "class_names[y_train[0]]"
      ],
      "execution_count": null,
      "outputs": [
        {
          "output_type": "execute_result",
          "data": {
            "text/plain": [
              "'Coat'"
            ],
            "application/vnd.google.colaboratory.intrinsic+json": {
              "type": "string"
            }
          },
          "metadata": {},
          "execution_count": 16
        }
      ]
    },
    {
      "cell_type": "markdown",
      "metadata": {
        "id": "3HOEA15M1B0u"
      },
      "source": [
        "El **conjunto de validación** contiene 5,000 imágenes, y el **conjunto de prueba** contiene 10,000 imágenes:"
      ]
    },
    {
      "cell_type": "code",
      "metadata": {
        "id": "SeRb9Fef1B0u",
        "colab": {
          "base_uri": "https://localhost:8080/"
        },
        "outputId": "bcb6693b-6027-4acd-df1e-af71507be54c"
      },
      "source": [
        "X_valid.shape"
      ],
      "execution_count": null,
      "outputs": [
        {
          "output_type": "execute_result",
          "data": {
            "text/plain": [
              "(5000, 28, 28)"
            ]
          },
          "metadata": {},
          "execution_count": 17
        }
      ]
    },
    {
      "cell_type": "code",
      "metadata": {
        "id": "fFhuz0sd1B0u",
        "colab": {
          "base_uri": "https://localhost:8080/"
        },
        "outputId": "84324064-190a-4dd6-bb4f-e5d10d900f0e"
      },
      "source": [
        "X_test.shape"
      ],
      "execution_count": null,
      "outputs": [
        {
          "output_type": "execute_result",
          "data": {
            "text/plain": [
              "(10000, 28, 28)"
            ]
          },
          "metadata": {},
          "execution_count": 18
        }
      ]
    },
    {
      "cell_type": "markdown",
      "metadata": {
        "id": "4i4HVUNJ1B0u"
      },
      "source": [
        "Echemos un vistazo a una muestra de las imágenes en el conjunto de datos:"
      ]
    },
    {
      "cell_type": "code",
      "metadata": {
        "id": "BWPkwYcK1B0u",
        "colab": {
          "base_uri": "https://localhost:8080/",
          "height": 428
        },
        "outputId": "f735355a-4d48-42d0-b59b-c2a4529fbcb9"
      },
      "source": [
        "n_rows = 4\n",
        "n_cols = 10\n",
        "plt.figure(figsize=(n_cols * 1.2, n_rows * 1.2))\n",
        "for row in range(n_rows):\n",
        "    for col in range(n_cols):\n",
        "        index = n_cols * row + col\n",
        "        plt.subplot(n_rows, n_cols, index + 1)\n",
        "        plt.imshow(X_train[index], cmap=\"binary\", interpolation=\"nearest\")\n",
        "        plt.axis('off')\n",
        "        plt.title(class_names[y_train[index]], fontsize=12)\n",
        "plt.subplots_adjust(wspace=0.2, hspace=0.5)\n",
        "#save_fig('fashion_mnist_plot', tight_layout=False)\n",
        "plt.show()"
      ],
      "execution_count": null,
      "outputs": [
        {
          "output_type": "display_data",
          "data": {
            "text/plain": [
              "<Figure size 1200x480 with 40 Axes>"
            ],
            "image/png": "[encoded data removed]"
          },
          "metadata": {}
        }
      ]
    },
    {
      "cell_type": "markdown",
      "metadata": {
        "id": "KQ6263_K1B0v"
      },
      "source": [
        "## Crear el modelo usando la API secuencial\n",
        "\n",
        "- ¡Ahora construyamos la red neuronal!.\n",
        "\n",
        "- Se implementará un perceptrón multicapa (MLP por sus siglas en inglés), con dos capas ocultas:"
      ]
    },
    {
      "cell_type": "code",
      "metadata": {
        "id": "4FyGh93f1B0v",
        "colab": {
          "base_uri": "https://localhost:8080/"
        },
        "outputId": "a11c6fae-cf4a-4e4d-b808-626299f2af0a"
      },
      "source": [
        "model = keras.models.Sequential()\n",
        "model.add(keras.layers.Flatten(input_shape=[28, 28]))#capa de aplanado->convierte imagen en vector\n",
        "model.add(keras.layers.Dense(300, activation=\"relu\"))#capa densa con 300 neuronas y función de activación relu\n",
        "model.add(keras.layers.Dense(100, activation=\"relu\"))\n",
        "model.add(keras.layers.Dense(10, activation=\"softmax\"))#la capa de salida utiliza una softmax"
      ],
      "execution_count": null,
      "outputs": [
        {
          "output_type": "stream",
          "name": "stderr",
          "text": [
            "/usr/local/lib/python3.11/dist-packages/keras/src/layers/reshaping/flatten.py:37: UserWarning: Do not pass an `input_shape`/`input_dim` argument to a layer. When using Sequential models, prefer using an `Input(shape)` object as the first layer in the model instead.\n",
            "  super().__init__(**kwargs)\n"
          ]
        }
      ]
    },
    {
      "cell_type": "markdown",
      "metadata": {
        "id": "ansMCOTB1B0v"
      },
      "source": [
        "Veamos este código línea por línea:\n",
        "- La primera línea crea un modelo secuencial. Este es el tipo más simple de modelo Keras, para redes neuronales que están compuestas de una sola pila de capas, conectadas secuencialmente. Esto se llama la **API secuencial**.\n",
        "\n",
        "- Luego, construimos la primera capa y la agregamos al modelo. Es una capa Flatten cuyo papel es simplemente convertir cada imagen de entrada en una matriz 1D. Alternativamente, puede agregar un keras.layers.InputLayer como la primera capa, estableciendo $shape = [28,28]$.\n",
        "\n",
        "- A continuación, agregamos una capa oculta densa con 300 neuronas. Utilizará la función de activación ReLU. Cada capa densa gestiona su propia matriz de peso, que contiene todos los pesos de conexión entre las neuronas y sus entradas. También gestiona un vector de términos de sesgo (uno por neurona).\n",
        "\n",
        "- A continuación, agregamos una segunda capa oculta densa con 100 neuronas, que también utiliza la función de activación ReLU.\n",
        "\n",
        "- Finalmente, agregamos una capa de salida densa con 10 neuronas (una por clase), usando la función de activación softmax (porque las clases son exclusivas).\n",
        "\n",
        "**Nota**: La activación softmax se puede entender como una generalización de la sigmoid para problemas multiclase, para estimar la probabilidad de membresia $\\hat{p}(A_c|\\mathbf{x})$:\n",
        "\n",
        "$${\\rm{softmax}}(\\mathbf{z})= \\left\\{\\sigma({z}_c)=\\frac{e^{z_c}}{\\sum\\nolimits_{k=1}^C e^{z_k}}\\right\\}$$\n",
        "donde $\\sigma(z_c)\\in[0,1]$ y $\\sum_{c=1}^C \\sigma(z_c)=1$.\n",
        "\n"
      ]
    },
    {
      "cell_type": "code",
      "metadata": {
        "id": "LZANNVvH1B0v"
      },
      "source": [
        "keras.backend.clear_session() #se sugiere limpiar la sesión para liberar los grafos computacionales\n",
        "np.random.seed(42) #se fija semilla de numpy y tf\n",
        "tf.random.set_seed(42)"
      ],
      "execution_count": null,
      "outputs": []
    },
    {
      "cell_type": "markdown",
      "metadata": {
        "id": "z98DX3KC1B0v"
      },
      "source": [
        "En lugar de agregar las capas una por una como acabamos de hacer, se puede **pasar una lista de capas al crear el modelo secuencial**:"
      ]
    },
    {
      "cell_type": "code",
      "metadata": {
        "id": "VtvPn8dR1B0v"
      },
      "source": [
        "model = keras.models.Sequential([\n",
        "    keras.layers.Flatten(input_shape=[28, 28]),\n",
        "    keras.layers.Dense(300, activation=\"relu\"),\n",
        "    keras.layers.Dense(100, activation=\"relu\"),\n",
        "    keras.layers.Dense(10, activation=\"softmax\")\n",
        "])"
      ],
      "execution_count": null,
      "outputs": []
    },
    {
      "cell_type": "markdown",
      "metadata": {
        "id": "pTTJ_HieBOPL"
      },
      "source": [
        "- Las capas quedan guardadas en un grafo computacional para facilitar el cálculo de derivadas automáticas y la paralelización en GPU/TPU."
      ]
    },
    {
      "cell_type": "code",
      "metadata": {
        "id": "NYBjmHaY1B0v",
        "colab": {
          "base_uri": "https://localhost:8080/"
        },
        "outputId": "9d012a88-f3f2-469d-dd46-4a2d7017f419"
      },
      "source": [
        "model.layers"
      ],
      "execution_count": null,
      "outputs": [
        {
          "output_type": "execute_result",
          "data": {
            "text/plain": [
              "[<Flatten name=flatten, built=True>,\n",
              " <Dense name=dense, built=True>,\n",
              " <Dense name=dense_1, built=True>,\n",
              " <Dense name=dense_2, built=True>]"
            ]
          },
          "metadata": {},
          "execution_count": 23
        }
      ]
    },
    {
      "cell_type": "markdown",
      "metadata": {
        "id": "7lT8tvGxBjtT"
      },
      "source": [
        "# Modelo y optimización en aprendizaje profundo\n",
        "\n",
        "- En general, un modelo de aprendizaje profundo se puede escribir como una función compuesta de la forma:\n",
        "\n",
        "$$\\hat{y}=(f_L\\circ f_{L-1}\\circ\\cdots\\circ f_1)(\\mathbf{x})$$\n",
        "\n",
        "donde $L$ representa el número de capas y:\n",
        "\n",
        "$$\\mathbf{z}_l=f_l(\\mathbf{z}_{l-1})=\\varphi(\\mathbf{z}_{l-1}\\mathbf{W}_{l}+\\mathbf{b}_l)$$\n",
        "donde $\\varphi(\\cdot)$ es una función de activación, $\\mathbf{W}_{l}\\in\\mathbb{R}^{Q_{l-1}\\times Q_{l}},$ $\\mathbf{b}_{l}\\in\\mathbb{R}^{Q_{l}},$ $\\mathbf{z}_l\\in\\mathbb{R}^{Q_l}$ y $Q_l$ representa la cantidad de neuronas en la $l$-ésima capa.\n",
        "\n",
        "- A partir del modelo planteado, se puede generar el siguiente problema de optimización:\n",
        "\n",
        "$$\\theta^* = \\arg\\min_{\\theta} \\mathbb{E}\\{\\mathscr{L}(y_n,\\hat{y}_n|\\theta): \\forall n \\in \\{1,2,\\dots,N\\}\\}$$\n",
        "donde $\\theta = \\{\\mathbf{W}_l,\\mathbf{b}_l\\}^L_{l=1}$ contiene el set de parámetros de la red y $\\mathscr{L}(\\cdot,\\cdot|\\theta)$ es una función de costo dada.\n",
        "\n"
      ]
    },
    {
      "cell_type": "markdown",
      "metadata": {
        "id": "YkyzLZZ2BbdC"
      },
      "source": [
        "- Se puede resumir la arquitectura y presentar mediante diagrama de bloques:"
      ]
    },
    {
      "cell_type": "code",
      "metadata": {
        "id": "zxNgppsk1B0v",
        "colab": {
          "base_uri": "https://localhost:8080/",
          "height": 257
        },
        "outputId": "c7609244-22e2-45fd-f63e-6fbd56f5ac65"
      },
      "source": [
        "model.summary() #resumen con numero de parámetros y entradas-salidas por capa"
      ],
      "execution_count": null,
      "outputs": [
        {
          "output_type": "display_data",
          "data": {
            "text/plain": [
              "\u001b[1mModel: \"sequential\"\u001b[0m\n"
            ],
            "text/html": [
              "<pre style=\"white-space:pre;overflow-x:auto;line-height:normal;font-family:Menlo,'DejaVu Sans Mono',consolas,'Courier New',monospace\"><span style=\"font-weight: bold\">Model: \"sequential\"</span>\n",
              "</pre>\n"
            ]
          },
          "metadata": {}
        },
        {
          "output_type": "display_data",
          "data": {
            "text/plain": [
              "┏━━━━━━━━━━━━━━━━━━━━━━━━━━━━━━━━━┳━━━━━━━━━━━━━━━━━━━━━━━━┳━━━━━━━━━━━━━━━┓\n",
              "┃\u001b[1m \u001b[0m\u001b[1mLayer (type)                   \u001b[0m\u001b[1m \u001b[0m┃\u001b[1m \u001b[0m\u001b[1mOutput Shape          \u001b[0m\u001b[1m \u001b[0m┃\u001b[1m \u001b[0m\u001b[1m      Param #\u001b[0m\u001b[1m \u001b[0m┃\n",
              "┡━━━━━━━━━━━━━━━━━━━━━━━━━━━━━━━━━╇━━━━━━━━━━━━━━━━━━━━━━━━╇━━━━━━━━━━━━━━━┩\n",
              "│ flatten (\u001b[38;5;33mFlatten\u001b[0m)               │ (\u001b[38;5;45mNone\u001b[0m, \u001b[38;5;34m784\u001b[0m)            │             \u001b[38;5;34m0\u001b[0m │\n",
              "├─────────────────────────────────┼────────────────────────┼───────────────┤\n",
              "│ dense (\u001b[38;5;33mDense\u001b[0m)                   │ (\u001b[38;5;45mNone\u001b[0m, \u001b[38;5;34m300\u001b[0m)            │       \u001b[38;5;34m235,500\u001b[0m │\n",
              "├─────────────────────────────────┼────────────────────────┼───────────────┤\n",
              "│ dense_1 (\u001b[38;5;33mDense\u001b[0m)                 │ (\u001b[38;5;45mNone\u001b[0m, \u001b[38;5;34m100\u001b[0m)            │        \u001b[38;5;34m30,100\u001b[0m │\n",
              "├─────────────────────────────────┼────────────────────────┼───────────────┤\n",
              "│ dense_2 (\u001b[38;5;33mDense\u001b[0m)                 │ (\u001b[38;5;45mNone\u001b[0m, \u001b[38;5;34m10\u001b[0m)             │         \u001b[38;5;34m1,010\u001b[0m │\n",
              "└─────────────────────────────────┴────────────────────────┴───────────────┘\n"
            ],
            "text/html": [
              "<pre style=\"white-space:pre;overflow-x:auto;line-height:normal;font-family:Menlo,'DejaVu Sans Mono',consolas,'Courier New',monospace\">┏━━━━━━━━━━━━━━━━━━━━━━━━━━━━━━━━━┳━━━━━━━━━━━━━━━━━━━━━━━━┳━━━━━━━━━━━━━━━┓\n",
              "┃<span style=\"font-weight: bold\"> Layer (type)                    </span>┃<span style=\"font-weight: bold\"> Output Shape           </span>┃<span style=\"font-weight: bold\">       Param # </span>┃\n",
              "┡━━━━━━━━━━━━━━━━━━━━━━━━━━━━━━━━━╇━━━━━━━━━━━━━━━━━━━━━━━━╇━━━━━━━━━━━━━━━┩\n",
              "│ flatten (<span style=\"color: #0087ff; text-decoration-color: #0087ff\">Flatten</span>)               │ (<span style=\"color: #00d7ff; text-decoration-color: #00d7ff\">None</span>, <span style=\"color: #00af00; text-decoration-color: #00af00\">784</span>)            │             <span style=\"color: #00af00; text-decoration-color: #00af00\">0</span> │\n",
              "├─────────────────────────────────┼────────────────────────┼───────────────┤\n",
              "│ dense (<span style=\"color: #0087ff; text-decoration-color: #0087ff\">Dense</span>)                   │ (<span style=\"color: #00d7ff; text-decoration-color: #00d7ff\">None</span>, <span style=\"color: #00af00; text-decoration-color: #00af00\">300</span>)            │       <span style=\"color: #00af00; text-decoration-color: #00af00\">235,500</span> │\n",
              "├─────────────────────────────────┼────────────────────────┼───────────────┤\n",
              "│ dense_1 (<span style=\"color: #0087ff; text-decoration-color: #0087ff\">Dense</span>)                 │ (<span style=\"color: #00d7ff; text-decoration-color: #00d7ff\">None</span>, <span style=\"color: #00af00; text-decoration-color: #00af00\">100</span>)            │        <span style=\"color: #00af00; text-decoration-color: #00af00\">30,100</span> │\n",
              "├─────────────────────────────────┼────────────────────────┼───────────────┤\n",
              "│ dense_2 (<span style=\"color: #0087ff; text-decoration-color: #0087ff\">Dense</span>)                 │ (<span style=\"color: #00d7ff; text-decoration-color: #00d7ff\">None</span>, <span style=\"color: #00af00; text-decoration-color: #00af00\">10</span>)             │         <span style=\"color: #00af00; text-decoration-color: #00af00\">1,010</span> │\n",
              "└─────────────────────────────────┴────────────────────────┴───────────────┘\n",
              "</pre>\n"
            ]
          },
          "metadata": {}
        },
        {
          "output_type": "display_data",
          "data": {
            "text/plain": [
              "\u001b[1m Total params: \u001b[0m\u001b[38;5;34m266,610\u001b[0m (1.02 MB)\n"
            ],
            "text/html": [
              "<pre style=\"white-space:pre;overflow-x:auto;line-height:normal;font-family:Menlo,'DejaVu Sans Mono',consolas,'Courier New',monospace\"><span style=\"font-weight: bold\"> Total params: </span><span style=\"color: #00af00; text-decoration-color: #00af00\">266,610</span> (1.02 MB)\n",
              "</pre>\n"
            ]
          },
          "metadata": {}
        },
        {
          "output_type": "display_data",
          "data": {
            "text/plain": [
              "\u001b[1m Trainable params: \u001b[0m\u001b[38;5;34m266,610\u001b[0m (1.02 MB)\n"
            ],
            "text/html": [
              "<pre style=\"white-space:pre;overflow-x:auto;line-height:normal;font-family:Menlo,'DejaVu Sans Mono',consolas,'Courier New',monospace\"><span style=\"font-weight: bold\"> Trainable params: </span><span style=\"color: #00af00; text-decoration-color: #00af00\">266,610</span> (1.02 MB)\n",
              "</pre>\n"
            ]
          },
          "metadata": {}
        },
        {
          "output_type": "display_data",
          "data": {
            "text/plain": [
              "\u001b[1m Non-trainable params: \u001b[0m\u001b[38;5;34m0\u001b[0m (0.00 B)\n"
            ],
            "text/html": [
              "<pre style=\"white-space:pre;overflow-x:auto;line-height:normal;font-family:Menlo,'DejaVu Sans Mono',consolas,'Courier New',monospace\"><span style=\"font-weight: bold\"> Non-trainable params: </span><span style=\"color: #00af00; text-decoration-color: #00af00\">0</span> (0.00 B)\n",
              "</pre>\n"
            ]
          },
          "metadata": {}
        }
      ]
    },
    {
      "cell_type": "code",
      "metadata": {
        "id": "VcCBKccr1B0v",
        "colab": {
          "base_uri": "https://localhost:8080/"
        },
        "outputId": "b4214640-35e5-4c95-e661-23b3daf2e595"
      },
      "source": [
        "keras.utils.plot_model(model, \"my_mnist_model.png\", show_shapes=True)"
      ],
      "execution_count": null,
      "outputs": [
        {
          "output_type": "stream",
          "name": "stdout",
          "text": [
            "You must install pydot (`pip install pydot`) for `plot_model` to work.\n"
          ]
        }
      ]
    },
    {
      "cell_type": "code",
      "metadata": {
        "id": "4y05lLuu1B0v",
        "colab": {
          "base_uri": "https://localhost:8080/",
          "height": 36
        },
        "outputId": "1281a4bb-ad36-43bd-8c4d-a5200412f195"
      },
      "source": [
        "hidden1 = model.layers[1] #acceder a la primera capa densa\n",
        "hidden1.name"
      ],
      "execution_count": null,
      "outputs": [
        {
          "output_type": "execute_result",
          "data": {
            "text/plain": [
              "'dense'"
            ],
            "application/vnd.google.colaboratory.intrinsic+json": {
              "type": "string"
            }
          },
          "metadata": {},
          "execution_count": 26
        }
      ]
    },
    {
      "cell_type": "code",
      "metadata": {
        "id": "D1-IO-e41B0v",
        "colab": {
          "base_uri": "https://localhost:8080/"
        },
        "outputId": "6a989d2b-70e7-4a6f-ff2b-94247c4dbb89"
      },
      "source": [
        "model.get_layer(hidden1.name) is hidden1 #también podemos acceder a la capa por su nombre"
      ],
      "execution_count": null,
      "outputs": [
        {
          "output_type": "execute_result",
          "data": {
            "text/plain": [
              "True"
            ]
          },
          "metadata": {},
          "execution_count": 27
        }
      ]
    },
    {
      "cell_type": "markdown",
      "metadata": {
        "id": "hFMPVlHQ1B0v"
      },
      "source": [
        "## Accediendo a los pesos y bias entrenados\n",
        "\n",
        "- Con el fin de favorecer el entrenamiento, los pesos de cada capa se inicializan de forma aleatoria. Los bias se inicializan en ceros."
      ]
    },
    {
      "cell_type": "code",
      "metadata": {
        "id": "ydJJzFgW1B0v"
      },
      "source": [
        "weights, biases = hidden1.get_weights()"
      ],
      "execution_count": null,
      "outputs": []
    },
    {
      "cell_type": "code",
      "metadata": {
        "id": "BeET1ABg1B0v",
        "colab": {
          "base_uri": "https://localhost:8080/"
        },
        "outputId": "5b51eb97-7df5-4ce2-a369-09393c5e598c"
      },
      "source": [
        "weights"
      ],
      "execution_count": null,
      "outputs": [
        {
          "output_type": "execute_result",
          "data": {
            "text/plain": [
              "array([[-0.02199049,  0.05759275,  0.0039284 , ...,  0.02193897,\n",
              "        -0.0241674 ,  0.06013857],\n",
              "       [ 0.06409656, -0.027424  ,  0.06139676, ..., -0.03181227,\n",
              "        -0.02717762,  0.01819585],\n",
              "       [-0.02787124,  0.05355196, -0.02103459, ..., -0.03832638,\n",
              "        -0.02373836,  0.05635127],\n",
              "       ...,\n",
              "       [ 0.02199887, -0.05150819, -0.00697514, ...,  0.02277593,\n",
              "        -0.0183251 , -0.01910695],\n",
              "       [ 0.05568792, -0.0162961 , -0.05163622, ...,  0.02890018,\n",
              "        -0.03035715,  0.00305634],\n",
              "       [-0.01712893,  0.0704518 ,  0.05454352, ..., -0.02401673,\n",
              "        -0.00922544, -0.00129983]], dtype=float32)"
            ]
          },
          "metadata": {},
          "execution_count": 29
        }
      ]
    },
    {
      "cell_type": "code",
      "metadata": {
        "id": "xpgleO9R1B0v",
        "colab": {
          "base_uri": "https://localhost:8080/"
        },
        "outputId": "215ee2da-e7c9-4e03-b130-ccc893ae9862"
      },
      "source": [
        "weights.shape"
      ],
      "execution_count": null,
      "outputs": [
        {
          "output_type": "execute_result",
          "data": {
            "text/plain": [
              "(784, 300)"
            ]
          },
          "metadata": {},
          "execution_count": 30
        }
      ]
    },
    {
      "cell_type": "code",
      "metadata": {
        "id": "15i3_wnQ1B0v",
        "colab": {
          "base_uri": "https://localhost:8080/"
        },
        "outputId": "fc2a14e0-ec7d-4d73-a37e-f7d8014996a8"
      },
      "source": [
        "biases"
      ],
      "execution_count": null,
      "outputs": [
        {
          "output_type": "execute_result",
          "data": {
            "text/plain": [
              "array([0., 0., 0., 0., 0., 0., 0., 0., 0., 0., 0., 0., 0., 0., 0., 0., 0.,\n",
              "       0., 0., 0., 0., 0., 0., 0., 0., 0., 0., 0., 0., 0., 0., 0., 0., 0.,\n",
              "       0., 0., 0., 0., 0., 0., 0., 0., 0., 0., 0., 0., 0., 0., 0., 0., 0.,\n",
              "       0., 0., 0., 0., 0., 0., 0., 0., 0., 0., 0., 0., 0., 0., 0., 0., 0.,\n",
              "       0., 0., 0., 0., 0., 0., 0., 0., 0., 0., 0., 0., 0., 0., 0., 0., 0.,\n",
              "       0., 0., 0., 0., 0., 0., 0., 0., 0., 0., 0., 0., 0., 0., 0., 0., 0.,\n",
              "       0., 0., 0., 0., 0., 0., 0., 0., 0., 0., 0., 0., 0., 0., 0., 0., 0.,\n",
              "       0., 0., 0., 0., 0., 0., 0., 0., 0., 0., 0., 0., 0., 0., 0., 0., 0.,\n",
              "       0., 0., 0., 0., 0., 0., 0., 0., 0., 0., 0., 0., 0., 0., 0., 0., 0.,\n",
              "       0., 0., 0., 0., 0., 0., 0., 0., 0., 0., 0., 0., 0., 0., 0., 0., 0.,\n",
              "       0., 0., 0., 0., 0., 0., 0., 0., 0., 0., 0., 0., 0., 0., 0., 0., 0.,\n",
              "       0., 0., 0., 0., 0., 0., 0., 0., 0., 0., 0., 0., 0., 0., 0., 0., 0.,\n",
              "       0., 0., 0., 0., 0., 0., 0., 0., 0., 0., 0., 0., 0., 0., 0., 0., 0.,\n",
              "       0., 0., 0., 0., 0., 0., 0., 0., 0., 0., 0., 0., 0., 0., 0., 0., 0.,\n",
              "       0., 0., 0., 0., 0., 0., 0., 0., 0., 0., 0., 0., 0., 0., 0., 0., 0.,\n",
              "       0., 0., 0., 0., 0., 0., 0., 0., 0., 0., 0., 0., 0., 0., 0., 0., 0.,\n",
              "       0., 0., 0., 0., 0., 0., 0., 0., 0., 0., 0., 0., 0., 0., 0., 0., 0.,\n",
              "       0., 0., 0., 0., 0., 0., 0., 0., 0., 0., 0.], dtype=float32)"
            ]
          },
          "metadata": {},
          "execution_count": 31
        }
      ]
    },
    {
      "cell_type": "code",
      "metadata": {
        "id": "zWDO9Aca1B0v",
        "colab": {
          "base_uri": "https://localhost:8080/"
        },
        "outputId": "42de0278-f512-4643-ace0-77b5bec99382"
      },
      "source": [
        "biases.shape"
      ],
      "execution_count": null,
      "outputs": [
        {
          "output_type": "execute_result",
          "data": {
            "text/plain": [
              "(300,)"
            ]
          },
          "metadata": {},
          "execution_count": 32
        }
      ]
    },
    {
      "cell_type": "markdown",
      "metadata": {
        "id": "DBB9x3QT1B0v"
      },
      "source": [
        "### Compilando el modelo\n",
        "\n",
        "- Después de crear un modelo, debe llamar a su método *compile()* para especificar la función de pérdida y el optimizador a utilizar.\n",
        "\n",
        "- Opcionalmente, también puede especificar una lista de métricas adicionales para calcular durante el entrenamiento y la evaluación.\n",
        "\n",
        "- En general, la función de costo se elige en términos de la tarea (rango de la función), y se buscan funciones de costo suaves, que no tengan problemas con sus derivadas, con el objetivo de aplicar gradiente descendiente por mini-lotes mediante el algoritmo de backpropagation.\n",
        "\n",
        "\n",
        "- **Esquema general de aprendizaje por mini-lotes:**\n",
        "\n",
        "![minibatch](https://github.com/amalvarezme/AnaliticaDatos/blob/master/5_Aprendizaje_Profundo/minibatch.png?raw=1)\n",
        "\n",
        "*Nota:* en general las muestras en un lote se escogen de forma aleatoria.\n",
        "\n",
        "- **Ilustración algoritmo backpropagation:**\n",
        "\n",
        "![gifbp](https://miro.medium.com/v2/resize:fit:1100/0*d9yJ5xIqdbDyjCYR.gif)"
      ]
    },
    {
      "cell_type": "code",
      "metadata": {
        "id": "GFUtDIrc1B0w"
      },
      "source": [
        "model.compile(loss=\"sparse_categorical_crossentropy\",\n",
        "              optimizer=\"sgd\",\n",
        "              metrics=[\"accuracy\"])"
      ],
      "execution_count": null,
      "outputs": []
    },
    {
      "cell_type": "markdown",
      "metadata": {
        "id": "z6b3JbT2uw8m"
      },
      "source": [
        "- Keras proporciona varios tipos de [funciones de costo](https://keras.io/api/losses/) ya implementadas.\n",
        "\n",
        "- Para tareas de regresión es común trabajar con el error cuadrático medio y el error absoluto medio:\n",
        "\n",
        "$$mse(\\mathbf{y}_n,\\hat{\\mathbf{y}}_n)= \\|\\mathbf{y}_n-\\hat{\\mathbf{y}}_n\\|_2$$\n",
        "\n",
        "$$mae(\\mathbf{y}_n,\\hat{\\mathbf{y}}_n)= \\|\\mathbf{y}_n-\\hat{\\mathbf{y}}_n\\|_1$$\n",
        "\n",
        "- Para tareas de clasificación, es común trabajar con medidas de información, evitando las medidas clasicas de acierto (conteos) basadas en la función delta (problemas en las derivadas).\n",
        "\n",
        "- En este sentido, la cross-entropia es ampliamente usada (tenga encuenta que Keras provee cross entropia binaria y categórica, esta última en sus versiones sparse - codificación 1 C, o no sparse - codificación ordinal de las salidas):\n",
        "\n",
        "$$H(\\mathbf{y}_n,\\hat{\\mathbf{y}}_n)= -\\frac{1}{N}\\sum^N_{n=1}\\sum^C_{c=1}y_{n,c}\\log(\\hat{y}_{n,c})$$\n",
        "\n",
        "donde $y_{n,c}\\in \\mathbf{y}$ es la etiqueta real de la muestra $n$ en la clase $c$ en codificación 1-C,  $\\hat{y}_{n,c}\\in \\hat{\\mathbf{y}}$ es la etiqueta estimada de la muestra $n$ en la clase $c$. Note que $\\hat{\\mathbf{y}},{\\mathbf{y}}\\in[0,1]^C$, y $\\sum_c\\hat{y}_{n,c} = \\sum_c y _{n,c} = 1.$"
      ]
    },
    {
      "cell_type": "markdown",
      "metadata": {
        "id": "ykjvjkmL1B0w"
      },
      "source": [
        "## Entrenando y evaluando el modelo\n",
        "Ahora el modelo está listo para ser entrenado. Para esto, simplemente necesitamos llamar a su método *fit()*.\n",
        "- Le pasamos las características de entrada (X_train) y las clases de destino (y_train), así como la cantidad de épocas para entrenar (o de lo contrario, sería predeterminado a solo 1, lo que definitivamente no sería suficiente para converger en una buena solución).\n",
        "- También pasamos un conjunto de validación (esto es opcional): Keras medirá la pérdida y las métricas adicionales en este conjunto al final de cada época, lo cual es muy útil para ver qué tan bien se desempeña realmente el modelo.\n",
        "- **NOTA:** si el rendimiento en el entrenamiento es mucho mejor que en el conjunto de validación, su modelo probablemente esté sobreajustando el conjunto de entrenamiento (o hay un error, como una falta de coincidencia de datos entre el conjunto de entrenamiento y el conjunto de validación).\n",
        "\n",
        "\n",
        "**Nota**: El paquete Tensorflow permite trabajar mediante grafos computacionales optimizados mediante [diferenciación automática](https://github.com/amalvarezme/AprendizajeMaquina/blob/main/5_DeepLearning/2_Autodiff.pdf), lo que favorece su escalamiento a grandes cantidades de datos (mediante gradiente descendiente por mini-lotes) y de parámetros."
      ]
    },
    {
      "cell_type": "code",
      "metadata": {
        "id": "wtlqE1OE1B0w",
        "colab": {
          "base_uri": "https://localhost:8080/"
        },
        "outputId": "8e8b4165-0049-4d72-b40b-6f1726648c6e"
      },
      "source": [
        "history = model.fit(X_train, y_train, epochs=10, batch_size = 10,\n",
        "                    validation_data=(X_valid, y_valid))"
      ],
      "execution_count": null,
      "outputs": [
        {
          "output_type": "stream",
          "name": "stdout",
          "text": [
            "Epoch 1/10\n",
            "\u001b[1m5500/5500\u001b[0m \u001b[32m━━━━━━━━━━━━━━━━━━━━\u001b[0m\u001b[37m\u001b[0m \u001b[1m15s\u001b[0m 3ms/step - accuracy: 0.7440 - loss: 0.7653 - val_accuracy: 0.8454 - val_loss: 0.4565\n",
            "Epoch 2/10\n",
            "\u001b[1m5500/5500\u001b[0m \u001b[32m━━━━━━━━━━━━━━━━━━━━\u001b[0m\u001b[37m\u001b[0m \u001b[1m14s\u001b[0m 2ms/step - accuracy: 0.8456 - loss: 0.4311 - val_accuracy: 0.8596 - val_loss: 0.3958\n",
            "Epoch 3/10\n",
            "\u001b[1m5500/5500\u001b[0m \u001b[32m━━━━━━━━━━━━━━━━━━━━\u001b[0m\u001b[37m\u001b[0m \u001b[1m15s\u001b[0m 3ms/step - accuracy: 0.8631 - loss: 0.3807 - val_accuracy: 0.8698 - val_loss: 0.3681\n",
            "Epoch 4/10\n",
            "\u001b[1m5500/5500\u001b[0m \u001b[32m━━━━━━━━━━━━━━━━━━━━\u001b[0m\u001b[37m\u001b[0m \u001b[1m14s\u001b[0m 3ms/step - accuracy: 0.8721 - loss: 0.3505 - val_accuracy: 0.8740 - val_loss: 0.3517\n",
            "Epoch 5/10\n",
            "\u001b[1m5500/5500\u001b[0m \u001b[32m━━━━━━━━━━━━━━━━━━━━\u001b[0m\u001b[37m\u001b[0m \u001b[1m14s\u001b[0m 3ms/step - accuracy: 0.8793 - loss: 0.3291 - val_accuracy: 0.8784 - val_loss: 0.3393\n",
            "Epoch 6/10\n",
            "\u001b[1m5500/5500\u001b[0m \u001b[32m━━━━━━━━━━━━━━━━━━━━\u001b[0m\u001b[37m\u001b[0m \u001b[1m14s\u001b[0m 3ms/step - accuracy: 0.8853 - loss: 0.3116 - val_accuracy: 0.8790 - val_loss: 0.3302\n",
            "Epoch 7/10\n",
            "\u001b[1m5500/5500\u001b[0m \u001b[32m━━━━━━━━━━━━━━━━━━━━\u001b[0m\u001b[37m\u001b[0m \u001b[1m14s\u001b[0m 3ms/step - accuracy: 0.8903 - loss: 0.2975 - val_accuracy: 0.8814 - val_loss: 0.3226\n",
            "Epoch 8/10\n",
            "\u001b[1m5500/5500\u001b[0m \u001b[32m━━━━━━━━━━━━━━━━━━━━\u001b[0m\u001b[37m\u001b[0m \u001b[1m14s\u001b[0m 3ms/step - accuracy: 0.8943 - loss: 0.2846 - val_accuracy: 0.8830 - val_loss: 0.3205\n",
            "Epoch 9/10\n",
            "\u001b[1m5500/5500\u001b[0m \u001b[32m━━━━━━━━━━━━━━━━━━━━\u001b[0m\u001b[37m\u001b[0m \u001b[1m14s\u001b[0m 3ms/step - accuracy: 0.8995 - loss: 0.2735 - val_accuracy: 0.8844 - val_loss: 0.3195\n",
            "Epoch 10/10\n",
            "\u001b[1m5500/5500\u001b[0m \u001b[32m━━━━━━━━━━━━━━━━━━━━\u001b[0m\u001b[37m\u001b[0m \u001b[1m15s\u001b[0m 3ms/step - accuracy: 0.9037 - loss: 0.2629 - val_accuracy: 0.8828 - val_loss: 0.3181\n"
          ]
        }
      ]
    },
    {
      "cell_type": "markdown",
      "metadata": {
        "id": "0vMTvblw1B0w"
      },
      "source": [
        "Puede ver que la **pérdida de entrenamiento se redujo**, lo cual es una buena señal, y el rendimiento del conjunto en el conjunto de validación no está muy lejos del de entrenamiento, por lo que no parece haber demasiado sobreajuste."
      ]
    },
    {
      "cell_type": "markdown",
      "metadata": {
        "id": "nGqbcUXG1B0w"
      },
      "source": [
        "El método *fit()* devuelve un objeto **history** que contiene:\n",
        "1. Los parámetros de entrenamiento (*history.params*),\n",
        "2. La lista de épocas por las que pasó (*history.epoch*) y,\n",
        "3. Lo más importante, un diccionario (*history.history*) que contiene la pérdida y las métricas adicionales que midió al final de cada época en el conjunto de entrenamiento y en el conjunto de validación (si corresponde)."
      ]
    },
    {
      "cell_type": "code",
      "metadata": {
        "id": "iR6bfl871B0w",
        "colab": {
          "base_uri": "https://localhost:8080/"
        },
        "outputId": "af62961c-99d3-4a65-aae4-ba372eee748d"
      },
      "source": [
        "history.params"
      ],
      "execution_count": null,
      "outputs": [
        {
          "output_type": "execute_result",
          "data": {
            "text/plain": [
              "{'verbose': 'auto', 'epochs': 10, 'steps': 5500}"
            ]
          },
          "metadata": {},
          "execution_count": 35
        }
      ]
    },
    {
      "cell_type": "code",
      "metadata": {
        "id": "UG0Y-Pu61B0w",
        "colab": {
          "base_uri": "https://localhost:8080/"
        },
        "outputId": "a09f7292-eb8e-4b45-ce14-62b315764638"
      },
      "source": [
        "print(history.epoch)"
      ],
      "execution_count": null,
      "outputs": [
        {
          "output_type": "stream",
          "name": "stdout",
          "text": [
            "[0, 1, 2, 3, 4, 5, 6, 7, 8, 9]\n"
          ]
        }
      ]
    },
    {
      "cell_type": "code",
      "metadata": {
        "id": "FvfXwBh61B0w",
        "colab": {
          "base_uri": "https://localhost:8080/"
        },
        "outputId": "75e3ae52-68ce-4166-c210-3a70a836bc97"
      },
      "source": [
        "history.history.keys()"
      ],
      "execution_count": null,
      "outputs": [
        {
          "output_type": "execute_result",
          "data": {
            "text/plain": [
              "dict_keys(['accuracy', 'loss', 'val_accuracy', 'val_loss'])"
            ]
          },
          "metadata": {},
          "execution_count": 37
        }
      ]
    },
    {
      "cell_type": "code",
      "metadata": {
        "id": "Jw4QkzqW1B0w",
        "colab": {
          "base_uri": "https://localhost:8080/",
          "height": 451
        },
        "outputId": "19299465-04fc-4bc2-c313-30af757c79f8"
      },
      "source": [
        "import pandas as pd\n",
        "\n",
        "pd.DataFrame(history.history).plot(figsize=(8, 5))\n",
        "plt.grid(True)\n",
        "plt.gca().set_ylim(0, 1)\n",
        "#save_fig(\"keras_learning_curves_plot\")\n",
        "plt.show()"
      ],
      "execution_count": null,
      "outputs": [
        {
          "output_type": "display_data",
          "data": {
            "text/plain": [
              "<Figure size 800x500 with 1 Axes>"
            ],
            "image/png": "[encoded data removed]"
          },
          "metadata": {}
        }
      ]
    },
    {
      "cell_type": "markdown",
      "metadata": {
        "id": "qANIpn3Y1B0w"
      },
      "source": [
        "Una vez que esté **satisfecho con la precisión de validación de su modelo**, debe evaluarla en el *conjunto de prueba* (test) para estimar el error de generalización antes de implementar el modelo en producción:"
      ]
    },
    {
      "cell_type": "code",
      "metadata": {
        "id": "DYDx6mUm1B0w",
        "colab": {
          "base_uri": "https://localhost:8080/"
        },
        "outputId": "99b90621-f370-45c4-a7d9-209b31415efd"
      },
      "source": [
        "model.evaluate(X_test, y_test)"
      ],
      "execution_count": null,
      "outputs": [
        {
          "output_type": "stream",
          "name": "stdout",
          "text": [
            "\u001b[1m313/313\u001b[0m \u001b[32m━━━━━━━━━━━━━━━━━━━━\u001b[0m\u001b[37m\u001b[0m \u001b[1m1s\u001b[0m 2ms/step - accuracy: 0.8727 - loss: 0.3589\n"
          ]
        },
        {
          "output_type": "execute_result",
          "data": {
            "text/plain": [
              "[0.36010852456092834, 0.873199999332428]"
            ]
          },
          "metadata": {},
          "execution_count": 39
        }
      ]
    },
    {
      "cell_type": "markdown",
      "metadata": {
        "id": "1ZhgOs-G1B0w"
      },
      "source": [
        "- Como vimos anteriormente, es **común obtener un rendimiento ligeramente inferior en el conjunto de prueba** que en el conjunto de validación, porque los hiperparámetros están sintonizados en el conjunto de validación, no en el conjunto de prueba."
      ]
    },
    {
      "cell_type": "markdown",
      "metadata": {
        "id": "uWCWiq9t1B0w"
      },
      "source": [
        "## Usando el modelo para hacer predicciones\n",
        "A continuación, podemos usar el método *predict()* del modelo para hacer predicciones sobre nuevas instancias. Como no tenemos instancias nuevas reales, solo usaremos las primeras 3 instancias del **conjunto de prueba**:\n",
        "\n",
        "**Nota**: recuerde que configuaramos la red para que a la salida nos arroje la probabilidad de membresia por clase, por eso nos arroja un vector en 0 y 1."
      ]
    },
    {
      "cell_type": "code",
      "metadata": {
        "id": "p160i_gv1B0w",
        "colab": {
          "base_uri": "https://localhost:8080/"
        },
        "outputId": "e2d92418-ecd6-4b02-a90a-a50a3d125066"
      },
      "source": [
        "X_new = X_test[:10]\n",
        "y_proba = model.predict(X_new)\n",
        "y_proba.round(2)"
      ],
      "execution_count": null,
      "outputs": [
        {
          "output_type": "stream",
          "name": "stdout",
          "text": [
            "\u001b[1m1/1\u001b[0m \u001b[32m━━━━━━━━━━━━━━━━━━━━\u001b[0m\u001b[37m\u001b[0m \u001b[1m0s\u001b[0m 65ms/step\n"
          ]
        },
        {
          "output_type": "execute_result",
          "data": {
            "text/plain": [
              "array([[0.  , 0.  , 0.  , 0.  , 0.  , 0.02, 0.  , 0.05, 0.  , 0.92],\n",
              "       [0.  , 0.  , 1.  , 0.  , 0.  , 0.  , 0.  , 0.  , 0.  , 0.  ],\n",
              "       [0.  , 1.  , 0.  , 0.  , 0.  , 0.  , 0.  , 0.  , 0.  , 0.  ],\n",
              "       [0.  , 1.  , 0.  , 0.  , 0.  , 0.  , 0.  , 0.  , 0.  , 0.  ],\n",
              "       [0.06, 0.  , 0.03, 0.  , 0.  , 0.  , 0.91, 0.  , 0.  , 0.  ],\n",
              "       [0.  , 1.  , 0.  , 0.  , 0.  , 0.  , 0.  , 0.  , 0.  , 0.  ],\n",
              "       [0.  , 0.  , 0.01, 0.  , 0.99, 0.  , 0.  , 0.  , 0.  , 0.  ],\n",
              "       [0.  , 0.  , 0.  , 0.  , 0.02, 0.  , 0.97, 0.  , 0.  , 0.  ],\n",
              "       [0.  , 0.  , 0.  , 0.  , 0.  , 1.  , 0.  , 0.  , 0.  , 0.  ],\n",
              "       [0.  , 0.  , 0.  , 0.  , 0.  , 0.  , 0.  , 1.  , 0.  , 0.  ]],\n",
              "      dtype=float32)"
            ]
          },
          "metadata": {},
          "execution_count": 40
        }
      ]
    },
    {
      "cell_type": "code",
      "metadata": {
        "id": "3CNd3s5l1B0w",
        "colab": {
          "base_uri": "https://localhost:8080/"
        },
        "outputId": "069302b0-8039-4f45-d158-a6bf347607df"
      },
      "source": [
        "y_pred = model.predict(X_new).argmax(axis=1) #podemos utilizar argmax para estimar la salida ordinal\n",
        "y_pred"
      ],
      "execution_count": null,
      "outputs": [
        {
          "output_type": "stream",
          "name": "stdout",
          "text": [
            "\u001b[1m1/1\u001b[0m \u001b[32m━━━━━━━━━━━━━━━━━━━━\u001b[0m\u001b[37m\u001b[0m \u001b[1m0s\u001b[0m 37ms/step\n"
          ]
        },
        {
          "output_type": "execute_result",
          "data": {
            "text/plain": [
              "array([9, 2, 1, 1, 6, 1, 4, 6, 5, 7])"
            ]
          },
          "metadata": {},
          "execution_count": 41
        }
      ]
    },
    {
      "cell_type": "code",
      "metadata": {
        "id": "MHHTK1Wa1B0w",
        "colab": {
          "base_uri": "https://localhost:8080/"
        },
        "outputId": "d3d47199-5479-42f2-c46b-d47f90a5281c"
      },
      "source": [
        "np.array(class_names)[y_pred]"
      ],
      "execution_count": null,
      "outputs": [
        {
          "output_type": "execute_result",
          "data": {
            "text/plain": [
              "array(['Ankle boot', 'Pullover', 'Trouser', 'Trouser', 'Shirt', 'Trouser',\n",
              "       'Coat', 'Shirt', 'Sandal', 'Sneaker'], dtype='<U11')"
            ]
          },
          "metadata": {},
          "execution_count": 42
        }
      ]
    },
    {
      "cell_type": "code",
      "metadata": {
        "id": "7RQxqMXl1B0x",
        "colab": {
          "base_uri": "https://localhost:8080/"
        },
        "outputId": "e33e9d9c-1361-4cf4-d394-f13fa26af20d"
      },
      "source": [
        "y_new = y_test[:3]\n",
        "y_new"
      ],
      "execution_count": null,
      "outputs": [
        {
          "output_type": "execute_result",
          "data": {
            "text/plain": [
              "array([9, 2, 1], dtype=uint8)"
            ]
          },
          "metadata": {},
          "execution_count": 43
        }
      ]
    },
    {
      "cell_type": "code",
      "metadata": {
        "id": "KQDyePBq1B0x",
        "colab": {
          "base_uri": "https://localhost:8080/",
          "height": 144
        },
        "outputId": "0a3758d9-4e4f-4c15-9611-acb95c436449"
      },
      "source": [
        "plt.figure(figsize=(13, 2.4))\n",
        "for index, image in enumerate(X_new):\n",
        "    plt.subplot(1, 10, index + 1)\n",
        "    plt.imshow(image, cmap=\"binary\", interpolation=\"nearest\")\n",
        "    plt.axis('off')\n",
        "    plt.title(class_names[y_test[index]], fontsize=12)\n",
        "plt.subplots_adjust(wspace=0.2, hspace=0.5)\n",
        "#save_fig('fashion_mnist_images_plot', tight_layout=False)\n",
        "plt.show()"
      ],
      "execution_count": null,
      "outputs": [
        {
          "output_type": "display_data",
          "data": {
            "text/plain": [
              "<Figure size 1300x240 with 10 Axes>"
            ],
            "image/png": "[encoded data removed]"
          },
          "metadata": {}
        }
      ]
    },
    {
      "cell_type": "markdown",
      "metadata": {
        "id": "kPgq1Zr41B0x"
      },
      "source": [
        "## Regresión MLP\n",
        "\n",
        "- Podemos utilizar un esquema de aprendizaje profundo, fijando la salida en activación lineal o ReLU para trabajar un problema de regresión.\n",
        "\n",
        "- Carguemos, dividamos y escalemos el conjunto de datos de [vivienda de California](https://www.kaggle.com/camnugent/california-housing-prices):"
      ]
    },
    {
      "cell_type": "code",
      "metadata": {
        "id": "LOarlmLq1B0x"
      },
      "source": [
        "from sklearn.datasets import fetch_california_housing\n",
        "from sklearn.model_selection import train_test_split\n",
        "from sklearn.preprocessing import StandardScaler\n",
        "\n",
        "housing = fetch_california_housing()\n",
        "\n",
        "X_train_full, X_test, y_train_full, y_test = train_test_split(housing.data, housing.target, random_state=42)\n",
        "X_train, X_valid, y_train, y_valid = train_test_split(X_train_full, y_train_full, random_state=42)\n",
        "\n",
        "scaler = StandardScaler()\n",
        "X_train = scaler.fit_transform(X_train)\n",
        "X_valid = scaler.transform(X_valid)\n",
        "X_test = scaler.transform(X_test)"
      ],
      "execution_count": null,
      "outputs": []
    },
    {
      "cell_type": "code",
      "metadata": {
        "id": "-TMcTJY21B0x"
      },
      "source": [
        "np.random.seed(42)\n",
        "tf.random.set_seed(42)"
      ],
      "execution_count": null,
      "outputs": []
    },
    {
      "cell_type": "markdown",
      "metadata": {
        "id": "rfUOCrrN3KUA"
      },
      "source": [
        "- Como tenemos una única salida tipo de regresión, la última capa tiene una única neurona con activación lineal (por defecto las capas dense vienen con activación lineal)."
      ]
    },
    {
      "cell_type": "code",
      "metadata": {
        "id": "UiHzk7Vd1B0x",
        "colab": {
          "base_uri": "https://localhost:8080/"
        },
        "outputId": "d585c09d-588a-4a6b-c11a-486e67381922"
      },
      "source": [
        "model = keras.models.Sequential([\n",
        "    keras.layers.Dense(30, activation=\"relu\", input_shape=X_train.shape[1:]),\n",
        "    keras.layers.Dense(1) #se fija una única con activacion lineal\n",
        "])\n",
        "model.compile(loss=\"mean_squared_error\", optimizer=keras.optimizers.SGD(learning_rate=1e-3))\n",
        "history  = model.fit(X_train, y_train, epochs=20, validation_data=(X_valid, y_valid))\n",
        "mse_test = model.evaluate(X_test, y_test)\n",
        "X_new    = X_test[:3]\n",
        "y_pred   = model.predict(X_new)"
      ],
      "execution_count": null,
      "outputs": [
        {
          "output_type": "stream",
          "name": "stdout",
          "text": [
            "Epoch 1/20\n"
          ]
        },
        {
          "output_type": "stream",
          "name": "stderr",
          "text": [
            "/usr/local/lib/python3.11/dist-packages/keras/src/layers/core/dense.py:87: UserWarning: Do not pass an `input_shape`/`input_dim` argument to a layer. When using Sequential models, prefer using an `Input(shape)` object as the first layer in the model instead.\n",
            "  super().__init__(activity_regularizer=activity_regularizer, **kwargs)\n"
          ]
        },
        {
          "output_type": "stream",
          "name": "stdout",
          "text": [
            "\u001b[1m363/363\u001b[0m \u001b[32m━━━━━━━━━━━━━━━━━━━━\u001b[0m\u001b[37m\u001b[0m \u001b[1m1s\u001b[0m 2ms/step - loss: 3.5238 - val_loss: 0.9510\n",
            "Epoch 2/20\n",
            "\u001b[1m363/363\u001b[0m \u001b[32m━━━━━━━━━━━━━━━━━━━━\u001b[0m\u001b[37m\u001b[0m \u001b[1m1s\u001b[0m 2ms/step - loss: 0.9134 - val_loss: 0.7309\n",
            "Epoch 3/20\n",
            "\u001b[1m363/363\u001b[0m \u001b[32m━━━━━━━━━━━━━━━━━━━━\u001b[0m\u001b[37m\u001b[0m \u001b[1m1s\u001b[0m 2ms/step - loss: 0.7767 - val_loss: 0.6717\n",
            "Epoch 4/20\n",
            "\u001b[1m363/363\u001b[0m \u001b[32m━━━━━━━━━━━━━━━━━━━━\u001b[0m\u001b[37m\u001b[0m \u001b[1m1s\u001b[0m 2ms/step - loss: 0.7253 - val_loss: 0.6316\n",
            "Epoch 5/20\n",
            "\u001b[1m363/363\u001b[0m \u001b[32m━━━━━━━━━━━━━━━━━━━━\u001b[0m\u001b[37m\u001b[0m \u001b[1m1s\u001b[0m 2ms/step - loss: 0.6858 - val_loss: 0.5981\n",
            "Epoch 6/20\n",
            "\u001b[1m363/363\u001b[0m \u001b[32m━━━━━━━━━━━━━━━━━━━━\u001b[0m\u001b[37m\u001b[0m \u001b[1m1s\u001b[0m 2ms/step - loss: 0.6517 - val_loss: 0.5693\n",
            "Epoch 7/20\n",
            "\u001b[1m363/363\u001b[0m \u001b[32m━━━━━━━━━━━━━━━━━━━━\u001b[0m\u001b[37m\u001b[0m \u001b[1m1s\u001b[0m 2ms/step - loss: 0.6218 - val_loss: 0.5441\n",
            "Epoch 8/20\n",
            "\u001b[1m363/363\u001b[0m \u001b[32m━━━━━━━━━━━━━━━━━━━━\u001b[0m\u001b[37m\u001b[0m \u001b[1m1s\u001b[0m 2ms/step - loss: 0.5952 - val_loss: 0.5218\n",
            "Epoch 9/20\n",
            "\u001b[1m363/363\u001b[0m \u001b[32m━━━━━━━━━━━━━━━━━━━━\u001b[0m\u001b[37m\u001b[0m \u001b[1m1s\u001b[0m 2ms/step - loss: 0.5718 - val_loss: 0.5027\n",
            "Epoch 10/20\n",
            "\u001b[1m363/363\u001b[0m \u001b[32m━━━━━━━━━━━━━━━━━━━━\u001b[0m\u001b[37m\u001b[0m \u001b[1m1s\u001b[0m 2ms/step - loss: 0.5515 - val_loss: 0.4865\n",
            "Epoch 11/20\n",
            "\u001b[1m363/363\u001b[0m \u001b[32m━━━━━━━━━━━━━━━━━━━━\u001b[0m\u001b[37m\u001b[0m \u001b[1m1s\u001b[0m 2ms/step - loss: 0.5338 - val_loss: 0.4727\n",
            "Epoch 12/20\n",
            "\u001b[1m363/363\u001b[0m \u001b[32m━━━━━━━━━━━━━━━━━━━━\u001b[0m\u001b[37m\u001b[0m \u001b[1m1s\u001b[0m 2ms/step - loss: 0.5185 - val_loss: 0.4612\n",
            "Epoch 13/20\n",
            "\u001b[1m363/363\u001b[0m \u001b[32m━━━━━━━━━━━━━━━━━━━━\u001b[0m\u001b[37m\u001b[0m \u001b[1m1s\u001b[0m 2ms/step - loss: 0.5054 - val_loss: 0.4520\n",
            "Epoch 14/20\n",
            "\u001b[1m363/363\u001b[0m \u001b[32m━━━━━━━━━━━━━━━━━━━━\u001b[0m\u001b[37m\u001b[0m \u001b[1m1s\u001b[0m 2ms/step - loss: 0.4941 - val_loss: 0.4445\n",
            "Epoch 15/20\n",
            "\u001b[1m363/363\u001b[0m \u001b[32m━━━━━━━━━━━━━━━━━━━━\u001b[0m\u001b[37m\u001b[0m \u001b[1m1s\u001b[0m 2ms/step - loss: 0.4844 - val_loss: 0.4382\n",
            "Epoch 16/20\n",
            "\u001b[1m363/363\u001b[0m \u001b[32m━━━━━━━━━━━━━━━━━━━━\u001b[0m\u001b[37m\u001b[0m \u001b[1m1s\u001b[0m 2ms/step - loss: 0.4760 - val_loss: 0.4332\n",
            "Epoch 17/20\n",
            "\u001b[1m363/363\u001b[0m \u001b[32m━━━━━━━━━━━━━━━━━━━━\u001b[0m\u001b[37m\u001b[0m \u001b[1m1s\u001b[0m 2ms/step - loss: 0.4688 - val_loss: 0.4291\n",
            "Epoch 18/20\n",
            "\u001b[1m363/363\u001b[0m \u001b[32m━━━━━━━━━━━━━━━━━━━━\u001b[0m\u001b[37m\u001b[0m \u001b[1m1s\u001b[0m 2ms/step - loss: 0.4625 - val_loss: 0.4256\n",
            "Epoch 19/20\n",
            "\u001b[1m363/363\u001b[0m \u001b[32m━━━━━━━━━━━━━━━━━━━━\u001b[0m\u001b[37m\u001b[0m \u001b[1m1s\u001b[0m 2ms/step - loss: 0.4569 - val_loss: 0.4227\n",
            "Epoch 20/20\n",
            "\u001b[1m363/363\u001b[0m \u001b[32m━━━━━━━━━━━━━━━━━━━━\u001b[0m\u001b[37m\u001b[0m \u001b[1m1s\u001b[0m 2ms/step - loss: 0.4521 - val_loss: 0.4205\n",
            "\u001b[1m162/162\u001b[0m \u001b[32m━━━━━━━━━━━━━━━━━━━━\u001b[0m\u001b[37m\u001b[0m \u001b[1m0s\u001b[0m 1ms/step - loss: 0.4294\n",
            "\u001b[1m1/1\u001b[0m \u001b[32m━━━━━━━━━━━━━━━━━━━━\u001b[0m\u001b[37m\u001b[0m \u001b[1m0s\u001b[0m 57ms/step\n"
          ]
        }
      ]
    },
    {
      "cell_type": "code",
      "metadata": {
        "id": "hYprlIuU1B0x",
        "colab": {
          "base_uri": "https://localhost:8080/",
          "height": 435
        },
        "outputId": "06a1bf2d-e541-4b86-d9d4-21de4d454ff1"
      },
      "source": [
        "plt.plot(pd.DataFrame(history.history))\n",
        "plt.grid(True)\n",
        "plt.gca().set_ylim(0, 1)\n",
        "plt.show()"
      ],
      "execution_count": null,
      "outputs": [
        {
          "output_type": "display_data",
          "data": {
            "text/plain": [
              "<Figure size 640x480 with 1 Axes>"
            ],
            "image/png": "[encoded data removed]"
          },
          "metadata": {}
        }
      ]
    },
    {
      "cell_type": "code",
      "metadata": {
        "id": "ydV71rT-1B0x",
        "colab": {
          "base_uri": "https://localhost:8080/"
        },
        "outputId": "5009f8e1-00d8-4f97-c6c4-c9c903984c9c"
      },
      "source": [
        "y_pred"
      ],
      "execution_count": null,
      "outputs": [
        {
          "output_type": "execute_result",
          "data": {
            "text/plain": [
              "array([[0.6381555],\n",
              "       [1.5746541],\n",
              "       [3.2034204]], dtype=float32)"
            ]
          },
          "metadata": {},
          "execution_count": 49
        }
      ]
    },
    {
      "cell_type": "markdown",
      "metadata": {
        "id": "q2OJnS5g1B0x"
      },
      "source": [
        "Como puede ver, la API secuencial es **bastante fácil de usar**. Sin embargo, aunque los modelos secuenciales son extremadamente comunes, a veces es útil construir redes neuronales con topologías más complejas, o con múltiples entradas o salidas. Para este propósito, Keras ofrece la **API funcional**."
      ]
    },
    {
      "cell_type": "markdown",
      "metadata": {
        "id": "rltcPBYL3VZH"
      },
      "source": [
        "# Ejercicio:\n",
        "\n",
        "- Configure el entorno de Colab para trabajar con GPU (Ver pestaña entorno de ejecución). Repita el entrenamiento del modelo de clasificación Fashion mnist para batch size en 32, 64, 128, 256, y 512. Reporte una tabla con los rendimientos sobre el conjunto de test y el tiempo promedio de cómputo por época.\n",
        "\n",
        "- Repita el procedimiento del punto anterior configurando Colab para trabajar con TPU."
      ]
    },
    {
      "cell_type": "code",
      "metadata": {
        "id": "90faa4d7",
        "colab": {
          "base_uri": "https://localhost:8080/"
        },
        "outputId": "879d9adf-07b0-48fb-e7b6-9e3f84996e02"
      },
      "source": [
        "import time\n",
        "\n",
        "batch_sizes = [32, 64, 128, 256, 512]\n",
        "results_gpu = {}\n",
        "\n",
        "for batch_size in batch_sizes:\n",
        "    print(f\"Training with batch size: {batch_size} on TPU\") #TPU\n",
        "\n",
        "    # Train the model and measure time\n",
        "    start_time = time.time()\n",
        "    history = model.fit(X_train, y_train, epochs=10, batch_size=batch_size,\n",
        "                        validation_data=(X_valid, y_valid), verbose=0) # Set verbose to 0 to reduce output\n",
        "    end_time = time.time()\n",
        "    avg_epoch_time = (end_time - start_time) / 10\n",
        "\n",
        "    # Evaluate the model\n",
        "    loss = model.evaluate(X_test, y_test, verbose=0) # Capture only the loss\n",
        "\n",
        "    results_gpu[batch_size] = {\n",
        "        'loss': loss, # Store loss instead of accuracy\n",
        "        'avg_epoch_time': avg_epoch_time\n",
        "    }\n",
        "\n",
        "    print(f\"  Test Loss: {loss:.4f}\") # Print loss instead of accuracy\n",
        "    print(f\"  Average Epoch Time: {avg_epoch_time:.4f} seconds\")\n",
        "\n",
        "print(\"\\n--- GPU Results ---\")\n",
        "for batch_size, metrics in results_gpu.items():\n",
        "    print(f\"Batch Size {batch_size}: Test Loss = {metrics['loss']:.4f}, Avg Epoch Time = {metrics['avg_epoch_time']:.4f}s\") # Print loss instead of accuracy"
      ],
      "execution_count": null,
      "outputs": [
        {
          "output_type": "stream",
          "name": "stdout",
          "text": [
            "Training with batch size: 32 on TPU\n",
            "  Test Loss: 0.3987\n",
            "  Average Epoch Time: 0.7391 seconds\n",
            "Training with batch size: 64 on TPU\n",
            "  Test Loss: 0.3921\n",
            "  Average Epoch Time: 0.4529 seconds\n",
            "Training with batch size: 128 on TPU\n",
            "  Test Loss: 0.3894\n",
            "  Average Epoch Time: 0.2796 seconds\n",
            "Training with batch size: 256 on TPU\n",
            "  Test Loss: 0.3881\n",
            "  Average Epoch Time: 0.2100 seconds\n",
            "Training with batch size: 512 on TPU\n",
            "  Test Loss: 0.3875\n",
            "  Average Epoch Time: 0.1663 seconds\n",
            "\n",
            "--- GPU Results ---\n",
            "Batch Size 32: Test Loss = 0.3987, Avg Epoch Time = 0.7391s\n",
            "Batch Size 64: Test Loss = 0.3921, Avg Epoch Time = 0.4529s\n",
            "Batch Size 128: Test Loss = 0.3894, Avg Epoch Time = 0.2796s\n",
            "Batch Size 256: Test Loss = 0.3881, Avg Epoch Time = 0.2100s\n",
            "Batch Size 512: Test Loss = 0.3875, Avg Epoch Time = 0.1663s\n"
          ]
        }
      ]
    },
    {
      "cell_type": "markdown",
      "metadata": {
        "id": "eefcb720"
      },
      "source": [
        "| Batch Size | Precisión en Test (GPU) | Tiempo Promedio por Época (GPU) | Precisión en Test (TPU) | Tiempo Promedio por Época (TPU) |\n",
        "|-----------------|-------------------------|---------------------------------|-------------------------|---------------------------------|\n",
        "| 32              |         0.3898              |         1.2777s                        |            0.3987             |               0.7391s                  |\n",
        "| 64              |           0.362              |             0.6397s                    |               0.3921          |              0.4529s                   |\n",
        "| 128             |       0.3846                  |          0.5690s                       |              0.3894           |              0.2796s                   |\n",
        "| 256             |          0.3839               |             0.3699s                    |          0.3881               |               0.2100s                  |\n",
        "| 512             |            0.3835             |              0.2736s                   |        0.3875                 |                   0.1663s              |"
      ]
    }
  ]
}